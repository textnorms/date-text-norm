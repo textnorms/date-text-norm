{
  "nbformat": 4,
  "nbformat_minor": 0,
  "metadata": {
    "colab": {
      "name": "T5: V10 En-dates.ipynb",
      "provenance": [],
      "collapsed_sections": [],
      "include_colab_link": true
    },
    "kernelspec": {
      "name": "python3",
      "display_name": "Python 3"
    },
    "accelerator": "GPU"
  },
  "cells": [
    {
      "cell_type": "markdown",
      "metadata": {
        "id": "view-in-github",
        "colab_type": "text"
      },
      "source": [
        "<a href=\"https://colab.research.google.com/github/textnorms/date_text_norm/blob/master/T5_V10_En_dates.ipynb\" target=\"_parent\"><img src=\"https://colab.research.google.com/assets/colab-badge.svg\" alt=\"Open In Colab\"/></a>"
      ]
    },
    {
      "cell_type": "code",
      "metadata": {
        "id": "PcMfqlK-0HLY",
        "colab_type": "code",
        "outputId": "3e56d177-b572-4a00-fe25-919bf38567cd",
        "colab": {
          "base_uri": "https://localhost:8080/",
          "height": 326
        }
      },
      "source": [
        "! nvidia-smi"
      ],
      "execution_count": 1,
      "outputs": [
        {
          "output_type": "stream",
          "text": [
            "Mon Jun  1 19:24:58 2020       \n",
            "+-----------------------------------------------------------------------------+\n",
            "| NVIDIA-SMI 440.82       Driver Version: 418.67       CUDA Version: 10.1     |\n",
            "|-------------------------------+----------------------+----------------------+\n",
            "| GPU  Name        Persistence-M| Bus-Id        Disp.A | Volatile Uncorr. ECC |\n",
            "| Fan  Temp  Perf  Pwr:Usage/Cap|         Memory-Usage | GPU-Util  Compute M. |\n",
            "|===============================+======================+======================|\n",
            "|   0  Tesla P100-PCIE...  Off  | 00000000:00:04.0 Off |                    0 |\n",
            "| N/A   34C    P0    26W / 250W |      0MiB / 16280MiB |      0%      Default |\n",
            "+-------------------------------+----------------------+----------------------+\n",
            "                                                                               \n",
            "+-----------------------------------------------------------------------------+\n",
            "| Processes:                                                       GPU Memory |\n",
            "|  GPU       PID   Type   Process name                             Usage      |\n",
            "|=============================================================================|\n",
            "|  No running processes found                                                 |\n",
            "+-----------------------------------------------------------------------------+\n"
          ],
          "name": "stdout"
        }
      ]
    },
    {
      "cell_type": "code",
      "metadata": {
        "id": "c-1Lmkfv6g2j",
        "colab_type": "code",
        "outputId": "8624e2b4-d36a-4da6-c9aa-e3139549578d",
        "colab": {
          "base_uri": "https://localhost:8080/",
          "height": 254
        }
      },
      "source": [
        "! rm -rf date*\n",
        "! git clone https://github.com/textnorms/date_text_norm.git\n",
        "! cp -r date_text_norm/syntetic_data_En/ .\n",
        "! cp -r date_text_norm/syntetic_data_Pt/ .\n",
        "\n",
        "! pip install -q num2words transformers\n",
        "! pip install -q transformers"
      ],
      "execution_count": 2,
      "outputs": [
        {
          "output_type": "stream",
          "text": [
            "Cloning into 'date_text_norm'...\n",
            "remote: Enumerating objects: 166, done.\u001b[K\n",
            "remote: Counting objects: 100% (166/166), done.\u001b[K\n",
            "remote: Compressing objects: 100% (134/134), done.\u001b[K\n",
            "remote: Total 166 (delta 94), reused 65 (delta 27), pack-reused 0\u001b[K\n",
            "Receiving objects: 100% (166/166), 798.28 KiB | 3.37 MiB/s, done.\n",
            "Resolving deltas: 100% (94/94), done.\n",
            "\u001b[K     |████████████████████████████████| 102kB 3.6MB/s \n",
            "\u001b[K     |████████████████████████████████| 665kB 10.6MB/s \n",
            "\u001b[K     |████████████████████████████████| 3.8MB 24.9MB/s \n",
            "\u001b[K     |████████████████████████████████| 1.1MB 56.5MB/s \n",
            "\u001b[K     |████████████████████████████████| 890kB 57.4MB/s \n",
            "\u001b[?25h  Building wheel for sacremoses (setup.py) ... \u001b[?25l\u001b[?25hdone\n"
          ],
          "name": "stdout"
        }
      ]
    },
    {
      "cell_type": "markdown",
      "metadata": {
        "id": "hAYiZO6Teo-y",
        "colab_type": "text"
      },
      "source": [
        "# Libs"
      ]
    },
    {
      "cell_type": "markdown",
      "metadata": {
        "id": "tmrMJ5fSgr3P",
        "colab_type": "text"
      },
      "source": [
        "### Choose Language"
      ]
    },
    {
      "cell_type": "code",
      "metadata": {
        "id": "lbOvMx-Igq7F",
        "colab_type": "code",
        "colab": {}
      },
      "source": [
        "# LANGUAGE = 'Pt'\n",
        "LANGUAGE = 'En'"
      ],
      "execution_count": 0,
      "outputs": []
    },
    {
      "cell_type": "code",
      "metadata": {
        "id": "Nok2mtt_1021",
        "colab_type": "code",
        "colab": {}
      },
      "source": [
        "# Basics\n",
        "import numpy as np\n",
        "import pandas as pd\n",
        "import random\n",
        "\n",
        "# Synthetic data generator\n",
        "\n",
        "if LANGUAGE == 'En':\n",
        "    from syntetic_data_En import DateTextGenerator \n",
        "\n",
        "if LANGUAGE == 'Pt':\n",
        "    from syntetic_data_Pt import DateTextGenerator \n",
        "\n",
        "# PyTorch\n",
        "import torch \n",
        "import torch.nn.functional as F\n",
        "from torch.utils.data import Dataset, DataLoader\n",
        "\n",
        "# Sklearn\n",
        "from sklearn.model_selection import train_test_split\n",
        "\n",
        "# Transformers\n",
        "from transformers import T5Tokenizer, T5ForConditionalGeneration, AdamW\n",
        "\n",
        "# Matplot lib\n",
        "import matplotlib.pyplot as plt"
      ],
      "execution_count": 0,
      "outputs": []
    },
    {
      "cell_type": "markdown",
      "metadata": {
        "id": "HhdTvVgiYBw0",
        "colab_type": "text"
      },
      "source": [
        "### Deterministic experiments"
      ]
    },
    {
      "cell_type": "code",
      "metadata": {
        "id": "zm7tAsiUYMOU",
        "colab_type": "code",
        "outputId": "97f48926-24e0-422a-a77d-196b3334031f",
        "colab": {
          "base_uri": "https://localhost:8080/",
          "height": 54
        }
      },
      "source": [
        "manual_seed = 2357 # only primes, cuz I like\n",
        "def deterministic(rep=True):\n",
        "    if rep:\n",
        "        np.random.seed(manual_seed)\n",
        "        torch.manual_seed(manual_seed)\n",
        "        if torch.cuda.is_available():\n",
        "            torch.cuda.manual_seed(manual_seed)\n",
        "            torch.cuda.manual_seed_all(manual_seed)\n",
        "        torch.backends.cudnn.enabled = False \n",
        "        torch.backends.cudnn.benchmark = False\n",
        "        torch.backends.cudnn.deterministic = True\n",
        "        print(f'Deterministic experiment, seed: {manual_seed}')\n",
        "    else:\n",
        "        print('Random experiment')\n",
        "\n",
        "deterministic()\n",
        "\n",
        "device = torch.device('cuda' if torch.cuda.is_available() else 'cpu')\n",
        "print(f'Using device: {device}')"
      ],
      "execution_count": 126,
      "outputs": [
        {
          "output_type": "stream",
          "text": [
            "Deterministic experiment, seed: 2357\n",
            "Using device: cuda\n"
          ],
          "name": "stdout"
        }
      ]
    },
    {
      "cell_type": "markdown",
      "metadata": {
        "id": "BFHYoyzwOHDO",
        "colab_type": "text"
      },
      "source": [
        "# Config constants"
      ]
    },
    {
      "cell_type": "code",
      "metadata": {
        "id": "8r8O913HOK9F",
        "colab_type": "code",
        "colab": {}
      },
      "source": [
        "# Model params\n",
        "MODEL_SZ = 't5-small' # 't5-base'\n",
        "TOK = T5Tokenizer.from_pretrained(MODEL_SZ)\n",
        "MAX_LEN_SRC  = 48\n",
        "MAX_LEN_TRGT = 12\n",
        "\n",
        "# Train params\n",
        "BATCH_SZ = 16\n",
        "N_EPOCHS = 3\n",
        "WINDOW   = 7"
      ],
      "execution_count": 0,
      "outputs": []
    },
    {
      "cell_type": "markdown",
      "metadata": {
        "id": "1yeoFiMYXe8Z",
        "colab_type": "text"
      },
      "source": [
        "# Dataset"
      ]
    },
    {
      "cell_type": "code",
      "metadata": {
        "id": "eZ52EJP6Fy5v",
        "colab_type": "code",
        "outputId": "454675ed-7297-4d54-87bc-e9cc738c9da3",
        "colab": {
          "base_uri": "https://localhost:8080/",
          "height": 1000
        }
      },
      "source": [
        "pd.set_option('display.max_rows',70)\n",
        "\n",
        "datas = DateTextGenerator(start_date='01/01/1921',\n",
        "                          end_date='31/12/2120',\n",
        "                          text_noise_rate=0.3)\n",
        "\n",
        "examples = datas.generate_demo(date='4/11/1983'); examples"
      ],
      "execution_count": 128,
      "outputs": [
        {
          "output_type": "execute_result",
          "data": {
            "text/html": [
              "<div>\n",
              "<style scoped>\n",
              "    .dataframe tbody tr th:only-of-type {\n",
              "        vertical-align: middle;\n",
              "    }\n",
              "\n",
              "    .dataframe tbody tr th {\n",
              "        vertical-align: top;\n",
              "    }\n",
              "\n",
              "    .dataframe thead th {\n",
              "        text-align: right;\n",
              "    }\n",
              "</style>\n",
              "<table border=\"1\" class=\"dataframe\">\n",
              "  <thead>\n",
              "    <tr style=\"text-align: right;\">\n",
              "      <th></th>\n",
              "      <th>Input Pattern</th>\n",
              "      <th>Generated Text</th>\n",
              "      <th>Origin Sample</th>\n",
              "    </tr>\n",
              "  </thead>\n",
              "  <tbody>\n",
              "    <tr>\n",
              "      <th>0</th>\n",
              "      <td>1</td>\n",
              "      <td>four of november of 1983</td>\n",
              "      <td>4/11/1983</td>\n",
              "    </tr>\n",
              "    <tr>\n",
              "      <th>1</th>\n",
              "      <td>2</td>\n",
              "      <td>four of nov of one thousand, nine hundred and ...</td>\n",
              "      <td>4/11/1983</td>\n",
              "    </tr>\n",
              "    <tr>\n",
              "      <th>2</th>\n",
              "      <td>3</td>\n",
              "      <td>four of november of one thousand, nine hundred...</td>\n",
              "      <td>4/11/1983</td>\n",
              "    </tr>\n",
              "    <tr>\n",
              "      <th>3</th>\n",
              "      <td>4</td>\n",
              "      <td>fourth day of month eleven of one thousand, ni...</td>\n",
              "      <td>4/11/1983</td>\n",
              "    </tr>\n",
              "    <tr>\n",
              "      <th>4</th>\n",
              "      <td>5</td>\n",
              "      <td>4 of November of 1983</td>\n",
              "      <td>4/11/1983</td>\n",
              "    </tr>\n",
              "    <tr>\n",
              "      <th>5</th>\n",
              "      <td>6</td>\n",
              "      <td>4 of november of one thousand, nine hundred an...</td>\n",
              "      <td>4/11/1983</td>\n",
              "    </tr>\n",
              "    <tr>\n",
              "      <th>6</th>\n",
              "      <td>7</td>\n",
              "      <td>4-11 of one thousand, nine hundred and eighty-...</td>\n",
              "      <td>4/11/1983</td>\n",
              "    </tr>\n",
              "    <tr>\n",
              "      <th>7</th>\n",
              "      <td>8</td>\n",
              "      <td>four - 11 - 1983</td>\n",
              "      <td>4/11/1983</td>\n",
              "    </tr>\n",
              "    <tr>\n",
              "      <th>8</th>\n",
              "      <td>9</td>\n",
              "      <td>four of november - 1983</td>\n",
              "      <td>4/11/1983</td>\n",
              "    </tr>\n",
              "    <tr>\n",
              "      <th>9</th>\n",
              "      <td>10</td>\n",
              "      <td>4th of november of 1983</td>\n",
              "      <td>4/11/1983</td>\n",
              "    </tr>\n",
              "    <tr>\n",
              "      <th>10</th>\n",
              "      <td>11</td>\n",
              "      <td>4th-11-1983</td>\n",
              "      <td>4/11/1983</td>\n",
              "    </tr>\n",
              "    <tr>\n",
              "      <th>11</th>\n",
              "      <td>12</td>\n",
              "      <td>4th/11/1983</td>\n",
              "      <td>4/11/1983</td>\n",
              "    </tr>\n",
              "    <tr>\n",
              "      <th>12</th>\n",
              "      <td>13</td>\n",
              "      <td>4th/November/1983</td>\n",
              "      <td>4/11/1983</td>\n",
              "    </tr>\n",
              "    <tr>\n",
              "      <th>13</th>\n",
              "      <td>14</td>\n",
              "      <td>4/november/1983</td>\n",
              "      <td>4/11/1983</td>\n",
              "    </tr>\n",
              "    <tr>\n",
              "      <th>14</th>\n",
              "      <td>15</td>\n",
              "      <td>four november one thousand, nine hundred and e...</td>\n",
              "      <td>4/11/1983</td>\n",
              "    </tr>\n",
              "    <tr>\n",
              "      <th>15</th>\n",
              "      <td>16</td>\n",
              "      <td>4 november one thousand, nine hundred and eigh...</td>\n",
              "      <td>4/11/1983</td>\n",
              "    </tr>\n",
              "    <tr>\n",
              "      <th>16</th>\n",
              "      <td>17</td>\n",
              "      <td>4/11 one thousand, nine hundred and eighty-three</td>\n",
              "      <td>4/11/1983</td>\n",
              "    </tr>\n",
              "    <tr>\n",
              "      <th>17</th>\n",
              "      <td>18</td>\n",
              "      <td>4.11 one thousand, nine hundred and eighty-three</td>\n",
              "      <td>4/11/1983</td>\n",
              "    </tr>\n",
              "    <tr>\n",
              "      <th>18</th>\n",
              "      <td>19</td>\n",
              "      <td>4-11 one thousand, nine hundred and eighty-three</td>\n",
              "      <td>4/11/1983</td>\n",
              "    </tr>\n",
              "    <tr>\n",
              "      <th>19</th>\n",
              "      <td>20</td>\n",
              "      <td>four/november/one thousand, nine hundred and e...</td>\n",
              "      <td>4/11/1983</td>\n",
              "    </tr>\n",
              "    <tr>\n",
              "      <th>20</th>\n",
              "      <td>21</td>\n",
              "      <td>4 of month eleven of 1983</td>\n",
              "      <td>4/11/1983</td>\n",
              "    </tr>\n",
              "    <tr>\n",
              "      <th>21</th>\n",
              "      <td>22</td>\n",
              "      <td>4-11-1983</td>\n",
              "      <td>4/11/1983</td>\n",
              "    </tr>\n",
              "    <tr>\n",
              "      <th>22</th>\n",
              "      <td>23</td>\n",
              "      <td>4 - 11 - 1983</td>\n",
              "      <td>4/11/1983</td>\n",
              "    </tr>\n",
              "    <tr>\n",
              "      <th>23</th>\n",
              "      <td>24</td>\n",
              "      <td>4-11-1983</td>\n",
              "      <td>4/11/1983</td>\n",
              "    </tr>\n",
              "    <tr>\n",
              "      <th>24</th>\n",
              "      <td>25</td>\n",
              "      <td>4 - 11 - 1983</td>\n",
              "      <td>4/11/1983</td>\n",
              "    </tr>\n",
              "    <tr>\n",
              "      <th>25</th>\n",
              "      <td>26</td>\n",
              "      <td>4-november-1983</td>\n",
              "      <td>4/11/1983</td>\n",
              "    </tr>\n",
              "    <tr>\n",
              "      <th>26</th>\n",
              "      <td>27</td>\n",
              "      <td>4 - november - 1983</td>\n",
              "      <td>4/11/1983</td>\n",
              "    </tr>\n",
              "    <tr>\n",
              "      <th>27</th>\n",
              "      <td>28</td>\n",
              "      <td>4-nov-1983</td>\n",
              "      <td>4/11/1983</td>\n",
              "    </tr>\n",
              "    <tr>\n",
              "      <th>28</th>\n",
              "      <td>29</td>\n",
              "      <td>4 - nov - 1983</td>\n",
              "      <td>4/11/1983</td>\n",
              "    </tr>\n",
              "    <tr>\n",
              "      <th>29</th>\n",
              "      <td>30</td>\n",
              "      <td>4.11.1983</td>\n",
              "      <td>4/11/1983</td>\n",
              "    </tr>\n",
              "    <tr>\n",
              "      <th>30</th>\n",
              "      <td>31</td>\n",
              "      <td>4 . 11 . 1983</td>\n",
              "      <td>4/11/1983</td>\n",
              "    </tr>\n",
              "    <tr>\n",
              "      <th>31</th>\n",
              "      <td>32</td>\n",
              "      <td>4.11.1983</td>\n",
              "      <td>4/11/1983</td>\n",
              "    </tr>\n",
              "    <tr>\n",
              "      <th>32</th>\n",
              "      <td>33</td>\n",
              "      <td>4 . 11 . 1983</td>\n",
              "      <td>4/11/1983</td>\n",
              "    </tr>\n",
              "    <tr>\n",
              "      <th>33</th>\n",
              "      <td>34</td>\n",
              "      <td>4.november.1983</td>\n",
              "      <td>4/11/1983</td>\n",
              "    </tr>\n",
              "    <tr>\n",
              "      <th>34</th>\n",
              "      <td>35</td>\n",
              "      <td>4 . november . 1983</td>\n",
              "      <td>4/11/1983</td>\n",
              "    </tr>\n",
              "    <tr>\n",
              "      <th>35</th>\n",
              "      <td>36</td>\n",
              "      <td>4.nov.1983</td>\n",
              "      <td>4/11/1983</td>\n",
              "    </tr>\n",
              "    <tr>\n",
              "      <th>36</th>\n",
              "      <td>37</td>\n",
              "      <td>4 . nov . 1983</td>\n",
              "      <td>4/11/1983</td>\n",
              "    </tr>\n",
              "    <tr>\n",
              "      <th>37</th>\n",
              "      <td>38</td>\n",
              "      <td>4/11/1983</td>\n",
              "      <td>4/11/1983</td>\n",
              "    </tr>\n",
              "    <tr>\n",
              "      <th>38</th>\n",
              "      <td>39</td>\n",
              "      <td>4 / 11 / 1983</td>\n",
              "      <td>4/11/1983</td>\n",
              "    </tr>\n",
              "    <tr>\n",
              "      <th>39</th>\n",
              "      <td>40</td>\n",
              "      <td>4/november/1983</td>\n",
              "      <td>4/11/1983</td>\n",
              "    </tr>\n",
              "    <tr>\n",
              "      <th>40</th>\n",
              "      <td>41</td>\n",
              "      <td>4 / november / 1983</td>\n",
              "      <td>4/11/1983</td>\n",
              "    </tr>\n",
              "    <tr>\n",
              "      <th>41</th>\n",
              "      <td>42</td>\n",
              "      <td>4/nov/1983</td>\n",
              "      <td>4/11/1983</td>\n",
              "    </tr>\n",
              "    <tr>\n",
              "      <th>42</th>\n",
              "      <td>43</td>\n",
              "      <td>4 / nov / 1983</td>\n",
              "      <td>4/11/1983</td>\n",
              "    </tr>\n",
              "    <tr>\n",
              "      <th>43</th>\n",
              "      <td>44</td>\n",
              "      <td>4/11/1983</td>\n",
              "      <td>4/11/1983</td>\n",
              "    </tr>\n",
              "    <tr>\n",
              "      <th>44</th>\n",
              "      <td>45</td>\n",
              "      <td>4 / 11 / 1983</td>\n",
              "      <td>4/11/1983</td>\n",
              "    </tr>\n",
              "  </tbody>\n",
              "</table>\n",
              "</div>"
            ],
            "text/plain": [
              "   Input Pattern  ... Origin Sample\n",
              "0              1  ...     4/11/1983\n",
              "1              2  ...     4/11/1983\n",
              "2              3  ...     4/11/1983\n",
              "3              4  ...     4/11/1983\n",
              "4              5  ...     4/11/1983\n",
              "5              6  ...     4/11/1983\n",
              "6              7  ...     4/11/1983\n",
              "7              8  ...     4/11/1983\n",
              "8              9  ...     4/11/1983\n",
              "9             10  ...     4/11/1983\n",
              "10            11  ...     4/11/1983\n",
              "11            12  ...     4/11/1983\n",
              "12            13  ...     4/11/1983\n",
              "13            14  ...     4/11/1983\n",
              "14            15  ...     4/11/1983\n",
              "15            16  ...     4/11/1983\n",
              "16            17  ...     4/11/1983\n",
              "17            18  ...     4/11/1983\n",
              "18            19  ...     4/11/1983\n",
              "19            20  ...     4/11/1983\n",
              "20            21  ...     4/11/1983\n",
              "21            22  ...     4/11/1983\n",
              "22            23  ...     4/11/1983\n",
              "23            24  ...     4/11/1983\n",
              "24            25  ...     4/11/1983\n",
              "25            26  ...     4/11/1983\n",
              "26            27  ...     4/11/1983\n",
              "27            28  ...     4/11/1983\n",
              "28            29  ...     4/11/1983\n",
              "29            30  ...     4/11/1983\n",
              "30            31  ...     4/11/1983\n",
              "31            32  ...     4/11/1983\n",
              "32            33  ...     4/11/1983\n",
              "33            34  ...     4/11/1983\n",
              "34            35  ...     4/11/1983\n",
              "35            36  ...     4/11/1983\n",
              "36            37  ...     4/11/1983\n",
              "37            38  ...     4/11/1983\n",
              "38            39  ...     4/11/1983\n",
              "39            40  ...     4/11/1983\n",
              "40            41  ...     4/11/1983\n",
              "41            42  ...     4/11/1983\n",
              "42            43  ...     4/11/1983\n",
              "43            44  ...     4/11/1983\n",
              "44            45  ...     4/11/1983\n",
              "\n",
              "[45 rows x 3 columns]"
            ]
          },
          "metadata": {
            "tags": []
          },
          "execution_count": 128
        }
      ]
    },
    {
      "cell_type": "code",
      "metadata": {
        "id": "OpMWc1TrNvKS",
        "colab_type": "code",
        "outputId": "375f86f2-f01e-47c6-bbfe-c9d6ddf4e6eb",
        "colab": {
          "base_uri": "https://localhost:8080/",
          "height": 35
        }
      },
      "source": [
        "df = datas.generate_date_dataset() \n",
        "f'df: {df.shape}'"
      ],
      "execution_count": 129,
      "outputs": [
        {
          "output_type": "execute_result",
          "data": {
            "text/plain": [
              "'df: (73049, 4)'"
            ]
          },
          "metadata": {
            "tags": []
          },
          "execution_count": 129
        }
      ]
    },
    {
      "cell_type": "code",
      "metadata": {
        "id": "WdMrRLTELs-L",
        "colab_type": "code",
        "outputId": "38ee4f1d-6ee8-4034-a9dc-bbed70a9aab1",
        "colab": {
          "base_uri": "https://localhost:8080/",
          "height": 198
        }
      },
      "source": [
        "df.head()"
      ],
      "execution_count": 130,
      "outputs": [
        {
          "output_type": "execute_result",
          "data": {
            "text/html": [
              "<div>\n",
              "<style scoped>\n",
              "    .dataframe tbody tr th:only-of-type {\n",
              "        vertical-align: middle;\n",
              "    }\n",
              "\n",
              "    .dataframe tbody tr th {\n",
              "        vertical-align: top;\n",
              "    }\n",
              "\n",
              "    .dataframe thead th {\n",
              "        text-align: right;\n",
              "    }\n",
              "</style>\n",
              "<table border=\"1\" class=\"dataframe\">\n",
              "  <thead>\n",
              "    <tr style=\"text-align: right;\">\n",
              "      <th></th>\n",
              "      <th>Input Pattern</th>\n",
              "      <th>Noise Type</th>\n",
              "      <th>Input</th>\n",
              "      <th>Target</th>\n",
              "    </tr>\n",
              "  </thead>\n",
              "  <tbody>\n",
              "    <tr>\n",
              "      <th>0</th>\n",
              "      <td>4</td>\n",
              "      <td>N/A</td>\n",
              "      <td>first day of month one of one thousand, nine h...</td>\n",
              "      <td>01/01/1921</td>\n",
              "    </tr>\n",
              "    <tr>\n",
              "      <th>1</th>\n",
              "      <td>26</td>\n",
              "      <td>N/A</td>\n",
              "      <td>02-january-1921</td>\n",
              "      <td>02/01/1921</td>\n",
              "    </tr>\n",
              "    <tr>\n",
              "      <th>2</th>\n",
              "      <td>33</td>\n",
              "      <td>N/A</td>\n",
              "      <td>03 . 01 . 1921</td>\n",
              "      <td>03/01/1921</td>\n",
              "    </tr>\n",
              "    <tr>\n",
              "      <th>3</th>\n",
              "      <td>17</td>\n",
              "      <td>N/A</td>\n",
              "      <td>04/01 one thousand, nine hundred and twenty-one</td>\n",
              "      <td>04/01/1921</td>\n",
              "    </tr>\n",
              "    <tr>\n",
              "      <th>4</th>\n",
              "      <td>36</td>\n",
              "      <td>N/A</td>\n",
              "      <td>05.jan.1921</td>\n",
              "      <td>05/01/1921</td>\n",
              "    </tr>\n",
              "  </tbody>\n",
              "</table>\n",
              "</div>"
            ],
            "text/plain": [
              "   Input Pattern  ...      Target\n",
              "0              4  ...  01/01/1921\n",
              "1             26  ...  02/01/1921\n",
              "2             33  ...  03/01/1921\n",
              "3             17  ...  04/01/1921\n",
              "4             36  ...  05/01/1921\n",
              "\n",
              "[5 rows x 4 columns]"
            ]
          },
          "metadata": {
            "tags": []
          },
          "execution_count": 130
        }
      ]
    },
    {
      "cell_type": "markdown",
      "metadata": {
        "id": "Uif9PsFKRrxI",
        "colab_type": "text"
      },
      "source": [
        "## Function to split the dataset"
      ]
    },
    {
      "cell_type": "code",
      "metadata": {
        "id": "TfBx9nMkQ7Q8",
        "colab_type": "code",
        "outputId": "f385178c-5ae8-4ed2-b102-96b6322d4778",
        "colab": {
          "base_uri": "https://localhost:8080/",
          "height": 126
        }
      },
      "source": [
        "def split_data(df, test_size=0.2, verbose=True):\n",
        "    l = list(set(df['Input Pattern'].values))\n",
        "    num_test = int(len(l)*test_size)\n",
        "    test_methods = [random.randint(1, len(l)) for _ in range(num_test)]\n",
        "    print(test_methods)\n",
        "    df_test = df[df['Input Pattern'].isin(test_methods)]\n",
        "    print(df_test.shape)\n",
        "    x_test = df_test.Input.values\n",
        "    y_test = df_test.Target.values\n",
        "\n",
        "    df_train = df[~df['Input Pattern'].isin(test_methods)]\n",
        "\n",
        "    x_train, x_val, y_train, y_val = train_test_split(\n",
        "        df_train.Input.values,\n",
        "        df_train.Target.values,\n",
        "        shuffle=True, \n",
        "        test_size=test_size,\n",
        "        random_state=manual_seed\n",
        "        )\n",
        "    if verbose:\n",
        "        print(f'Date types of test set: {test_methods} with len: {len(test_methods)}')\n",
        "        print(f'x_train: {len(x_train)}  --  y_train: {len(y_train)}\\n\\\n",
        "x_val:   {len(x_val)}  --  y_val:   {len(y_val)}\\n\\\n",
        "x_test:  {len(x_test)}  --  y_test:  {len(y_test)}')\n",
        "\n",
        "    return x_train, y_train, x_val, y_val, x_test, y_test\n",
        "\n",
        "# creating sets\n",
        "x_train, y_train, x_val, y_val, x_test, y_test = split_data(df, \n",
        "                                                            test_size=0.25, \n",
        "                                                            verbose=True)"
      ],
      "execution_count": 131,
      "outputs": [
        {
          "output_type": "stream",
          "text": [
            "[19, 19, 20, 28, 6, 15, 38, 13, 18, 6, 13]\n",
            "(12750, 4)\n",
            "Date types of test set: [19, 19, 20, 28, 6, 15, 38, 13, 18, 6, 13] with len: 11\n",
            "x_train: 45224  --  y_train: 45224\n",
            "x_val:   15075  --  y_val:   15075\n",
            "x_test:  12750  --  y_test:  12750\n"
          ],
          "name": "stdout"
        }
      ]
    },
    {
      "cell_type": "code",
      "metadata": {
        "id": "ygsMXnkCyrVZ",
        "colab_type": "code",
        "colab": {}
      },
      "source": [
        "class DateDataset(Dataset):\n",
        "    def __init__(self, data, label, tokenizer, source_max_length, target_max_length):\n",
        "        self.tokenizer = tokenizer\n",
        "        self.data = data\n",
        "        self.label = label\n",
        "        self.source_max_length = source_max_length\n",
        "        self.target_max_length = target_max_length\n",
        "        \n",
        "    def __len__(self):\n",
        "        return len(self.data)\n",
        "    \n",
        "    def __getitem__(self, idx):\n",
        "        source = self.data[idx]\n",
        "        target = self.label[idx]\n",
        "\n",
        "        source_tokenized = self.tokenizer.encode_plus(\n",
        "            f'{source} {self.tokenizer.eos_token}',\n",
        "            max_length=self.source_max_length,\n",
        "            pad_to_max_length=True,\n",
        "            return_tensors='pt')\n",
        "\n",
        "        target_tokenized = self.tokenizer.encode_plus(\n",
        "            f'{target} {self.tokenizer.eos_token}',\n",
        "            max_length=self.target_max_length,\n",
        "            pad_to_max_length=True,\n",
        "            return_tensors='pt')\n",
        "\n",
        "        source_token_ids = source_tokenized['input_ids'].squeeze()\n",
        "        source_mask = source_tokenized['attention_mask'].squeeze()\n",
        "        target_token_ids = target_tokenized['input_ids'].squeeze()\n",
        "        \n",
        "        return source_token_ids, source_mask, target_token_ids"
      ],
      "execution_count": 0,
      "outputs": []
    },
    {
      "cell_type": "markdown",
      "metadata": {
        "id": "cloyt0tIwIiD",
        "colab_type": "text"
      },
      "source": [
        "## Checking the DateDataset class"
      ]
    },
    {
      "cell_type": "code",
      "metadata": {
        "id": "ZoKiQXCvwGrP",
        "colab_type": "code",
        "outputId": "037bc016-b816-4bff-98da-e25633c163f6",
        "colab": {
          "base_uri": "https://localhost:8080/",
          "height": 217
        }
      },
      "source": [
        "dataset_debug = DateDataset(\n",
        "    x_train, \n",
        "    y_train,\n",
        "    TOK,\n",
        "    MAX_LEN_SRC,\n",
        "    MAX_LEN_TRGT,\n",
        "    )\n",
        "\n",
        "dataloader_checking = DataLoader(\n",
        "    dataset_debug, \n",
        "    batch_size=1, \n",
        "    shuffle=True, \n",
        "    num_workers=0\n",
        "    )\n",
        "\n",
        "source_token_ids, source_mask, target_token_ids = next(iter(dataloader_checking))\n",
        "print(f'source_token_ids:\\n {source_token_ids} --- shape:{source_token_ids.shape}')\n",
        "print(f'source_mask:\\n {source_mask} --- shape:{source_mask.shape}')\n",
        "print(f'target_token_ids:\\n {target_token_ids} --- shape:{target_token_ids.shape}')"
      ],
      "execution_count": 133,
      "outputs": [
        {
          "output_type": "stream",
          "text": [
            "source_token_ids:\n",
            " tensor([[2059,    5,  402,  122,    5, 2294, 4729,    1,    0,    0,    0,    0,\n",
            "            0,    0,    0,    0,    0,    0,    0,    0,    0,    0,    0,    0,\n",
            "            0,    0,    0,    0,    0,    0,    0,    0,    0,    0,    0,    0,\n",
            "            0,    0,    0,    0,    0,    0,    0,    0,    0,    0,    0,    0]]) --- shape:torch.Size([1, 48])\n",
            "source_mask:\n",
            " tensor([[1, 1, 1, 1, 1, 1, 1, 1, 0, 0, 0, 0, 0, 0, 0, 0, 0, 0, 0, 0, 0, 0, 0, 0,\n",
            "         0, 0, 0, 0, 0, 0, 0, 0, 0, 0, 0, 0, 0, 0, 0, 0, 0, 0, 0, 0, 0, 0, 0, 0]]) --- shape:torch.Size([1, 48])\n",
            "target_token_ids:\n",
            " tensor([[ 2059,    87,  4018, 13523,  4729,     1,     0,     0,     0,     0,\n",
            "             0,     0]]) --- shape:torch.Size([1, 12])\n"
          ],
          "name": "stdout"
        }
      ]
    },
    {
      "cell_type": "markdown",
      "metadata": {
        "id": "dG1O12UoWYaM",
        "colab_type": "text"
      },
      "source": [
        "## Datasets e Dataloaders"
      ]
    },
    {
      "cell_type": "code",
      "metadata": {
        "id": "s7AlRyeOW8GN",
        "colab_type": "code",
        "outputId": "9def73f0-23f9-40b5-fa82-ecf10bcc1ea5",
        "colab": {
          "base_uri": "https://localhost:8080/",
          "height": 163
        }
      },
      "source": [
        "# datasets\n",
        "ds_debug = DateDataset(x_train[:BATCH_SZ], y_train[:BATCH_SZ], TOK, MAX_LEN_SRC, MAX_LEN_TRGT)\n",
        "ds_train = DateDataset(x_train, y_train, TOK, MAX_LEN_SRC, MAX_LEN_TRGT)\n",
        "ds_valid = DateDataset(x_val, y_val, TOK, MAX_LEN_SRC, MAX_LEN_TRGT)\n",
        "ds_test  = DateDataset(x_test, y_test, TOK, MAX_LEN_SRC, MAX_LEN_TRGT)\n",
        "\n",
        "print('Datasets len:')\n",
        "print(f'len ds_debug: {len(ds_debug)}')\n",
        "print(f'len ds_train: {len(ds_train)}')\n",
        "print(f'len ds_valid: {len(ds_valid)}')\n",
        "print(f'len ds_test:  {len(ds_test)}')\n",
        "\n",
        "# dataloaders\n",
        "dataloaders = {\n",
        "    'debug': DataLoader(\n",
        "         ds_debug,\n",
        "         batch_size=BATCH_SZ,\n",
        "         shuffle=True,\n",
        "         num_workers=2,\n",
        "         pin_memory=True),\n",
        "    'train': DataLoader(\n",
        "         ds_train,\n",
        "         batch_size=BATCH_SZ,\n",
        "         shuffle=True,\n",
        "         num_workers=2,\n",
        "         pin_memory=True),\n",
        "    'valid': DataLoader(\n",
        "         ds_valid,\n",
        "         batch_size=BATCH_SZ,\n",
        "         shuffle=False,\n",
        "         num_workers=2,\n",
        "         pin_memory=True),\n",
        "    'test': DataLoader(\n",
        "         ds_test,\n",
        "         batch_size=BATCH_SZ,\n",
        "         shuffle=False,\n",
        "         num_workers=2,\n",
        "         pin_memory=True),\n",
        "               }\n",
        "# sanity check\n",
        "print('\\nDataloaders len (in batch):')\n",
        "dl_sizes = {x: len(dataloaders[x]) for x in dataloaders.keys()}; dl_sizes"
      ],
      "execution_count": 134,
      "outputs": [
        {
          "output_type": "stream",
          "text": [
            "Datasets len:\n",
            "len ds_debug: 16\n",
            "len ds_train: 45224\n",
            "len ds_valid: 15075\n",
            "len ds_test:  12750\n",
            "\n",
            "Dataloaders len (in batch):\n"
          ],
          "name": "stdout"
        },
        {
          "output_type": "execute_result",
          "data": {
            "text/plain": [
              "{'debug': 1, 'test': 797, 'train': 2827, 'valid': 943}"
            ]
          },
          "metadata": {
            "tags": []
          },
          "execution_count": 134
        }
      ]
    },
    {
      "cell_type": "code",
      "metadata": {
        "id": "x3rqg6r7am-N",
        "colab_type": "code",
        "colab": {}
      },
      "source": [
        "# testando o dataloader \n",
        "source_token_ids, source_mask, target_token_ids = next(iter(dataloaders['debug']))"
      ],
      "execution_count": 0,
      "outputs": []
    },
    {
      "cell_type": "code",
      "metadata": {
        "id": "Wb4AnOJzBXK7",
        "colab_type": "code",
        "colab": {}
      },
      "source": [
        "class Net(torch.nn.Module):\n",
        "    def __init__(self):\n",
        "        super(Net, self).__init__()\n",
        "        self.model = T5ForConditionalGeneration.from_pretrained(MODEL_SZ)\n",
        "    \n",
        "    def forward(self, token_ids, att_mask, labels):\n",
        "        outputs = self.model.forward(\n",
        "            input_ids=token_ids, \n",
        "            attention_mask=att_mask,\n",
        "            lm_labels=labels\n",
        "            )\n",
        "        return outputs[0] # loss\n",
        "    \n",
        "    @torch.no_grad()    \n",
        "    def generate(self, token_ids, att_mask, max_len_target):\n",
        "        predict = self.model.generate(\n",
        "            input_ids=token_ids, \n",
        "            attention_mask=att_mask,\n",
        "            max_length=max_len_target\n",
        "            )\n",
        "        return predict\n",
        "    \n",
        "    @torch.no_grad()  \n",
        "    def generate_example(self, text_input, tokenizer, max_len_source=MAX_LEN_SRC):\n",
        "\n",
        "        self.model.eval()\n",
        "        \n",
        "        example_tokenized = tokenizer.encode_plus(\n",
        "            f'{text_input} {tokenizer.eos_token}',\n",
        "            max_length=max_len_source,\n",
        "            pad_to_max_length=True,\n",
        "            return_tensors='pt')\n",
        "            \n",
        "        example_token_ids = example_tokenized['input_ids']\n",
        "        example_mask = example_tokenized['attention_mask']\n",
        "\n",
        "        predicted_example = self.model.generate(\n",
        "            input_ids=example_token_ids.to(device), \n",
        "            attention_mask=example_mask.to(device),\n",
        "            max_length=MAX_LEN_TRGT\n",
        "            )\n",
        "\n",
        "        self.model.train()\n",
        "\n",
        "        out_text = [tokenizer.decode(text) for text in predicted_example]\n",
        "        \n",
        "        return out_text"
      ],
      "execution_count": 0,
      "outputs": []
    },
    {
      "cell_type": "markdown",
      "metadata": {
        "id": "tq9AMCaNuWMU",
        "colab_type": "text"
      },
      "source": [
        "## Train and evaluation functions"
      ]
    },
    {
      "cell_type": "code",
      "metadata": {
        "id": "5X6hklAUXxGD",
        "colab_type": "code",
        "colab": {}
      },
      "source": [
        "# acc metric for text inputs\n",
        "def acc_in_text(trues, preds): \n",
        "    acc = []\n",
        "    for d in zip(trues, preds):\n",
        "        if d[0] == d[1]:\n",
        "            acc.append(1)\n",
        "        else:\n",
        "            acc.append(0)\n",
        "    return acc # bool\n",
        "\n",
        "def train(model, device, train_loader, optimizer):\n",
        "    loss_train = []\n",
        "    model.train()\n",
        "    for source_token_ids, source_mask, target_token_ids in train_loader:\n",
        "        optimizer.zero_grad()\n",
        "        loss = model(\n",
        "            source_token_ids.to(device), \n",
        "            source_mask.to(device), \n",
        "            target_token_ids.to(device)\n",
        "            )\n",
        "        \n",
        "        loss_train.append(loss.item())\n",
        "        loss.backward()\n",
        "        optimizer.step()\n",
        "    \n",
        "    train_losses = sum(loss_train) / len(loss_train)\n",
        "  \n",
        "    return train_losses\n",
        "\n",
        "def evaluate_fn(model, device, val_loader, max_len=MAX_LEN_TRGT):\n",
        "    loss_val, all_acc, all_preds, all_trues = [], [], [], []\n",
        "    model.eval()\n",
        "    for source_token_ids, source_mask, target_token_ids in val_loader:\n",
        "        predicted_ids = model.generate(\n",
        "            source_token_ids.to(device), \n",
        "            source_mask.to(device),\n",
        "            max_len\n",
        "            )\n",
        "        \n",
        "        preds = [TOK.decode(t) for t in predicted_ids]\n",
        "        trues = [TOK.decode(t) for t in target_token_ids]\n",
        "        acc = acc_in_text(trues, preds)\n",
        "        all_acc.extend(acc)\n",
        "        all_trues.extend(trues)\n",
        "        all_preds.extend(preds)\n",
        "        \n",
        "        # val loss   \n",
        "        loss = model(\n",
        "        source_token_ids.to(device), \n",
        "        source_mask.to(device), \n",
        "        target_token_ids.to(device)\n",
        "        )\n",
        "        loss_val.append(loss.item())\n",
        "    \n",
        "    val_losses = sum(loss_val) / len(loss_val)\n",
        "    \n",
        "    return val_losses, np.array(all_acc).mean(), all_trues, all_preds"
      ],
      "execution_count": 0,
      "outputs": []
    },
    {
      "cell_type": "markdown",
      "metadata": {
        "id": "pirS1mecELqp",
        "colab_type": "text"
      },
      "source": [
        "# Overfit in one batch \n",
        "- dataloader debug"
      ]
    },
    {
      "cell_type": "code",
      "metadata": {
        "id": "R2PxRYyfn_UO",
        "colab_type": "code",
        "colab": {}
      },
      "source": [
        "overfit = False\n",
        "\n",
        "if overfit:\n",
        "\n",
        "    start = torch.cuda.Event(enable_timing=True)\n",
        "    end = torch.cuda.Event(enable_timing=True)\n",
        "    deterministic() \n",
        "\n",
        "    model = Net().to(device)\n",
        "    optimizer = torch.optim.AdamW(model.parameters(), lr=5e-5)\n",
        "    \n",
        "    # -----------------------------------------------------------------------------\n",
        "    start.record()\n",
        "    for step in range(1, 1001):\n",
        "        samp = random.randint(0, BATCH_SZ-WINDOW) # to show random trues and preds\n",
        "        loss_t = train(model, device, dataloaders['debug'], optimizer)\n",
        "        acc, trues, preds = evaluate_fn(model, device, dataloaders['debug'])\n",
        "        if step == 1:\n",
        "            print(f'[Epoch: {step}/{1000}] |', end=' ')\n",
        "            print(f'Train Loss: {loss_t:.3f} -- Acc: {acc:.3f}')\n",
        "        if step % 100 == 0:\n",
        "            print(f'[Epoch: {step}/{1000}] |', end=' ')\n",
        "            print(f'Train Loss: {loss_t:.3f} -- Acc: {acc:.3f}')\n",
        "            print(f'  Trues: {trues[samp:samp+WINDOW]}\\n  Preds: {preds[samp:samp+WINDOW]}')\n",
        "    end.record()\n",
        "    torch.cuda.synchronize()    \n",
        "    # -----------------------------------------------------------------------------\n",
        "\n",
        "    print(f'Training time: {start.elapsed_time(end)/1000/60 :.3f} min.')\n",
        "    del model"
      ],
      "execution_count": 0,
      "outputs": []
    },
    {
      "cell_type": "markdown",
      "metadata": {
        "id": "wQC8YJ8PT7-0",
        "colab_type": "text"
      },
      "source": [
        "# Training "
      ]
    },
    {
      "cell_type": "code",
      "metadata": {
        "id": "dNtIb8b4Q4lC",
        "colab_type": "code",
        "outputId": "5384df23-4831-4cbd-a6c5-8083bbd9616e",
        "colab": {
          "base_uri": "https://localhost:8080/",
          "height": 217
        }
      },
      "source": [
        "# del model\n",
        "start = torch.cuda.Event(enable_timing=True)\n",
        "end = torch.cuda.Event(enable_timing=True)\n",
        "deterministic() \n",
        "\n",
        "model = Net().to(device)\n",
        "optimizer = torch.optim.AdamW(model.parameters(), lr=5e-5)\n",
        "\n",
        "# ---------------------------------------------------------------------------------\n",
        "start.record()\n",
        "for step in range(1, N_EPOCHS+1):\n",
        "    samp = random.randint(0, BATCH_SZ-WINDOW) # to show random trues and preds\n",
        "    loss_t = train(model, device, dataloaders['train'], optimizer)\n",
        "    loss_v, acc, trues, preds = evaluate_fn(model, device, dataloaders['valid'])\n",
        "    print(f'[Epoch: {step}/{N_EPOCHS}] |', end=' ')\n",
        "    print(f'Train Loss: {loss_t:.3f} -- Valid Loss: {loss_v:.3f} -- Acc: {acc:.3f}')\n",
        "    print(f'  Trues: {trues[samp:samp+WINDOW]}\\n  Preds: {preds[samp:samp+WINDOW]}')\n",
        "\n",
        "end.record()\n",
        "torch.cuda.synchronize()    \n",
        "# ---------------------------------------------------------------------------------\n",
        "\n",
        "print(f'Training time: {start.elapsed_time(end)/1000/60 :.3f} min.')"
      ],
      "execution_count": 139,
      "outputs": [
        {
          "output_type": "stream",
          "text": [
            "Deterministic experiment, seed: 2357\n",
            "[Epoch: 1/3] | Train Loss: 0.334 -- Valid Loss: 0.077 -- Acc: 0.837\n",
            "  Trues: ['24/12/2030', '22/02/1930', '14/01/1948', '28/08/2001', '04/11/1961', '01/04/2004', '03/03/2083']\n",
            "  Preds: ['24/12/2060', '22/02/1930', '14/01/1948', '28/08/2001', '04/11/1961', '01/04/2004', '03/03/2083']\n",
            "[Epoch: 2/3] | Train Loss: 0.090 -- Valid Loss: 0.051 -- Acc: 0.883\n",
            "  Trues: ['11/02/2113', '21/12/1965', '07/12/2103', '15/07/1929', '21/07/2088', '04/02/1938', '21/01/1933']\n",
            "  Preds: ['11/02/2113', '21/12/1965', '07/12/2103', '15/07/1929', '21/07/2088', '04/02/1938', '21/01/1933']\n",
            "[Epoch: 3/3] | Train Loss: 0.063 -- Valid Loss: 0.039 -- Acc: 0.899\n",
            "  Trues: ['28/08/2001', '04/11/1961', '01/04/2004', '03/03/2083', '11/02/2113', '21/12/1965', '07/12/2103']\n",
            "  Preds: ['28/08/2001', '04/11/1961', '01/04/2004', '03/03/2083', '11/02/2113', '21/12/1965', '07/12/2103']\n",
            "Training time: 13.388 min.\n"
          ],
          "name": "stdout"
        }
      ]
    },
    {
      "cell_type": "markdown",
      "metadata": {
        "id": "GWAhh3gOgg2c",
        "colab_type": "text"
      },
      "source": [
        "# Test"
      ]
    },
    {
      "cell_type": "code",
      "metadata": {
        "id": "RfRFVIBSgiau",
        "colab_type": "code",
        "outputId": "d99d57e1-0872-4d46-b057-1edb6f94b62c",
        "colab": {
          "base_uri": "https://localhost:8080/",
          "height": 90
        }
      },
      "source": [
        "# ---------------------------------------------------------------------------------\n",
        "start.record()\n",
        "\n",
        "samp = random.randint(0, BATCH_SZ-WINDOW) # to show random trues and preds\n",
        "loss, acc, trues, preds = evaluate_fn(model, device, dataloaders['test'])\n",
        "print(f'Loss: {loss:.3f} -- Acc: {acc:.3f}')\n",
        "print(f' Trues: {trues[samp:samp+WINDOW]}\\n  Preds: {preds[samp:samp+WINDOW]}')\n",
        "\n",
        "end.record()\n",
        "torch.cuda.synchronize()    \n",
        "# ---------------------------------------------------------------------------------\n",
        "\n",
        "print(f'Test time: {start.elapsed_time(end)/1000/60 :.3f} min.')"
      ],
      "execution_count": 140,
      "outputs": [
        {
          "output_type": "stream",
          "text": [
            "Loss: 0.037 -- Acc: 0.907\n",
            " Trues: ['16/02/1921', '25/02/1921', '27/02/1921', '07/03/1921', '20/03/1921', '22/03/1921', '30/03/1921']\n",
            "  Preds: ['16/02/1921', '25/02/1921', '27/02/1921', '07/03/1921', '20/03/1921', '22/03/1921', '30/03/1921']\n",
            "Test time: 1.155 min.\n"
          ],
          "name": "stdout"
        }
      ]
    },
    {
      "cell_type": "markdown",
      "metadata": {
        "id": "CzVjYAkNGVxJ",
        "colab_type": "text"
      },
      "source": [
        "# Evaluating types for a same date\n",
        "\n",
        "Given a sample date, this section evaluates wich is the accuracy.\n",
        "\n",
        "\n"
      ]
    },
    {
      "cell_type": "code",
      "metadata": {
        "id": "DixMx530hPg5",
        "colab_type": "code",
        "colab": {}
      },
      "source": [
        "def evaluate_for_a_same_date(date,model=model,tokenizer=TOK,verbose=True):\n",
        "  '''\n",
        "    Given a specific date, returns the accuracy in all evalueated types.\n",
        "    Also prints results per sample.\n",
        "  '''\n",
        "\n",
        "  results = []\n",
        "  \n",
        "  examples = datas.generate_demo(date=date)\n",
        "\n",
        "  for x,target in zip(examples['Generated Text'],examples['Origin Sample']):\n",
        "\n",
        "    prediction = model.generate_example(x,TOK)[0]\n",
        "\n",
        "    results.append(prediction == target)\n",
        "\n",
        "    if verbose:\n",
        "      print(f'Entrada: {x} -- Target: {target} --- Previsto: {prediction} --- {prediction == target}')\n",
        "\n",
        "  if verbose:\n",
        "    print(f'Total accuracy: {np.mean(results)}')\n",
        "\n",
        "  return np.mean(results)\n"
      ],
      "execution_count": 0,
      "outputs": []
    },
    {
      "cell_type": "code",
      "metadata": {
        "id": "hlmH30k9iBKC",
        "colab_type": "code",
        "outputId": "93fcf748-9fa7-43a2-8ccb-38a564570da1",
        "colab": {
          "base_uri": "https://localhost:8080/",
          "height": 872
        }
      },
      "source": [
        "'''\n",
        "  A date in the century with more dates occuring\n",
        "'''\n",
        "evaluate_for_a_same_date('11/07/1988')"
      ],
      "execution_count": 142,
      "outputs": [
        {
          "output_type": "stream",
          "text": [
            "Entrada: eleven of july of 1988 -- Target: 11/07/1988 --- Previsto: 11/07/1988 --- True\n",
            "Entrada: eleven of jul of one thousand, nine hundred and eighty-eight -- Target: 11/07/1988 --- Previsto: 11/07/1988 --- True\n",
            "Entrada: eleven of july of one thousand, nine hundred and eighty-eight -- Target: 11/07/1988 --- Previsto: 11/07/1988 --- True\n",
            "Entrada: eleventh day of month seven of one thousand, nine hundred and eighty-eight -- Target: 11/07/1988 --- Previsto: 11/07/1988 --- True\n",
            "Entrada: 11 of July of 1988 -- Target: 11/07/1988 --- Previsto: 11/07/1988 --- True\n",
            "Entrada: 11 of july of one thousand, nine hundred and eighty-eight -- Target: 11/07/1988 --- Previsto: 11/07/1988 --- True\n",
            "Entrada: 11-07 of one thousand, nine hundred and eighty-eight -- Target: 11/07/1988 --- Previsto: 11/07/1988 --- True\n",
            "Entrada: eleven - 07 - 1988 -- Target: 11/07/1988 --- Previsto: 11/07/1988 --- True\n",
            "Entrada: eleven of july - 1988 -- Target: 11/07/1988 --- Previsto: 11/07/1988 --- True\n",
            "Entrada: 11th of july of 1988 -- Target: 11/07/1988 --- Previsto: 11/07/1988 --- True\n",
            "Entrada: 11th-07-1988 -- Target: 11/07/1988 --- Previsto: 11/07/1988 --- True\n",
            "Entrada: 11th/07/1988 -- Target: 11/07/1988 --- Previsto: 11/07/1988 --- True\n",
            "Entrada: 11th/July/1988 -- Target: 11/07/1988 --- Previsto: 11/07/1988 --- True\n",
            "Entrada: 11/july/1988 -- Target: 11/07/1988 --- Previsto: 11/07/1988 --- True\n",
            "Entrada: eleven july one thousand, nine hundred and eighty-eight -- Target: 11/07/1988 --- Previsto: 11/07/1988 --- True\n",
            "Entrada: 11 july one thousand, nine hundred and eighty-eight -- Target: 11/07/1988 --- Previsto: 11/07/1988 --- True\n",
            "Entrada: 11/07 one thousand, nine hundred and eighty-eight -- Target: 11/07/1988 --- Previsto: 11/07/1988 --- True\n",
            "Entrada: 11.07 one thousand, nine hundred and eighty-eight -- Target: 11/07/1988 --- Previsto: 11/07/1988 --- True\n",
            "Entrada: 11-07 one thousand, nine hundred and eighty-eight -- Target: 11/07/1988 --- Previsto: 11/07/1988 --- True\n",
            "Entrada: eleven/july/one thousand, nine hundred and eighty-eight -- Target: 11/07/1988 --- Previsto: 11/07/1988 --- True\n",
            "Entrada: 11 of month seven of 1988 -- Target: 11/07/1988 --- Previsto: 11/07/1988 --- True\n",
            "Entrada: 11-7-1988 -- Target: 11/07/1988 --- Previsto: 11/07/1988 --- True\n",
            "Entrada: 11 - 7 - 1988 -- Target: 11/07/1988 --- Previsto: 11/07/1988 --- True\n",
            "Entrada: 11-07-1988 -- Target: 11/07/1988 --- Previsto: 11/07/1988 --- True\n",
            "Entrada: 11 - 07 - 1988 -- Target: 11/07/1988 --- Previsto: 11/07/1988 --- True\n",
            "Entrada: 11-july-1988 -- Target: 11/07/1988 --- Previsto: 11/07/1988 --- True\n",
            "Entrada: 11 - july - 1988 -- Target: 11/07/1988 --- Previsto: 11/07/1988 --- True\n",
            "Entrada: 11-jul-1988 -- Target: 11/07/1988 --- Previsto: 11/07/1988 --- True\n",
            "Entrada: 11 - jul - 1988 -- Target: 11/07/1988 --- Previsto: 11/07/1988 --- True\n",
            "Entrada: 11.7.1988 -- Target: 11/07/1988 --- Previsto: 11/07/1988 --- True\n",
            "Entrada: 11 . 7 . 1988 -- Target: 11/07/1988 --- Previsto: 11/07/1988 --- True\n",
            "Entrada: 11.07.1988 -- Target: 11/07/1988 --- Previsto: 11/07/1988 --- True\n",
            "Entrada: 11 . 07 . 1988 -- Target: 11/07/1988 --- Previsto: 11/07/1988 --- True\n",
            "Entrada: 11.july.1988 -- Target: 11/07/1988 --- Previsto: 11/07/1988 --- True\n",
            "Entrada: 11 . july . 1988 -- Target: 11/07/1988 --- Previsto: 11/07/1988 --- True\n",
            "Entrada: 11.jul.1988 -- Target: 11/07/1988 --- Previsto: 11/07/1988 --- True\n",
            "Entrada: 11 . jul . 1988 -- Target: 11/07/1988 --- Previsto: 11/07/1988 --- True\n",
            "Entrada: 11/07/1988 -- Target: 11/07/1988 --- Previsto: 11/07/1988 --- True\n",
            "Entrada: 11 / 07 / 1988 -- Target: 11/07/1988 --- Previsto: 11/07/1988 --- True\n",
            "Entrada: 11/july/1988 -- Target: 11/07/1988 --- Previsto: 11/07/1988 --- True\n",
            "Entrada: 11 / july / 1988 -- Target: 11/07/1988 --- Previsto: 11/07/1988 --- True\n",
            "Entrada: 11/jul/1988 -- Target: 11/07/1988 --- Previsto: 11/07/1988 --- True\n",
            "Entrada: 11 / jul / 1988 -- Target: 11/07/1988 --- Previsto: 11/07/1988 --- True\n",
            "Entrada: 11/7/1988 -- Target: 11/07/1988 --- Previsto: 11/07/1988 --- True\n",
            "Entrada: 11 / 7 / 1988 -- Target: 11/07/1988 --- Previsto: 11/07/1988 --- True\n",
            "Total accuracy: 1.0\n"
          ],
          "name": "stdout"
        },
        {
          "output_type": "execute_result",
          "data": {
            "text/plain": [
              "1.0"
            ]
          },
          "metadata": {
            "tags": []
          },
          "execution_count": 142
        }
      ]
    },
    {
      "cell_type": "code",
      "metadata": {
        "id": "qZr2RlmzcjLV",
        "colab_type": "code",
        "outputId": "f682564d-37db-4836-901a-fd7b6431850b",
        "colab": {
          "base_uri": "https://localhost:8080/",
          "height": 872
        }
      },
      "source": [
        "'''\n",
        "  A date in a century with less dates occurring, but that is inside the\n",
        "  generated dataset\n",
        "'''\n",
        "evaluate_for_a_same_date('20/12/2015')"
      ],
      "execution_count": 143,
      "outputs": [
        {
          "output_type": "stream",
          "text": [
            "Entrada: twenty of december of 2015 -- Target: 20/12/2015 --- Previsto: 20/12/2015 --- True\n",
            "Entrada: twenty of dec of two thousand and fifteen -- Target: 20/12/2015 --- Previsto: 20/12/2015 --- True\n",
            "Entrada: twenty of december of two thousand and fifteen -- Target: 20/12/2015 --- Previsto: 20/12/2015 --- True\n",
            "Entrada: twentieth day of month twelve of two thousand and fifteen -- Target: 20/12/2015 --- Previsto: 20/12/2015 --- True\n",
            "Entrada: 20 of December of 2015 -- Target: 20/12/2015 --- Previsto: 20/12/2015 --- True\n",
            "Entrada: 20 of december of two thousand and fifteen -- Target: 20/12/2015 --- Previsto: 20/12/2015 --- True\n",
            "Entrada: 20-12 of two thousand and fifteen -- Target: 20/12/2015 --- Previsto: 20/12/2015 --- True\n",
            "Entrada: twenty - 12 - 2015 -- Target: 20/12/2015 --- Previsto: 20/12/2015 --- True\n",
            "Entrada: twenty of december - 2015 -- Target: 20/12/2015 --- Previsto: 20/12/2015 --- True\n",
            "Entrada: 20th of december of 2015 -- Target: 20/12/2015 --- Previsto: 20/12/2015 --- True\n",
            "Entrada: 20th-12-2015 -- Target: 20/12/2015 --- Previsto: 20/12/2015 --- True\n",
            "Entrada: 20th/12/2015 -- Target: 20/12/2015 --- Previsto: 20/12/2015 --- True\n",
            "Entrada: 20th/December/2015 -- Target: 20/12/2015 --- Previsto: 20/12/2015 --- True\n",
            "Entrada: 20/december/2015 -- Target: 20/12/2015 --- Previsto: 20/12/2015 --- True\n",
            "Entrada: twenty december two thousand and fifteen -- Target: 20/12/2015 --- Previsto: 20/12/2015 --- True\n",
            "Entrada: 20 december two thousand and fifteen -- Target: 20/12/2015 --- Previsto: 20/12/2015 --- True\n",
            "Entrada: 20/12 two thousand and fifteen -- Target: 20/12/2015 --- Previsto: 20/12/2015 --- True\n",
            "Entrada: 20.12 two thousand and fifteen -- Target: 20/12/2015 --- Previsto: 20/12/2015 --- True\n",
            "Entrada: 20-12 two thousand and fifteen -- Target: 20/12/2015 --- Previsto: 20/12/2015 --- True\n",
            "Entrada: twenty/december/two thousand and fifteen -- Target: 20/12/2015 --- Previsto: 20/12/2015 --- True\n",
            "Entrada: 20 of month twelve of 2015 -- Target: 20/12/2015 --- Previsto: 20/12/2015 --- True\n",
            "Entrada: 20-12-2015 -- Target: 20/12/2015 --- Previsto: 20/12/2015 --- True\n",
            "Entrada: 20 - 12 - 2015 -- Target: 20/12/2015 --- Previsto: 20/12/2015 --- True\n",
            "Entrada: 20-12-2015 -- Target: 20/12/2015 --- Previsto: 20/12/2015 --- True\n",
            "Entrada: 20 - 12 - 2015 -- Target: 20/12/2015 --- Previsto: 20/12/2015 --- True\n",
            "Entrada: 20-december-2015 -- Target: 20/12/2015 --- Previsto: 20/12/2015 --- True\n",
            "Entrada: 20 - december - 2015 -- Target: 20/12/2015 --- Previsto: 20/12/2015 --- True\n",
            "Entrada: 20-dec-2015 -- Target: 20/12/2015 --- Previsto: 20/12/2015 --- True\n",
            "Entrada: 20 - dec - 2015 -- Target: 20/12/2015 --- Previsto: 20/12/2015 --- True\n",
            "Entrada: 20.12.2015 -- Target: 20/12/2015 --- Previsto: 20/12/2015 --- True\n",
            "Entrada: 20 . 12 . 2015 -- Target: 20/12/2015 --- Previsto: 20/12/2015 --- True\n",
            "Entrada: 20.12.2015 -- Target: 20/12/2015 --- Previsto: 20/12/2015 --- True\n",
            "Entrada: 20 . 12 . 2015 -- Target: 20/12/2015 --- Previsto: 20/12/2015 --- True\n",
            "Entrada: 20.december.2015 -- Target: 20/12/2015 --- Previsto: 20/12/2015 --- True\n",
            "Entrada: 20 . december . 2015 -- Target: 20/12/2015 --- Previsto: 20/12/2015 --- True\n",
            "Entrada: 20.dec.2015 -- Target: 20/12/2015 --- Previsto: 20/12/2015 --- True\n",
            "Entrada: 20 . dec . 2015 -- Target: 20/12/2015 --- Previsto: 20/12/2015 --- True\n",
            "Entrada: 20/12/2015 -- Target: 20/12/2015 --- Previsto: 20/12/2015 --- True\n",
            "Entrada: 20 / 12 / 2015 -- Target: 20/12/2015 --- Previsto: 20/12/2015 --- True\n",
            "Entrada: 20/december/2015 -- Target: 20/12/2015 --- Previsto: 20/12/2015 --- True\n",
            "Entrada: 20 / december / 2015 -- Target: 20/12/2015 --- Previsto: 20/12/2015 --- True\n",
            "Entrada: 20/dec/2015 -- Target: 20/12/2015 --- Previsto: 20/12/2015 --- True\n",
            "Entrada: 20 / dec / 2015 -- Target: 20/12/2015 --- Previsto: 20/12/2015 --- True\n",
            "Entrada: 20/12/2015 -- Target: 20/12/2015 --- Previsto: 20/12/2015 --- True\n",
            "Entrada: 20 / 12 / 2015 -- Target: 20/12/2015 --- Previsto: 20/12/2015 --- True\n",
            "Total accuracy: 1.0\n"
          ],
          "name": "stdout"
        },
        {
          "output_type": "execute_result",
          "data": {
            "text/plain": [
              "1.0"
            ]
          },
          "metadata": {
            "tags": []
          },
          "execution_count": 143
        }
      ]
    },
    {
      "cell_type": "code",
      "metadata": {
        "id": "aqonQb-kcjUY",
        "colab_type": "code",
        "outputId": "e69175dc-8645-4495-871b-6f5f26affd13",
        "colab": {
          "base_uri": "https://localhost:8080/",
          "height": 872
        }
      },
      "source": [
        "'''\n",
        "  Evaluating for a date in a century out of the training range gives the worst\n",
        "  acc possible. (0)\n",
        "'''\n",
        "evaluate_for_a_same_date('25/12/2141')"
      ],
      "execution_count": 144,
      "outputs": [
        {
          "output_type": "stream",
          "text": [
            "Entrada: twenty-five of december of 2141 -- Target: 25/12/2141 --- Previsto: 25/12/241 --- False\n",
            "Entrada: twenty-five of dec of two thousand, one hundred and forty-one -- Target: 25/12/2141 --- Previsto: 25/12/241 --- False\n",
            "Entrada: twenty-five of december of two thousand, one hundred and forty-one -- Target: 25/12/2141 --- Previsto: 25/12/241 --- False\n",
            "Entrada: twenty-fifth day of month twelve of two thousand, one hundred and forty-one -- Target: 25/12/2141 --- Previsto: 25/12/241 --- False\n",
            "Entrada: 25 of December of 2141 -- Target: 25/12/2141 --- Previsto: 25/12/241 --- False\n",
            "Entrada: 25 of december of two thousand, one hundred and forty-one -- Target: 25/12/2141 --- Previsto: 25/12/241 --- False\n",
            "Entrada: 25-12 of two thousand, one hundred and forty-one -- Target: 25/12/2141 --- Previsto: 25/12/241 --- False\n",
            "Entrada: twenty-five - 12 - 2141 -- Target: 25/12/2141 --- Previsto: 25/12/241 --- False\n",
            "Entrada: twenty-five of december - 2141 -- Target: 25/12/2141 --- Previsto: 25/12/241 --- False\n",
            "Entrada: 25th of december of 2141 -- Target: 25/12/2141 --- Previsto: 25/12/241 --- False\n",
            "Entrada: 25th-12-2141 -- Target: 25/12/2141 --- Previsto: 25/12/241 --- False\n",
            "Entrada: 25th/12/2141 -- Target: 25/12/2141 --- Previsto: 25/12/2141 --- True\n",
            "Entrada: 25th/December/2141 -- Target: 25/12/2141 --- Previsto: 25/12/2141 --- True\n",
            "Entrada: 25/december/2141 -- Target: 25/12/2141 --- Previsto: 25/12/2141 --- True\n",
            "Entrada: twenty-five december two thousand, one hundred and forty-one -- Target: 25/12/2141 --- Previsto: 25/12/241 --- False\n",
            "Entrada: 25 december two thousand, one hundred and forty-one -- Target: 25/12/2141 --- Previsto: 25/12/241 --- False\n",
            "Entrada: 25/12 two thousand, one hundred and forty-one -- Target: 25/12/2141 --- Previsto: 25/12/241 --- False\n",
            "Entrada: 25.12 two thousand, one hundred and forty-one -- Target: 25/12/2141 --- Previsto: 25/12/241 --- False\n",
            "Entrada: 25-12 two thousand, one hundred and forty-one -- Target: 25/12/2141 --- Previsto: 25/12/241 --- False\n",
            "Entrada: twenty-five/december/two thousand, one hundred and forty-one -- Target: 25/12/2141 --- Previsto: 25/12/241 --- False\n",
            "Entrada: 25 of month twelve of 2141 -- Target: 25/12/2141 --- Previsto: 25/12/241 --- False\n",
            "Entrada: 25-12-2141 -- Target: 25/12/2141 --- Previsto: 25/12/241 --- False\n",
            "Entrada: 25 - 12 - 2141 -- Target: 25/12/2141 --- Previsto: 25/12/241 --- False\n",
            "Entrada: 25-12-2141 -- Target: 25/12/2141 --- Previsto: 25/12/241 --- False\n",
            "Entrada: 25 - 12 - 2141 -- Target: 25/12/2141 --- Previsto: 25/12/241 --- False\n",
            "Entrada: 25-december-2141 -- Target: 25/12/2141 --- Previsto: 25/12/241 --- False\n",
            "Entrada: 25 - december - 2141 -- Target: 25/12/2141 --- Previsto: 25/12/241 --- False\n",
            "Entrada: 25-dec-2141 -- Target: 25/12/2141 --- Previsto: 25/12/241 --- False\n",
            "Entrada: 25 - dec - 2141 -- Target: 25/12/2141 --- Previsto: 25/12/241 --- False\n",
            "Entrada: 25.12.2141 -- Target: 25/12/2141 --- Previsto: 25/12/2141 --- True\n",
            "Entrada: 25 . 12 . 2141 -- Target: 25/12/2141 --- Previsto: 25/12/241 --- False\n",
            "Entrada: 25.12.2141 -- Target: 25/12/2141 --- Previsto: 25/12/2141 --- True\n",
            "Entrada: 25 . 12 . 2141 -- Target: 25/12/2141 --- Previsto: 25/12/241 --- False\n",
            "Entrada: 25.december.2141 -- Target: 25/12/2141 --- Previsto: 25/12/241 --- False\n",
            "Entrada: 25 . december . 2141 -- Target: 25/12/2141 --- Previsto: 25/12/241 --- False\n",
            "Entrada: 25.dec.2141 -- Target: 25/12/2141 --- Previsto: 25/12/241 --- False\n",
            "Entrada: 25 . dec . 2141 -- Target: 25/12/2141 --- Previsto: 25/12/241 --- False\n",
            "Entrada: 25/12/2141 -- Target: 25/12/2141 --- Previsto: 25/12/2141 --- True\n",
            "Entrada: 25 / 12 / 2141 -- Target: 25/12/2141 --- Previsto: 25/12/241 --- False\n",
            "Entrada: 25/december/2141 -- Target: 25/12/2141 --- Previsto: 25/12/2141 --- True\n",
            "Entrada: 25 / december / 2141 -- Target: 25/12/2141 --- Previsto: 25/12/241 --- False\n",
            "Entrada: 25/dec/2141 -- Target: 25/12/2141 --- Previsto: 25/12/2141 --- True\n",
            "Entrada: 25 / dec / 2141 -- Target: 25/12/2141 --- Previsto: 25/12/241 --- False\n",
            "Entrada: 25/12/2141 -- Target: 25/12/2141 --- Previsto: 25/12/2141 --- True\n",
            "Entrada: 25 / 12 / 2141 -- Target: 25/12/2141 --- Previsto: 25/12/241 --- False\n",
            "Total accuracy: 0.2\n"
          ],
          "name": "stdout"
        },
        {
          "output_type": "execute_result",
          "data": {
            "text/plain": [
              "0.2"
            ]
          },
          "metadata": {
            "tags": []
          },
          "execution_count": 144
        }
      ]
    },
    {
      "cell_type": "code",
      "metadata": {
        "id": "UMnT5Sm-IPMt",
        "colab_type": "code",
        "outputId": "15b82899-9dc0-4f7a-f123-3c36b7b19109",
        "colab": {
          "base_uri": "https://localhost:8080/",
          "height": 872
        }
      },
      "source": [
        "'''\n",
        "  An earlier date than the beggining of the generated dataset\n",
        "'''\n",
        "evaluate_for_a_same_date('27/05/1920')"
      ],
      "execution_count": 145,
      "outputs": [
        {
          "output_type": "stream",
          "text": [
            "Entrada: twenty-seven of may of 1920 -- Target: 27/05/1920 --- Previsto: 27/05/1920 --- True\n",
            "Entrada: twenty-seven of may of one thousand, nine hundred and twenty -- Target: 27/05/1920 --- Previsto: 27/05/1920 --- True\n",
            "Entrada: twenty-seven of may of one thousand, nine hundred and twenty -- Target: 27/05/1920 --- Previsto: 27/05/1920 --- True\n",
            "Entrada: twenty-seventh day of month five of one thousand, nine hundred and twenty -- Target: 27/05/1920 --- Previsto: 27/05/1920 --- True\n",
            "Entrada: 27 of May of 1920 -- Target: 27/05/1920 --- Previsto: 27/05/1920 --- True\n",
            "Entrada: 27 of may of one thousand, nine hundred and twenty -- Target: 27/05/1920 --- Previsto: 27/05/1920 --- True\n",
            "Entrada: 27-05 of one thousand, nine hundred and twenty -- Target: 27/05/1920 --- Previsto: 27/05/1920 --- True\n",
            "Entrada: twenty-seven - 05 - 1920 -- Target: 27/05/1920 --- Previsto: 27/05/1920 --- True\n",
            "Entrada: twenty-seven of may - 1920 -- Target: 27/05/1920 --- Previsto: 27/05/1920 --- True\n",
            "Entrada: 27th of may of 1920 -- Target: 27/05/1920 --- Previsto: 27/05/1920 --- True\n",
            "Entrada: 27th-05-1920 -- Target: 27/05/1920 --- Previsto: 27/05/1920 --- True\n",
            "Entrada: 27th/05/1920 -- Target: 27/05/1920 --- Previsto: 27/05/1920 --- True\n",
            "Entrada: 27th/May/1920 -- Target: 27/05/1920 --- Previsto: 27/05/1920 --- True\n",
            "Entrada: 27/may/1920 -- Target: 27/05/1920 --- Previsto: 27/05/1920 --- True\n",
            "Entrada: twenty-seven may one thousand, nine hundred and twenty -- Target: 27/05/1920 --- Previsto: 27/05/1920 --- True\n",
            "Entrada: 27 may one thousand, nine hundred and twenty -- Target: 27/05/1920 --- Previsto: 27/05/1920 --- True\n",
            "Entrada: 27/05 one thousand, nine hundred and twenty -- Target: 27/05/1920 --- Previsto: 27/05/1920 --- True\n",
            "Entrada: 27.05 one thousand, nine hundred and twenty -- Target: 27/05/1920 --- Previsto: 27/05/1920 --- True\n",
            "Entrada: 27-05 one thousand, nine hundred and twenty -- Target: 27/05/1920 --- Previsto: 27/05/1920 --- True\n",
            "Entrada: twenty-seven/may/one thousand, nine hundred and twenty -- Target: 27/05/1920 --- Previsto: 27/05/1920 --- True\n",
            "Entrada: 27 of month five of 1920 -- Target: 27/05/1920 --- Previsto: 27/05/2020 --- False\n",
            "Entrada: 27-5-1920 -- Target: 27/05/1920 --- Previsto: 27/05/1920 --- True\n",
            "Entrada: 27 - 5 - 1920 -- Target: 27/05/1920 --- Previsto: 27/05/1920 --- True\n",
            "Entrada: 27-05-1920 -- Target: 27/05/1920 --- Previsto: 27/05/1920 --- True\n",
            "Entrada: 27 - 05 - 1920 -- Target: 27/05/1920 --- Previsto: 27/05/1920 --- True\n",
            "Entrada: 27-may-1920 -- Target: 27/05/1920 --- Previsto: 27/05/1920 --- True\n",
            "Entrada: 27 - may - 1920 -- Target: 27/05/1920 --- Previsto: 27/05/1920 --- True\n",
            "Entrada: 27-may-1920 -- Target: 27/05/1920 --- Previsto: 27/05/1920 --- True\n",
            "Entrada: 27 - may - 1920 -- Target: 27/05/1920 --- Previsto: 27/05/1920 --- True\n",
            "Entrada: 27.5.1920 -- Target: 27/05/1920 --- Previsto: 27/05/2098 --- False\n",
            "Entrada: 27 . 5 . 1920 -- Target: 27/05/1920 --- Previsto: 27/05/1920 --- True\n",
            "Entrada: 27.05.1920 -- Target: 27/05/1920 --- Previsto: 27/05/1920 --- True\n",
            "Entrada: 27 . 05 . 1920 -- Target: 27/05/1920 --- Previsto: 27/05/1920 --- True\n",
            "Entrada: 27.may.1920 -- Target: 27/05/1920 --- Previsto: 27/05/1920 --- True\n",
            "Entrada: 27 . may . 1920 -- Target: 27/05/1920 --- Previsto: 27/05/1920 --- True\n",
            "Entrada: 27.may.1920 -- Target: 27/05/1920 --- Previsto: 27/05/1920 --- True\n",
            "Entrada: 27 . may . 1920 -- Target: 27/05/1920 --- Previsto: 27/05/1920 --- True\n",
            "Entrada: 27/05/1920 -- Target: 27/05/1920 --- Previsto: 27/05/1920 --- True\n",
            "Entrada: 27 / 05 / 1920 -- Target: 27/05/1920 --- Previsto: 27/05/1920 --- True\n",
            "Entrada: 27/may/1920 -- Target: 27/05/1920 --- Previsto: 27/05/1920 --- True\n",
            "Entrada: 27 / may / 1920 -- Target: 27/05/1920 --- Previsto: 27/05/1920 --- True\n",
            "Entrada: 27/may/1920 -- Target: 27/05/1920 --- Previsto: 27/05/1920 --- True\n",
            "Entrada: 27 / may / 1920 -- Target: 27/05/1920 --- Previsto: 27/05/1920 --- True\n",
            "Entrada: 27/5/1920 -- Target: 27/05/1920 --- Previsto: 27/05/2020 --- False\n",
            "Entrada: 27 / 5 / 1920 -- Target: 27/05/1920 --- Previsto: 27/05/1920 --- True\n",
            "Total accuracy: 0.9333333333333333\n"
          ],
          "name": "stdout"
        },
        {
          "output_type": "execute_result",
          "data": {
            "text/plain": [
              "0.9333333333333333"
            ]
          },
          "metadata": {
            "tags": []
          },
          "execution_count": 145
        }
      ]
    },
    {
      "cell_type": "markdown",
      "metadata": {
        "id": "d0jwndLKmxpX",
        "colab_type": "text"
      },
      "source": [
        "# Accuracy in dataset dates"
      ]
    },
    {
      "cell_type": "markdown",
      "metadata": {
        "id": "Dpd5akZyAXyz",
        "colab_type": "text"
      },
      "source": [
        "## Inside dataset\n",
        "\n",
        "Dates into the interval that was used to built the synthetic dataset used for test and eval."
      ]
    },
    {
      "cell_type": "code",
      "metadata": {
        "id": "lfHmTxgDm19i",
        "colab_type": "code",
        "outputId": "9d09a1bf-7f58-46c6-ddd6-6ccb16416597",
        "colab": {
          "base_uri": "https://localhost:8080/",
          "height": 55
        }
      },
      "source": [
        "accs = []\n",
        "dates = []\n",
        "\n",
        "sampled_test = random.sample(list(df['Target'].values),50)\n",
        "\n",
        "print('acc test set: ',sampled_test)\n",
        "\n",
        "for date_sample in sampled_test:\n",
        "  accs.append(evaluate_for_a_same_date(date_sample,verbose=False))\n",
        "  dates.append(date_sample)\n",
        "  "
      ],
      "execution_count": 146,
      "outputs": [
        {
          "output_type": "stream",
          "text": [
            "acc test set:  ['27/12/1966', '21/05/1976', '28/11/2030', '07/08/2007', '18/09/2062', '25/07/2103', '06/08/2055', '30/05/2077', '19/10/1970', '26/01/2117', '03/07/2008', '20/07/2081', '26/09/1972', '09/10/2002', '03/09/1930', '09/05/2093', '21/10/2019', '09/10/1954', '10/04/2082', '28/08/2088', '28/05/2082', '21/10/2037', '26/02/2064', '28/11/2068', '09/01/2004', '31/05/2041', '27/11/2025', '10/09/2052', '30/09/1963', '03/04/1933', '20/05/2043', '07/06/2026', '17/02/2010', '07/04/2108', '06/03/2060', '17/04/2099', '18/01/2100', '23/06/2097', '26/09/1960', '24/03/1980', '05/03/2069', '25/06/2117', '25/11/1976', '01/08/2002', '10/03/1936', '20/03/1956', '09/02/2118', '15/09/2098', '22/11/1976', '14/02/1959']\n"
          ],
          "name": "stdout"
        }
      ]
    },
    {
      "cell_type": "code",
      "metadata": {
        "id": "dxzyKeRQoBTR",
        "colab_type": "code",
        "outputId": "2b396795-3cbe-4d84-d354-4f50a4ce7c83",
        "colab": {
          "base_uri": "https://localhost:8080/",
          "height": 351
        }
      },
      "source": [
        "plt.plot(dates,accs)\n",
        "plt.xticks(rotation=45)\n",
        "plt.grid()\n",
        "plt.ylim([0.8, 1.01])\n",
        "plt.ylabel('Average accuracy on 45 formats')\n",
        "plt.xlabel('Canonical target')\n",
        "plt.title('Average accuracy on dates inside synthetic training dataset')\n",
        "print('Average of average accuracies: ',np.mean(accs))"
      ],
      "execution_count": 147,
      "outputs": [
        {
          "output_type": "stream",
          "text": [
            "Average of average accuracies:  0.9973333333333333\n"
          ],
          "name": "stdout"
        },
        {
          "output_type": "display_data",
          "data": {
            "image/png": "[encoded data removed]",
            "text/plain": [
              "<Figure size 432x288 with 1 Axes>"
            ]
          },
          "metadata": {
            "tags": [],
            "needs_background": "light"
          }
        }
      ]
    },
    {
      "cell_type": "markdown",
      "metadata": {
        "id": "ePEpzTU5A0Rx",
        "colab_type": "text"
      },
      "source": [
        "## Below dataset\n",
        "\n",
        "Dates lower than the synthetic dataset used for test and eval."
      ]
    },
    {
      "cell_type": "code",
      "metadata": {
        "id": "W8gnAWTcd5DP",
        "colab_type": "code",
        "colab": {
          "base_uri": "https://localhost:8080/",
          "height": 55
        },
        "outputId": "90f50bf7-ac95-4aaf-ab54-bb4fa84ff05e"
      },
      "source": [
        "accs = []\n",
        "dates = []\n",
        "\n",
        "new_dataset = DateTextGenerator('01/01/1900','31/12/1920')\n",
        "\n",
        "new_df = new_dataset.generate_date_dataset()\n",
        "sampled_test = random.sample(list(new_df['Target'].values),20)\n",
        "\n",
        "print('acc test set: ',sampled_test)\n",
        "\n",
        "for date_sample in sampled_test:\n",
        "  accs.append(evaluate_for_a_same_date(date_sample,verbose=False))\n",
        "  dates.append(date_sample)"
      ],
      "execution_count": 148,
      "outputs": [
        {
          "output_type": "stream",
          "text": [
            "acc test set:  ['13/07/1913', '10/06/1918', '11/06/1914', '23/03/1919', '17/10/1901', '07/03/1912', '22/05/1906', '31/07/1914', '16/11/1910', '30/12/1903', '03/05/1915', '17/02/1904', '24/02/1919', '11/09/1908', '22/06/1907', '16/07/1903', '11/04/1915', '08/06/1916', '21/05/1918', '14/01/1909']\n"
          ],
          "name": "stdout"
        }
      ]
    },
    {
      "cell_type": "code",
      "metadata": {
        "colab_type": "code",
        "id": "4DFUtHoUA2c4",
        "outputId": "66318873-bcb5-4d6d-c204-0ea6b3cffd3b",
        "colab": {
          "base_uri": "https://localhost:8080/",
          "height": 351
        }
      },
      "source": [
        "plt.plot(dates,accs)\n",
        "plt.xticks(rotation=45)\n",
        "plt.grid()\n",
        "plt.ylim([-0.01, 1.01])\n",
        "plt.ylabel('Average accuracy on 45 formats')\n",
        "plt.xlabel('Canonical target')\n",
        "plt.title('Average accuracy on dates below synthetic training dataset')\n",
        "print('Average of average accuracies: ',np.mean(accs))"
      ],
      "execution_count": 149,
      "outputs": [
        {
          "output_type": "stream",
          "text": [
            "Average of average accuracies:  0.8200000000000001\n"
          ],
          "name": "stdout"
        },
        {
          "output_type": "display_data",
          "data": {
            "image/png": "[encoded data removed]",
            "text/plain": [
              "<Figure size 432x288 with 1 Axes>"
            ]
          },
          "metadata": {
            "tags": [],
            "needs_background": "light"
          }
        }
      ]
    },
    {
      "cell_type": "markdown",
      "metadata": {
        "colab_type": "text",
        "id": "H0BR5SlBCCEr"
      },
      "source": [
        "## Above dataset\n",
        "\n",
        "Dates greater than the synthetic dataset used for test and eval."
      ]
    },
    {
      "cell_type": "code",
      "metadata": {
        "id": "86KqAIP8ef_n",
        "colab_type": "code",
        "colab": {
          "base_uri": "https://localhost:8080/",
          "height": 55
        },
        "outputId": "3499e8ca-403b-4355-f937-03bd9c32500b"
      },
      "source": [
        "accs = []\n",
        "dates = []\n",
        "\n",
        "new_dataset = DateTextGenerator('01/01/2121','31/12/2140')\n",
        "\n",
        "\n",
        "new_df = new_dataset.generate_date_dataset()\n",
        "sampled_test = random.sample(list(new_df['Target'].values),20)\n",
        "\n",
        "print('acc test set: ',sampled_test)\n",
        "\n",
        "for date_sample in sampled_test:\n",
        "  accs.append(evaluate_for_a_same_date(date_sample,verbose=False))\n",
        "  dates.append(date_sample)"
      ],
      "execution_count": 150,
      "outputs": [
        {
          "output_type": "stream",
          "text": [
            "acc test set:  ['18/08/2121', '30/11/2132', '28/01/2135', '05/12/2127', '04/06/2138', '08/03/2133', '26/08/2126', '26/01/2139', '07/01/2124', '13/06/2125', '31/08/2126', '09/12/2137', '05/07/2140', '24/04/2129', '05/09/2127', '12/03/2128', '18/05/2123', '16/01/2135', '04/08/2139', '18/06/2136']\n"
          ],
          "name": "stdout"
        }
      ]
    },
    {
      "cell_type": "code",
      "metadata": {
        "colab_type": "code",
        "id": "J2SP31YSCCFG",
        "outputId": "35c143db-0f10-41df-f555-e18a3ee45ded",
        "colab": {
          "base_uri": "https://localhost:8080/",
          "height": 351
        }
      },
      "source": [
        "plt.plot(dates,accs)\n",
        "plt.xticks(rotation=45)\n",
        "plt.grid()\n",
        "plt.ylim([-0.01, 1.01])\n",
        "plt.ylabel('Average accuracy on 45 formats')\n",
        "plt.xlabel('Canonical target')\n",
        "plt.title('Average accuracy on dates above synthetic training dataset')\n",
        "print('Average of average accuracies: ',np.mean(accs))"
      ],
      "execution_count": 152,
      "outputs": [
        {
          "output_type": "stream",
          "text": [
            "Average of average accuracies:  0.7122222222222222\n"
          ],
          "name": "stdout"
        },
        {
          "output_type": "display_data",
          "data": {
            "image/png": "[encoded data removed]",
            "text/plain": [
              "<Figure size 432x288 with 1 Axes>"
            ]
          },
          "metadata": {
            "tags": [],
            "needs_background": "light"
          }
        }
      ]
    },
    {
      "cell_type": "markdown",
      "metadata": {
        "id": "5bvkIIgMNASY",
        "colab_type": "text"
      },
      "source": [
        "# The End"
      ]
    }
  ]
}