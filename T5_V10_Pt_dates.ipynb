{
  "nbformat": 4,
  "nbformat_minor": 0,
  "metadata": {
    "colab": {
      "name": "T5: V10 Pt-dates.ipynb",
      "provenance": [],
      "collapsed_sections": [],
      "include_colab_link": true
    },
    "kernelspec": {
      "name": "python3",
      "display_name": "Python 3"
    },
    "accelerator": "GPU"
  },
  "cells": [
    {
      "cell_type": "markdown",
      "metadata": {
        "id": "view-in-github",
        "colab_type": "text"
      },
      "source": [
        "<a href=\"https://colab.research.google.com/github/textnorms/date_text_norm/blob/master/T5_V10_Pt_dates.ipynb\" target=\"_parent\"><img src=\"https://colab.research.google.com/assets/colab-badge.svg\" alt=\"Open In Colab\"/></a>"
      ]
    },
    {
      "cell_type": "code",
      "metadata": {
        "id": "PcMfqlK-0HLY",
        "colab_type": "code",
        "outputId": "3e56d177-b572-4a00-fe25-919bf38567cd",
        "colab": {
          "base_uri": "https://localhost:8080/",
          "height": 326
        }
      },
      "source": [
        "! nvidia-smi"
      ],
      "execution_count": 1,
      "outputs": [
        {
          "output_type": "stream",
          "text": [
            "Mon Jun  1 19:24:58 2020       \n",
            "+-----------------------------------------------------------------------------+\n",
            "| NVIDIA-SMI 440.82       Driver Version: 418.67       CUDA Version: 10.1     |\n",
            "|-------------------------------+----------------------+----------------------+\n",
            "| GPU  Name        Persistence-M| Bus-Id        Disp.A | Volatile Uncorr. ECC |\n",
            "| Fan  Temp  Perf  Pwr:Usage/Cap|         Memory-Usage | GPU-Util  Compute M. |\n",
            "|===============================+======================+======================|\n",
            "|   0  Tesla P100-PCIE...  Off  | 00000000:00:04.0 Off |                    0 |\n",
            "| N/A   34C    P0    26W / 250W |      0MiB / 16280MiB |      0%      Default |\n",
            "+-------------------------------+----------------------+----------------------+\n",
            "                                                                               \n",
            "+-----------------------------------------------------------------------------+\n",
            "| Processes:                                                       GPU Memory |\n",
            "|  GPU       PID   Type   Process name                             Usage      |\n",
            "|=============================================================================|\n",
            "|  No running processes found                                                 |\n",
            "+-----------------------------------------------------------------------------+\n"
          ],
          "name": "stdout"
        }
      ]
    },
    {
      "cell_type": "code",
      "metadata": {
        "id": "c-1Lmkfv6g2j",
        "colab_type": "code",
        "outputId": "8624e2b4-d36a-4da6-c9aa-e3139549578d",
        "colab": {
          "base_uri": "https://localhost:8080/",
          "height": 254
        }
      },
      "source": [
        "! rm -rf date*\n",
        "! git clone https://github.com/textnorms/date_text_norm.git\n",
        "! cp -r date_text_norm/syntetic_data_En/ .\n",
        "! cp -r date_text_norm/syntetic_data_Pt/ .\n",
        "\n",
        "! pip install -q num2words transformers\n",
        "! pip install -q transformers"
      ],
      "execution_count": 2,
      "outputs": [
        {
          "output_type": "stream",
          "text": [
            "Cloning into 'date_text_norm'...\n",
            "remote: Enumerating objects: 166, done.\u001b[K\n",
            "remote: Counting objects: 100% (166/166), done.\u001b[K\n",
            "remote: Compressing objects: 100% (134/134), done.\u001b[K\n",
            "remote: Total 166 (delta 94), reused 65 (delta 27), pack-reused 0\u001b[K\n",
            "Receiving objects: 100% (166/166), 798.28 KiB | 3.37 MiB/s, done.\n",
            "Resolving deltas: 100% (94/94), done.\n",
            "\u001b[K     |████████████████████████████████| 102kB 3.6MB/s \n",
            "\u001b[K     |████████████████████████████████| 665kB 10.6MB/s \n",
            "\u001b[K     |████████████████████████████████| 3.8MB 24.9MB/s \n",
            "\u001b[K     |████████████████████████████████| 1.1MB 56.5MB/s \n",
            "\u001b[K     |████████████████████████████████| 890kB 57.4MB/s \n",
            "\u001b[?25h  Building wheel for sacremoses (setup.py) ... \u001b[?25l\u001b[?25hdone\n"
          ],
          "name": "stdout"
        }
      ]
    },
    {
      "cell_type": "markdown",
      "metadata": {
        "id": "hAYiZO6Teo-y",
        "colab_type": "text"
      },
      "source": [
        "# Libs"
      ]
    },
    {
      "cell_type": "markdown",
      "metadata": {
        "id": "tmrMJ5fSgr3P",
        "colab_type": "text"
      },
      "source": [
        "### Choose Language"
      ]
    },
    {
      "cell_type": "code",
      "metadata": {
        "id": "lbOvMx-Igq7F",
        "colab_type": "code",
        "colab": {}
      },
      "source": [
        "LANGUAGE = 'Pt'\n",
        "# LANGUAGE = 'En'"
      ],
      "execution_count": 0,
      "outputs": []
    },
    {
      "cell_type": "code",
      "metadata": {
        "id": "Nok2mtt_1021",
        "colab_type": "code",
        "colab": {}
      },
      "source": [
        "# Basics\n",
        "import numpy as np\n",
        "import pandas as pd\n",
        "import random\n",
        "\n",
        "# Synthetic data generator\n",
        "\n",
        "if LANGUAGE == 'En':\n",
        "    from syntetic_data_En import DateTextGenerator \n",
        "\n",
        "if LANGUAGE == 'Pt':\n",
        "    from syntetic_data_Pt import DateTextGenerator \n",
        "\n",
        "# PyTorch\n",
        "import torch \n",
        "import torch.nn.functional as F\n",
        "from torch.utils.data import Dataset, DataLoader\n",
        "\n",
        "# Sklearn\n",
        "from sklearn.model_selection import train_test_split\n",
        "\n",
        "# Transformers\n",
        "from transformers import T5Tokenizer, T5ForConditionalGeneration, AdamW\n",
        "\n",
        "# Matplot lib\n",
        "import matplotlib.pyplot as plt"
      ],
      "execution_count": 0,
      "outputs": []
    },
    {
      "cell_type": "markdown",
      "metadata": {
        "id": "HhdTvVgiYBw0",
        "colab_type": "text"
      },
      "source": [
        "### Deterministic experiments"
      ]
    },
    {
      "cell_type": "code",
      "metadata": {
        "id": "zm7tAsiUYMOU",
        "colab_type": "code",
        "outputId": "d1ee4d11-83c5-45b2-f65b-a83e35e88df2",
        "colab": {
          "base_uri": "https://localhost:8080/",
          "height": 54
        }
      },
      "source": [
        "manual_seed = 2357 # only primes, cuz I like\n",
        "def deterministic(rep=True):\n",
        "    if rep:\n",
        "        np.random.seed(manual_seed)\n",
        "        torch.manual_seed(manual_seed)\n",
        "        if torch.cuda.is_available():\n",
        "            torch.cuda.manual_seed(manual_seed)\n",
        "            torch.cuda.manual_seed_all(manual_seed)\n",
        "        torch.backends.cudnn.enabled = False \n",
        "        torch.backends.cudnn.benchmark = False\n",
        "        torch.backends.cudnn.deterministic = True\n",
        "        print(f'Deterministic experiment, seed: {manual_seed}')\n",
        "    else:\n",
        "        print('Random experiment')\n",
        "\n",
        "deterministic()\n",
        "\n",
        "device = torch.device('cuda' if torch.cuda.is_available() else 'cpu')\n",
        "print(f'Using device: {device}')"
      ],
      "execution_count": 96,
      "outputs": [
        {
          "output_type": "stream",
          "text": [
            "Deterministic experiment, seed: 2357\n",
            "Using device: cuda\n"
          ],
          "name": "stdout"
        }
      ]
    },
    {
      "cell_type": "markdown",
      "metadata": {
        "id": "BFHYoyzwOHDO",
        "colab_type": "text"
      },
      "source": [
        "# Config constants"
      ]
    },
    {
      "cell_type": "code",
      "metadata": {
        "id": "8r8O913HOK9F",
        "colab_type": "code",
        "colab": {}
      },
      "source": [
        "# Model params\n",
        "MODEL_SZ = 't5-small' # 't5-base'\n",
        "TOK = T5Tokenizer.from_pretrained(MODEL_SZ)\n",
        "MAX_LEN_SRC  = 48\n",
        "MAX_LEN_TRGT = 12\n",
        "\n",
        "# Train params\n",
        "BATCH_SZ = 16\n",
        "N_EPOCHS = 3\n",
        "WINDOW   = 7"
      ],
      "execution_count": 0,
      "outputs": []
    },
    {
      "cell_type": "markdown",
      "metadata": {
        "id": "1yeoFiMYXe8Z",
        "colab_type": "text"
      },
      "source": [
        "# Dataset"
      ]
    },
    {
      "cell_type": "code",
      "metadata": {
        "id": "eZ52EJP6Fy5v",
        "colab_type": "code",
        "outputId": "0ac065ba-4a59-45e1-e5b5-80ef70d78951",
        "colab": {
          "base_uri": "https://localhost:8080/",
          "height": 1000
        }
      },
      "source": [
        "pd.set_option('display.max_rows',70)\n",
        "\n",
        "datas = DateTextGenerator(start_date='01/01/1921',\n",
        "                          end_date='31/12/2120',\n",
        "                          text_noise_rate=0.3)\n",
        "\n",
        "examples = datas.generate_demo(date='4/11/1983'); examples"
      ],
      "execution_count": 98,
      "outputs": [
        {
          "output_type": "execute_result",
          "data": {
            "text/html": [
              "<div>\n",
              "<style scoped>\n",
              "    .dataframe tbody tr th:only-of-type {\n",
              "        vertical-align: middle;\n",
              "    }\n",
              "\n",
              "    .dataframe tbody tr th {\n",
              "        vertical-align: top;\n",
              "    }\n",
              "\n",
              "    .dataframe thead th {\n",
              "        text-align: right;\n",
              "    }\n",
              "</style>\n",
              "<table border=\"1\" class=\"dataframe\">\n",
              "  <thead>\n",
              "    <tr style=\"text-align: right;\">\n",
              "      <th></th>\n",
              "      <th>Input Pattern</th>\n",
              "      <th>Generated Text</th>\n",
              "      <th>Origin Sample</th>\n",
              "    </tr>\n",
              "  </thead>\n",
              "  <tbody>\n",
              "    <tr>\n",
              "      <th>0</th>\n",
              "      <td>1</td>\n",
              "      <td>quatro de novembro de 1983</td>\n",
              "      <td>4/11/1983</td>\n",
              "    </tr>\n",
              "    <tr>\n",
              "      <th>1</th>\n",
              "      <td>2</td>\n",
              "      <td>quatro de nov de mil, novecentos e oitenta e três</td>\n",
              "      <td>4/11/1983</td>\n",
              "    </tr>\n",
              "    <tr>\n",
              "      <th>2</th>\n",
              "      <td>3</td>\n",
              "      <td>quatro de novembro de mil, novecentos e oitent...</td>\n",
              "      <td>4/11/1983</td>\n",
              "    </tr>\n",
              "    <tr>\n",
              "      <th>3</th>\n",
              "      <td>4</td>\n",
              "      <td>quarto dia do mês onze de mil, novecentos e oi...</td>\n",
              "      <td>4/11/1983</td>\n",
              "    </tr>\n",
              "    <tr>\n",
              "      <th>4</th>\n",
              "      <td>5</td>\n",
              "      <td>4 de Novembro de 1983</td>\n",
              "      <td>4/11/1983</td>\n",
              "    </tr>\n",
              "    <tr>\n",
              "      <th>5</th>\n",
              "      <td>6</td>\n",
              "      <td>4 de novembro de mil, novecentos e oitenta e três</td>\n",
              "      <td>4/11/1983</td>\n",
              "    </tr>\n",
              "    <tr>\n",
              "      <th>6</th>\n",
              "      <td>7</td>\n",
              "      <td>4-11 de mil, novecentos e oitenta e três</td>\n",
              "      <td>4/11/1983</td>\n",
              "    </tr>\n",
              "    <tr>\n",
              "      <th>7</th>\n",
              "      <td>8</td>\n",
              "      <td>quatro - 11 - 1983</td>\n",
              "      <td>4/11/1983</td>\n",
              "    </tr>\n",
              "    <tr>\n",
              "      <th>8</th>\n",
              "      <td>9</td>\n",
              "      <td>quatro de novembro - 1983</td>\n",
              "      <td>4/11/1983</td>\n",
              "    </tr>\n",
              "    <tr>\n",
              "      <th>9</th>\n",
              "      <td>10</td>\n",
              "      <td>4º de novembro de 1983</td>\n",
              "      <td>4/11/1983</td>\n",
              "    </tr>\n",
              "    <tr>\n",
              "      <th>10</th>\n",
              "      <td>11</td>\n",
              "      <td>4º - 11 - 1983</td>\n",
              "      <td>4/11/1983</td>\n",
              "    </tr>\n",
              "    <tr>\n",
              "      <th>11</th>\n",
              "      <td>12</td>\n",
              "      <td>4º / 11 / 1983</td>\n",
              "      <td>4/11/1983</td>\n",
              "    </tr>\n",
              "    <tr>\n",
              "      <th>12</th>\n",
              "      <td>13</td>\n",
              "      <td>4º / Novembro / 1983</td>\n",
              "      <td>4/11/1983</td>\n",
              "    </tr>\n",
              "    <tr>\n",
              "      <th>13</th>\n",
              "      <td>14</td>\n",
              "      <td>4 / novembro / 1983</td>\n",
              "      <td>4/11/1983</td>\n",
              "    </tr>\n",
              "    <tr>\n",
              "      <th>14</th>\n",
              "      <td>15</td>\n",
              "      <td>quatro novembro mil, novecentos e oitenta e três</td>\n",
              "      <td>4/11/1983</td>\n",
              "    </tr>\n",
              "    <tr>\n",
              "      <th>15</th>\n",
              "      <td>16</td>\n",
              "      <td>4 novembro mil, novecentos e oitenta e três</td>\n",
              "      <td>4/11/1983</td>\n",
              "    </tr>\n",
              "    <tr>\n",
              "      <th>16</th>\n",
              "      <td>17</td>\n",
              "      <td>4/11 mil, novecentos e oitenta e três</td>\n",
              "      <td>4/11/1983</td>\n",
              "    </tr>\n",
              "    <tr>\n",
              "      <th>17</th>\n",
              "      <td>18</td>\n",
              "      <td>4.11 mil, novecentos e oitenta e três</td>\n",
              "      <td>4/11/1983</td>\n",
              "    </tr>\n",
              "    <tr>\n",
              "      <th>18</th>\n",
              "      <td>19</td>\n",
              "      <td>4-11 mil, novecentos e oitenta e três</td>\n",
              "      <td>4/11/1983</td>\n",
              "    </tr>\n",
              "    <tr>\n",
              "      <th>19</th>\n",
              "      <td>20</td>\n",
              "      <td>quatro/novembro/mil, novecentos e oitenta e três</td>\n",
              "      <td>4/11/1983</td>\n",
              "    </tr>\n",
              "    <tr>\n",
              "      <th>20</th>\n",
              "      <td>21</td>\n",
              "      <td>4 do mês onze de 1983</td>\n",
              "      <td>4/11/1983</td>\n",
              "    </tr>\n",
              "    <tr>\n",
              "      <th>21</th>\n",
              "      <td>22</td>\n",
              "      <td>4-11-1983</td>\n",
              "      <td>4/11/1983</td>\n",
              "    </tr>\n",
              "    <tr>\n",
              "      <th>22</th>\n",
              "      <td>23</td>\n",
              "      <td>4 - 11 - 1983</td>\n",
              "      <td>4/11/1983</td>\n",
              "    </tr>\n",
              "    <tr>\n",
              "      <th>23</th>\n",
              "      <td>24</td>\n",
              "      <td>4-11-1983</td>\n",
              "      <td>4/11/1983</td>\n",
              "    </tr>\n",
              "    <tr>\n",
              "      <th>24</th>\n",
              "      <td>25</td>\n",
              "      <td>4 - 11 - 1983</td>\n",
              "      <td>4/11/1983</td>\n",
              "    </tr>\n",
              "    <tr>\n",
              "      <th>25</th>\n",
              "      <td>26</td>\n",
              "      <td>4-novembro-1983</td>\n",
              "      <td>4/11/1983</td>\n",
              "    </tr>\n",
              "    <tr>\n",
              "      <th>26</th>\n",
              "      <td>27</td>\n",
              "      <td>4 - novembro - 1983</td>\n",
              "      <td>4/11/1983</td>\n",
              "    </tr>\n",
              "    <tr>\n",
              "      <th>27</th>\n",
              "      <td>28</td>\n",
              "      <td>4-nov-1983</td>\n",
              "      <td>4/11/1983</td>\n",
              "    </tr>\n",
              "    <tr>\n",
              "      <th>28</th>\n",
              "      <td>29</td>\n",
              "      <td>4 - nov - 1983</td>\n",
              "      <td>4/11/1983</td>\n",
              "    </tr>\n",
              "    <tr>\n",
              "      <th>29</th>\n",
              "      <td>30</td>\n",
              "      <td>4.11.1983</td>\n",
              "      <td>4/11/1983</td>\n",
              "    </tr>\n",
              "    <tr>\n",
              "      <th>30</th>\n",
              "      <td>31</td>\n",
              "      <td>4 . 11 . 1983</td>\n",
              "      <td>4/11/1983</td>\n",
              "    </tr>\n",
              "    <tr>\n",
              "      <th>31</th>\n",
              "      <td>32</td>\n",
              "      <td>4.11.1983</td>\n",
              "      <td>4/11/1983</td>\n",
              "    </tr>\n",
              "    <tr>\n",
              "      <th>32</th>\n",
              "      <td>33</td>\n",
              "      <td>4 . 11 . 1983</td>\n",
              "      <td>4/11/1983</td>\n",
              "    </tr>\n",
              "    <tr>\n",
              "      <th>33</th>\n",
              "      <td>34</td>\n",
              "      <td>4.novembro.1983</td>\n",
              "      <td>4/11/1983</td>\n",
              "    </tr>\n",
              "    <tr>\n",
              "      <th>34</th>\n",
              "      <td>35</td>\n",
              "      <td>4 . novembro . 1983</td>\n",
              "      <td>4/11/1983</td>\n",
              "    </tr>\n",
              "    <tr>\n",
              "      <th>35</th>\n",
              "      <td>36</td>\n",
              "      <td>4.nov.1983</td>\n",
              "      <td>4/11/1983</td>\n",
              "    </tr>\n",
              "    <tr>\n",
              "      <th>36</th>\n",
              "      <td>37</td>\n",
              "      <td>4 . nov . 1983</td>\n",
              "      <td>4/11/1983</td>\n",
              "    </tr>\n",
              "    <tr>\n",
              "      <th>37</th>\n",
              "      <td>38</td>\n",
              "      <td>4/11/1983</td>\n",
              "      <td>4/11/1983</td>\n",
              "    </tr>\n",
              "    <tr>\n",
              "      <th>38</th>\n",
              "      <td>39</td>\n",
              "      <td>4 / 11 / 1983</td>\n",
              "      <td>4/11/1983</td>\n",
              "    </tr>\n",
              "    <tr>\n",
              "      <th>39</th>\n",
              "      <td>40</td>\n",
              "      <td>4/novembro/1983</td>\n",
              "      <td>4/11/1983</td>\n",
              "    </tr>\n",
              "    <tr>\n",
              "      <th>40</th>\n",
              "      <td>41</td>\n",
              "      <td>4 / novembro / 1983</td>\n",
              "      <td>4/11/1983</td>\n",
              "    </tr>\n",
              "    <tr>\n",
              "      <th>41</th>\n",
              "      <td>42</td>\n",
              "      <td>4/nov/1983</td>\n",
              "      <td>4/11/1983</td>\n",
              "    </tr>\n",
              "    <tr>\n",
              "      <th>42</th>\n",
              "      <td>43</td>\n",
              "      <td>4 / nov / 1983</td>\n",
              "      <td>4/11/1983</td>\n",
              "    </tr>\n",
              "    <tr>\n",
              "      <th>43</th>\n",
              "      <td>44</td>\n",
              "      <td>4/11/1983</td>\n",
              "      <td>4/11/1983</td>\n",
              "    </tr>\n",
              "    <tr>\n",
              "      <th>44</th>\n",
              "      <td>45</td>\n",
              "      <td>4 / 11 / 1983</td>\n",
              "      <td>4/11/1983</td>\n",
              "    </tr>\n",
              "  </tbody>\n",
              "</table>\n",
              "</div>"
            ],
            "text/plain": [
              "   Input Pattern  ... Origin Sample\n",
              "0              1  ...     4/11/1983\n",
              "1              2  ...     4/11/1983\n",
              "2              3  ...     4/11/1983\n",
              "3              4  ...     4/11/1983\n",
              "4              5  ...     4/11/1983\n",
              "5              6  ...     4/11/1983\n",
              "6              7  ...     4/11/1983\n",
              "7              8  ...     4/11/1983\n",
              "8              9  ...     4/11/1983\n",
              "9             10  ...     4/11/1983\n",
              "10            11  ...     4/11/1983\n",
              "11            12  ...     4/11/1983\n",
              "12            13  ...     4/11/1983\n",
              "13            14  ...     4/11/1983\n",
              "14            15  ...     4/11/1983\n",
              "15            16  ...     4/11/1983\n",
              "16            17  ...     4/11/1983\n",
              "17            18  ...     4/11/1983\n",
              "18            19  ...     4/11/1983\n",
              "19            20  ...     4/11/1983\n",
              "20            21  ...     4/11/1983\n",
              "21            22  ...     4/11/1983\n",
              "22            23  ...     4/11/1983\n",
              "23            24  ...     4/11/1983\n",
              "24            25  ...     4/11/1983\n",
              "25            26  ...     4/11/1983\n",
              "26            27  ...     4/11/1983\n",
              "27            28  ...     4/11/1983\n",
              "28            29  ...     4/11/1983\n",
              "29            30  ...     4/11/1983\n",
              "30            31  ...     4/11/1983\n",
              "31            32  ...     4/11/1983\n",
              "32            33  ...     4/11/1983\n",
              "33            34  ...     4/11/1983\n",
              "34            35  ...     4/11/1983\n",
              "35            36  ...     4/11/1983\n",
              "36            37  ...     4/11/1983\n",
              "37            38  ...     4/11/1983\n",
              "38            39  ...     4/11/1983\n",
              "39            40  ...     4/11/1983\n",
              "40            41  ...     4/11/1983\n",
              "41            42  ...     4/11/1983\n",
              "42            43  ...     4/11/1983\n",
              "43            44  ...     4/11/1983\n",
              "44            45  ...     4/11/1983\n",
              "\n",
              "[45 rows x 3 columns]"
            ]
          },
          "metadata": {
            "tags": []
          },
          "execution_count": 98
        }
      ]
    },
    {
      "cell_type": "code",
      "metadata": {
        "id": "OpMWc1TrNvKS",
        "colab_type": "code",
        "outputId": "ccf89f1b-861e-47cc-bb4b-38b38131c7d9",
        "colab": {
          "base_uri": "https://localhost:8080/",
          "height": 35
        }
      },
      "source": [
        "df = datas.generate_date_dataset() \n",
        "f'df: {df.shape}'"
      ],
      "execution_count": 99,
      "outputs": [
        {
          "output_type": "execute_result",
          "data": {
            "text/plain": [
              "'df: (73049, 4)'"
            ]
          },
          "metadata": {
            "tags": []
          },
          "execution_count": 99
        }
      ]
    },
    {
      "cell_type": "code",
      "metadata": {
        "id": "WdMrRLTELs-L",
        "colab_type": "code",
        "outputId": "3139c6ed-df44-4356-a32e-2ee7d655014f",
        "colab": {
          "base_uri": "https://localhost:8080/",
          "height": 198
        }
      },
      "source": [
        "df.head()"
      ],
      "execution_count": 102,
      "outputs": [
        {
          "output_type": "execute_result",
          "data": {
            "text/html": [
              "<div>\n",
              "<style scoped>\n",
              "    .dataframe tbody tr th:only-of-type {\n",
              "        vertical-align: middle;\n",
              "    }\n",
              "\n",
              "    .dataframe tbody tr th {\n",
              "        vertical-align: top;\n",
              "    }\n",
              "\n",
              "    .dataframe thead th {\n",
              "        text-align: right;\n",
              "    }\n",
              "</style>\n",
              "<table border=\"1\" class=\"dataframe\">\n",
              "  <thead>\n",
              "    <tr style=\"text-align: right;\">\n",
              "      <th></th>\n",
              "      <th>Input Pattern</th>\n",
              "      <th>Noise Type</th>\n",
              "      <th>Input</th>\n",
              "      <th>Target</th>\n",
              "    </tr>\n",
              "  </thead>\n",
              "  <tbody>\n",
              "    <tr>\n",
              "      <th>0</th>\n",
              "      <td>12</td>\n",
              "      <td>[unexpected_space_noise]</td>\n",
              "      <td>01 º / 01 / 1921</td>\n",
              "      <td>01/01/1921</td>\n",
              "    </tr>\n",
              "    <tr>\n",
              "      <th>1</th>\n",
              "      <td>15</td>\n",
              "      <td>[lookalike_replace_noise]</td>\n",
              "      <td>dois janeiro mii, noveçentos e vinte e um</td>\n",
              "      <td>02/01/1921</td>\n",
              "    </tr>\n",
              "    <tr>\n",
              "      <th>2</th>\n",
              "      <td>21</td>\n",
              "      <td>[unexpected_space_noise, remove_char_noise]</td>\n",
              "      <td>03 do mê u m de 192 1</td>\n",
              "      <td>03/01/1921</td>\n",
              "    </tr>\n",
              "    <tr>\n",
              "      <th>3</th>\n",
              "      <td>21</td>\n",
              "      <td>N/A</td>\n",
              "      <td>04 do mês um de 1921</td>\n",
              "      <td>04/01/1921</td>\n",
              "    </tr>\n",
              "    <tr>\n",
              "      <th>4</th>\n",
              "      <td>18</td>\n",
              "      <td>N/A</td>\n",
              "      <td>05.01 mil, novecentos e vinte e um</td>\n",
              "      <td>05/01/1921</td>\n",
              "    </tr>\n",
              "  </tbody>\n",
              "</table>\n",
              "</div>"
            ],
            "text/plain": [
              "   Input Pattern  ...      Target\n",
              "0             12  ...  01/01/1921\n",
              "1             15  ...  02/01/1921\n",
              "2             21  ...  03/01/1921\n",
              "3             21  ...  04/01/1921\n",
              "4             18  ...  05/01/1921\n",
              "\n",
              "[5 rows x 4 columns]"
            ]
          },
          "metadata": {
            "tags": []
          },
          "execution_count": 102
        }
      ]
    },
    {
      "cell_type": "markdown",
      "metadata": {
        "id": "Uif9PsFKRrxI",
        "colab_type": "text"
      },
      "source": [
        "## Function to split the dataset"
      ]
    },
    {
      "cell_type": "code",
      "metadata": {
        "id": "TfBx9nMkQ7Q8",
        "colab_type": "code",
        "outputId": "0d346f95-12d7-45f2-8aa1-22beea5fd229",
        "colab": {
          "base_uri": "https://localhost:8080/",
          "height": 126
        }
      },
      "source": [
        "def split_data(df, test_size=0.2, verbose=True):\n",
        "    l = list(set(df['Input Pattern'].values))\n",
        "    num_test = int(len(l)*test_size)\n",
        "    test_methods = [random.randint(1, len(l)) for _ in range(num_test)]\n",
        "    print(test_methods)\n",
        "    df_test = df[df['Input Pattern'].isin(test_methods)]\n",
        "    print(df_test.shape)\n",
        "    x_test = df_test.Input.values\n",
        "    y_test = df_test.Target.values\n",
        "\n",
        "    df_train = df[~df['Input Pattern'].isin(test_methods)]\n",
        "\n",
        "    x_train, x_val, y_train, y_val = train_test_split(\n",
        "        df_train.Input.values,\n",
        "        df_train.Target.values,\n",
        "        shuffle=True, \n",
        "        test_size=test_size,\n",
        "        random_state=manual_seed\n",
        "        )\n",
        "    if verbose:\n",
        "        print(f'Date types of test set: {test_methods} with len: {len(test_methods)}')\n",
        "        print(f'x_train: {len(x_train)}  --  y_train: {len(y_train)}\\n\\\n",
        "x_val:   {len(x_val)}  --  y_val:   {len(y_val)}\\n\\\n",
        "x_test:  {len(x_test)}  --  y_test:  {len(y_test)}')\n",
        "\n",
        "    return x_train, y_train, x_val, y_val, x_test, y_test\n",
        "\n",
        "# creating sets\n",
        "x_train, y_train, x_val, y_val, x_test, y_test = split_data(df, \n",
        "                                                            test_size=0.25, \n",
        "                                                            verbose=True)"
      ],
      "execution_count": 103,
      "outputs": [
        {
          "output_type": "stream",
          "text": [
            "[22, 13, 6, 23, 31, 6, 1, 15, 42, 24, 12]\n",
            "(16399, 4)\n",
            "Date types of test set: [22, 13, 6, 23, 31, 6, 1, 15, 42, 24, 12] with len: 11\n",
            "x_train: 42487  --  y_train: 42487\n",
            "x_val:   14163  --  y_val:   14163\n",
            "x_test:  16399  --  y_test:  16399\n"
          ],
          "name": "stdout"
        }
      ]
    },
    {
      "cell_type": "code",
      "metadata": {
        "id": "ygsMXnkCyrVZ",
        "colab_type": "code",
        "colab": {}
      },
      "source": [
        "class DateDataset(Dataset):\n",
        "    def __init__(self, data, label, tokenizer, source_max_length, target_max_length):\n",
        "        self.tokenizer = tokenizer\n",
        "        self.data = data\n",
        "        self.label = label\n",
        "        self.source_max_length = source_max_length\n",
        "        self.target_max_length = target_max_length\n",
        "        \n",
        "    def __len__(self):\n",
        "        return len(self.data)\n",
        "    \n",
        "    def __getitem__(self, idx):\n",
        "        source = self.data[idx]\n",
        "        target = self.label[idx]\n",
        "\n",
        "        source_tokenized = self.tokenizer.encode_plus(\n",
        "            f'{source} {self.tokenizer.eos_token}',\n",
        "            max_length=self.source_max_length,\n",
        "            pad_to_max_length=True,\n",
        "            return_tensors='pt')\n",
        "\n",
        "        target_tokenized = self.tokenizer.encode_plus(\n",
        "            f'{target} {self.tokenizer.eos_token}',\n",
        "            max_length=self.target_max_length,\n",
        "            pad_to_max_length=True,\n",
        "            return_tensors='pt')\n",
        "\n",
        "        source_token_ids = source_tokenized['input_ids'].squeeze()\n",
        "        source_mask = source_tokenized['attention_mask'].squeeze()\n",
        "        target_token_ids = target_tokenized['input_ids'].squeeze()\n",
        "        \n",
        "        return source_token_ids, source_mask, target_token_ids"
      ],
      "execution_count": 0,
      "outputs": []
    },
    {
      "cell_type": "markdown",
      "metadata": {
        "id": "cloyt0tIwIiD",
        "colab_type": "text"
      },
      "source": [
        "## Checking the DateDataset class"
      ]
    },
    {
      "cell_type": "code",
      "metadata": {
        "id": "ZoKiQXCvwGrP",
        "colab_type": "code",
        "outputId": "6a251754-7e3f-4355-cf3d-6372d65a3bba",
        "colab": {
          "base_uri": "https://localhost:8080/",
          "height": 235
        }
      },
      "source": [
        "dataset_debug = DateDataset(\n",
        "    x_train, \n",
        "    y_train,\n",
        "    TOK,\n",
        "    MAX_LEN_SRC,\n",
        "    MAX_LEN_TRGT,\n",
        "    )\n",
        "\n",
        "dataloader_checking = DataLoader(\n",
        "    dataset_debug, \n",
        "    batch_size=1, \n",
        "    shuffle=True, \n",
        "    num_workers=0\n",
        "    )\n",
        "\n",
        "source_token_ids, source_mask, target_token_ids = next(iter(dataloader_checking))\n",
        "print(f'source_token_ids:\\n {source_token_ids} --- shape:{source_token_ids.shape}')\n",
        "print(f'source_mask:\\n {source_mask} --- shape:{source_mask.shape}')\n",
        "print(f'target_token_ids:\\n {target_token_ids} --- shape:{target_token_ids.shape}')"
      ],
      "execution_count": 105,
      "outputs": [
        {
          "output_type": "stream",
          "text": [
            "source_token_ids:\n",
            " tensor([[ 1003,    87,   354,    83,   107,    32, 13523,  4853,     1,     0,\n",
            "             0,     0,     0,     0,     0,     0,     0,     0,     0,     0,\n",
            "             0,     0,     0,     0,     0,     0,     0,     0,     0,     0,\n",
            "             0,     0,     0,     0,     0,     0,     0,     0,     0,     0,\n",
            "             0,     0,     0,     0,     0,     0,     0,     0]]) --- shape:torch.Size([1, 48])\n",
            "source_mask:\n",
            " tensor([[1, 1, 1, 1, 1, 1, 1, 1, 1, 0, 0, 0, 0, 0, 0, 0, 0, 0, 0, 0, 0, 0, 0, 0,\n",
            "         0, 0, 0, 0, 0, 0, 0, 0, 0, 0, 0, 0, 0, 0, 0, 0, 0, 0, 0, 0, 0, 0, 0, 0]]) --- shape:torch.Size([1, 48])\n",
            "target_token_ids:\n",
            " tensor([[ 1003,    87,  4560, 13523,  4853,     1,     0,     0,     0,     0,\n",
            "             0,     0]]) --- shape:torch.Size([1, 12])\n"
          ],
          "name": "stdout"
        }
      ]
    },
    {
      "cell_type": "markdown",
      "metadata": {
        "id": "dG1O12UoWYaM",
        "colab_type": "text"
      },
      "source": [
        "## Datasets e Dataloaders"
      ]
    },
    {
      "cell_type": "code",
      "metadata": {
        "id": "s7AlRyeOW8GN",
        "colab_type": "code",
        "outputId": "d6dc9484-0ab3-4d81-9f98-4c9bbae6d14a",
        "colab": {
          "base_uri": "https://localhost:8080/",
          "height": 163
        }
      },
      "source": [
        "# datasets\n",
        "ds_debug = DateDataset(x_train[:BATCH_SZ], y_train[:BATCH_SZ], TOK, MAX_LEN_SRC, MAX_LEN_TRGT)\n",
        "ds_train = DateDataset(x_train, y_train, TOK, MAX_LEN_SRC, MAX_LEN_TRGT)\n",
        "ds_valid = DateDataset(x_val, y_val, TOK, MAX_LEN_SRC, MAX_LEN_TRGT)\n",
        "ds_test  = DateDataset(x_test, y_test, TOK, MAX_LEN_SRC, MAX_LEN_TRGT)\n",
        "\n",
        "print('Datasets len:')\n",
        "print(f'len ds_debug: {len(ds_debug)}')\n",
        "print(f'len ds_train: {len(ds_train)}')\n",
        "print(f'len ds_valid: {len(ds_valid)}')\n",
        "print(f'len ds_test:  {len(ds_test)}')\n",
        "\n",
        "# dataloaders\n",
        "dataloaders = {\n",
        "    'debug': DataLoader(\n",
        "         ds_debug,\n",
        "         batch_size=BATCH_SZ,\n",
        "         shuffle=True,\n",
        "         num_workers=2,\n",
        "         pin_memory=True),\n",
        "    'train': DataLoader(\n",
        "         ds_train,\n",
        "         batch_size=BATCH_SZ,\n",
        "         shuffle=True,\n",
        "         num_workers=2,\n",
        "         pin_memory=True),\n",
        "    'valid': DataLoader(\n",
        "         ds_valid,\n",
        "         batch_size=BATCH_SZ,\n",
        "         shuffle=False,\n",
        "         num_workers=2,\n",
        "         pin_memory=True),\n",
        "    'test': DataLoader(\n",
        "         ds_test,\n",
        "         batch_size=BATCH_SZ,\n",
        "         shuffle=False,\n",
        "         num_workers=2,\n",
        "         pin_memory=True),\n",
        "               }\n",
        "# sanity check\n",
        "print('\\nDataloaders len (in batch):')\n",
        "dl_sizes = {x: len(dataloaders[x]) for x in dataloaders.keys()}; dl_sizes"
      ],
      "execution_count": 106,
      "outputs": [
        {
          "output_type": "stream",
          "text": [
            "Datasets len:\n",
            "len ds_debug: 16\n",
            "len ds_train: 42487\n",
            "len ds_valid: 14163\n",
            "len ds_test:  16399\n",
            "\n",
            "Dataloaders len (in batch):\n"
          ],
          "name": "stdout"
        },
        {
          "output_type": "execute_result",
          "data": {
            "text/plain": [
              "{'debug': 1, 'test': 1025, 'train': 2656, 'valid': 886}"
            ]
          },
          "metadata": {
            "tags": []
          },
          "execution_count": 106
        }
      ]
    },
    {
      "cell_type": "code",
      "metadata": {
        "id": "x3rqg6r7am-N",
        "colab_type": "code",
        "colab": {}
      },
      "source": [
        "# testando o dataloader \n",
        "source_token_ids, source_mask, target_token_ids = next(iter(dataloaders['debug']))"
      ],
      "execution_count": 0,
      "outputs": []
    },
    {
      "cell_type": "code",
      "metadata": {
        "id": "Wb4AnOJzBXK7",
        "colab_type": "code",
        "colab": {}
      },
      "source": [
        "class Net(torch.nn.Module):\n",
        "    def __init__(self):\n",
        "        super(Net, self).__init__()\n",
        "        self.model = T5ForConditionalGeneration.from_pretrained(MODEL_SZ)\n",
        "    \n",
        "    def forward(self, token_ids, att_mask, labels):\n",
        "        outputs = self.model.forward(\n",
        "            input_ids=token_ids, \n",
        "            attention_mask=att_mask,\n",
        "            lm_labels=labels\n",
        "            )\n",
        "        return outputs[0] # loss\n",
        "    \n",
        "    @torch.no_grad()    \n",
        "    def generate(self, token_ids, att_mask, max_len_target):\n",
        "        predict = self.model.generate(\n",
        "            input_ids=token_ids, \n",
        "            attention_mask=att_mask,\n",
        "            max_length=max_len_target\n",
        "            )\n",
        "        return predict\n",
        "    \n",
        "    @torch.no_grad()  \n",
        "    def generate_example(self, text_input, tokenizer, max_len_source=MAX_LEN_SRC):\n",
        "\n",
        "        self.model.eval()\n",
        "        \n",
        "        example_tokenized = tokenizer.encode_plus(\n",
        "            f'{text_input} {tokenizer.eos_token}',\n",
        "            max_length=max_len_source,\n",
        "            pad_to_max_length=True,\n",
        "            return_tensors='pt')\n",
        "            \n",
        "        example_token_ids = example_tokenized['input_ids']\n",
        "        example_mask = example_tokenized['attention_mask']\n",
        "\n",
        "        predicted_example = self.model.generate(\n",
        "            input_ids=example_token_ids.to(device), \n",
        "            attention_mask=example_mask.to(device),\n",
        "            max_length=MAX_LEN_TRGT\n",
        "            )\n",
        "\n",
        "        self.model.train()\n",
        "\n",
        "        out_text = [tokenizer.decode(text) for text in predicted_example]\n",
        "        \n",
        "        return out_text"
      ],
      "execution_count": 0,
      "outputs": []
    },
    {
      "cell_type": "markdown",
      "metadata": {
        "id": "tq9AMCaNuWMU",
        "colab_type": "text"
      },
      "source": [
        "## Train and evaluation functions"
      ]
    },
    {
      "cell_type": "code",
      "metadata": {
        "id": "5X6hklAUXxGD",
        "colab_type": "code",
        "colab": {}
      },
      "source": [
        "# acc metric for text inputs\n",
        "def acc_in_text(trues, preds): \n",
        "    acc = []\n",
        "    for d in zip(trues, preds):\n",
        "        if d[0] == d[1]:\n",
        "            acc.append(1)\n",
        "        else:\n",
        "            acc.append(0)\n",
        "    return acc # bool\n",
        "\n",
        "def train(model, device, train_loader, optimizer):\n",
        "    loss_train = []\n",
        "    model.train()\n",
        "    for source_token_ids, source_mask, target_token_ids in train_loader:\n",
        "        optimizer.zero_grad()\n",
        "        loss = model(\n",
        "            source_token_ids.to(device), \n",
        "            source_mask.to(device), \n",
        "            target_token_ids.to(device)\n",
        "            )\n",
        "        \n",
        "        loss_train.append(loss.item())\n",
        "        loss.backward()\n",
        "        optimizer.step()\n",
        "    \n",
        "    train_losses = sum(loss_train) / len(loss_train)\n",
        "  \n",
        "    return train_losses\n",
        "\n",
        "def evaluate_fn(model, device, val_loader, max_len=MAX_LEN_TRGT):\n",
        "    loss_val, all_acc, all_preds, all_trues = [], [], [], []\n",
        "    model.eval()\n",
        "    for source_token_ids, source_mask, target_token_ids in val_loader:\n",
        "        predicted_ids = model.generate(\n",
        "            source_token_ids.to(device), \n",
        "            source_mask.to(device),\n",
        "            max_len\n",
        "            )\n",
        "        \n",
        "        preds = [TOK.decode(t) for t in predicted_ids]\n",
        "        trues = [TOK.decode(t) for t in target_token_ids]\n",
        "        acc = acc_in_text(trues, preds)\n",
        "        all_acc.extend(acc)\n",
        "        all_trues.extend(trues)\n",
        "        all_preds.extend(preds)\n",
        "        \n",
        "        # val loss   \n",
        "        loss = model(\n",
        "        source_token_ids.to(device), \n",
        "        source_mask.to(device), \n",
        "        target_token_ids.to(device)\n",
        "        )\n",
        "        loss_val.append(loss.item())\n",
        "    \n",
        "    val_losses = sum(loss_val) / len(loss_val)\n",
        "    \n",
        "    return val_losses, np.array(all_acc).mean(), all_trues, all_preds"
      ],
      "execution_count": 0,
      "outputs": []
    },
    {
      "cell_type": "markdown",
      "metadata": {
        "id": "pirS1mecELqp",
        "colab_type": "text"
      },
      "source": [
        "# Overfit in one batch \n",
        "- dataloader debug"
      ]
    },
    {
      "cell_type": "code",
      "metadata": {
        "id": "R2PxRYyfn_UO",
        "colab_type": "code",
        "colab": {}
      },
      "source": [
        "overfit = False\n",
        "\n",
        "if overfit:\n",
        "\n",
        "    start = torch.cuda.Event(enable_timing=True)\n",
        "    end = torch.cuda.Event(enable_timing=True)\n",
        "    deterministic() \n",
        "\n",
        "    model = Net().to(device)\n",
        "    optimizer = torch.optim.AdamW(model.parameters(), lr=5e-5)\n",
        "    \n",
        "    # -----------------------------------------------------------------------------\n",
        "    start.record()\n",
        "    for step in range(1, 1001):\n",
        "        samp = random.randint(0, BATCH_SZ-WINDOW) # to show random trues and preds\n",
        "        loss_t = train(model, device, dataloaders['debug'], optimizer)\n",
        "        acc, trues, preds = evaluate_fn(model, device, dataloaders['debug'])\n",
        "        if step == 1:\n",
        "            print(f'[Epoch: {step}/{1000}] |', end=' ')\n",
        "            print(f'Train Loss: {loss_t:.3f} -- Acc: {acc:.3f}')\n",
        "        if step % 100 == 0:\n",
        "            print(f'[Epoch: {step}/{1000}] |', end=' ')\n",
        "            print(f'Train Loss: {loss_t:.3f} -- Acc: {acc:.3f}')\n",
        "            print(f'  Trues: {trues[samp:samp+WINDOW]}\\n  Preds: {preds[samp:samp+WINDOW]}')\n",
        "    end.record()\n",
        "    torch.cuda.synchronize()    \n",
        "    # -----------------------------------------------------------------------------\n",
        "\n",
        "    print(f'Training time: {start.elapsed_time(end)/1000/60 :.3f} min.')\n",
        "    del model"
      ],
      "execution_count": 0,
      "outputs": []
    },
    {
      "cell_type": "markdown",
      "metadata": {
        "id": "wQC8YJ8PT7-0",
        "colab_type": "text"
      },
      "source": [
        "# Training "
      ]
    },
    {
      "cell_type": "code",
      "metadata": {
        "id": "dNtIb8b4Q4lC",
        "colab_type": "code",
        "outputId": "12c7aafb-c056-4e59-86a0-16e0a066c241",
        "colab": {
          "base_uri": "https://localhost:8080/",
          "height": 217
        }
      },
      "source": [
        "# del model\n",
        "start = torch.cuda.Event(enable_timing=True)\n",
        "end = torch.cuda.Event(enable_timing=True)\n",
        "deterministic() \n",
        "\n",
        "model = Net().to(device)\n",
        "optimizer = torch.optim.AdamW(model.parameters(), lr=5e-5)\n",
        "\n",
        "# ---------------------------------------------------------------------------------\n",
        "start.record()\n",
        "for step in range(1, N_EPOCHS+1):\n",
        "    samp = random.randint(0, BATCH_SZ-WINDOW) # to show random trues and preds\n",
        "    loss_t = train(model, device, dataloaders['train'], optimizer)\n",
        "    loss_v, acc, trues, preds = evaluate_fn(model, device, dataloaders['valid'])\n",
        "    print(f'[Epoch: {step}/{N_EPOCHS}] |', end=' ')\n",
        "    print(f'Train Loss: {loss_t:.3f} -- Valid Loss: {loss_v:.3f} -- Acc: {acc:.3f}')\n",
        "    print(f'  Trues: {trues[samp:samp+WINDOW]}\\n  Preds: {preds[samp:samp+WINDOW]}')\n",
        "\n",
        "end.record()\n",
        "torch.cuda.synchronize()    \n",
        "# ---------------------------------------------------------------------------------\n",
        "\n",
        "print(f'Training time: {start.elapsed_time(end)/1000/60 :.3f} min.')"
      ],
      "execution_count": 111,
      "outputs": [
        {
          "output_type": "stream",
          "text": [
            "Deterministic experiment, seed: 2357\n",
            "[Epoch: 1/3] | Train Loss: 0.434 -- Valid Loss: 0.096 -- Acc: 0.793\n",
            "  Trues: ['19/03/2090', '20/12/1978', '05/07/2077', '03/06/2081', '31/10/2066', '14/08/2057', '13/12/2058']\n",
            "  Preds: ['19/03/2090', '20/12/1978', '05/07/2077', '03/06/2081', '31/10/2066', '14/08/2077', '13/12/2058']\n",
            "[Epoch: 2/3] | Train Loss: 0.105 -- Valid Loss: 0.052 -- Acc: 0.878\n",
            "  Trues: ['30/05/2113', '24/07/1941', '27/11/1962', '05/12/2048', '09/11/2005', '05/11/1922', '24/03/2091']\n",
            "  Preds: ['30/05/2113', '24/07/1941', '07/11/1962', '05/12/2048', '09/11/2005', '05/11/1922', '24/03/2041']\n",
            "[Epoch: 3/3] | Train Loss: 0.067 -- Valid Loss: 0.039 -- Acc: 0.900\n",
            "  Trues: ['24/07/1941', '27/11/1962', '05/12/2048', '09/11/2005', '05/11/1922', '24/03/2091', '28/07/2090']\n",
            "  Preds: ['24/07/1941', '07/11/1962', '05/12/2048', '09/11/2005', '05/11/1922', '24/03/2001', '28/07/2090']\n",
            "Training time: 12.726 min.\n"
          ],
          "name": "stdout"
        }
      ]
    },
    {
      "cell_type": "markdown",
      "metadata": {
        "id": "GWAhh3gOgg2c",
        "colab_type": "text"
      },
      "source": [
        "# Test"
      ]
    },
    {
      "cell_type": "code",
      "metadata": {
        "id": "RfRFVIBSgiau",
        "colab_type": "code",
        "outputId": "2012451e-6a69-4934-bc42-ec4367503404",
        "colab": {
          "base_uri": "https://localhost:8080/",
          "height": 90
        }
      },
      "source": [
        "# ---------------------------------------------------------------------------------\n",
        "start.record()\n",
        "\n",
        "samp = random.randint(0, BATCH_SZ-WINDOW) # to show random trues and preds\n",
        "loss, acc, trues, preds = evaluate_fn(model, device, dataloaders['test'])\n",
        "print(f'Loss: {loss:.3f} -- Acc: {acc:.3f}')\n",
        "print(f' Trues: {trues[samp:samp+WINDOW]}\\n  Preds: {preds[samp:samp+WINDOW]}')\n",
        "\n",
        "end.record()\n",
        "torch.cuda.synchronize()    \n",
        "# ---------------------------------------------------------------------------------\n",
        "\n",
        "print(f'Test time: {start.elapsed_time(end)/1000/60 :.3f} min.')"
      ],
      "execution_count": 112,
      "outputs": [
        {
          "output_type": "stream",
          "text": [
            "Loss: 0.046 -- Acc: 0.888\n",
            " Trues: ['22/02/1921', '24/02/1921', '26/02/1921', '10/03/1921', '13/03/1921', '19/03/1921', '20/03/1921']\n",
            "  Preds: ['22/02/1921', '24/02/1921', '26/02/1921', '10/03/1921', '13/03/1921', '19/03/1921', '20/03/1921']\n",
            "Test time: 1.509 min.\n"
          ],
          "name": "stdout"
        }
      ]
    },
    {
      "cell_type": "markdown",
      "metadata": {
        "id": "CzVjYAkNGVxJ",
        "colab_type": "text"
      },
      "source": [
        "# Evaluating types for a same date\n",
        "\n",
        "Given a sample date, this section evaluates wich is the accuracy.\n",
        "\n",
        "\n"
      ]
    },
    {
      "cell_type": "code",
      "metadata": {
        "id": "DixMx530hPg5",
        "colab_type": "code",
        "colab": {}
      },
      "source": [
        "def evaluate_for_a_same_date(date,model=model,tokenizer=TOK,verbose=True):\n",
        "  '''\n",
        "    Given a specific date, returns the accuracy in all evalueated types.\n",
        "    Also prints results per sample.\n",
        "  '''\n",
        "\n",
        "  results = []\n",
        "  \n",
        "  examples = datas.generate_demo(date=date)\n",
        "\n",
        "  for x,target in zip(examples['Generated Text'],examples['Origin Sample']):\n",
        "\n",
        "    prediction = model.generate_example(x,TOK)[0]\n",
        "\n",
        "    results.append(prediction == target)\n",
        "\n",
        "    if verbose:\n",
        "      print(f'Entrada: {x} -- Target: {target} --- Previsto: {prediction} --- {prediction == target}')\n",
        "\n",
        "  if verbose:\n",
        "    print(f'Total accuracy: {np.mean(results)}')\n",
        "\n",
        "  return np.mean(results)\n"
      ],
      "execution_count": 0,
      "outputs": []
    },
    {
      "cell_type": "code",
      "metadata": {
        "id": "hlmH30k9iBKC",
        "colab_type": "code",
        "outputId": "df83a673-32d8-4ff4-c932-5b975d6bde1a",
        "colab": {
          "base_uri": "https://localhost:8080/",
          "height": 872
        }
      },
      "source": [
        "'''\n",
        "  A date in the century with more dates occuring\n",
        "'''\n",
        "evaluate_for_a_same_date('11/07/1988')"
      ],
      "execution_count": 114,
      "outputs": [
        {
          "output_type": "stream",
          "text": [
            "Entrada: onze de julho de 1988 -- Target: 11/07/1988 --- Previsto: 11/07/1988 --- True\n",
            "Entrada: onze de jul de mil, novecentos e oitenta e oito -- Target: 11/07/1988 --- Previsto: 11/07/1988 --- True\n",
            "Entrada: onze de julho de mil, novecentos e oitenta e oito -- Target: 11/07/1988 --- Previsto: 11/07/1988 --- True\n",
            "Entrada: décimo primeiro dia do mês sete de mil, novecentos e oitenta e oito -- Target: 11/07/1988 --- Previsto: 11/07/1988 --- True\n",
            "Entrada: 11 de Julho de 1988 -- Target: 11/07/1988 --- Previsto: 11/07/1988 --- True\n",
            "Entrada: 11 de julho de mil, novecentos e oitenta e oito -- Target: 11/07/1988 --- Previsto: 11/07/1988 --- True\n",
            "Entrada: 11-07 de mil, novecentos e oitenta e oito -- Target: 11/07/1988 --- Previsto: 11/07/1988 --- True\n",
            "Entrada: onze - 07 - 1988 -- Target: 11/07/1988 --- Previsto: 11/07/1988 --- True\n",
            "Entrada: onze de julho - 1988 -- Target: 11/07/1988 --- Previsto: 11/07/1988 --- True\n",
            "Entrada: 11º de julho de 1988 -- Target: 11/07/1988 --- Previsto: 11/07/1988 --- True\n",
            "Entrada: 11º - 07 - 1988 -- Target: 11/07/1988 --- Previsto: 11/07/1988 --- True\n",
            "Entrada: 11º / 07 / 1988 -- Target: 11/07/1988 --- Previsto: 11/07/1988 --- True\n",
            "Entrada: 11º / Julho / 1988 -- Target: 11/07/1988 --- Previsto: 11/07/1988 --- True\n",
            "Entrada: 11 / julho / 1988 -- Target: 11/07/1988 --- Previsto: 11/07/1988 --- True\n",
            "Entrada: onze julho mil, novecentos e oitenta e oito -- Target: 11/07/1988 --- Previsto: 11/07/1988 --- True\n",
            "Entrada: 11 julho mil, novecentos e oitenta e oito -- Target: 11/07/1988 --- Previsto: 11/07/1988 --- True\n",
            "Entrada: 11/07 mil, novecentos e oitenta e oito -- Target: 11/07/1988 --- Previsto: 11/07/1988 --- True\n",
            "Entrada: 11.07 mil, novecentos e oitenta e oito -- Target: 11/07/1988 --- Previsto: 11/07/1988 --- True\n",
            "Entrada: 11-07 mil, novecentos e oitenta e oito -- Target: 11/07/1988 --- Previsto: 11/07/1988 --- True\n",
            "Entrada: onze/julho/mil, novecentos e oitenta e oito -- Target: 11/07/1988 --- Previsto: 11/07/1988 --- True\n",
            "Entrada: 11 do mês sete de 1988 -- Target: 11/07/1988 --- Previsto: 11/07/1988 --- True\n",
            "Entrada: 11-7-1988 -- Target: 11/07/1988 --- Previsto: 11/07/1988 --- True\n",
            "Entrada: 11 - 7 - 1988 -- Target: 11/07/1988 --- Previsto: 11/07/1988 --- True\n",
            "Entrada: 11-07-1988 -- Target: 11/07/1988 --- Previsto: 11/07/1988 --- True\n",
            "Entrada: 11 - 07 - 1988 -- Target: 11/07/1988 --- Previsto: 11/07/1988 --- True\n",
            "Entrada: 11-julho-1988 -- Target: 11/07/1988 --- Previsto: 11/07/1988 --- True\n",
            "Entrada: 11 - julho - 1988 -- Target: 11/07/1988 --- Previsto: 11/07/1988 --- True\n",
            "Entrada: 11-jul-1988 -- Target: 11/07/1988 --- Previsto: 11/07/1988 --- True\n",
            "Entrada: 11 - jul - 1988 -- Target: 11/07/1988 --- Previsto: 11/07/1988 --- True\n",
            "Entrada: 11.7.1988 -- Target: 11/07/1988 --- Previsto: 11/07/1988 --- True\n",
            "Entrada: 11 . 7 . 1988 -- Target: 11/07/1988 --- Previsto: 11/07/1988 --- True\n",
            "Entrada: 11.07.1988 -- Target: 11/07/1988 --- Previsto: 11/07/1988 --- True\n",
            "Entrada: 11 . 07 . 1988 -- Target: 11/07/1988 --- Previsto: 11/07/1988 --- True\n",
            "Entrada: 11.julho.1988 -- Target: 11/07/1988 --- Previsto: 11/07/1988 --- True\n",
            "Entrada: 11 . julho . 1988 -- Target: 11/07/1988 --- Previsto: 11/07/1988 --- True\n",
            "Entrada: 11.jul.1988 -- Target: 11/07/1988 --- Previsto: 11/07/1988 --- True\n",
            "Entrada: 11 . jul . 1988 -- Target: 11/07/1988 --- Previsto: 11/07/1988 --- True\n",
            "Entrada: 11/07/1988 -- Target: 11/07/1988 --- Previsto: 11/07/1988 --- True\n",
            "Entrada: 11 / 07 / 1988 -- Target: 11/07/1988 --- Previsto: 11/07/1988 --- True\n",
            "Entrada: 11/julho/1988 -- Target: 11/07/1988 --- Previsto: 11/07/1988 --- True\n",
            "Entrada: 11 / julho / 1988 -- Target: 11/07/1988 --- Previsto: 11/07/1988 --- True\n",
            "Entrada: 11/jul/1988 -- Target: 11/07/1988 --- Previsto: 11/07/1988 --- True\n",
            "Entrada: 11 / jul / 1988 -- Target: 11/07/1988 --- Previsto: 11/07/1988 --- True\n",
            "Entrada: 11/7/1988 -- Target: 11/07/1988 --- Previsto: 11/07/1988 --- True\n",
            "Entrada: 11 / 7 / 1988 -- Target: 11/07/1988 --- Previsto: 11/07/1988 --- True\n",
            "Total accuracy: 1.0\n"
          ],
          "name": "stdout"
        },
        {
          "output_type": "execute_result",
          "data": {
            "text/plain": [
              "1.0"
            ]
          },
          "metadata": {
            "tags": []
          },
          "execution_count": 114
        }
      ]
    },
    {
      "cell_type": "code",
      "metadata": {
        "id": "qZr2RlmzcjLV",
        "colab_type": "code",
        "outputId": "18640443-acea-4e97-af44-e4b909cd078b",
        "colab": {
          "base_uri": "https://localhost:8080/",
          "height": 872
        }
      },
      "source": [
        "'''\n",
        "  A date in a century with less dates occurring, but that is inside the\n",
        "  generated dataset\n",
        "'''\n",
        "evaluate_for_a_same_date('20/12/2015')"
      ],
      "execution_count": 115,
      "outputs": [
        {
          "output_type": "stream",
          "text": [
            "Entrada: vinte de dezembro de 2015 -- Target: 20/12/2015 --- Previsto: 20/12/2015 --- True\n",
            "Entrada: vinte de dez de dois mil e quinze -- Target: 20/12/2015 --- Previsto: 20/12/2015 --- True\n",
            "Entrada: vinte de dezembro de dois mil e quinze -- Target: 20/12/2015 --- Previsto: 20/12/2015 --- True\n",
            "Entrada: vigésimo dia do mês doze de dois mil e quinze -- Target: 20/12/2015 --- Previsto: 20/12/2015 --- True\n",
            "Entrada: 20 de Dezembro de 2015 -- Target: 20/12/2015 --- Previsto: 20/12/2015 --- True\n",
            "Entrada: 20 de dezembro de dois mil e quinze -- Target: 20/12/2015 --- Previsto: 20/12/2015 --- True\n",
            "Entrada: 20-12 de dois mil e quinze -- Target: 20/12/2015 --- Previsto: 20/12/2015 --- True\n",
            "Entrada: vinte - 12 - 2015 -- Target: 20/12/2015 --- Previsto: 20/12/2015 --- True\n",
            "Entrada: vinte de dezembro - 2015 -- Target: 20/12/2015 --- Previsto: 20/12/2015 --- True\n",
            "Entrada: 20º de dezembro de 2015 -- Target: 20/12/2015 --- Previsto: 20/12/2015 --- True\n",
            "Entrada: 20º - 12 - 2015 -- Target: 20/12/2015 --- Previsto: 20/12/2015 --- True\n",
            "Entrada: 20º / 12 / 2015 -- Target: 20/12/2015 --- Previsto: 20/12/2015 --- True\n",
            "Entrada: 20º / Dezembro / 2015 -- Target: 20/12/2015 --- Previsto: 20/12/2015 --- True\n",
            "Entrada: 20 / dezembro / 2015 -- Target: 20/12/2015 --- Previsto: 20/12/2015 --- True\n",
            "Entrada: vinte dezembro dois mil e quinze -- Target: 20/12/2015 --- Previsto: 20/12/2015 --- True\n",
            "Entrada: 20 dezembro dois mil e quinze -- Target: 20/12/2015 --- Previsto: 20/12/2015 --- True\n",
            "Entrada: 20/12 dois mil e quinze -- Target: 20/12/2015 --- Previsto: 20/12/2015 --- True\n",
            "Entrada: 20.12 dois mil e quinze -- Target: 20/12/2015 --- Previsto: 20/12/2015 --- True\n",
            "Entrada: 20-12 dois mil e quinze -- Target: 20/12/2015 --- Previsto: 20/12/2015 --- True\n",
            "Entrada: vinte/dezembro/dois mil e quinze -- Target: 20/12/2015 --- Previsto: 20/12/2015 --- True\n",
            "Entrada: 20 do mês doze de 2015 -- Target: 20/12/2015 --- Previsto: 20/12/2015 --- True\n",
            "Entrada: 20-12-2015 -- Target: 20/12/2015 --- Previsto: 20/12/2015 --- True\n",
            "Entrada: 20 - 12 - 2015 -- Target: 20/12/2015 --- Previsto: 20/12/2015 --- True\n",
            "Entrada: 20-12-2015 -- Target: 20/12/2015 --- Previsto: 20/12/2015 --- True\n",
            "Entrada: 20 - 12 - 2015 -- Target: 20/12/2015 --- Previsto: 20/12/2015 --- True\n",
            "Entrada: 20-dezembro-2015 -- Target: 20/12/2015 --- Previsto: 20/12/2015 --- True\n",
            "Entrada: 20 - dezembro - 2015 -- Target: 20/12/2015 --- Previsto: 20/12/2015 --- True\n",
            "Entrada: 20-dez-2015 -- Target: 20/12/2015 --- Previsto: 20/12/2015 --- True\n",
            "Entrada: 20 - dez - 2015 -- Target: 20/12/2015 --- Previsto: 20/12/2015 --- True\n",
            "Entrada: 20.12.2015 -- Target: 20/12/2015 --- Previsto: 20/12/2015 --- True\n",
            "Entrada: 20 . 12 . 2015 -- Target: 20/12/2015 --- Previsto: 20/12/2015 --- True\n",
            "Entrada: 20.12.2015 -- Target: 20/12/2015 --- Previsto: 20/12/2015 --- True\n",
            "Entrada: 20 . 12 . 2015 -- Target: 20/12/2015 --- Previsto: 20/12/2015 --- True\n",
            "Entrada: 20.dezembro.2015 -- Target: 20/12/2015 --- Previsto: 20/12/2015 --- True\n",
            "Entrada: 20 . dezembro . 2015 -- Target: 20/12/2015 --- Previsto: 20/12/2015 --- True\n",
            "Entrada: 20.dez.2015 -- Target: 20/12/2015 --- Previsto: 20/12/2015 --- True\n",
            "Entrada: 20 . dez . 2015 -- Target: 20/12/2015 --- Previsto: 20/12/2015 --- True\n",
            "Entrada: 20/12/2015 -- Target: 20/12/2015 --- Previsto: 20/12/2015 --- True\n",
            "Entrada: 20 / 12 / 2015 -- Target: 20/12/2015 --- Previsto: 20/12/2015 --- True\n",
            "Entrada: 20/dezembro/2015 -- Target: 20/12/2015 --- Previsto: 20/12/2015 --- True\n",
            "Entrada: 20 / dezembro / 2015 -- Target: 20/12/2015 --- Previsto: 20/12/2015 --- True\n",
            "Entrada: 20/dez/2015 -- Target: 20/12/2015 --- Previsto: 20/12/2015 --- True\n",
            "Entrada: 20 / dez / 2015 -- Target: 20/12/2015 --- Previsto: 20/12/2015 --- True\n",
            "Entrada: 20/12/2015 -- Target: 20/12/2015 --- Previsto: 20/12/2015 --- True\n",
            "Entrada: 20 / 12 / 2015 -- Target: 20/12/2015 --- Previsto: 20/12/2015 --- True\n",
            "Total accuracy: 1.0\n"
          ],
          "name": "stdout"
        },
        {
          "output_type": "execute_result",
          "data": {
            "text/plain": [
              "1.0"
            ]
          },
          "metadata": {
            "tags": []
          },
          "execution_count": 115
        }
      ]
    },
    {
      "cell_type": "code",
      "metadata": {
        "id": "aqonQb-kcjUY",
        "colab_type": "code",
        "outputId": "942c16b6-bca9-4ef3-c46e-2d829549acc0",
        "colab": {
          "base_uri": "https://localhost:8080/",
          "height": 872
        }
      },
      "source": [
        "'''\n",
        "  Evaluating for a date in a century out of the training range gives the worst\n",
        "  acc possible. (0)\n",
        "'''\n",
        "evaluate_for_a_same_date('25/12/2141')"
      ],
      "execution_count": 116,
      "outputs": [
        {
          "output_type": "stream",
          "text": [
            "Entrada: vinte e cinco de dezembro de 2141 -- Target: 25/12/2141 --- Previsto: 25/12/241 --- False\n",
            "Entrada: vinte e cinco de dez de dois mil, cento e quarenta e um -- Target: 25/12/2141 --- Previsto: 25/12/2101 --- False\n",
            "Entrada: vinte e cinco de dezembro de dois mil, cento e quarenta e um -- Target: 25/12/2141 --- Previsto: 25/12/2101 --- False\n",
            "Entrada: vigésimo quinto dia do mês doze de dois mil, cento e quarenta e um -- Target: 25/12/2141 --- Previsto: 25/12/2101 --- False\n",
            "Entrada: 25 de Dezembro de 2141 -- Target: 25/12/2141 --- Previsto: 25/12/241 --- False\n",
            "Entrada: 25 de dezembro de dois mil, cento e quarenta e um -- Target: 25/12/2141 --- Previsto: 25/12/2101 --- False\n",
            "Entrada: 25-12 de dois mil, cento e quarenta e um -- Target: 25/12/2141 --- Previsto: 25/12/2101 --- False\n",
            "Entrada: vinte e cinco - 12 - 2141 -- Target: 25/12/2141 --- Previsto: 25/12/241 --- False\n",
            "Entrada: vinte e cinco de dezembro - 2141 -- Target: 25/12/2141 --- Previsto: 25/12/241 --- False\n",
            "Entrada: 25º de dezembro de 2141 -- Target: 25/12/2141 --- Previsto: 25/12/241 --- False\n",
            "Entrada: 25º - 12 - 2141 -- Target: 25/12/2141 --- Previsto: 25/12/241 --- False\n",
            "Entrada: 25º / 12 / 2141 -- Target: 25/12/2141 --- Previsto: 25/12/241 --- False\n",
            "Entrada: 25º / Dezembro / 2141 -- Target: 25/12/2141 --- Previsto: 25/12/241 --- False\n",
            "Entrada: 25 / dezembro / 2141 -- Target: 25/12/2141 --- Previsto: 25/12/241 --- False\n",
            "Entrada: vinte e cinco dezembro dois mil, cento e quarenta e um -- Target: 25/12/2141 --- Previsto: 25/12/2101 --- False\n",
            "Entrada: 25 dezembro dois mil, cento e quarenta e um -- Target: 25/12/2141 --- Previsto: 25/12/2101 --- False\n",
            "Entrada: 25/12 dois mil, cento e quarenta e um -- Target: 25/12/2141 --- Previsto: 25/12/2101 --- False\n",
            "Entrada: 25.12 dois mil, cento e quarenta e um -- Target: 25/12/2141 --- Previsto: 25/12/2101 --- False\n",
            "Entrada: 25-12 dois mil, cento e quarenta e um -- Target: 25/12/2141 --- Previsto: 25/12/2101 --- False\n",
            "Entrada: vinte e cinco/dezembro/dois mil, cento e quarenta e um -- Target: 25/12/2141 --- Previsto: 25/12/2101 --- False\n",
            "Entrada: 25 do mês doze de 2141 -- Target: 25/12/2141 --- Previsto: 25/12/241 --- False\n",
            "Entrada: 25-12-2141 -- Target: 25/12/2141 --- Previsto: 25/12/241 --- False\n",
            "Entrada: 25 - 12 - 2141 -- Target: 25/12/2141 --- Previsto: 25/12/241 --- False\n",
            "Entrada: 25-12-2141 -- Target: 25/12/2141 --- Previsto: 25/12/241 --- False\n",
            "Entrada: 25 - 12 - 2141 -- Target: 25/12/2141 --- Previsto: 25/12/241 --- False\n",
            "Entrada: 25-dezembro-2141 -- Target: 25/12/2141 --- Previsto: 25/12/241 --- False\n",
            "Entrada: 25 - dezembro - 2141 -- Target: 25/12/2141 --- Previsto: 25/12/241 --- False\n",
            "Entrada: 25-dez-2141 -- Target: 25/12/2141 --- Previsto: 25/12/241 --- False\n",
            "Entrada: 25 - dez - 2141 -- Target: 25/12/2141 --- Previsto: 25/12/241 --- False\n",
            "Entrada: 25.12.2141 -- Target: 25/12/2141 --- Previsto: 25/12/2141 --- True\n",
            "Entrada: 25 . 12 . 2141 -- Target: 25/12/2141 --- Previsto: 25/12/241 --- False\n",
            "Entrada: 25.12.2141 -- Target: 25/12/2141 --- Previsto: 25/12/2141 --- True\n",
            "Entrada: 25 . 12 . 2141 -- Target: 25/12/2141 --- Previsto: 25/12/241 --- False\n",
            "Entrada: 25.dezembro.2141 -- Target: 25/12/2141 --- Previsto: 25/12/241 --- False\n",
            "Entrada: 25 . dezembro . 2141 -- Target: 25/12/2141 --- Previsto: 25/12/241 --- False\n",
            "Entrada: 25.dez.2141 -- Target: 25/12/2141 --- Previsto: 25/12/241 --- False\n",
            "Entrada: 25 . dez . 2141 -- Target: 25/12/2141 --- Previsto: 25/12/241 --- False\n",
            "Entrada: 25/12/2141 -- Target: 25/12/2141 --- Previsto: 25/12/2141 --- True\n",
            "Entrada: 25 / 12 / 2141 -- Target: 25/12/2141 --- Previsto: 25/12/241 --- False\n",
            "Entrada: 25/dezembro/2141 -- Target: 25/12/2141 --- Previsto: 25/12/2141 --- True\n",
            "Entrada: 25 / dezembro / 2141 -- Target: 25/12/2141 --- Previsto: 25/12/241 --- False\n",
            "Entrada: 25/dez/2141 -- Target: 25/12/2141 --- Previsto: 25/12/2141 --- True\n",
            "Entrada: 25 / dez / 2141 -- Target: 25/12/2141 --- Previsto: 25/12/241 --- False\n",
            "Entrada: 25/12/2141 -- Target: 25/12/2141 --- Previsto: 25/12/2141 --- True\n",
            "Entrada: 25 / 12 / 2141 -- Target: 25/12/2141 --- Previsto: 25/12/241 --- False\n",
            "Total accuracy: 0.13333333333333333\n"
          ],
          "name": "stdout"
        },
        {
          "output_type": "execute_result",
          "data": {
            "text/plain": [
              "0.13333333333333333"
            ]
          },
          "metadata": {
            "tags": []
          },
          "execution_count": 116
        }
      ]
    },
    {
      "cell_type": "code",
      "metadata": {
        "id": "UMnT5Sm-IPMt",
        "colab_type": "code",
        "outputId": "649d8976-c9ac-41bd-ab0e-6016d1a19229",
        "colab": {
          "base_uri": "https://localhost:8080/",
          "height": 872
        }
      },
      "source": [
        "'''\n",
        "  An earlier date than the beggining of the generated dataset\n",
        "'''\n",
        "evaluate_for_a_same_date('27/05/1920')"
      ],
      "execution_count": 117,
      "outputs": [
        {
          "output_type": "stream",
          "text": [
            "Entrada: vinte e sete de maio de 1920 -- Target: 27/05/1920 --- Previsto: 27/05/1920 --- True\n",
            "Entrada: vinte e sete de mai de mil, novecentos e vinte -- Target: 27/05/1920 --- Previsto: 27/05/1922 --- False\n",
            "Entrada: vinte e sete de maio de mil, novecentos e vinte -- Target: 27/05/1920 --- Previsto: 27/05/1922 --- False\n",
            "Entrada: vigésimo sétimo dia do mês cinco de mil, novecentos e vinte -- Target: 27/05/1920 --- Previsto: 27/05/1922 --- False\n",
            "Entrada: 27 de Maio de 1920 -- Target: 27/05/1920 --- Previsto: 27/05/1920 --- True\n",
            "Entrada: 27 de maio de mil, novecentos e vinte -- Target: 27/05/1920 --- Previsto: 27/05/1922 --- False\n",
            "Entrada: 27-05 de mil, novecentos e vinte -- Target: 27/05/1920 --- Previsto: 27/05/1922 --- False\n",
            "Entrada: vinte e sete - 05 - 1920 -- Target: 27/05/1920 --- Previsto: 27/05/1920 --- True\n",
            "Entrada: vinte e sete de maio - 1920 -- Target: 27/05/1920 --- Previsto: 27/05/1920 --- True\n",
            "Entrada: 27º de maio de 1920 -- Target: 27/05/1920 --- Previsto: 27/05/1920 --- True\n",
            "Entrada: 27º - 05 - 1920 -- Target: 27/05/1920 --- Previsto: 27/05/1920 --- True\n",
            "Entrada: 27º / 05 / 1920 -- Target: 27/05/1920 --- Previsto: 27/05/1920 --- True\n",
            "Entrada: 27º / Maio / 1920 -- Target: 27/05/1920 --- Previsto: 27/05/1920 --- True\n",
            "Entrada: 27 / maio / 1920 -- Target: 27/05/1920 --- Previsto: 27/05/1920 --- True\n",
            "Entrada: vinte e sete maio mil, novecentos e vinte -- Target: 27/05/1920 --- Previsto: 27/05/1922 --- False\n",
            "Entrada: 27 maio mil, novecentos e vinte -- Target: 27/05/1920 --- Previsto: 27/05/1922 --- False\n",
            "Entrada: 27/05 mil, novecentos e vinte -- Target: 27/05/1920 --- Previsto: 27/05/1922 --- False\n",
            "Entrada: 27.05 mil, novecentos e vinte -- Target: 27/05/1920 --- Previsto: 27/05/1922 --- False\n",
            "Entrada: 27-05 mil, novecentos e vinte -- Target: 27/05/1920 --- Previsto: 27/05/1922 --- False\n",
            "Entrada: vinte e sete/maio/mil, novecentos e vinte -- Target: 27/05/1920 --- Previsto: 27/05/1922 --- False\n",
            "Entrada: 27 do mês cinco de 1920 -- Target: 27/05/1920 --- Previsto: 27/05/2020 --- False\n",
            "Entrada: 27-5-1920 -- Target: 27/05/1920 --- Previsto: 27/05/1920 --- True\n",
            "Entrada: 27 - 5 - 1920 -- Target: 27/05/1920 --- Previsto: 27/05/1920 --- True\n",
            "Entrada: 27-05-1920 -- Target: 27/05/1920 --- Previsto: 27/05/1920 --- True\n",
            "Entrada: 27 - 05 - 1920 -- Target: 27/05/1920 --- Previsto: 27/05/1920 --- True\n",
            "Entrada: 27-maio-1920 -- Target: 27/05/1920 --- Previsto: 27/05/1920 --- True\n",
            "Entrada: 27 - maio - 1920 -- Target: 27/05/1920 --- Previsto: 27/05/1920 --- True\n",
            "Entrada: 27-mai-1920 -- Target: 27/05/1920 --- Previsto: 27/05/1920 --- True\n",
            "Entrada: 27 - mai - 1920 -- Target: 27/05/1920 --- Previsto: 27/05/1920 --- True\n",
            "Entrada: 27.5.1920 -- Target: 27/05/1920 --- Previsto: 27/05/2028 --- False\n",
            "Entrada: 27 . 5 . 1920 -- Target: 27/05/1920 --- Previsto: 27/05/1920 --- True\n",
            "Entrada: 27.05.1920 -- Target: 27/05/1920 --- Previsto: 27/05/1920 --- True\n",
            "Entrada: 27 . 05 . 1920 -- Target: 27/05/1920 --- Previsto: 27/05/1920 --- True\n",
            "Entrada: 27.maio.1920 -- Target: 27/05/1920 --- Previsto: 27/05/1920 --- True\n",
            "Entrada: 27 . maio . 1920 -- Target: 27/05/1920 --- Previsto: 27/05/1920 --- True\n",
            "Entrada: 27.mai.1920 -- Target: 27/05/1920 --- Previsto: 27/05/1920 --- True\n",
            "Entrada: 27 . mai . 1920 -- Target: 27/05/1920 --- Previsto: 27/05/1920 --- True\n",
            "Entrada: 27/05/1920 -- Target: 27/05/1920 --- Previsto: 27/05/1920 --- True\n",
            "Entrada: 27 / 05 / 1920 -- Target: 27/05/1920 --- Previsto: 27/05/1920 --- True\n",
            "Entrada: 27/maio/1920 -- Target: 27/05/1920 --- Previsto: 27/05/1920 --- True\n",
            "Entrada: 27 / maio / 1920 -- Target: 27/05/1920 --- Previsto: 27/05/1920 --- True\n",
            "Entrada: 27/mai/1920 -- Target: 27/05/1920 --- Previsto: 27/05/1920 --- True\n",
            "Entrada: 27 / mai / 1920 -- Target: 27/05/1920 --- Previsto: 27/05/1920 --- True\n",
            "Entrada: 27/5/1920 -- Target: 27/05/1920 --- Previsto: 27/05/1920 --- True\n",
            "Entrada: 27 / 5 / 1920 -- Target: 27/05/1920 --- Previsto: 27/05/1920 --- True\n",
            "Total accuracy: 0.7111111111111111\n"
          ],
          "name": "stdout"
        },
        {
          "output_type": "execute_result",
          "data": {
            "text/plain": [
              "0.7111111111111111"
            ]
          },
          "metadata": {
            "tags": []
          },
          "execution_count": 117
        }
      ]
    },
    {
      "cell_type": "markdown",
      "metadata": {
        "id": "d0jwndLKmxpX",
        "colab_type": "text"
      },
      "source": [
        "# Accuracy in dataset dates"
      ]
    },
    {
      "cell_type": "markdown",
      "metadata": {
        "id": "Dpd5akZyAXyz",
        "colab_type": "text"
      },
      "source": [
        "## Inside dataset\n",
        "\n",
        "Dates into the interval that was used to built the synthetic dataset used for test and eval."
      ]
    },
    {
      "cell_type": "code",
      "metadata": {
        "id": "lfHmTxgDm19i",
        "colab_type": "code",
        "outputId": "f7099959-a3e7-4525-8d72-53b0944e04d7",
        "colab": {
          "base_uri": "https://localhost:8080/",
          "height": 55
        }
      },
      "source": [
        "accs = []\n",
        "dates = []\n",
        "\n",
        "sampled_test = random.sample(list(df['Target'].values),50)\n",
        "\n",
        "print('acc test set: ',sampled_test)\n",
        "\n",
        "for date_sample in sampled_test:\n",
        "  accs.append(evaluate_for_a_same_date(date_sample,verbose=False))\n",
        "  dates.append(date_sample)\n",
        "  "
      ],
      "execution_count": 118,
      "outputs": [
        {
          "output_type": "stream",
          "text": [
            "acc test set:  ['14/02/2046', '17/09/2049', '14/10/2041', '06/10/2038', '05/03/2042', '15/07/2021', '07/10/2004', '01/12/2064', '26/03/2069', '08/08/2059', '23/02/2033', '25/05/2077', '04/02/1938', '22/04/1998', '23/08/1975', '18/05/1926', '22/10/2006', '10/10/1929', '27/10/2104', '16/11/1924', '10/07/2048', '04/12/1931', '10/05/2058', '17/07/1982', '27/03/1971', '25/05/2001', '13/01/1921', '25/05/2093', '28/08/1946', '12/10/2002', '03/07/2087', '25/12/1956', '10/11/2067', '13/03/2038', '13/10/1956', '01/02/1990', '25/07/1988', '16/05/2104', '11/10/2070', '13/05/2100', '22/08/1958', '21/09/1935', '25/04/2034', '09/11/1930', '18/12/1978', '03/12/2100', '27/05/2076', '08/11/2111', '30/10/2116', '27/12/1972']\n"
          ],
          "name": "stdout"
        }
      ]
    },
    {
      "cell_type": "code",
      "metadata": {
        "id": "dxzyKeRQoBTR",
        "colab_type": "code",
        "outputId": "d9f1ef9a-86ad-4417-97db-f976577e6e51",
        "colab": {
          "base_uri": "https://localhost:8080/",
          "height": 351
        }
      },
      "source": [
        "plt.plot(dates,accs)\n",
        "plt.xticks(rotation=45)\n",
        "plt.grid()\n",
        "plt.ylim([0.8, 1.01])\n",
        "plt.ylabel('Average accuracy on 45 formats')\n",
        "plt.xlabel('Canonical target')\n",
        "plt.title('Average accuracy on dates inside synthetic training dataset')\n",
        "print('Average of average accuracies: ',np.mean(accs))"
      ],
      "execution_count": 119,
      "outputs": [
        {
          "output_type": "stream",
          "text": [
            "Average of average accuracies:  0.9942222222222221\n"
          ],
          "name": "stdout"
        },
        {
          "output_type": "display_data",
          "data": {
            "image/png": "[encoded data removed]",
            "text/plain": [
              "<Figure size 432x288 with 1 Axes>"
            ]
          },
          "metadata": {
            "tags": [],
            "needs_background": "light"
          }
        }
      ]
    },
    {
      "cell_type": "markdown",
      "metadata": {
        "id": "ePEpzTU5A0Rx",
        "colab_type": "text"
      },
      "source": [
        "## Below dataset\n",
        "\n",
        "Dates lower than the synthetic dataset used for test and eval."
      ]
    },
    {
      "cell_type": "code",
      "metadata": {
        "id": "W8gnAWTcd5DP",
        "colab_type": "code",
        "colab": {
          "base_uri": "https://localhost:8080/",
          "height": 55
        },
        "outputId": "b4fe669c-c6ce-4487-b886-e9295e57835a"
      },
      "source": [
        "accs = []\n",
        "dates = []\n",
        "\n",
        "new_dataset = DateTextGenerator('01/01/1900','31/12/1920')\n",
        "\n",
        "new_df = new_dataset.generate_date_dataset()\n",
        "sampled_test = random.sample(list(new_df['Target'].values),20)\n",
        "\n",
        "print('acc test set: ',sampled_test)\n",
        "\n",
        "for date_sample in sampled_test:\n",
        "  accs.append(evaluate_for_a_same_date(date_sample,verbose=False))\n",
        "  dates.append(date_sample)"
      ],
      "execution_count": 120,
      "outputs": [
        {
          "output_type": "stream",
          "text": [
            "acc test set:  ['14/07/1912', '16/11/1903', '01/10/1920', '27/10/1906', '20/02/1912', '26/11/1911', '16/10/1914', '06/10/1903', '04/12/1911', '03/09/1910', '16/11/1918', '24/09/1918', '07/03/1917', '10/08/1904', '22/03/1910', '22/04/1902', '07/01/1913', '10/10/1917', '25/05/1909', '18/05/1909']\n"
          ],
          "name": "stdout"
        }
      ]
    },
    {
      "cell_type": "code",
      "metadata": {
        "colab_type": "code",
        "id": "4DFUtHoUA2c4",
        "outputId": "3325229d-79a8-4aa7-dc71-b0ff9d42bc3b",
        "colab": {
          "base_uri": "https://localhost:8080/",
          "height": 351
        }
      },
      "source": [
        "plt.plot(dates,accs)\n",
        "plt.xticks(rotation=45)\n",
        "plt.grid()\n",
        "plt.ylim([-0.01, 1.01])\n",
        "plt.ylabel('Average accuracy on 45 formats')\n",
        "plt.xlabel('Canonical target')\n",
        "plt.title('Average accuracy on dates below synthetic training dataset')\n",
        "print('Average of average accuracies: ',np.mean(accs))"
      ],
      "execution_count": 121,
      "outputs": [
        {
          "output_type": "stream",
          "text": [
            "Average of average accuracies:  0.8111111111111111\n"
          ],
          "name": "stdout"
        },
        {
          "output_type": "display_data",
          "data": {
            "image/png": "[encoded data removed]",
            "text/plain": [
              "<Figure size 432x288 with 1 Axes>"
            ]
          },
          "metadata": {
            "tags": [],
            "needs_background": "light"
          }
        }
      ]
    },
    {
      "cell_type": "markdown",
      "metadata": {
        "colab_type": "text",
        "id": "H0BR5SlBCCEr"
      },
      "source": [
        "## Above dataset\n",
        "\n",
        "Dates greater than the synthetic dataset used for test and eval."
      ]
    },
    {
      "cell_type": "code",
      "metadata": {
        "id": "86KqAIP8ef_n",
        "colab_type": "code",
        "colab": {
          "base_uri": "https://localhost:8080/",
          "height": 55
        },
        "outputId": "11fc95a4-c37d-45de-c1b9-01720466e7b4"
      },
      "source": [
        "accs = []\n",
        "dates = []\n",
        "\n",
        "new_dataset = DateTextGenerator('01/01/2121','31/12/2140')\n",
        "\n",
        "\n",
        "new_df = new_dataset.generate_date_dataset()\n",
        "sampled_test = random.sample(list(new_df['Target'].values),20)\n",
        "\n",
        "print('acc test set: ',sampled_test)\n",
        "\n",
        "for date_sample in sampled_test:\n",
        "  accs.append(evaluate_for_a_same_date(date_sample,verbose=False))\n",
        "  dates.append(date_sample)"
      ],
      "execution_count": 122,
      "outputs": [
        {
          "output_type": "stream",
          "text": [
            "acc test set:  ['05/07/2135', '18/05/2126', '25/10/2125', '11/05/2126', '27/07/2129', '12/04/2125', '02/08/2137', '09/09/2129', '09/03/2127', '25/12/2127', '28/09/2122', '03/12/2128', '13/08/2129', '28/05/2137', '10/03/2130', '29/08/2122', '18/03/2126', '10/05/2124', '17/07/2123', '20/08/2132']\n"
          ],
          "name": "stdout"
        }
      ]
    },
    {
      "cell_type": "code",
      "metadata": {
        "colab_type": "code",
        "id": "J2SP31YSCCFG",
        "outputId": "0c6569a2-f3e8-4ba7-bac3-a0edd09e6069",
        "colab": {
          "base_uri": "https://localhost:8080/",
          "height": 351
        }
      },
      "source": [
        "plt.plot(dates,accs)\n",
        "plt.xticks(rotation=45)\n",
        "plt.grid()\n",
        "plt.ylim([-0.01, 1.01])\n",
        "plt.ylabel('Average accuracy on 45 formats')\n",
        "plt.xlabel('Canonical target')\n",
        "plt.title('Average accuracy on dates above synthetic training dataset')\n",
        "print('Average of average accuracies: ',np.mean(accs))"
      ],
      "execution_count": 123,
      "outputs": [
        {
          "output_type": "stream",
          "text": [
            "Average of average accuracies:  0.6622222222222222\n"
          ],
          "name": "stdout"
        },
        {
          "output_type": "display_data",
          "data": {
            "image/png": "[encoded data removed]",
            "text/plain": [
              "<Figure size 432x288 with 1 Axes>"
            ]
          },
          "metadata": {
            "tags": [],
            "needs_background": "light"
          }
        }
      ]
    },
    {
      "cell_type": "markdown",
      "metadata": {
        "id": "5bvkIIgMNASY",
        "colab_type": "text"
      },
      "source": [
        "# The End"
      ]
    }
  ]
}