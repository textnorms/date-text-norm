{
  "nbformat": 4,
  "nbformat_minor": 0,
  "metadata": {
    "colab": {
      "name": "T5: V13 En-relative-dates.ipynb",
      "provenance": [],
      "collapsed_sections": [],
      "include_colab_link": true
    },
    "kernelspec": {
      "name": "python3",
      "display_name": "Python 3"
    },
    "accelerator": "GPU",
    "widgets": {
      "application/vnd.jupyter.widget-state+json": {
        "ccf9aa0e5c2f449898e811ed0deda392": {
          "model_module": "@jupyter-widgets/controls",
          "model_name": "HBoxModel",
          "state": {
            "_view_name": "HBoxView",
            "_dom_classes": [],
            "_model_name": "HBoxModel",
            "_view_module": "@jupyter-widgets/controls",
            "_model_module_version": "1.5.0",
            "_view_count": null,
            "_view_module_version": "1.5.0",
            "box_style": "",
            "layout": "IPY_MODEL_5abf282ef6b34efda9660d414a566515",
            "_model_module": "@jupyter-widgets/controls",
            "children": [
              "IPY_MODEL_a2528892dc134aecbe70fe60f4c98bc7",
              "IPY_MODEL_a829824c8f3b4723b2669e4cfb172911"
            ]
          }
        },
        "5abf282ef6b34efda9660d414a566515": {
          "model_module": "@jupyter-widgets/base",
          "model_name": "LayoutModel",
          "state": {
            "_view_name": "LayoutView",
            "grid_template_rows": null,
            "right": null,
            "justify_content": null,
            "_view_module": "@jupyter-widgets/base",
            "overflow": null,
            "_model_module_version": "1.2.0",
            "_view_count": null,
            "flex_flow": null,
            "width": null,
            "min_width": null,
            "border": null,
            "align_items": null,
            "bottom": null,
            "_model_module": "@jupyter-widgets/base",
            "top": null,
            "grid_column": null,
            "overflow_y": null,
            "overflow_x": null,
            "grid_auto_flow": null,
            "grid_area": null,
            "grid_template_columns": null,
            "flex": null,
            "_model_name": "LayoutModel",
            "justify_items": null,
            "grid_row": null,
            "max_height": null,
            "align_content": null,
            "visibility": null,
            "align_self": null,
            "height": null,
            "min_height": null,
            "padding": null,
            "grid_auto_rows": null,
            "grid_gap": null,
            "max_width": null,
            "order": null,
            "_view_module_version": "1.2.0",
            "grid_template_areas": null,
            "object_position": null,
            "object_fit": null,
            "grid_auto_columns": null,
            "margin": null,
            "display": null,
            "left": null
          }
        },
        "a2528892dc134aecbe70fe60f4c98bc7": {
          "model_module": "@jupyter-widgets/controls",
          "model_name": "FloatProgressModel",
          "state": {
            "_view_name": "ProgressView",
            "style": "IPY_MODEL_6ddde6187bec40688385f83281ebc732",
            "_dom_classes": [],
            "description": "Downloading: 100%",
            "_model_name": "FloatProgressModel",
            "bar_style": "success",
            "max": 791656,
            "_view_module": "@jupyter-widgets/controls",
            "_model_module_version": "1.5.0",
            "value": 791656,
            "_view_count": null,
            "_view_module_version": "1.5.0",
            "orientation": "horizontal",
            "min": 0,
            "description_tooltip": null,
            "_model_module": "@jupyter-widgets/controls",
            "layout": "IPY_MODEL_7f4f3fcffa144922b2bcd9b1d0bc2411"
          }
        },
        "a829824c8f3b4723b2669e4cfb172911": {
          "model_module": "@jupyter-widgets/controls",
          "model_name": "HTMLModel",
          "state": {
            "_view_name": "HTMLView",
            "style": "IPY_MODEL_e6e66a8da2d448c59966127c78155263",
            "_dom_classes": [],
            "description": "",
            "_model_name": "HTMLModel",
            "placeholder": "​",
            "_view_module": "@jupyter-widgets/controls",
            "_model_module_version": "1.5.0",
            "value": " 792k/792k [00:25&lt;00:00, 31.1kB/s]",
            "_view_count": null,
            "_view_module_version": "1.5.0",
            "description_tooltip": null,
            "_model_module": "@jupyter-widgets/controls",
            "layout": "IPY_MODEL_c24856b2f5714aa68e88bb4abc4a083c"
          }
        },
        "6ddde6187bec40688385f83281ebc732": {
          "model_module": "@jupyter-widgets/controls",
          "model_name": "ProgressStyleModel",
          "state": {
            "_view_name": "StyleView",
            "_model_name": "ProgressStyleModel",
            "description_width": "initial",
            "_view_module": "@jupyter-widgets/base",
            "_model_module_version": "1.5.0",
            "_view_count": null,
            "_view_module_version": "1.2.0",
            "bar_color": null,
            "_model_module": "@jupyter-widgets/controls"
          }
        },
        "7f4f3fcffa144922b2bcd9b1d0bc2411": {
          "model_module": "@jupyter-widgets/base",
          "model_name": "LayoutModel",
          "state": {
            "_view_name": "LayoutView",
            "grid_template_rows": null,
            "right": null,
            "justify_content": null,
            "_view_module": "@jupyter-widgets/base",
            "overflow": null,
            "_model_module_version": "1.2.0",
            "_view_count": null,
            "flex_flow": null,
            "width": null,
            "min_width": null,
            "border": null,
            "align_items": null,
            "bottom": null,
            "_model_module": "@jupyter-widgets/base",
            "top": null,
            "grid_column": null,
            "overflow_y": null,
            "overflow_x": null,
            "grid_auto_flow": null,
            "grid_area": null,
            "grid_template_columns": null,
            "flex": null,
            "_model_name": "LayoutModel",
            "justify_items": null,
            "grid_row": null,
            "max_height": null,
            "align_content": null,
            "visibility": null,
            "align_self": null,
            "height": null,
            "min_height": null,
            "padding": null,
            "grid_auto_rows": null,
            "grid_gap": null,
            "max_width": null,
            "order": null,
            "_view_module_version": "1.2.0",
            "grid_template_areas": null,
            "object_position": null,
            "object_fit": null,
            "grid_auto_columns": null,
            "margin": null,
            "display": null,
            "left": null
          }
        },
        "e6e66a8da2d448c59966127c78155263": {
          "model_module": "@jupyter-widgets/controls",
          "model_name": "DescriptionStyleModel",
          "state": {
            "_view_name": "StyleView",
            "_model_name": "DescriptionStyleModel",
            "description_width": "",
            "_view_module": "@jupyter-widgets/base",
            "_model_module_version": "1.5.0",
            "_view_count": null,
            "_view_module_version": "1.2.0",
            "_model_module": "@jupyter-widgets/controls"
          }
        },
        "c24856b2f5714aa68e88bb4abc4a083c": {
          "model_module": "@jupyter-widgets/base",
          "model_name": "LayoutModel",
          "state": {
            "_view_name": "LayoutView",
            "grid_template_rows": null,
            "right": null,
            "justify_content": null,
            "_view_module": "@jupyter-widgets/base",
            "overflow": null,
            "_model_module_version": "1.2.0",
            "_view_count": null,
            "flex_flow": null,
            "width": null,
            "min_width": null,
            "border": null,
            "align_items": null,
            "bottom": null,
            "_model_module": "@jupyter-widgets/base",
            "top": null,
            "grid_column": null,
            "overflow_y": null,
            "overflow_x": null,
            "grid_auto_flow": null,
            "grid_area": null,
            "grid_template_columns": null,
            "flex": null,
            "_model_name": "LayoutModel",
            "justify_items": null,
            "grid_row": null,
            "max_height": null,
            "align_content": null,
            "visibility": null,
            "align_self": null,
            "height": null,
            "min_height": null,
            "padding": null,
            "grid_auto_rows": null,
            "grid_gap": null,
            "max_width": null,
            "order": null,
            "_view_module_version": "1.2.0",
            "grid_template_areas": null,
            "object_position": null,
            "object_fit": null,
            "grid_auto_columns": null,
            "margin": null,
            "display": null,
            "left": null
          }
        }
      }
    }
  },
  "cells": [
    {
      "cell_type": "markdown",
      "metadata": {
        "id": "view-in-github",
        "colab_type": "text"
      },
      "source": [
        "<a href=\"https://colab.research.google.com/github/textnorms/date_text_norm/blob/master/T5_V13_En_relative_dates.ipynb\" target=\"_parent\"><img src=\"https://colab.research.google.com/assets/colab-badge.svg\" alt=\"Open In Colab\"/></a>"
      ]
    },
    {
      "cell_type": "code",
      "metadata": {
        "id": "PcMfqlK-0HLY",
        "colab_type": "code",
        "outputId": "d03e8a38-73ef-4d9d-d56b-bcf11b10fbf4",
        "colab": {
          "base_uri": "https://localhost:8080/",
          "height": 381
        }
      },
      "source": [
        "! nvidia-smi"
      ],
      "execution_count": 1,
      "outputs": [
        {
          "output_type": "stream",
          "text": [
            "Mon Jun 15 11:20:05 2020       \n",
            "+-----------------------------------------------------------------------------+\n",
            "| NVIDIA-SMI 450.36.06    Driver Version: 418.67       CUDA Version: 10.1     |\n",
            "|-------------------------------+----------------------+----------------------+\n",
            "| GPU  Name        Persistence-M| Bus-Id        Disp.A | Volatile Uncorr. ECC |\n",
            "| Fan  Temp  Perf  Pwr:Usage/Cap|         Memory-Usage | GPU-Util  Compute M. |\n",
            "|                               |                      |               MIG M. |\n",
            "|===============================+======================+======================|\n",
            "|   0  Tesla P100-PCIE...  Off  | 00000000:00:04.0 Off |                    0 |\n",
            "| N/A   35C    P0    26W / 250W |      0MiB / 16280MiB |      0%      Default |\n",
            "|                               |                      |                 ERR! |\n",
            "+-------------------------------+----------------------+----------------------+\n",
            "                                                                               \n",
            "+-----------------------------------------------------------------------------+\n",
            "| Processes:                                                                  |\n",
            "|  GPU   GI   CI        PID   Type   Process name                  GPU Memory |\n",
            "|        ID   ID                                                   Usage      |\n",
            "|=============================================================================|\n",
            "|  No running processes found                                                 |\n",
            "+-----------------------------------------------------------------------------+\n"
          ],
          "name": "stdout"
        }
      ]
    },
    {
      "cell_type": "code",
      "metadata": {
        "id": "c-1Lmkfv6g2j",
        "colab_type": "code",
        "outputId": "bf05c04c-fa27-4966-f92f-be2054fd3957",
        "colab": {
          "base_uri": "https://localhost:8080/",
          "height": 254
        }
      },
      "source": [
        "! rm -rf date*\n",
        "! git clone https://github.com/textnorms/date_text_norm.git\n",
        "! cp -r date_text_norm/syntetic_data/ .\n",
        "\n",
        "! pip install -q num2words transformers\n",
        "! pip install -q transformers"
      ],
      "execution_count": 2,
      "outputs": [
        {
          "output_type": "stream",
          "text": [
            "Cloning into 'date_text_norm'...\n",
            "remote: Enumerating objects: 91, done.\u001b[K\n",
            "remote: Counting objects:   1% (1/91)\u001b[K\rremote: Counting objects:   2% (2/91)\u001b[K\rremote: Counting objects:   3% (3/91)\u001b[K\rremote: Counting objects:   4% (4/91)\u001b[K\rremote: Counting objects:   5% (5/91)\u001b[K\rremote: Counting objects:   6% (6/91)\u001b[K\rremote: Counting objects:   7% (7/91)\u001b[K\rremote: Counting objects:   8% (8/91)\u001b[K\rremote: Counting objects:   9% (9/91)\u001b[K\rremote: Counting objects:  10% (10/91)\u001b[K\rremote: Counting objects:  12% (11/91)\u001b[K\rremote: Counting objects:  13% (12/91)\u001b[K\rremote: Counting objects:  14% (13/91)\u001b[K\rremote: Counting objects:  15% (14/91)\u001b[K\rremote: Counting objects:  16% (15/91)\u001b[K\rremote: Counting objects:  17% (16/91)\u001b[K\rremote: Counting objects:  18% (17/91)\u001b[K\rremote: Counting objects:  19% (18/91)\u001b[K\rremote: Counting objects:  20% (19/91)\u001b[K\rremote: Counting objects:  21% (20/91)\u001b[K\rremote: Counting objects:  23% (21/91)\u001b[K\rremote: Counting objects:  24% (22/91)\u001b[K\rremote: Counting objects:  25% (23/91)\u001b[K\rremote: Counting objects:  26% (24/91)\u001b[K\rremote: Counting objects:  27% (25/91)\u001b[K\rremote: Counting objects:  28% (26/91)\u001b[K\rremote: Counting objects:  29% (27/91)\u001b[K\rremote: Counting objects:  30% (28/91)\u001b[K\rremote: Counting objects:  31% (29/91)\u001b[K\rremote: Counting objects:  32% (30/91)\u001b[K\rremote: Counting objects:  34% (31/91)\u001b[K\rremote: Counting objects:  35% (32/91)\u001b[K\rremote: Counting objects:  36% (33/91)\u001b[K\rremote: Counting objects:  37% (34/91)\u001b[K\rremote: Counting objects:  38% (35/91)\u001b[K\rremote: Counting objects:  39% (36/91)\u001b[K\rremote: Counting objects:  40% (37/91)\u001b[K\rremote: Counting objects:  41% (38/91)\u001b[K\rremote: Counting objects:  42% (39/91)\u001b[K\rremote: Counting objects:  43% (40/91)\u001b[K\rremote: Counting objects:  45% (41/91)\u001b[K\rremote: Counting objects:  46% (42/91)\u001b[K\rremote: Counting objects:  47% (43/91)\u001b[K\rremote: Counting objects:  48% (44/91)\u001b[K\rremote: Counting objects:  49% (45/91)\u001b[K\rremote: Counting objects:  50% (46/91)\u001b[K\rremote: Counting objects:  51% (47/91)\u001b[K\rremote: Counting objects:  52% (48/91)\u001b[K\rremote: Counting objects:  53% (49/91)\u001b[K\rremote: Counting objects:  54% (50/91)\u001b[K\rremote: Counting objects:  56% (51/91)\u001b[K\rremote: Counting objects:  57% (52/91)\u001b[K\rremote: Counting objects:  58% (53/91)\u001b[K\rremote: Counting objects:  59% (54/91)\u001b[K\rremote: Counting objects:  60% (55/91)\u001b[K\rremote: Counting objects:  61% (56/91)\u001b[K\rremote: Counting objects:  62% (57/91)\u001b[K\rremote: Counting objects:  63% (58/91)\u001b[K\rremote: Counting objects:  64% (59/91)\u001b[K\rremote: Counting objects:  65% (60/91)\u001b[K\rremote: Counting objects:  67% (61/91)\u001b[K\rremote: Counting objects:  68% (62/91)\u001b[K\rremote: Counting objects:  69% (63/91)\u001b[K\rremote: Counting objects:  70% (64/91)\u001b[K\rremote: Counting objects:  71% (65/91)\u001b[K\rremote: Counting objects:  72% (66/91)\u001b[K\rremote: Counting objects:  73% (67/91)\u001b[K\rremote: Counting objects:  74% (68/91)\u001b[K\rremote: Counting objects:  75% (69/91)\u001b[K\rremote: Counting objects:  76% (70/91)\u001b[K\rremote: Counting objects:  78% (71/91)\u001b[K\rremote: Counting objects:  79% (72/91)\u001b[K\rremote: Counting objects:  80% (73/91)\u001b[K\rremote: Counting objects:  81% (74/91)\u001b[K\rremote: Counting objects:  82% (75/91)\u001b[K\rremote: Counting objects:  83% (76/91)\u001b[K\rremote: Counting objects:  84% (77/91)\u001b[K\rremote: Counting objects:  85% (78/91)\u001b[K\rremote: Counting objects:  86% (79/91)\u001b[K\rremote: Counting objects:  87% (80/91)\u001b[K\rremote: Counting objects:  89% (81/91)\u001b[K\rremote: Counting objects:  90% (82/91)\u001b[K\rremote: Counting objects:  91% (83/91)\u001b[K\rremote: Counting objects:  92% (84/91)\u001b[K\rremote: Counting objects:  93% (85/91)\u001b[K\rremote: Counting objects:  94% (86/91)\u001b[K\rremote: Counting objects:  95% (87/91)\u001b[K\rremote: Counting objects:  96% (88/91)\u001b[K\rremote: Counting objects:  97% (89/91)\u001b[K\rremote: Counting objects:  98% (90/91)\u001b[K\rremote: Counting objects: 100% (91/91)\u001b[K\rremote: Counting objects: 100% (91/91), done.\u001b[K\n",
            "remote: Compressing objects:   1% (1/63)\u001b[K\rremote: Compressing objects:   3% (2/63)\u001b[K\rremote: Compressing objects:   4% (3/63)\u001b[K\rremote: Compressing objects:   6% (4/63)\u001b[K\rremote: Compressing objects:   7% (5/63)\u001b[K\rremote: Compressing objects:   9% (6/63)\u001b[K\rremote: Compressing objects:  11% (7/63)\u001b[K\rremote: Compressing objects:  12% (8/63)\u001b[K\rremote: Compressing objects:  14% (9/63)\u001b[K\rremote: Compressing objects:  15% (10/63)\u001b[K\rremote: Compressing objects:  17% (11/63)\u001b[K\rremote: Compressing objects:  19% (12/63)\u001b[K\rremote: Compressing objects:  20% (13/63)\u001b[K\rremote: Compressing objects:  22% (14/63)\u001b[K\rremote: Compressing objects:  23% (15/63)\u001b[K\rremote: Compressing objects:  25% (16/63)\u001b[K\rremote: Compressing objects:  26% (17/63)\u001b[K\rremote: Compressing objects:  28% (18/63)\u001b[K\rremote: Compressing objects:  30% (19/63)\u001b[K\rremote: Compressing objects:  31% (20/63)\u001b[K\rremote: Compressing objects:  33% (21/63)\u001b[K\rremote: Compressing objects:  34% (22/63)\u001b[K\rremote: Compressing objects:  36% (23/63)\u001b[K\rremote: Compressing objects:  38% (24/63)\u001b[K\rremote: Compressing objects:  39% (25/63)\u001b[K\rremote: Compressing objects:  41% (26/63)\u001b[K\rremote: Compressing objects:  42% (27/63)\u001b[K\rremote: Compressing objects:  44% (28/63)\u001b[K\rremote: Compressing objects:  46% (29/63)\u001b[K\rremote: Compressing objects:  47% (30/63)\u001b[K\rremote: Compressing objects:  49% (31/63)\u001b[K\rremote: Compressing objects:  50% (32/63)\u001b[K\rremote: Compressing objects:  52% (33/63)\u001b[K\rremote: Compressing objects:  53% (34/63)\u001b[K\rremote: Compressing objects:  55% (35/63)\u001b[K\rremote: Compressing objects:  57% (36/63)\u001b[K\rremote: Compressing objects:  58% (37/63)\u001b[K\rremote: Compressing objects:  60% (38/63)\u001b[K\rremote: Compressing objects:  61% (39/63)\u001b[K\rremote: Compressing objects:  63% (40/63)\u001b[K\rremote: Compressing objects:  65% (41/63)\u001b[K\rremote: Compressing objects:  66% (42/63)\u001b[K\rremote: Compressing objects:  68% (43/63)\u001b[K\rremote: Compressing objects:  69% (44/63)\u001b[K\rremote: Compressing objects:  71% (45/63)\u001b[K\rremote: Compressing objects:  73% (46/63)\u001b[K\rremote: Compressing objects:  74% (47/63)\u001b[K\rremote: Compressing objects:  76% (48/63)\u001b[K\rremote: Compressing objects:  77% (49/63)\u001b[K\rremote: Compressing objects:  79% (50/63)\u001b[K\rremote: Compressing objects:  80% (51/63)\u001b[K\rremote: Compressing objects:  82% (52/63)\u001b[K\rremote: Compressing objects:  84% (53/63)\u001b[K\rremote: Compressing objects:  85% (54/63)\u001b[K\rremote: Compressing objects:  87% (55/63)\u001b[K\rremote: Compressing objects:  88% (56/63)\u001b[K\rremote: Compressing objects:  90% (57/63)\u001b[K\rremote: Compressing objects:  92% (58/63)\u001b[K\rremote: Compressing objects:  93% (59/63)\u001b[K\rremote: Compressing objects:  95% (60/63)\u001b[K\rremote: Compressing objects:  96% (61/63)\u001b[K\rremote: Compressing objects:  98% (62/63)\u001b[K\rremote: Compressing objects: 100% (63/63)\u001b[K\rremote: Compressing objects: 100% (63/63), done.\u001b[K\n",
            "Receiving objects:   0% (1/302)   \rReceiving objects:   1% (4/302)   \rReceiving objects:   2% (7/302)   \rReceiving objects:   3% (10/302)   \rReceiving objects:   4% (13/302)   \rReceiving objects:   5% (16/302)   \rReceiving objects:   6% (19/302)   \rReceiving objects:   7% (22/302)   \rReceiving objects:   8% (25/302)   \rReceiving objects:   9% (28/302)   \rReceiving objects:  10% (31/302)   \rReceiving objects:  11% (34/302)   \rReceiving objects:  12% (37/302)   \rReceiving objects:  13% (40/302)   \rReceiving objects:  14% (43/302)   \rReceiving objects:  15% (46/302)   \rReceiving objects:  16% (49/302)   \rReceiving objects:  17% (52/302)   \rReceiving objects:  18% (55/302)   \rReceiving objects:  19% (58/302)   \rReceiving objects:  20% (61/302)   \rReceiving objects:  21% (64/302)   \rReceiving objects:  22% (67/302)   \rReceiving objects:  23% (70/302)   \rReceiving objects:  24% (73/302)   \rReceiving objects:  25% (76/302)   \rReceiving objects:  26% (79/302)   \rReceiving objects:  27% (82/302)   \rReceiving objects:  28% (85/302)   \rReceiving objects:  29% (88/302)   \rReceiving objects:  30% (91/302)   \rReceiving objects:  31% (94/302)   \rReceiving objects:  32% (97/302)   \rReceiving objects:  33% (100/302)   \rReceiving objects:  34% (103/302)   \rReceiving objects:  35% (106/302)   \rReceiving objects:  36% (109/302)   \rReceiving objects:  37% (112/302)   \rReceiving objects:  38% (115/302)   \rReceiving objects:  39% (118/302)   \rReceiving objects:  40% (121/302)   \rReceiving objects:  41% (124/302)   \rReceiving objects:  42% (127/302)   \rReceiving objects:  43% (130/302)   \rReceiving objects:  44% (133/302)   \rReceiving objects:  45% (136/302)   \rReceiving objects:  46% (139/302)   \rReceiving objects:  47% (142/302)   \rReceiving objects:  48% (145/302)   \rReceiving objects:  49% (148/302)   \rReceiving objects:  50% (151/302)   \rReceiving objects:  51% (155/302)   \rReceiving objects:  52% (158/302)   \rReceiving objects:  53% (161/302)   \rReceiving objects:  54% (164/302)   \rReceiving objects:  55% (167/302)   \rReceiving objects:  56% (170/302)   \rReceiving objects:  57% (173/302)   \rReceiving objects:  58% (176/302)   \rReceiving objects:  59% (179/302)   \rReceiving objects:  60% (182/302)   \rReceiving objects:  61% (185/302)   \rReceiving objects:  62% (188/302)   \rReceiving objects:  63% (191/302)   \rReceiving objects:  64% (194/302)   \rReceiving objects:  65% (197/302)   \rReceiving objects:  66% (200/302)   \rReceiving objects:  67% (203/302)   \rremote: Total 302 (delta 53), reused 59 (delta 28), pack-reused 211\u001b[K\n",
            "Receiving objects:  68% (206/302)   \rReceiving objects:  69% (209/302)   \rReceiving objects:  70% (212/302)   \rReceiving objects:  71% (215/302)   \rReceiving objects:  72% (218/302)   \rReceiving objects:  73% (221/302)   \rReceiving objects:  74% (224/302)   \rReceiving objects:  75% (227/302)   \rReceiving objects:  76% (230/302)   \rReceiving objects:  77% (233/302)   \rReceiving objects:  78% (236/302)   \rReceiving objects:  79% (239/302)   \rReceiving objects:  80% (242/302)   \rReceiving objects:  81% (245/302)   \rReceiving objects:  82% (248/302)   \rReceiving objects:  83% (251/302)   \rReceiving objects:  84% (254/302)   \rReceiving objects:  85% (257/302)   \rReceiving objects:  86% (260/302)   \rReceiving objects:  87% (263/302)   \rReceiving objects:  88% (266/302)   \rReceiving objects:  89% (269/302)   \rReceiving objects:  90% (272/302)   \rReceiving objects:  91% (275/302)   \rReceiving objects:  92% (278/302)   \rReceiving objects:  93% (281/302)   \rReceiving objects:  94% (284/302)   \rReceiving objects:  95% (287/302)   \rReceiving objects:  96% (290/302)   \rReceiving objects:  97% (293/302)   \rReceiving objects:  98% (296/302)   \rReceiving objects:  99% (299/302)   \rReceiving objects: 100% (302/302)   \rReceiving objects: 100% (302/302), 1.45 MiB | 9.53 MiB/s, done.\n",
            "Resolving deltas: 100% (171/171), done.\n",
            "\u001b[K     |████████████████████████████████| 102kB 3.6MB/s \n",
            "\u001b[K     |████████████████████████████████| 675kB 9.3MB/s \n",
            "\u001b[K     |████████████████████████████████| 1.1MB 20.2MB/s \n",
            "\u001b[K     |████████████████████████████████| 3.8MB 33.0MB/s \n",
            "\u001b[K     |████████████████████████████████| 890kB 55.9MB/s \n",
            "\u001b[?25h  Building wheel for sacremoses (setup.py) ... \u001b[?25l\u001b[?25hdone\n"
          ],
          "name": "stdout"
        }
      ]
    },
    {
      "cell_type": "markdown",
      "metadata": {
        "id": "hAYiZO6Teo-y",
        "colab_type": "text"
      },
      "source": [
        "# Libs"
      ]
    },
    {
      "cell_type": "code",
      "metadata": {
        "id": "Nok2mtt_1021",
        "colab_type": "code",
        "colab": {}
      },
      "source": [
        "# Basics\n",
        "import numpy as np\n",
        "import pandas as pd\n",
        "import random\n",
        "\n",
        "# Synthetic data generator\n",
        "from syntetic_data import DateTextGenerator\n",
        "from syntetic_data import RelativeDateTextGenerator\n",
        "\n",
        "# PyTorch\n",
        "import torch \n",
        "import torch.nn.functional as F\n",
        "from torch.utils.data import Dataset, DataLoader\n",
        "\n",
        "# Sklearn\n",
        "from sklearn.model_selection import train_test_split\n",
        "\n",
        "# Transformers\n",
        "from transformers import T5Tokenizer, T5ForConditionalGeneration, AdamW\n",
        "\n",
        "# Matplot lib\n",
        "import matplotlib.pyplot as plt"
      ],
      "execution_count": 0,
      "outputs": []
    },
    {
      "cell_type": "markdown",
      "metadata": {
        "id": "HhdTvVgiYBw0",
        "colab_type": "text"
      },
      "source": [
        "### Deterministic experiments"
      ]
    },
    {
      "cell_type": "code",
      "metadata": {
        "id": "zm7tAsiUYMOU",
        "colab_type": "code",
        "outputId": "9f33be7b-4c96-4bca-8c03-3f30ad2876e2",
        "colab": {
          "base_uri": "https://localhost:8080/",
          "height": 54
        }
      },
      "source": [
        "manual_seed = 2357 # only primes, cuz I like\n",
        "def deterministic(rep=True):\n",
        "    if rep:\n",
        "        np.random.seed(manual_seed)\n",
        "        torch.manual_seed(manual_seed)\n",
        "        if torch.cuda.is_available():\n",
        "            torch.cuda.manual_seed(manual_seed)\n",
        "            torch.cuda.manual_seed_all(manual_seed)\n",
        "        torch.backends.cudnn.enabled = False \n",
        "        torch.backends.cudnn.benchmark = False\n",
        "        torch.backends.cudnn.deterministic = True\n",
        "        print(f'Deterministic experiment, seed: {manual_seed}')\n",
        "    else:\n",
        "        print('Random experiment')\n",
        "\n",
        "deterministic()\n",
        "\n",
        "device = torch.device('cuda' if torch.cuda.is_available() else 'cpu')\n",
        "print(f'Using device: {device}')"
      ],
      "execution_count": 4,
      "outputs": [
        {
          "output_type": "stream",
          "text": [
            "Deterministic experiment, seed: 2357\n",
            "Using device: cuda\n"
          ],
          "name": "stdout"
        }
      ]
    },
    {
      "cell_type": "markdown",
      "metadata": {
        "id": "BFHYoyzwOHDO",
        "colab_type": "text"
      },
      "source": [
        "# Config constants"
      ]
    },
    {
      "cell_type": "code",
      "metadata": {
        "id": "8r8O913HOK9F",
        "colab_type": "code",
        "outputId": "b1161338-4469-41bb-95c5-b1484b9ede8f",
        "colab": {
          "base_uri": "https://localhost:8080/",
          "height": 67,
          "referenced_widgets": [
            "ccf9aa0e5c2f449898e811ed0deda392",
            "5abf282ef6b34efda9660d414a566515",
            "a2528892dc134aecbe70fe60f4c98bc7",
            "a829824c8f3b4723b2669e4cfb172911",
            "6ddde6187bec40688385f83281ebc732",
            "7f4f3fcffa144922b2bcd9b1d0bc2411",
            "e6e66a8da2d448c59966127c78155263",
            "c24856b2f5714aa68e88bb4abc4a083c"
          ]
        }
      },
      "source": [
        "# Dataset params\n",
        "LANGUAGE = 'en'\n",
        "\n",
        "# Model params\n",
        "MODEL_SZ = 't5-small' # 't5-base'\n",
        "TOK = T5Tokenizer.from_pretrained(MODEL_SZ)\n",
        "MAX_LEN_SRC  = 48\n",
        "MAX_LEN_TRGT = 12\n",
        "\n",
        "\n",
        "# Train params\n",
        "BATCH_SZ = 16\n",
        "N_EPOCHS = 50\n",
        "WINDOW   = 7"
      ],
      "execution_count": 5,
      "outputs": [
        {
          "output_type": "display_data",
          "data": {
            "application/vnd.jupyter.widget-view+json": {
              "model_id": "ccf9aa0e5c2f449898e811ed0deda392",
              "version_minor": 0,
              "version_major": 2
            },
            "text/plain": [
              "HBox(children=(FloatProgress(value=0.0, description='Downloading', max=791656.0, style=ProgressStyle(descripti…"
            ]
          },
          "metadata": {
            "tags": []
          }
        },
        {
          "output_type": "stream",
          "text": [
            "\n"
          ],
          "name": "stdout"
        }
      ]
    },
    {
      "cell_type": "markdown",
      "metadata": {
        "id": "1yeoFiMYXe8Z",
        "colab_type": "text"
      },
      "source": [
        "# Dataset"
      ]
    },
    {
      "cell_type": "code",
      "metadata": {
        "id": "eZ52EJP6Fy5v",
        "colab_type": "code",
        "outputId": "153f277e-d7e3-464b-f7b9-a40fa55ff898",
        "colab": {
          "base_uri": "https://localhost:8080/",
          "height": 54
        }
      },
      "source": [
        "pd.set_option('display.max_rows',70)\n",
        "\n",
        "print('Generating absolute and incomplete dates')\n",
        "dates = DateTextGenerator(start_date='01/01/1921',\n",
        "                          end_date='31/12/2120',\n",
        "                          text_noise_rate=0.1,\n",
        "                          language=LANGUAGE)\n",
        "\n",
        "print('Generating relative dates')\n",
        "rel_dates = RelativeDateTextGenerator(n_samples=100, text_noise_rate=0.0,\n",
        "                                       max_noise_occurences_per_sample=3,\n",
        "                                       samples_per_method=18,\n",
        "                                       language=LANGUAGE)\n",
        "\n",
        "df = dates.generate_date_dataset()\n",
        "df = df.append(rel_dates.generate_date_dataset(),ignore_index=True)"
      ],
      "execution_count": 130,
      "outputs": [
        {
          "output_type": "stream",
          "text": [
            "Generating absolute and incomplete dates\n",
            "Generating relative dates\n"
          ],
          "name": "stdout"
        }
      ]
    },
    {
      "cell_type": "code",
      "metadata": {
        "id": "WdMrRLTELs-L",
        "colab_type": "code",
        "outputId": "5843af04-d667-4263-f6c4-5977991e24d8",
        "colab": {
          "base_uri": "https://localhost:8080/",
          "height": 198
        }
      },
      "source": [
        "df.tail()"
      ],
      "execution_count": 131,
      "outputs": [
        {
          "output_type": "execute_result",
          "data": {
            "text/html": [
              "<div>\n",
              "<style scoped>\n",
              "    .dataframe tbody tr th:only-of-type {\n",
              "        vertical-align: middle;\n",
              "    }\n",
              "\n",
              "    .dataframe tbody tr th {\n",
              "        vertical-align: top;\n",
              "    }\n",
              "\n",
              "    .dataframe thead th {\n",
              "        text-align: right;\n",
              "    }\n",
              "</style>\n",
              "<table border=\"1\" class=\"dataframe\">\n",
              "  <thead>\n",
              "    <tr style=\"text-align: right;\">\n",
              "      <th></th>\n",
              "      <th>Input Pattern</th>\n",
              "      <th>Noise Type</th>\n",
              "      <th>Input</th>\n",
              "      <th>Target</th>\n",
              "      <th>Target Format</th>\n",
              "    </tr>\n",
              "  </thead>\n",
              "  <tbody>\n",
              "    <tr>\n",
              "      <th>84606</th>\n",
              "      <td>15</td>\n",
              "      <td>N/A</td>\n",
              "      <td>during 100 months</td>\n",
              "      <td>100m</td>\n",
              "      <td>Relative</td>\n",
              "    </tr>\n",
              "    <tr>\n",
              "      <th>84607</th>\n",
              "      <td>3</td>\n",
              "      <td>N/A</td>\n",
              "      <td>100 months ago</td>\n",
              "      <td>-100m</td>\n",
              "      <td>Relative</td>\n",
              "    </tr>\n",
              "    <tr>\n",
              "      <th>84608</th>\n",
              "      <td>17</td>\n",
              "      <td>N/A</td>\n",
              "      <td>during 100 years</td>\n",
              "      <td>100y</td>\n",
              "      <td>Relative</td>\n",
              "    </tr>\n",
              "    <tr>\n",
              "      <th>84609</th>\n",
              "      <td>1</td>\n",
              "      <td>N/A</td>\n",
              "      <td>100 days ago</td>\n",
              "      <td>-100d</td>\n",
              "      <td>Relative</td>\n",
              "    </tr>\n",
              "    <tr>\n",
              "      <th>84610</th>\n",
              "      <td>4</td>\n",
              "      <td>N/A</td>\n",
              "      <td>one hundred months ago</td>\n",
              "      <td>-100m</td>\n",
              "      <td>Relative</td>\n",
              "    </tr>\n",
              "  </tbody>\n",
              "</table>\n",
              "</div>"
            ],
            "text/plain": [
              "       Input Pattern Noise Type                   Input Target Target Format\n",
              "84606             15        N/A       during 100 months   100m      Relative\n",
              "84607              3        N/A          100 months ago  -100m      Relative\n",
              "84608             17        N/A        during 100 years   100y      Relative\n",
              "84609              1        N/A            100 days ago  -100d      Relative\n",
              "84610              4        N/A  one hundred months ago  -100m      Relative"
            ]
          },
          "metadata": {
            "tags": []
          },
          "execution_count": 131
        }
      ]
    },
    {
      "cell_type": "code",
      "metadata": {
        "id": "wojl91rJNEmC",
        "colab_type": "code",
        "outputId": "e74c6579-6262-4574-9ea3-c7d07e44a4b7",
        "colab": {
          "base_uri": "https://localhost:8080/",
          "height": 108
        }
      },
      "source": [
        "df['Target Format'].value_counts()"
      ],
      "execution_count": 132,
      "outputs": [
        {
          "output_type": "execute_result",
          "data": {
            "text/plain": [
              "DD/MM/YYYY    73049\n",
              "MM/YYYY        7200\n",
              "DD/MM          2562\n",
              "Relative       1800\n",
              "Name: Target Format, dtype: int64"
            ]
          },
          "metadata": {
            "tags": []
          },
          "execution_count": 132
        }
      ]
    },
    {
      "cell_type": "code",
      "metadata": {
        "id": "UquMxgpcNO3t",
        "colab_type": "code",
        "outputId": "05970867-6eac-4586-d450-8b87f0500dca",
        "colab": {
          "base_uri": "https://localhost:8080/",
          "height": 407
        }
      },
      "source": [
        "df.loc[df['Target Format'] == 'MM/YYYY']"
      ],
      "execution_count": 133,
      "outputs": [
        {
          "output_type": "execute_result",
          "data": {
            "text/html": [
              "<div>\n",
              "<style scoped>\n",
              "    .dataframe tbody tr th:only-of-type {\n",
              "        vertical-align: middle;\n",
              "    }\n",
              "\n",
              "    .dataframe tbody tr th {\n",
              "        vertical-align: top;\n",
              "    }\n",
              "\n",
              "    .dataframe thead th {\n",
              "        text-align: right;\n",
              "    }\n",
              "</style>\n",
              "<table border=\"1\" class=\"dataframe\">\n",
              "  <thead>\n",
              "    <tr style=\"text-align: right;\">\n",
              "      <th></th>\n",
              "      <th>Input Pattern</th>\n",
              "      <th>Noise Type</th>\n",
              "      <th>Input</th>\n",
              "      <th>Target</th>\n",
              "      <th>Target Format</th>\n",
              "    </tr>\n",
              "  </thead>\n",
              "  <tbody>\n",
              "    <tr>\n",
              "      <th>75611</th>\n",
              "      <td>34</td>\n",
              "      <td>N/A</td>\n",
              "      <td>january.1921</td>\n",
              "      <td>01/1921</td>\n",
              "      <td>MM/YYYY</td>\n",
              "    </tr>\n",
              "    <tr>\n",
              "      <th>75612</th>\n",
              "      <td>17</td>\n",
              "      <td>N/A</td>\n",
              "      <td>01 one thousand, nine hundred and twenty-one</td>\n",
              "      <td>01/1921</td>\n",
              "      <td>MM/YYYY</td>\n",
              "    </tr>\n",
              "    <tr>\n",
              "      <th>75613</th>\n",
              "      <td>13</td>\n",
              "      <td>[remove_char_noise, unexpected_space_noise, lo...</td>\n",
              "      <td>J avary/1g2</td>\n",
              "      <td>01/1921</td>\n",
              "      <td>MM/YYYY</td>\n",
              "    </tr>\n",
              "    <tr>\n",
              "      <th>75614</th>\n",
              "      <td>42</td>\n",
              "      <td>N/A</td>\n",
              "      <td>feb/1921</td>\n",
              "      <td>02/1921</td>\n",
              "      <td>MM/YYYY</td>\n",
              "    </tr>\n",
              "    <tr>\n",
              "      <th>75615</th>\n",
              "      <td>37</td>\n",
              "      <td>N/A</td>\n",
              "      <td>feb . 1921</td>\n",
              "      <td>02/1921</td>\n",
              "      <td>MM/YYYY</td>\n",
              "    </tr>\n",
              "    <tr>\n",
              "      <th>...</th>\n",
              "      <td>...</td>\n",
              "      <td>...</td>\n",
              "      <td>...</td>\n",
              "      <td>...</td>\n",
              "      <td>...</td>\n",
              "    </tr>\n",
              "    <tr>\n",
              "      <th>82806</th>\n",
              "      <td>27</td>\n",
              "      <td>[remove_char_noise, unexpected_space_noise]</td>\n",
              "      <td>nvember - 2 12 0</td>\n",
              "      <td>11/2120</td>\n",
              "      <td>MM/YYYY</td>\n",
              "    </tr>\n",
              "    <tr>\n",
              "      <th>82807</th>\n",
              "      <td>19</td>\n",
              "      <td>N/A</td>\n",
              "      <td>11 two thousand, one hundred and twenty</td>\n",
              "      <td>11/2120</td>\n",
              "      <td>MM/YYYY</td>\n",
              "    </tr>\n",
              "    <tr>\n",
              "      <th>82808</th>\n",
              "      <td>22</td>\n",
              "      <td>N/A</td>\n",
              "      <td>12-2120</td>\n",
              "      <td>12/2120</td>\n",
              "      <td>MM/YYYY</td>\n",
              "    </tr>\n",
              "    <tr>\n",
              "      <th>82809</th>\n",
              "      <td>15</td>\n",
              "      <td>N/A</td>\n",
              "      <td>december two thousand, one hundred and twenty</td>\n",
              "      <td>12/2120</td>\n",
              "      <td>MM/YYYY</td>\n",
              "    </tr>\n",
              "    <tr>\n",
              "      <th>82810</th>\n",
              "      <td>2</td>\n",
              "      <td>N/A</td>\n",
              "      <td>dec of two thousand, one hundred and twenty</td>\n",
              "      <td>12/2120</td>\n",
              "      <td>MM/YYYY</td>\n",
              "    </tr>\n",
              "  </tbody>\n",
              "</table>\n",
              "<p>7200 rows × 5 columns</p>\n",
              "</div>"
            ],
            "text/plain": [
              "       Input Pattern  ... Target Format\n",
              "75611             34  ...       MM/YYYY\n",
              "75612             17  ...       MM/YYYY\n",
              "75613             13  ...       MM/YYYY\n",
              "75614             42  ...       MM/YYYY\n",
              "75615             37  ...       MM/YYYY\n",
              "...              ...  ...           ...\n",
              "82806             27  ...       MM/YYYY\n",
              "82807             19  ...       MM/YYYY\n",
              "82808             22  ...       MM/YYYY\n",
              "82809             15  ...       MM/YYYY\n",
              "82810              2  ...       MM/YYYY\n",
              "\n",
              "[7200 rows x 5 columns]"
            ]
          },
          "metadata": {
            "tags": []
          },
          "execution_count": 133
        }
      ]
    },
    {
      "cell_type": "code",
      "metadata": {
        "id": "7fBsISzKzIXj",
        "colab_type": "code",
        "outputId": "af9be621-3a4f-4584-f40c-06c56840f7fe",
        "colab": {
          "base_uri": "https://localhost:8080/",
          "height": 407
        }
      },
      "source": [
        "df.loc[df['Target Format'] == 'Relative']"
      ],
      "execution_count": 134,
      "outputs": [
        {
          "output_type": "execute_result",
          "data": {
            "text/html": [
              "<div>\n",
              "<style scoped>\n",
              "    .dataframe tbody tr th:only-of-type {\n",
              "        vertical-align: middle;\n",
              "    }\n",
              "\n",
              "    .dataframe tbody tr th {\n",
              "        vertical-align: top;\n",
              "    }\n",
              "\n",
              "    .dataframe thead th {\n",
              "        text-align: right;\n",
              "    }\n",
              "</style>\n",
              "<table border=\"1\" class=\"dataframe\">\n",
              "  <thead>\n",
              "    <tr style=\"text-align: right;\">\n",
              "      <th></th>\n",
              "      <th>Input Pattern</th>\n",
              "      <th>Noise Type</th>\n",
              "      <th>Input</th>\n",
              "      <th>Target</th>\n",
              "      <th>Target Format</th>\n",
              "    </tr>\n",
              "  </thead>\n",
              "  <tbody>\n",
              "    <tr>\n",
              "      <th>82811</th>\n",
              "      <td>7</td>\n",
              "      <td>N/A</td>\n",
              "      <td>for 1 day</td>\n",
              "      <td>1d</td>\n",
              "      <td>Relative</td>\n",
              "    </tr>\n",
              "    <tr>\n",
              "      <th>82812</th>\n",
              "      <td>17</td>\n",
              "      <td>N/A</td>\n",
              "      <td>during 1 year</td>\n",
              "      <td>1y</td>\n",
              "      <td>Relative</td>\n",
              "    </tr>\n",
              "    <tr>\n",
              "      <th>82813</th>\n",
              "      <td>13</td>\n",
              "      <td>N/A</td>\n",
              "      <td>during 1 day</td>\n",
              "      <td>1d</td>\n",
              "      <td>Relative</td>\n",
              "    </tr>\n",
              "    <tr>\n",
              "      <th>82814</th>\n",
              "      <td>3</td>\n",
              "      <td>N/A</td>\n",
              "      <td>1 month ago</td>\n",
              "      <td>-1m</td>\n",
              "      <td>Relative</td>\n",
              "    </tr>\n",
              "    <tr>\n",
              "      <th>82815</th>\n",
              "      <td>16</td>\n",
              "      <td>N/A</td>\n",
              "      <td>during one month</td>\n",
              "      <td>1m</td>\n",
              "      <td>Relative</td>\n",
              "    </tr>\n",
              "    <tr>\n",
              "      <th>...</th>\n",
              "      <td>...</td>\n",
              "      <td>...</td>\n",
              "      <td>...</td>\n",
              "      <td>...</td>\n",
              "      <td>...</td>\n",
              "    </tr>\n",
              "    <tr>\n",
              "      <th>84606</th>\n",
              "      <td>15</td>\n",
              "      <td>N/A</td>\n",
              "      <td>during 100 months</td>\n",
              "      <td>100m</td>\n",
              "      <td>Relative</td>\n",
              "    </tr>\n",
              "    <tr>\n",
              "      <th>84607</th>\n",
              "      <td>3</td>\n",
              "      <td>N/A</td>\n",
              "      <td>100 months ago</td>\n",
              "      <td>-100m</td>\n",
              "      <td>Relative</td>\n",
              "    </tr>\n",
              "    <tr>\n",
              "      <th>84608</th>\n",
              "      <td>17</td>\n",
              "      <td>N/A</td>\n",
              "      <td>during 100 years</td>\n",
              "      <td>100y</td>\n",
              "      <td>Relative</td>\n",
              "    </tr>\n",
              "    <tr>\n",
              "      <th>84609</th>\n",
              "      <td>1</td>\n",
              "      <td>N/A</td>\n",
              "      <td>100 days ago</td>\n",
              "      <td>-100d</td>\n",
              "      <td>Relative</td>\n",
              "    </tr>\n",
              "    <tr>\n",
              "      <th>84610</th>\n",
              "      <td>4</td>\n",
              "      <td>N/A</td>\n",
              "      <td>one hundred months ago</td>\n",
              "      <td>-100m</td>\n",
              "      <td>Relative</td>\n",
              "    </tr>\n",
              "  </tbody>\n",
              "</table>\n",
              "<p>1800 rows × 5 columns</p>\n",
              "</div>"
            ],
            "text/plain": [
              "       Input Pattern Noise Type                   Input Target Target Format\n",
              "82811              7        N/A               for 1 day     1d      Relative\n",
              "82812             17        N/A           during 1 year     1y      Relative\n",
              "82813             13        N/A            during 1 day     1d      Relative\n",
              "82814              3        N/A             1 month ago    -1m      Relative\n",
              "82815             16        N/A        during one month     1m      Relative\n",
              "...              ...        ...                     ...    ...           ...\n",
              "84606             15        N/A       during 100 months   100m      Relative\n",
              "84607              3        N/A          100 months ago  -100m      Relative\n",
              "84608             17        N/A        during 100 years   100y      Relative\n",
              "84609              1        N/A            100 days ago  -100d      Relative\n",
              "84610              4        N/A  one hundred months ago  -100m      Relative\n",
              "\n",
              "[1800 rows x 5 columns]"
            ]
          },
          "metadata": {
            "tags": []
          },
          "execution_count": 134
        }
      ]
    },
    {
      "cell_type": "code",
      "metadata": {
        "id": "Z5sp50kPNZhq",
        "colab_type": "code",
        "colab": {
          "base_uri": "https://localhost:8080/",
          "height": 216
        },
        "outputId": "e3929dd2-14b4-497c-a5be-b3250b350740"
      },
      "source": [
        "# Removing dates in the defined Target Format\n",
        "df = df.loc[df['Target Format'] == 'Relative']\n",
        "print(f'# of patterns: {df[\"Input Pattern\"].nunique()}')\n",
        "df.head()"
      ],
      "execution_count": 135,
      "outputs": [
        {
          "output_type": "stream",
          "text": [
            "# of patterns: 18\n"
          ],
          "name": "stdout"
        },
        {
          "output_type": "execute_result",
          "data": {
            "text/html": [
              "<div>\n",
              "<style scoped>\n",
              "    .dataframe tbody tr th:only-of-type {\n",
              "        vertical-align: middle;\n",
              "    }\n",
              "\n",
              "    .dataframe tbody tr th {\n",
              "        vertical-align: top;\n",
              "    }\n",
              "\n",
              "    .dataframe thead th {\n",
              "        text-align: right;\n",
              "    }\n",
              "</style>\n",
              "<table border=\"1\" class=\"dataframe\">\n",
              "  <thead>\n",
              "    <tr style=\"text-align: right;\">\n",
              "      <th></th>\n",
              "      <th>Input Pattern</th>\n",
              "      <th>Noise Type</th>\n",
              "      <th>Input</th>\n",
              "      <th>Target</th>\n",
              "      <th>Target Format</th>\n",
              "    </tr>\n",
              "  </thead>\n",
              "  <tbody>\n",
              "    <tr>\n",
              "      <th>82811</th>\n",
              "      <td>7</td>\n",
              "      <td>N/A</td>\n",
              "      <td>for 1 day</td>\n",
              "      <td>1d</td>\n",
              "      <td>Relative</td>\n",
              "    </tr>\n",
              "    <tr>\n",
              "      <th>82812</th>\n",
              "      <td>17</td>\n",
              "      <td>N/A</td>\n",
              "      <td>during 1 year</td>\n",
              "      <td>1y</td>\n",
              "      <td>Relative</td>\n",
              "    </tr>\n",
              "    <tr>\n",
              "      <th>82813</th>\n",
              "      <td>13</td>\n",
              "      <td>N/A</td>\n",
              "      <td>during 1 day</td>\n",
              "      <td>1d</td>\n",
              "      <td>Relative</td>\n",
              "    </tr>\n",
              "    <tr>\n",
              "      <th>82814</th>\n",
              "      <td>3</td>\n",
              "      <td>N/A</td>\n",
              "      <td>1 month ago</td>\n",
              "      <td>-1m</td>\n",
              "      <td>Relative</td>\n",
              "    </tr>\n",
              "    <tr>\n",
              "      <th>82815</th>\n",
              "      <td>16</td>\n",
              "      <td>N/A</td>\n",
              "      <td>during one month</td>\n",
              "      <td>1m</td>\n",
              "      <td>Relative</td>\n",
              "    </tr>\n",
              "  </tbody>\n",
              "</table>\n",
              "</div>"
            ],
            "text/plain": [
              "       Input Pattern Noise Type             Input Target Target Format\n",
              "82811              7        N/A         for 1 day     1d      Relative\n",
              "82812             17        N/A     during 1 year     1y      Relative\n",
              "82813             13        N/A      during 1 day     1d      Relative\n",
              "82814              3        N/A       1 month ago    -1m      Relative\n",
              "82815             16        N/A  during one month     1m      Relative"
            ]
          },
          "metadata": {
            "tags": []
          },
          "execution_count": 135
        }
      ]
    },
    {
      "cell_type": "code",
      "metadata": {
        "id": "8t6fSj8fyyya",
        "colab_type": "code",
        "outputId": "f2499285-b76b-46d4-cc6b-0fd690d2c8f4",
        "colab": {
          "base_uri": "https://localhost:8080/",
          "height": 198
        }
      },
      "source": [
        "# Inspecting the relative dates dataset\n",
        "df.head()"
      ],
      "execution_count": 136,
      "outputs": [
        {
          "output_type": "execute_result",
          "data": {
            "text/html": [
              "<div>\n",
              "<style scoped>\n",
              "    .dataframe tbody tr th:only-of-type {\n",
              "        vertical-align: middle;\n",
              "    }\n",
              "\n",
              "    .dataframe tbody tr th {\n",
              "        vertical-align: top;\n",
              "    }\n",
              "\n",
              "    .dataframe thead th {\n",
              "        text-align: right;\n",
              "    }\n",
              "</style>\n",
              "<table border=\"1\" class=\"dataframe\">\n",
              "  <thead>\n",
              "    <tr style=\"text-align: right;\">\n",
              "      <th></th>\n",
              "      <th>Input Pattern</th>\n",
              "      <th>Noise Type</th>\n",
              "      <th>Input</th>\n",
              "      <th>Target</th>\n",
              "      <th>Target Format</th>\n",
              "    </tr>\n",
              "  </thead>\n",
              "  <tbody>\n",
              "    <tr>\n",
              "      <th>82811</th>\n",
              "      <td>7</td>\n",
              "      <td>N/A</td>\n",
              "      <td>for 1 day</td>\n",
              "      <td>1d</td>\n",
              "      <td>Relative</td>\n",
              "    </tr>\n",
              "    <tr>\n",
              "      <th>82812</th>\n",
              "      <td>17</td>\n",
              "      <td>N/A</td>\n",
              "      <td>during 1 year</td>\n",
              "      <td>1y</td>\n",
              "      <td>Relative</td>\n",
              "    </tr>\n",
              "    <tr>\n",
              "      <th>82813</th>\n",
              "      <td>13</td>\n",
              "      <td>N/A</td>\n",
              "      <td>during 1 day</td>\n",
              "      <td>1d</td>\n",
              "      <td>Relative</td>\n",
              "    </tr>\n",
              "    <tr>\n",
              "      <th>82814</th>\n",
              "      <td>3</td>\n",
              "      <td>N/A</td>\n",
              "      <td>1 month ago</td>\n",
              "      <td>-1m</td>\n",
              "      <td>Relative</td>\n",
              "    </tr>\n",
              "    <tr>\n",
              "      <th>82815</th>\n",
              "      <td>16</td>\n",
              "      <td>N/A</td>\n",
              "      <td>during one month</td>\n",
              "      <td>1m</td>\n",
              "      <td>Relative</td>\n",
              "    </tr>\n",
              "  </tbody>\n",
              "</table>\n",
              "</div>"
            ],
            "text/plain": [
              "       Input Pattern Noise Type             Input Target Target Format\n",
              "82811              7        N/A         for 1 day     1d      Relative\n",
              "82812             17        N/A     during 1 year     1y      Relative\n",
              "82813             13        N/A      during 1 day     1d      Relative\n",
              "82814              3        N/A       1 month ago    -1m      Relative\n",
              "82815             16        N/A  during one month     1m      Relative"
            ]
          },
          "metadata": {
            "tags": []
          },
          "execution_count": 136
        }
      ]
    },
    {
      "cell_type": "markdown",
      "metadata": {
        "id": "Uif9PsFKRrxI",
        "colab_type": "text"
      },
      "source": [
        "## Function to split the dataset"
      ]
    },
    {
      "cell_type": "code",
      "metadata": {
        "id": "TfBx9nMkQ7Q8",
        "colab_type": "code",
        "outputId": "cfdeb126-6475-421a-d408-0f817e5b7daa",
        "colab": {
          "base_uri": "https://localhost:8080/",
          "height": 126
        }
      },
      "source": [
        "def split_data(df, test_size=0.2, verbose=True):\n",
        "    l = list(set(df['Input Pattern'].values))\n",
        "    num_test = int(len(l)*test_size)\n",
        "    test_methods = [random.randint(1, len(l)) for _ in range(num_test)]\n",
        "    print(test_methods)\n",
        "    df_test = df[df['Input Pattern'].isin(test_methods)]\n",
        "    print(df_test.shape)\n",
        "    x_test = df_test.Input.values\n",
        "    y_test = df_test.Target.values\n",
        "\n",
        "    df_train = df[~df['Input Pattern'].isin(test_methods)]\n",
        "\n",
        "    x_train, x_val, y_train, y_val = train_test_split(\n",
        "        df_train.Input.values,\n",
        "        df_train.Target.values,\n",
        "        shuffle=True, \n",
        "        test_size=test_size,\n",
        "        random_state=manual_seed\n",
        "        )\n",
        "    if verbose:\n",
        "        print(f'Date types of test set: {test_methods} with len: {len(test_methods)}')\n",
        "        print(f'x_train: {len(x_train)}  --  y_train: {len(y_train)}\\n\\\n",
        "x_val:   {len(x_val)}  --  y_val:   {len(y_val)}\\n\\\n",
        "x_test:  {len(x_test)}  --  y_test:  {len(y_test)}')\n",
        "\n",
        "    return x_train, y_train, x_val, y_val, x_test, y_test\n",
        "\n",
        "# creating sets\n",
        "x_train, y_train, x_val, y_val, x_test, y_test = split_data(df, \n",
        "                                                            test_size=0.25, \n",
        "                                                            verbose=True)"
      ],
      "execution_count": 137,
      "outputs": [
        {
          "output_type": "stream",
          "text": [
            "[3, 3, 16, 3]\n",
            "(200, 5)\n",
            "Date types of test set: [3, 3, 16, 3] with len: 4\n",
            "x_train: 1200  --  y_train: 1200\n",
            "x_val:   400  --  y_val:   400\n",
            "x_test:  200  --  y_test:  200\n"
          ],
          "name": "stdout"
        }
      ]
    },
    {
      "cell_type": "code",
      "metadata": {
        "id": "ygsMXnkCyrVZ",
        "colab_type": "code",
        "colab": {}
      },
      "source": [
        "class DateDataset(Dataset):\n",
        "    def __init__(self, data, label, tokenizer, source_max_length, target_max_length):\n",
        "        self.tokenizer = tokenizer\n",
        "        self.data = data\n",
        "        self.label = label\n",
        "        self.source_max_length = source_max_length\n",
        "        self.target_max_length = target_max_length\n",
        "        \n",
        "    def __len__(self):\n",
        "        return len(self.data)\n",
        "    \n",
        "    def __getitem__(self, idx):\n",
        "        source = self.data[idx]\n",
        "        target = self.label[idx]\n",
        "\n",
        "        source_tokenized = self.tokenizer.encode_plus(\n",
        "            f'{source} {self.tokenizer.eos_token}',\n",
        "            max_length=self.source_max_length,\n",
        "            pad_to_max_length=True,\n",
        "            return_tensors='pt')\n",
        "\n",
        "        target_tokenized = self.tokenizer.encode_plus(\n",
        "            f'{target} {self.tokenizer.eos_token}',\n",
        "            max_length=self.target_max_length,\n",
        "            pad_to_max_length=True,\n",
        "            return_tensors='pt')\n",
        "\n",
        "        source_token_ids = source_tokenized['input_ids'].squeeze()\n",
        "        source_mask = source_tokenized['attention_mask'].squeeze()\n",
        "        target_token_ids = target_tokenized['input_ids'].squeeze()\n",
        "        \n",
        "        return source_token_ids, source_mask, target_token_ids"
      ],
      "execution_count": 0,
      "outputs": []
    },
    {
      "cell_type": "markdown",
      "metadata": {
        "id": "cloyt0tIwIiD",
        "colab_type": "text"
      },
      "source": [
        "## Checking the DateDataset class"
      ]
    },
    {
      "cell_type": "code",
      "metadata": {
        "id": "ZoKiQXCvwGrP",
        "colab_type": "code",
        "outputId": "ab4c7ba2-dae6-4103-ee3c-b683635cda83",
        "colab": {
          "base_uri": "https://localhost:8080/",
          "height": 199
        }
      },
      "source": [
        "dataset_debug = DateDataset(\n",
        "    x_train, \n",
        "    y_train,\n",
        "    TOK,\n",
        "    MAX_LEN_SRC,\n",
        "    MAX_LEN_TRGT,\n",
        "    )\n",
        "\n",
        "dataloader_checking = DataLoader(\n",
        "    dataset_debug, \n",
        "    batch_size=1, \n",
        "    shuffle=True, \n",
        "    num_workers=0\n",
        "    )\n",
        "\n",
        "source_token_ids, source_mask, target_token_ids = next(iter(dataloader_checking))\n",
        "print(f'source_token_ids:\\n {source_token_ids} --- shape:{source_token_ids.shape}')\n",
        "print(f'source_mask:\\n {source_mask} --- shape:{source_mask.shape}')\n",
        "print(f'target_token_ids:\\n {target_token_ids} --- shape:{target_token_ids.shape}')"
      ],
      "execution_count": 139,
      "outputs": [
        {
          "output_type": "stream",
          "text": [
            "source_token_ids:\n",
            " tensor([[383, 968, 477,   1,   0,   0,   0,   0,   0,   0,   0,   0,   0,   0,\n",
            "           0,   0,   0,   0,   0,   0,   0,   0,   0,   0,   0,   0,   0,   0,\n",
            "           0,   0,   0,   0,   0,   0,   0,   0,   0,   0,   0,   0,   0,   0,\n",
            "           0,   0,   0,   0,   0,   0]]) --- shape:torch.Size([1, 48])\n",
            "source_mask:\n",
            " tensor([[1, 1, 1, 1, 0, 0, 0, 0, 0, 0, 0, 0, 0, 0, 0, 0, 0, 0, 0, 0, 0, 0, 0, 0,\n",
            "         0, 0, 0, 0, 0, 0, 0, 0, 0, 0, 0, 0, 0, 0, 0, 0, 0, 0, 0, 0, 0, 0, 0, 0]]) --- shape:torch.Size([1, 48])\n",
            "target_token_ids:\n",
            " tensor([[968,  26,   1,   0,   0,   0,   0,   0,   0,   0,   0,   0]]) --- shape:torch.Size([1, 12])\n"
          ],
          "name": "stdout"
        }
      ]
    },
    {
      "cell_type": "markdown",
      "metadata": {
        "id": "dG1O12UoWYaM",
        "colab_type": "text"
      },
      "source": [
        "## Datasets e Dataloaders"
      ]
    },
    {
      "cell_type": "code",
      "metadata": {
        "id": "s7AlRyeOW8GN",
        "colab_type": "code",
        "outputId": "180fe1b8-dead-44fa-c7db-a873f6f40b03",
        "colab": {
          "base_uri": "https://localhost:8080/",
          "height": 163
        }
      },
      "source": [
        "# datasets\n",
        "ds_debug = DateDataset(x_train[:BATCH_SZ], y_train[:BATCH_SZ], TOK, MAX_LEN_SRC, MAX_LEN_TRGT)\n",
        "ds_train = DateDataset(x_train, y_train, TOK, MAX_LEN_SRC, MAX_LEN_TRGT)\n",
        "ds_valid = DateDataset(x_val, y_val, TOK, MAX_LEN_SRC, MAX_LEN_TRGT)\n",
        "ds_test  = DateDataset(x_test, y_test, TOK, MAX_LEN_SRC, MAX_LEN_TRGT)\n",
        "\n",
        "print('Datasets len:')\n",
        "print(f'len ds_debug: {len(ds_debug)}')\n",
        "print(f'len ds_train: {len(ds_train)}')\n",
        "print(f'len ds_valid: {len(ds_valid)}')\n",
        "print(f'len ds_test:  {len(ds_test)}')\n",
        "\n",
        "# dataloaders\n",
        "dataloaders = {\n",
        "    'debug': DataLoader(\n",
        "         ds_debug,\n",
        "         batch_size=BATCH_SZ,\n",
        "         shuffle=True,\n",
        "         num_workers=2,\n",
        "         pin_memory=True),\n",
        "    'train': DataLoader(\n",
        "         ds_train,\n",
        "         batch_size=BATCH_SZ,\n",
        "         shuffle=True,\n",
        "         num_workers=2,\n",
        "         pin_memory=True),\n",
        "    'valid': DataLoader(\n",
        "         ds_valid,\n",
        "         batch_size=BATCH_SZ,\n",
        "         shuffle=False,\n",
        "         num_workers=2,\n",
        "         pin_memory=True),\n",
        "    'test': DataLoader(\n",
        "         ds_test,\n",
        "         batch_size=BATCH_SZ,\n",
        "         shuffle=False,\n",
        "         num_workers=2,\n",
        "         pin_memory=True),\n",
        "               }\n",
        "# sanity check\n",
        "print('\\nDataloaders len (in batch):')\n",
        "dl_sizes = {x: len(dataloaders[x]) for x in dataloaders.keys()}; dl_sizes"
      ],
      "execution_count": 140,
      "outputs": [
        {
          "output_type": "stream",
          "text": [
            "Datasets len:\n",
            "len ds_debug: 16\n",
            "len ds_train: 1200\n",
            "len ds_valid: 400\n",
            "len ds_test:  200\n",
            "\n",
            "Dataloaders len (in batch):\n"
          ],
          "name": "stdout"
        },
        {
          "output_type": "execute_result",
          "data": {
            "text/plain": [
              "{'debug': 1, 'test': 13, 'train': 75, 'valid': 25}"
            ]
          },
          "metadata": {
            "tags": []
          },
          "execution_count": 140
        }
      ]
    },
    {
      "cell_type": "code",
      "metadata": {
        "id": "x3rqg6r7am-N",
        "colab_type": "code",
        "colab": {}
      },
      "source": [
        "# testando o dataloader \n",
        "source_token_ids, source_mask, target_token_ids = next(iter(dataloaders['debug']))"
      ],
      "execution_count": 0,
      "outputs": []
    },
    {
      "cell_type": "code",
      "metadata": {
        "id": "Wb4AnOJzBXK7",
        "colab_type": "code",
        "colab": {}
      },
      "source": [
        "class Net(torch.nn.Module):\n",
        "    def __init__(self):\n",
        "        super(Net, self).__init__()\n",
        "        self.model = T5ForConditionalGeneration.from_pretrained(MODEL_SZ)\n",
        "    \n",
        "    def forward(self, token_ids, att_mask, labels):\n",
        "        outputs = self.model.forward(\n",
        "            input_ids=token_ids, \n",
        "            attention_mask=att_mask,\n",
        "            lm_labels=labels\n",
        "            )\n",
        "        return outputs[0] # loss\n",
        "    \n",
        "    @torch.no_grad()    \n",
        "    def generate(self, token_ids, att_mask, max_len_target):\n",
        "        predict = self.model.generate(\n",
        "            input_ids=token_ids, \n",
        "            attention_mask=att_mask,\n",
        "            max_length=max_len_target\n",
        "            )\n",
        "        return predict\n",
        "    \n",
        "    @torch.no_grad()  \n",
        "    def generate_example(self, text_input, tokenizer, max_len_source=MAX_LEN_SRC):\n",
        "\n",
        "        self.model.eval()\n",
        "        \n",
        "        example_tokenized = tokenizer.encode_plus(\n",
        "            f'{text_input} {tokenizer.eos_token}',\n",
        "            max_length=max_len_source,\n",
        "            pad_to_max_length=True,\n",
        "            return_tensors='pt')\n",
        "            \n",
        "        example_token_ids = example_tokenized['input_ids']\n",
        "        example_mask = example_tokenized['attention_mask']\n",
        "\n",
        "        predicted_example = self.model.generate(\n",
        "            input_ids=example_token_ids.to(device), \n",
        "            attention_mask=example_mask.to(device),\n",
        "            max_length=MAX_LEN_TRGT\n",
        "            )\n",
        "\n",
        "        self.model.train()\n",
        "\n",
        "        out_text = [tokenizer.decode(text) for text in predicted_example]\n",
        "        \n",
        "        return out_text"
      ],
      "execution_count": 0,
      "outputs": []
    },
    {
      "cell_type": "markdown",
      "metadata": {
        "id": "tq9AMCaNuWMU",
        "colab_type": "text"
      },
      "source": [
        "## Train and evaluation functions"
      ]
    },
    {
      "cell_type": "code",
      "metadata": {
        "id": "5X6hklAUXxGD",
        "colab_type": "code",
        "colab": {}
      },
      "source": [
        "# acc metric for text inputs\n",
        "def acc_in_text(trues, preds): \n",
        "    acc = []\n",
        "    for d in zip(trues, preds):\n",
        "        if d[0] == d[1]:\n",
        "            acc.append(1)\n",
        "        else:\n",
        "            acc.append(0)\n",
        "    return acc # bool\n",
        "\n",
        "def train(model, device, train_loader, optimizer):\n",
        "    loss_train = []\n",
        "    model.train()\n",
        "    for source_token_ids, source_mask, target_token_ids in train_loader:\n",
        "        optimizer.zero_grad()\n",
        "        loss = model(\n",
        "            source_token_ids.to(device), \n",
        "            source_mask.to(device), \n",
        "            target_token_ids.to(device)\n",
        "            )\n",
        "        \n",
        "        loss_train.append(loss.item())\n",
        "        loss.backward()\n",
        "        optimizer.step()\n",
        "    \n",
        "    train_losses = sum(loss_train) / len(loss_train)\n",
        "  \n",
        "    return train_losses\n",
        "\n",
        "def evaluate_fn(model, device, val_loader, max_len=MAX_LEN_TRGT):\n",
        "    loss_val, all_acc, all_preds, all_trues = [], [], [], []\n",
        "    model.eval()\n",
        "    for source_token_ids, source_mask, target_token_ids in val_loader:\n",
        "        predicted_ids = model.generate(\n",
        "            source_token_ids.to(device), \n",
        "            source_mask.to(device),\n",
        "            max_len\n",
        "            )\n",
        "        \n",
        "        preds = [TOK.decode(t) for t in predicted_ids]\n",
        "        trues = [TOK.decode(t) for t in target_token_ids]\n",
        "        acc = acc_in_text(trues, preds)\n",
        "        all_acc.extend(acc)\n",
        "        all_trues.extend(trues)\n",
        "        all_preds.extend(preds)\n",
        "        \n",
        "        # val loss   \n",
        "        loss = model(\n",
        "        source_token_ids.to(device), \n",
        "        source_mask.to(device), \n",
        "        target_token_ids.to(device)\n",
        "        )\n",
        "        loss_val.append(loss.item())\n",
        "    \n",
        "    val_losses = sum(loss_val) / len(loss_val)\n",
        "    \n",
        "    return val_losses, np.array(all_acc).mean(), all_trues, all_preds"
      ],
      "execution_count": 0,
      "outputs": []
    },
    {
      "cell_type": "markdown",
      "metadata": {
        "id": "pirS1mecELqp",
        "colab_type": "text"
      },
      "source": [
        "# Overfit in one batch \n",
        "- dataloader debug"
      ]
    },
    {
      "cell_type": "code",
      "metadata": {
        "id": "R2PxRYyfn_UO",
        "colab_type": "code",
        "colab": {}
      },
      "source": [
        "overfit = False\n",
        "\n",
        "if overfit:\n",
        "\n",
        "    start = torch.cuda.Event(enable_timing=True)\n",
        "    end = torch.cuda.Event(enable_timing=True)\n",
        "    deterministic() \n",
        "\n",
        "    model = Net().to(device)\n",
        "    optimizer = torch.optim.AdamW(model.parameters(), lr=5e-5)\n",
        "    \n",
        "    # -----------------------------------------------------------------------------\n",
        "    start.record()\n",
        "    for step in range(1, 1001):\n",
        "        samp = random.randint(0, BATCH_SZ-WINDOW) # to show random trues and preds\n",
        "        loss_t = train(model, device, dataloaders['debug'], optimizer)\n",
        "        loss,acc, trues, preds = evaluate_fn(model, device, dataloaders['debug'])\n",
        "        if step == 1:\n",
        "            print(f'[Epoch: {step}/{1000}] |', end=' ')\n",
        "            print(f'Train Loss: {loss_t:.3f} -- Acc: {acc:.3f}')\n",
        "        if step % 100 == 0:\n",
        "            print(f'[Epoch: {step}/{1000}] |', end=' ')\n",
        "            print(f'Train Loss: {loss_t:.3f} -- Acc: {acc:.3f}')\n",
        "            print(f'  Trues: {trues[samp:samp+WINDOW]}\\n  Preds: {preds[samp:samp+WINDOW]}')\n",
        "        if acc>= 0.99:\n",
        "          print('The model has overfitted! Breaking the loop :)')\n",
        "          break\n",
        "    end.record()\n",
        "    torch.cuda.synchronize()    \n",
        "    # -----------------------------------------------------------------------------\n",
        "\n",
        "    print(f'Training time: {start.elapsed_time(end)/1000/60 :.3f} min.')\n",
        "    del model"
      ],
      "execution_count": 0,
      "outputs": []
    },
    {
      "cell_type": "markdown",
      "metadata": {
        "id": "wQC8YJ8PT7-0",
        "colab_type": "text"
      },
      "source": [
        "# Training "
      ]
    },
    {
      "cell_type": "code",
      "metadata": {
        "id": "dNtIb8b4Q4lC",
        "colab_type": "code",
        "outputId": "3eca6041-6f4b-42a2-97f5-7424a546a647",
        "colab": {
          "base_uri": "https://localhost:8080/",
          "height": 599
        }
      },
      "source": [
        "try:\n",
        "  del model\n",
        "except:\n",
        "  print('Model already erased, starting a new one!')\n",
        "  \n",
        "start = torch.cuda.Event(enable_timing=True)\n",
        "end = torch.cuda.Event(enable_timing=True)\n",
        "deterministic() \n",
        "\n",
        "model = Net().to(device)\n",
        "optimizer = torch.optim.AdamW(model.parameters(), lr=5e-5)\n",
        "\n",
        "N_EPOCHS = 10\n",
        "\n",
        "# ---------------------------------------------------------------------------------\n",
        "start.record()\n",
        "for step in range(1, N_EPOCHS+1):\n",
        "    samp = random.randint(0, BATCH_SZ-WINDOW) # to show random trues and preds\n",
        "    loss_t = train(model, device, dataloaders['train'], optimizer)\n",
        "    loss_v, acc, trues, preds = evaluate_fn(model, device, dataloaders['valid'])\n",
        "    print(f'[Epoch: {step}/{N_EPOCHS}] |', end=' ')\n",
        "    print(f'Train Loss: {loss_t:.3f} -- Valid Loss: {loss_v:.3f} -- Acc: {acc:.3f}')\n",
        "    print(f'  Trues: {trues[samp:samp+WINDOW]}\\n  Preds: {preds[samp:samp+WINDOW]}')\n",
        "\n",
        "end.record()\n",
        "torch.cuda.synchronize()    \n",
        "# ---------------------------------------------------------------------------------\n",
        "\n",
        "print(f'Training time: {start.elapsed_time(end)/1000/60 :.3f} min.')"
      ],
      "execution_count": 147,
      "outputs": [
        {
          "output_type": "stream",
          "text": [
            "Deterministic experiment, seed: 2357\n",
            "[Epoch: 1/10] | Train Loss: 3.929 -- Valid Loss: 1.031 -- Acc: 0.000\n",
            "  Trues: ['10y', '63d', '-37m', '-75m', '47m', '-65d', '-4y']\n",
            "  Preds: ['', '', '', '', '', '', '']\n",
            "[Epoch: 2/10] | Train Loss: 1.145 -- Valid Loss: 0.223 -- Acc: 0.552\n",
            "  Trues: ['-65d', '-4y', '-95d', '14y', '26m', '8y', '89d']\n",
            "  Preds: ['65d', 'Vier ans', '95d', '14y', '26m', '8y', ' ⁇   ⁇   ⁇   ⁇  ⁇  ⁇  ⁇ ']\n",
            "[Epoch: 3/10] | Train Loss: 0.361 -- Valid Loss: 0.105 -- Acc: 0.677\n",
            "  Trues: ['63d', '-37m', '-75m', '47m', '-65d', '-4y', '-95d']\n",
            "  Preds: ['63d', '-37m', '-75m', '47m', '65d', '-4y', '95d']\n",
            "[Epoch: 4/10] | Train Loss: 0.215 -- Valid Loss: 0.064 -- Acc: 0.810\n",
            "  Trues: ['-75m', '47m', '-65d', '-4y', '-95d', '14y', '26m']\n",
            "  Preds: ['-75m', '47m', '-65d', '-4y', '-95d', '-14y', '26m']\n",
            "[Epoch: 5/10] | Train Loss: 0.145 -- Valid Loss: 0.043 -- Acc: 0.930\n",
            "  Trues: ['-37m', '-75m', '47m', '-65d', '-4y', '-95d', '14y']\n",
            "  Preds: ['-37m', '-75m', '47m', '-65d', '-4y', '-95d', '14y']\n",
            "[Epoch: 6/10] | Train Loss: 0.107 -- Valid Loss: 0.032 -- Acc: 0.940\n",
            "  Trues: ['-75m', '47m', '-65d', '-4y', '-95d', '14y', '26m']\n",
            "  Preds: ['-75m', '47m', '-65d', '-4y', '-95d', '14y', '26m']\n",
            "[Epoch: 7/10] | Train Loss: 0.082 -- Valid Loss: 0.025 -- Acc: 0.950\n",
            "  Trues: ['-4y', '-95d', '14y', '26m', '8y', '89d', '58m']\n",
            "  Preds: ['-4y', '-95d', '14y', '26m', '8y', '88d', '58m']\n",
            "[Epoch: 8/10] | Train Loss: 0.066 -- Valid Loss: 0.020 -- Acc: 0.955\n",
            "  Trues: ['10y', '63d', '-37m', '-75m', '47m', '-65d', '-4y']\n",
            "  Preds: ['10y', '63d', '-37m', '-75m', '47m', '-65d', '-4y']\n",
            "[Epoch: 9/10] | Train Loss: 0.055 -- Valid Loss: 0.018 -- Acc: 0.958\n",
            "  Trues: ['10y', '63d', '-37m', '-75m', '47m', '-65d', '-4y']\n",
            "  Preds: ['10y', '63d', '-37m', '-75m', '47m', '-65d', '-4y']\n",
            "[Epoch: 10/10] | Train Loss: 0.048 -- Valid Loss: 0.016 -- Acc: 0.965\n",
            "  Trues: ['10y', '63d', '-37m', '-75m', '47m', '-65d', '-4y']\n",
            "  Preds: ['10y', '63d', '-37m', '-75m', '47m', '-65d', '-4y']\n",
            "Training time: 1.284 min.\n"
          ],
          "name": "stdout"
        }
      ]
    },
    {
      "cell_type": "markdown",
      "metadata": {
        "id": "GWAhh3gOgg2c",
        "colab_type": "text"
      },
      "source": [
        "# Test"
      ]
    },
    {
      "cell_type": "code",
      "metadata": {
        "id": "RfRFVIBSgiau",
        "colab_type": "code",
        "outputId": "167779f6-45bc-4ed0-a096-68399af6349b",
        "colab": {
          "base_uri": "https://localhost:8080/",
          "height": 90
        }
      },
      "source": [
        "# ---------------------------------------------------------------------------------\n",
        "start.record()\n",
        "\n",
        "samp = random.randint(0, BATCH_SZ-WINDOW) # to show random trues and preds\n",
        "loss, acc, trues, preds = evaluate_fn(model, device, dataloaders['test'])\n",
        "print(f'Loss: {loss:.3f} -- Acc: {acc:.3f}')\n",
        "print(f' Trues: {trues[samp:samp+WINDOW]}\\n  Preds: {preds[samp:samp+WINDOW]}')\n",
        "\n",
        "end.record()\n",
        "torch.cuda.synchronize()    \n",
        "# ---------------------------------------------------------------------------------\n",
        "\n",
        "print(f'Test time: {start.elapsed_time(end)/1000/60 :.3f} min.')"
      ],
      "execution_count": 148,
      "outputs": [
        {
          "output_type": "stream",
          "text": [
            "Loss: 0.012 -- Acc: 0.975\n",
            " Trues: ['5m', '-5m', '-6m', '6m', '-7m', '7m', '8m']\n",
            "  Preds: ['5m', '-5m', '-6m', '6m', '-7m', '7m', '8m']\n",
            "Test time: 0.020 min.\n"
          ],
          "name": "stdout"
        }
      ]
    },
    {
      "cell_type": "markdown",
      "metadata": {
        "id": "IolU6MNgtPA1",
        "colab_type": "text"
      },
      "source": [
        "# The End\n",
        "\n"
      ]
    }
  ]
}