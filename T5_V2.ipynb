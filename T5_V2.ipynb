{
  "nbformat": 4,
  "nbformat_minor": 0,
  "metadata": {
    "colab": {
      "name": "T5-V2.ipynb",
      "provenance": [],
      "authorship_tag": "ABX9TyMoC4G7KoyspuFy7/u/FQj0",
      "include_colab_link": true
    },
    "kernelspec": {
      "name": "python3",
      "display_name": "Python 3"
    },
    "accelerator": "GPU"
  },
  "cells": [
    {
      "cell_type": "markdown",
      "metadata": {
        "id": "view-in-github",
        "colab_type": "text"
      },
      "source": [
        "<a href=\"https://colab.research.google.com/github/textnorms/date_text_norm/blob/master/T5_V2.ipynb\" target=\"_parent\"><img src=\"https://colab.research.google.com/assets/colab-badge.svg\" alt=\"Open In Colab\"/></a>"
      ]
    },
    {
      "cell_type": "code",
      "metadata": {
        "id": "PcMfqlK-0HLY",
        "colab_type": "code",
        "outputId": "baa68874-0e36-4cf3-c14e-b812d626461e",
        "colab": {
          "base_uri": "https://localhost:8080/",
          "height": 326
        }
      },
      "source": [
        "! nvidia-smi"
      ],
      "execution_count": 1,
      "outputs": [
        {
          "output_type": "stream",
          "text": [
            "Mon May 25 15:15:25 2020       \n",
            "+-----------------------------------------------------------------------------+\n",
            "| NVIDIA-SMI 440.82       Driver Version: 418.67       CUDA Version: 10.1     |\n",
            "|-------------------------------+----------------------+----------------------+\n",
            "| GPU  Name        Persistence-M| Bus-Id        Disp.A | Volatile Uncorr. ECC |\n",
            "| Fan  Temp  Perf  Pwr:Usage/Cap|         Memory-Usage | GPU-Util  Compute M. |\n",
            "|===============================+======================+======================|\n",
            "|   0  Tesla P4            Off  | 00000000:00:04.0 Off |                    0 |\n",
            "| N/A   41C    P8     7W /  75W |      0MiB /  7611MiB |      0%      Default |\n",
            "+-------------------------------+----------------------+----------------------+\n",
            "                                                                               \n",
            "+-----------------------------------------------------------------------------+\n",
            "| Processes:                                                       GPU Memory |\n",
            "|  GPU       PID   Type   Process name                             Usage      |\n",
            "|=============================================================================|\n",
            "|  No running processes found                                                 |\n",
            "+-----------------------------------------------------------------------------+\n"
          ],
          "name": "stdout"
        }
      ]
    },
    {
      "cell_type": "code",
      "metadata": {
        "id": "c-1Lmkfv6g2j",
        "colab_type": "code",
        "outputId": "841ec883-c9fa-4643-ed71-f50249879473",
        "colab": {
          "base_uri": "https://localhost:8080/",
          "height": 145
        }
      },
      "source": [
        "! rm -rf date*\n",
        "! git clone https://github.com/textnorms/date_text_norm.git\n",
        "! cp -r date_text_norm/syntetic_data/ .\n",
        "\n",
        "!pip install -q num2words transformers\n",
        "! pip install -q transformers"
      ],
      "execution_count": 4,
      "outputs": [
        {
          "output_type": "stream",
          "text": [
            "Cloning into 'date_text_norm'...\n",
            "remote: Enumerating objects: 52, done.\u001b[K\n",
            "remote: Counting objects: 100% (52/52), done.\u001b[K\n",
            "remote: Compressing objects: 100% (37/37), done.\u001b[K\n",
            "remote: Total 52 (delta 22), reused 32 (delta 10), pack-reused 0\u001b[K\n",
            "Unpacking objects: 100% (52/52), done.\n",
            "\u001b[K     |████████████████████████████████| 102kB 5.9MB/s \n",
            "\u001b[?25h"
          ],
          "name": "stdout"
        }
      ]
    },
    {
      "cell_type": "code",
      "metadata": {
        "id": "Nok2mtt_1021",
        "colab_type": "code",
        "colab": {}
      },
      "source": [
        "# Basics\n",
        "import numpy as np\n",
        "import pandas as pd\n",
        "import random\n",
        "\n",
        "# Synthetic data generator\n",
        "from syntetic_data import DateTextGenerator\n",
        "\n",
        "# PyTorch\n",
        "import torch \n",
        "import torch.nn.functional as F\n",
        "from torch.utils.data import Dataset, DataLoader\n",
        "\n",
        "# Sklearn\n",
        "from sklearn.model_selection import train_test_split\n",
        "\n",
        "# Transformers\n",
        "from transformers import T5Tokenizer, T5ForConditionalGeneration, AdamW"
      ],
      "execution_count": 0,
      "outputs": []
    },
    {
      "cell_type": "markdown",
      "metadata": {
        "id": "HhdTvVgiYBw0",
        "colab_type": "text"
      },
      "source": [
        "### Deterministic experiments"
      ]
    },
    {
      "cell_type": "code",
      "metadata": {
        "id": "zm7tAsiUYMOU",
        "colab_type": "code",
        "outputId": "6b9ae337-cdc8-4bbc-b30a-25a0e00f2ffe",
        "colab": {
          "base_uri": "https://localhost:8080/",
          "height": 54
        }
      },
      "source": [
        "manual_seed = 2357 # only primes, cuz I like\n",
        "def deterministic(rep=True):\n",
        "    if rep:\n",
        "        np.random.seed(manual_seed)\n",
        "        torch.manual_seed(manual_seed)\n",
        "        if torch.cuda.is_available():\n",
        "            torch.cuda.manual_seed(manual_seed)\n",
        "            torch.cuda.manual_seed_all(manual_seed)\n",
        "        torch.backends.cudnn.enabled = False \n",
        "        torch.backends.cudnn.benchmark = False\n",
        "        torch.backends.cudnn.deterministic = True\n",
        "        print(f'Deterministic experiment, seed: {manual_seed}')\n",
        "    else:\n",
        "        print('Random experiment')\n",
        "\n",
        "deterministic()\n",
        "\n",
        "device = torch.device('cuda' if torch.cuda.is_available() else 'cpu')\n",
        "print(f'Using device: {device}')"
      ],
      "execution_count": 6,
      "outputs": [
        {
          "output_type": "stream",
          "text": [
            "Deterministic experiment, seed: 2357\n",
            "Using device: cuda\n"
          ],
          "name": "stdout"
        }
      ]
    },
    {
      "cell_type": "markdown",
      "metadata": {
        "id": "BFHYoyzwOHDO",
        "colab_type": "text"
      },
      "source": [
        "## Config constants"
      ]
    },
    {
      "cell_type": "code",
      "metadata": {
        "id": "8r8O913HOK9F",
        "colab_type": "code",
        "colab": {}
      },
      "source": [
        "# Model params\n",
        "MODEL_SZ = 't5-small'\n",
        "TOK = T5Tokenizer.from_pretrained(MODEL_SZ)\n",
        "MAX_LEN_SRC  = 40\n",
        "MAX_LEN_TRGT = 12\n",
        "\n",
        "# Train params\n",
        "BATCH_SZ = 128\n",
        "N_EPOCHS = 3\n",
        "WINDOW   = 7"
      ],
      "execution_count": 0,
      "outputs": []
    },
    {
      "cell_type": "markdown",
      "metadata": {
        "id": "1yeoFiMYXe8Z",
        "colab_type": "text"
      },
      "source": [
        "# Dataset"
      ]
    },
    {
      "cell_type": "code",
      "metadata": {
        "id": "eZ52EJP6Fy5v",
        "colab_type": "code",
        "outputId": "2345aa84-8b0f-4c7a-c4a4-1ffb6beb99fa",
        "colab": {
          "base_uri": "https://localhost:8080/",
          "height": 181
        }
      },
      "source": [
        "datas = DateTextGenerator(start_date='01/01/1900',end_date='31/12/2020')\n",
        "datas.generate_demo(date='28/05/2020')"
      ],
      "execution_count": 8,
      "outputs": [
        {
          "output_type": "stream",
          "text": [
            "Gerando demostração dos formatos de datas geradas para a canônica: 28/05/2020\n",
            "Método: 1 --- vinte e oito do cinco de dois mil e vinte\n",
            "----------------------------------------------------------------------------------------------------\n",
            "Método: 2 --- 28.05.2020\n",
            "----------------------------------------------------------------------------------------------------\n",
            "Método: 3 --- vinte e oito de maio de dois mil e vinte\n",
            "----------------------------------------------------------------------------------------------------\n",
            "Método: 4 --- vinte e oito de mai de dois mil e vinte\n",
            "----------------------------------------------------------------------------------------------------\n"
          ],
          "name": "stdout"
        }
      ]
    },
    {
      "cell_type": "code",
      "metadata": {
        "id": "OpMWc1TrNvKS",
        "colab_type": "code",
        "colab": {
          "base_uri": "https://localhost:8080/",
          "height": 407
        },
        "outputId": "3e3eae47-b4d0-4dd7-bd26-44c3955c4290"
      },
      "source": [
        "df = datas.generate_date_dataset(); df"
      ],
      "execution_count": 9,
      "outputs": [
        {
          "output_type": "execute_result",
          "data": {
            "text/html": [
              "<div>\n",
              "<style scoped>\n",
              "    .dataframe tbody tr th:only-of-type {\n",
              "        vertical-align: middle;\n",
              "    }\n",
              "\n",
              "    .dataframe tbody tr th {\n",
              "        vertical-align: top;\n",
              "    }\n",
              "\n",
              "    .dataframe thead th {\n",
              "        text-align: right;\n",
              "    }\n",
              "</style>\n",
              "<table border=\"1\" class=\"dataframe\">\n",
              "  <thead>\n",
              "    <tr style=\"text-align: right;\">\n",
              "      <th></th>\n",
              "      <th>Tipo padrão</th>\n",
              "      <th>Entrada</th>\n",
              "      <th>Canônico</th>\n",
              "    </tr>\n",
              "  </thead>\n",
              "  <tbody>\n",
              "    <tr>\n",
              "      <th>0</th>\n",
              "      <td>1</td>\n",
              "      <td>um do um de mil, novecentos</td>\n",
              "      <td>01/01/1900</td>\n",
              "    </tr>\n",
              "    <tr>\n",
              "      <th>1</th>\n",
              "      <td>1</td>\n",
              "      <td>dois do um de mil, novecentos</td>\n",
              "      <td>02/01/1900</td>\n",
              "    </tr>\n",
              "    <tr>\n",
              "      <th>2</th>\n",
              "      <td>1</td>\n",
              "      <td>três do um de mil, novecentos</td>\n",
              "      <td>03/01/1900</td>\n",
              "    </tr>\n",
              "    <tr>\n",
              "      <th>3</th>\n",
              "      <td>1</td>\n",
              "      <td>quatro do um de mil, novecentos</td>\n",
              "      <td>04/01/1900</td>\n",
              "    </tr>\n",
              "    <tr>\n",
              "      <th>4</th>\n",
              "      <td>1</td>\n",
              "      <td>cinco do um de mil, novecentos</td>\n",
              "      <td>05/01/1900</td>\n",
              "    </tr>\n",
              "    <tr>\n",
              "      <th>...</th>\n",
              "      <td>...</td>\n",
              "      <td>...</td>\n",
              "      <td>...</td>\n",
              "    </tr>\n",
              "    <tr>\n",
              "      <th>176775</th>\n",
              "      <td>4</td>\n",
              "      <td>vinte e sete de dez de dois mil e vinte</td>\n",
              "      <td>27/12/2020</td>\n",
              "    </tr>\n",
              "    <tr>\n",
              "      <th>176776</th>\n",
              "      <td>4</td>\n",
              "      <td>vinte e oito de dez de dois mil e vinte</td>\n",
              "      <td>28/12/2020</td>\n",
              "    </tr>\n",
              "    <tr>\n",
              "      <th>176777</th>\n",
              "      <td>4</td>\n",
              "      <td>vinte e nove de dez de dois mil e vinte</td>\n",
              "      <td>29/12/2020</td>\n",
              "    </tr>\n",
              "    <tr>\n",
              "      <th>176778</th>\n",
              "      <td>4</td>\n",
              "      <td>trinta de dez de dois mil e vinte</td>\n",
              "      <td>30/12/2020</td>\n",
              "    </tr>\n",
              "    <tr>\n",
              "      <th>176779</th>\n",
              "      <td>4</td>\n",
              "      <td>trinta e um de dez de dois mil e vinte</td>\n",
              "      <td>31/12/2020</td>\n",
              "    </tr>\n",
              "  </tbody>\n",
              "</table>\n",
              "<p>176780 rows × 3 columns</p>\n",
              "</div>"
            ],
            "text/plain": [
              "       Tipo padrão                                  Entrada    Canônico\n",
              "0                1              um do um de mil, novecentos  01/01/1900\n",
              "1                1            dois do um de mil, novecentos  02/01/1900\n",
              "2                1            três do um de mil, novecentos  03/01/1900\n",
              "3                1          quatro do um de mil, novecentos  04/01/1900\n",
              "4                1           cinco do um de mil, novecentos  05/01/1900\n",
              "...            ...                                      ...         ...\n",
              "176775           4  vinte e sete de dez de dois mil e vinte  27/12/2020\n",
              "176776           4  vinte e oito de dez de dois mil e vinte  28/12/2020\n",
              "176777           4  vinte e nove de dez de dois mil e vinte  29/12/2020\n",
              "176778           4        trinta de dez de dois mil e vinte  30/12/2020\n",
              "176779           4   trinta e um de dez de dois mil e vinte  31/12/2020\n",
              "\n",
              "[176780 rows x 3 columns]"
            ]
          },
          "metadata": {
            "tags": []
          },
          "execution_count": 9
        }
      ]
    },
    {
      "cell_type": "markdown",
      "metadata": {
        "id": "Uif9PsFKRrxI",
        "colab_type": "text"
      },
      "source": [
        "## Function to split the dataset"
      ]
    },
    {
      "cell_type": "code",
      "metadata": {
        "id": "TfBx9nMkQ7Q8",
        "colab_type": "code",
        "colab": {
          "base_uri": "https://localhost:8080/",
          "height": 35
        },
        "outputId": "dafafe5c-61e9-42fb-83fb-1ad35b27881a"
      },
      "source": [
        "def split_data(data, labels, test_size=0.2):\n",
        "    x_train, x_test, y_train, y_test = train_test_split(\n",
        "        data,\n",
        "        labels,\n",
        "        shuffle=True, \n",
        "        test_size=test_size,\n",
        "        random_state=manual_seed\n",
        "        )\n",
        "    return x_train, x_test, y_train, y_test\n",
        "\n",
        "# creating test set\n",
        "x_train, x_test, y_train, y_test = split_data(df.Entrada.values, \n",
        "                                              df.Canônico.values, \n",
        "                                              test_size=0.2)\n",
        "\n",
        "# creating valid set\n",
        "x_train, x_val, y_train, y_val = split_data(x_train, \n",
        "                                            y_train, \n",
        "                                            test_size=0.2)\n",
        "\n",
        "# checking\n",
        "len(x_train), len(y_train), len(x_val), len(y_val), len(x_test), len(y_test)"
      ],
      "execution_count": 20,
      "outputs": [
        {
          "output_type": "execute_result",
          "data": {
            "text/plain": [
              "(113139, 113139, 28285, 28285, 35356, 35356)"
            ]
          },
          "metadata": {
            "tags": []
          },
          "execution_count": 20
        }
      ]
    },
    {
      "cell_type": "code",
      "metadata": {
        "id": "ygsMXnkCyrVZ",
        "colab_type": "code",
        "colab": {}
      },
      "source": [
        "class DateDataset(Dataset):\n",
        "    def __init__(self, data, label, tokenizer, source_max_length, target_max_length):\n",
        "        self.tokenizer = tokenizer\n",
        "        self.data = data\n",
        "        self.label = label\n",
        "        self.source_max_length = source_max_length\n",
        "        self.target_max_length = target_max_length\n",
        "        \n",
        "    def __len__(self):\n",
        "        return len(self.data)\n",
        "    \n",
        "    def __getitem__(self, idx):\n",
        "        source = self.data[idx]\n",
        "        target = self.label[idx]\n",
        "\n",
        "        source_tokenized = self.tokenizer.encode_plus(\n",
        "            f'{source} {self.tokenizer.eos_token}',\n",
        "            max_length=self.source_max_length,\n",
        "            pad_to_max_length=True,\n",
        "            return_tensors='pt')\n",
        "\n",
        "        target_tokenized = self.tokenizer.encode_plus(\n",
        "            f'{target} {self.tokenizer.eos_token}',\n",
        "            max_length=self.target_max_length,\n",
        "            pad_to_max_length=True,\n",
        "            return_tensors='pt')\n",
        "\n",
        "        source_token_ids = source_tokenized['input_ids'].squeeze()\n",
        "        source_mask = source_tokenized['attention_mask'].squeeze()\n",
        "        target_token_ids = target_tokenized['input_ids'].squeeze()\n",
        "        \n",
        "        return source_token_ids, source_mask, target_token_ids"
      ],
      "execution_count": 0,
      "outputs": []
    },
    {
      "cell_type": "markdown",
      "metadata": {
        "id": "cloyt0tIwIiD",
        "colab_type": "text"
      },
      "source": [
        "## Checking the DateDataset class"
      ]
    },
    {
      "cell_type": "code",
      "metadata": {
        "id": "ZoKiQXCvwGrP",
        "colab_type": "code",
        "outputId": "4f2635bc-acba-4d0d-dced-61098974d060",
        "colab": {
          "base_uri": "https://localhost:8080/",
          "height": 217
        }
      },
      "source": [
        "dataset_debug = DateDataset(\n",
        "    x_train, \n",
        "    y_train,\n",
        "    TOK,\n",
        "    MAX_LEN_SRC,\n",
        "    MAX_LEN_TRGT,\n",
        "    )\n",
        "\n",
        "dataloader_checking = DataLoader(\n",
        "    dataset_debug, \n",
        "    batch_size=1, \n",
        "    shuffle=True, \n",
        "    num_workers=0\n",
        "    )\n",
        "\n",
        "source_token_ids, source_mask, target_token_ids = next(iter(dataloader_checking))\n",
        "print(f'source_token_ids:\\n {source_token_ids} --- shape:{source_token_ids.shape}')\n",
        "print(f'source_mask:\\n {source_mask} --- shape:{source_mask.shape}')\n",
        "print(f'target_token_ids:\\n {target_token_ids} --- shape:{target_token_ids.shape}')"
      ],
      "execution_count": 22,
      "outputs": [
        {
          "output_type": "stream",
          "text": [
            "source_token_ids:\n",
            " tensor([[ 9264,  9368, 22224,     1,     0,     0,     0,     0,     0,     0,\n",
            "             0,     0,     0,     0,     0,     0,     0,     0,     0,     0,\n",
            "             0,     0,     0,     0,     0,     0,     0,     0,     0,     0,\n",
            "             0,     0,     0,     0,     0,     0,     0,     0,     0,     0]]) --- shape:torch.Size([1, 40])\n",
            "source_mask:\n",
            " tensor([[1, 1, 1, 1, 0, 0, 0, 0, 0, 0, 0, 0, 0, 0, 0, 0, 0, 0, 0, 0, 0, 0, 0, 0,\n",
            "         0, 0, 0, 0, 0, 0, 0, 0, 0, 0, 0, 0, 0, 0, 0, 0]]) --- shape:torch.Size([1, 40])\n",
            "target_token_ids:\n",
            " tensor([[  968, 18009,    87, 22224,     1,     0,     0,     0,     0,     0,\n",
            "             0,     0]]) --- shape:torch.Size([1, 12])\n"
          ],
          "name": "stdout"
        }
      ]
    },
    {
      "cell_type": "markdown",
      "metadata": {
        "id": "dG1O12UoWYaM",
        "colab_type": "text"
      },
      "source": [
        "## Datasets e Dataloaders"
      ]
    },
    {
      "cell_type": "code",
      "metadata": {
        "id": "s7AlRyeOW8GN",
        "colab_type": "code",
        "outputId": "a916d05b-9e45-4ac5-e3af-5a8edb57e3a1",
        "colab": {
          "base_uri": "https://localhost:8080/",
          "height": 163
        }
      },
      "source": [
        "# datasets\n",
        "ds_debug = DateDataset(x_train[:BATCH_SZ], y_train[:BATCH_SZ], TOK, MAX_LEN_SRC, MAX_LEN_TRGT)\n",
        "ds_train = DateDataset(x_train, y_train, TOK, MAX_LEN_SRC, MAX_LEN_TRGT)\n",
        "ds_valid = DateDataset(x_val, y_val, TOK, MAX_LEN_SRC, MAX_LEN_TRGT)\n",
        "ds_test  = DateDataset(x_test, y_test, TOK, MAX_LEN_SRC, MAX_LEN_TRGT)\n",
        "\n",
        "print('Datasets len:')\n",
        "print(f'len ds_debug: {len(ds_debug)}')\n",
        "print(f'len ds_train: {len(ds_train)}')\n",
        "print(f'len ds_valid: {len(ds_valid)}')\n",
        "print(f'len ds_test:  {len(ds_test)}')\n",
        "\n",
        "# dataloaders\n",
        "dataloaders = {\n",
        "    'debug': DataLoader(\n",
        "         ds_debug,\n",
        "         batch_size=BATCH_SZ,\n",
        "         shuffle=True,\n",
        "         num_workers=2,\n",
        "         pin_memory=True),\n",
        "    'train': DataLoader(\n",
        "         ds_train,\n",
        "         batch_size=BATCH_SZ,\n",
        "         shuffle=True,\n",
        "         num_workers=2,\n",
        "         pin_memory=True),\n",
        "    'valid': DataLoader(\n",
        "         ds_valid,\n",
        "         batch_size=BATCH_SZ,\n",
        "         shuffle=False,\n",
        "         num_workers=2,\n",
        "         pin_memory=True),\n",
        "    'test': DataLoader(\n",
        "         ds_test,\n",
        "         batch_size=BATCH_SZ,\n",
        "         shuffle=False,\n",
        "         num_workers=2,\n",
        "         pin_memory=True),\n",
        "               }\n",
        "# sanity check\n",
        "print('\\nDataloaders len (in batch):')\n",
        "dl_sizes = {x: len(dataloaders[x]) for x in dataloaders.keys()}; dl_sizes"
      ],
      "execution_count": 25,
      "outputs": [
        {
          "output_type": "stream",
          "text": [
            "Datasets len:\n",
            "len ds_debug: 128\n",
            "len ds_train: 113139\n",
            "len ds_valid: 28285\n",
            "len ds_test:  35356\n",
            "\n",
            "Dataloaders len (in batch):\n"
          ],
          "name": "stdout"
        },
        {
          "output_type": "execute_result",
          "data": {
            "text/plain": [
              "{'debug': 1, 'test': 277, 'train': 884, 'valid': 221}"
            ]
          },
          "metadata": {
            "tags": []
          },
          "execution_count": 25
        }
      ]
    },
    {
      "cell_type": "code",
      "metadata": {
        "id": "x3rqg6r7am-N",
        "colab_type": "code",
        "colab": {}
      },
      "source": [
        "# testando o dataloader \n",
        "source_token_ids, source_mask, target_token_ids = next(iter(dataloaders['test']))"
      ],
      "execution_count": 0,
      "outputs": []
    },
    {
      "cell_type": "code",
      "metadata": {
        "id": "Wb4AnOJzBXK7",
        "colab_type": "code",
        "colab": {}
      },
      "source": [
        "class Net(torch.nn.Module):\n",
        "    def __init__(self):\n",
        "        super(Net, self).__init__()\n",
        "        self.model = T5ForConditionalGeneration.from_pretrained(MODEL_SZ)\n",
        "    \n",
        "    def forward(self, token_ids, att_mask, labels):\n",
        "        outputs = self.model.forward(\n",
        "            input_ids=token_ids, \n",
        "            attention_mask=att_mask,\n",
        "            lm_labels=labels\n",
        "            )\n",
        "        return outputs[0] # loss\n",
        "    \n",
        "    @torch.no_grad()    \n",
        "    def generate(self, token_ids, att_mask, max_len_target):\n",
        "        predict = self.model.generate(\n",
        "            input_ids=token_ids, \n",
        "            attention_mask=att_mask,\n",
        "            max_length=max_len_target\n",
        "            )\n",
        "        return predict\n",
        "    \n",
        "    @torch.no_grad()  \n",
        "    def generate_example(self, text_input, tokenizer, max_len_source=MAX_LEN_SRC):\n",
        "\n",
        "        self.model.eval()\n",
        "        \n",
        "        example_tokenized = tokenizer.encode_plus(\n",
        "            f'{text_input} {tokenizer.eos_token}',\n",
        "            max_length=max_len_source,\n",
        "            pad_to_max_length=True,\n",
        "            return_tensors='pt')\n",
        "            \n",
        "        example_token_ids = example_tokenized['input_ids']\n",
        "        example_mask = example_tokenized['attention_mask']\n",
        "\n",
        "        predicted_example = self.model.generate(\n",
        "            input_ids=example_token_ids.to(device), \n",
        "            attention_mask=example_mask.to(device),\n",
        "            max_length=MAX_LEN_TRGT\n",
        "            )\n",
        "\n",
        "        self.model.train()\n",
        "\n",
        "        out_text = [tokenizer.decode(text) for text in predicted_example]\n",
        "        \n",
        "        return out_text"
      ],
      "execution_count": 0,
      "outputs": []
    },
    {
      "cell_type": "markdown",
      "metadata": {
        "id": "tq9AMCaNuWMU",
        "colab_type": "text"
      },
      "source": [
        "## Train and evaluation functions"
      ]
    },
    {
      "cell_type": "code",
      "metadata": {
        "id": "5X6hklAUXxGD",
        "colab_type": "code",
        "colab": {}
      },
      "source": [
        "# acc metric for text inputs\n",
        "def acc_in_text(trues, preds): \n",
        "    acc = []\n",
        "    for d in zip(trues, preds):\n",
        "        if d[0] == d[1]:\n",
        "            acc.append(1)\n",
        "        else:\n",
        "            acc.append(0)\n",
        "    return acc # bool\n",
        "\n",
        "def train(model, device, train_loader, optimizer):\n",
        "    loss_train = []\n",
        "    model.train()\n",
        "    for source_token_ids, source_mask, target_token_ids in train_loader:\n",
        "        optimizer.zero_grad()\n",
        "        loss = model(\n",
        "            source_token_ids.to(device), \n",
        "            source_mask.to(device), \n",
        "            target_token_ids.to(device)\n",
        "            )\n",
        "        \n",
        "        loss_train.append(loss.item())\n",
        "        loss.backward()\n",
        "        optimizer.step()\n",
        "  \n",
        "    return sum(loss_train) / len(loss_train)\n",
        "\n",
        "def evaluate_fn(model, device, val_loader, max_len=MAX_LEN_TRGT):\n",
        "    all_acc, all_preds, all_trues = [], [], []\n",
        "    model.eval()\n",
        "    for source_token_ids, source_mask, target_token_ids in val_loader:\n",
        "        predicted_ids = model.generate(\n",
        "            source_token_ids.to(device), \n",
        "            source_mask.to(device),\n",
        "            max_len\n",
        "            )\n",
        "        \n",
        "        preds = [TOK.decode(t) for t in predicted_ids]\n",
        "        trues = [TOK.decode(t) for t in target_token_ids]\n",
        "        acc = acc_in_text(trues, preds)\n",
        "        all_acc.extend(acc)\n",
        "        all_trues.extend(trues)\n",
        "        all_preds.extend(preds)\n",
        "        \n",
        "    return np.array(all_acc).mean(), all_trues, all_preds"
      ],
      "execution_count": 0,
      "outputs": []
    },
    {
      "cell_type": "markdown",
      "metadata": {
        "id": "pirS1mecELqp",
        "colab_type": "text"
      },
      "source": [
        "# Overfit in one batch \n",
        "- dataloader debug"
      ]
    },
    {
      "cell_type": "code",
      "metadata": {
        "id": "R2PxRYyfn_UO",
        "colab_type": "code",
        "outputId": "899fce88-935f-468b-e4f8-20f8b3f1aa42",
        "colab": {
          "base_uri": "https://localhost:8080/",
          "height": 617
        }
      },
      "source": [
        "overfit = False\n",
        "\n",
        "if overfit:\n",
        "\n",
        "    start = torch.cuda.Event(enable_timing=True)\n",
        "    end = torch.cuda.Event(enable_timing=True)\n",
        "    deterministic() \n",
        "\n",
        "    model = Net().to(device)\n",
        "    optimizer = torch.optim.AdamW(model.parameters(), lr=5e-5)\n",
        "    \n",
        "    # -----------------------------------------------------------------------------\n",
        "    start.record()\n",
        "    for step in range(1, 1001):\n",
        "        samp = random.randint(0, BATCH_SZ-WINDOW) # to show random trues and preds\n",
        "        loss_t = train(model, device, dataloaders['debug'], optimizer)\n",
        "        acc, trues, preds = evaluate_fn(model, device, dataloaders['debug'])\n",
        "        if step == 1:\n",
        "            print(f'[Epoch: {step}/{1000}] |', end=' ')\n",
        "            print(f'Train Loss: {loss_t:.3f} -- Acc: {acc:.3f}')\n",
        "        if step % 100 == 0:\n",
        "            print(f'[Epoch: {step}/{1000}] |', end=' ')\n",
        "            print(f'Train Loss: {loss_t:.3f} -- Acc: {acc:.3f}')\n",
        "            print(f'  Trues: {trues[samp:samp+WINDOW]}\\n  Preds: {preds[samp:samp+WINDOW]}')\n",
        "    end.record()\n",
        "    torch.cuda.synchronize()    \n",
        "    # -----------------------------------------------------------------------------\n",
        "\n",
        "    print(f'Training time: {start.elapsed_time(end)/1000/60 :.3f} min.')\n",
        "    del model"
      ],
      "execution_count": 34,
      "outputs": [
        {
          "output_type": "stream",
          "text": [
            "Deterministic experiment, seed: 2357\n",
            "[Epoch: 1/1000] | Train Loss: 11.621 -- Acc: 0.000\n",
            "[Epoch: 100/1000] | Train Loss: 1.174 -- Acc: 0.203\n",
            "  Trues: ['07/06/1928', '16/09/1925', '18/12/1946', '11/04/2005', '11/11/1982', '14/08/1927', '04/10/1907']\n",
            "  Preds: ['07/06/1928', '16.09.1925', '', '', ' ⁇   ⁇   ⁇   ⁇   ⁇  ', '', ' ⁇   ⁇   ⁇   ⁇   ⁇  ']\n",
            "[Epoch: 200/1000] | Train Loss: 0.665 -- Acc: 0.250\n",
            "  Trues: ['02/11/1906', '23/12/1925', '20/10/1937', '20/06/1991', '11/11/1982', '30/10/1900', '09/12/2007']\n",
            "  Preds: ['02/11/1946', '23/12/1925', '27/02/1937', '25/06/1929', '02/11/1936', '30/10/19900', '02/12/1937']\n",
            "[Epoch: 300/1000] | Train Loss: 0.525 -- Acc: 0.320\n",
            "  Trues: ['27/09/2018', '08/10/1919', '14/08/1927', '18/05/1960', '07/08/1906', '27/06/1945', '11/01/2009']\n",
            "  Preds: ['27/02/1929', '02/12/1957', '02/11/1937', '18/05/1960', '02/08/1946', '27/06/1946', '11/01/2009']\n",
            "[Epoch: 400/1000] | Train Loss: 0.406 -- Acc: 0.477\n",
            "  Trues: ['19/05/1931', '11/10/1967', '12/04/1997', '16/05/1982', '08/03/1905', '09/05/1966', '28/02/1972']\n",
            "  Preds: ['19/05/1931', '11/10/1967', '12/04/1997', '12/05/1982', '08/03/1905', '06/05/1946', '28/02/1932']\n",
            "[Epoch: 500/1000] | Train Loss: 0.285 -- Acc: 0.719\n",
            "  Trues: ['23/09/1952', '30/04/1942', '24/05/1942', '01/12/1992', '16/09/1925', '13/02/1960', '15/05/2006']\n",
            "  Preds: ['23/09/1952', '31/04/1942', '25/05/1942', '01/12/1992', '16/09/1925', '13/02/1960', '15/05/2006']\n",
            "[Epoch: 600/1000] | Train Loss: 0.176 -- Acc: 0.922\n",
            "  Trues: ['04/03/1943', '06/09/1922', '20/11/2013', '02/12/1950', '02/04/1928', '15/05/1912', '16/01/2002']\n",
            "  Preds: ['04/03/1943', '06/09/1922', '25/11/2013', '02/12/1950', '02/04/1928', '15/05/1912', '16/01/2002']\n",
            "[Epoch: 700/1000] | Train Loss: 0.116 -- Acc: 0.977\n",
            "  Trues: ['15/09/1932', '15/05/1912', '18/05/1960', '08/10/1919', '02/10/1977', '06/04/1919', '23/01/1952']\n",
            "  Preds: ['15/09/1932', '15/05/1912', '18/05/1960', '08/10/1919', '02/10/1977', '06/04/1919', '23/01/1952']\n",
            "[Epoch: 800/1000] | Train Loss: 0.080 -- Acc: 1.000\n",
            "  Trues: ['14/04/2004', '09/12/2007', '25/12/1937', '24/11/1932', '24/02/1982', '29/10/1938', '08/03/1905']\n",
            "  Preds: ['14/04/2004', '09/12/2007', '25/12/1937', '24/11/1932', '24/02/1982', '29/10/1938', '08/03/1905']\n",
            "[Epoch: 900/1000] | Train Loss: 0.053 -- Acc: 1.000\n",
            "  Trues: ['15/05/1912', '09/03/1957', '28/11/1996', '27/06/1945', '02/11/1950', '01/01/1916', '23/02/1923']\n",
            "  Preds: ['15/05/1912', '09/03/1957', '28/11/1996', '27/06/1945', '02/11/1950', '01/01/1916', '23/02/1923']\n",
            "[Epoch: 1000/1000] | Train Loss: 0.037 -- Acc: 1.000\n",
            "  Trues: ['07/06/1928', '02/11/1950', '09/05/1966', '07/11/1964', '12/04/1997', '07/03/1997', '08/03/1905']\n",
            "  Preds: ['07/06/1928', '02/11/1950', '09/05/1966', '07/11/1964', '12/04/1997', '07/03/1997', '08/03/1905']\n",
            "Training time: 15.344 min.\n"
          ],
          "name": "stdout"
        }
      ]
    },
    {
      "cell_type": "markdown",
      "metadata": {
        "id": "wQC8YJ8PT7-0",
        "colab_type": "text"
      },
      "source": [
        "# Training "
      ]
    },
    {
      "cell_type": "code",
      "metadata": {
        "id": "dNtIb8b4Q4lC",
        "colab_type": "code",
        "outputId": "4bff7622-f417-49eb-ecaf-0c9d60881e63",
        "colab": {
          "base_uri": "https://localhost:8080/",
          "height": 272
        }
      },
      "source": [
        "start = torch.cuda.Event(enable_timing=True)\n",
        "end = torch.cuda.Event(enable_timing=True)\n",
        "deterministic() \n",
        "\n",
        "model = Net().to(device)\n",
        "optimizer = torch.optim.AdamW(model.parameters(), lr=5e-5)\n",
        "\n",
        "# ---------------------------------------------------------------------------------\n",
        "start.record()\n",
        "\n",
        "for step in range(1, N_EPOCHS+1):\n",
        "    samp = random.randint(0, BATCH_SZ-WINDOW) # to show random trues and preds\n",
        "    loss_t = train(model, device, dataloaders['train'], optimizer)\n",
        "    acc, trues, preds = evaluate_fn(model, device, dataloaders['valid'])\n",
        "    print(f'[Epoch: {step}/{N_EPOCHS}] |', end=' ')\n",
        "    print(f'Train Loss: {loss_t:.3f} -- Acc: {acc:.3f}')\n",
        "    print(f'  Trues: {trues[samp:samp+WINDOW]}\\n  Preds: {preds[samp:samp+WINDOW]}')\n",
        "\n",
        "end.record()\n",
        "torch.cuda.synchronize()    \n",
        "# ---------------------------------------------------------------------------------\n",
        "\n",
        "print(f'Training time: {start.elapsed_time(end)/1000/60 :.3f} min.')"
      ],
      "execution_count": 35,
      "outputs": [
        {
          "output_type": "stream",
          "text": [
            "Deterministic experiment, seed: 2357\n",
            "[Epoch: 1/4] | Train Loss: 0.829 -- Acc: 0.899\n",
            "  Trues: ['25/05/1929', '03/10/1903', '18/05/1943', '07/03/1911', '20/07/1912', '28/04/1969', '26/08/1942']\n",
            "  Preds: ['25/05/1929', '03/10/1903', '18/05/1943', '07/03/1911', '20/07/1912', '28/04/1969', '26/08/1942']\n",
            "[Epoch: 2/4] | Train Loss: 0.074 -- Acc: 0.998\n",
            "  Trues: ['25/06/1920', '20/11/1932', '26/06/1980', '07/11/1957', '06/09/1934', '16/02/1909', '23/02/1981']\n",
            "  Preds: ['25/06/1920', '20/11/1932', '26/06/1980', '07/11/1957', '06/09/1934', '16/02/1909', '23/02/1981']\n",
            "[Epoch: 3/4] | Train Loss: 0.020 -- Acc: 1.000\n",
            "  Trues: ['03/05/2019', '02/02/1931', '10/10/1989', '16/02/1923', '22/08/1971', '23/10/1911', '10/04/1938']\n",
            "  Preds: ['03/05/2019', '02/02/1931', '10/10/1989', '16/02/1923', '22/08/1971', '23/10/1911', '10/04/1938']\n",
            "[Epoch: 4/4] | Train Loss: 0.009 -- Acc: 1.000\n",
            "  Trues: ['14/09/1928', '22/03/1961', '09/01/1984', '06/02/1984', '27/02/2003', '06/03/2020', '28/08/1944']\n",
            "  Preds: ['14/09/1928', '22/03/1961', '09/01/1984', '06/02/1984', '27/02/2003', '06/03/2020', '28/08/1944']\n",
            "Training time: 29.825 min.\n"
          ],
          "name": "stdout"
        }
      ]
    },
    {
      "cell_type": "markdown",
      "metadata": {
        "id": "GWAhh3gOgg2c",
        "colab_type": "text"
      },
      "source": [
        "# Test"
      ]
    },
    {
      "cell_type": "code",
      "metadata": {
        "id": "RfRFVIBSgiau",
        "colab_type": "code",
        "colab": {
          "base_uri": "https://localhost:8080/",
          "height": 90
        },
        "outputId": "c1010343-ee67-47d9-e134-b6c0a9b87125"
      },
      "source": [
        "# ---------------------------------------------------------------------------------\n",
        "start.record()\n",
        "\n",
        "samp = random.randint(0, BATCH_SZ-WINDOW) # to show random trues and preds\n",
        "acc, trues, preds = evaluate_fn(model, device, dataloaders['test'])\n",
        "print(f'Acc: {acc:.3f}')\n",
        "print(f' Trues: {trues[samp:samp+WINDOW]}\\n  Preds: {preds[samp:samp+WINDOW]}')\n",
        "\n",
        "end.record()\n",
        "torch.cuda.synchronize()    \n",
        "# ---------------------------------------------------------------------------------\n",
        "\n",
        "print(f'Test time: {start.elapsed_time(end)/1000/60 :.3f} min.')"
      ],
      "execution_count": 37,
      "outputs": [
        {
          "output_type": "stream",
          "text": [
            "Acc: 1.000\n",
            " Trues: ['13/03/1977', '25/05/1932', '21/01/1927', '02/03/1928', '20/08/1917', '16/10/1937', '27/05/2020']\n",
            "  Preds: ['13/03/1977', '25/05/1932', '21/01/1927', '02/03/1928', '20/08/1917', '16/10/1937', '27/05/2020']\n",
            "Test time: 0.893 min.\n"
          ],
          "name": "stdout"
        }
      ]
    },
    {
      "cell_type": "markdown",
      "metadata": {
        "id": "CzVjYAkNGVxJ",
        "colab_type": "text"
      },
      "source": [
        "# Predict an example\n",
        "\n",
        "\n"
      ]
    },
    {
      "cell_type": "code",
      "metadata": {
        "id": "yQPXEekhM4xS",
        "colab_type": "code",
        "colab": {
          "base_uri": "https://localhost:8080/",
          "height": 35
        },
        "outputId": "215d73ba-3355-4191-b550-9491b82daa61"
      },
      "source": [
        "data_0 = 'un do janro de mil novecentu e otenta y sete'\n",
        "model.generate_example(data_0,TOK)"
      ],
      "execution_count": 39,
      "outputs": [
        {
          "output_type": "execute_result",
          "data": {
            "text/plain": [
              "['01/01/1987']"
            ]
          },
          "metadata": {
            "tags": []
          },
          "execution_count": 39
        }
      ]
    },
    {
      "cell_type": "code",
      "metadata": {
        "id": "cb2oUfVV0BIc",
        "colab_type": "code",
        "colab": {
          "base_uri": "https://localhost:8080/",
          "height": 35
        },
        "outputId": "b412e8ae-d8f5-4fcf-bd2b-71fdb73e413d"
      },
      "source": [
        "data_1 = 'tr3$ d$ fev$ir0 d3 doi m1ll e novi'\n",
        "model.generate_example(data_1,TOK)"
      ],
      "execution_count": 67,
      "outputs": [
        {
          "output_type": "execute_result",
          "data": {
            "text/plain": [
              "['03/02/2009']"
            ]
          },
          "metadata": {
            "tags": []
          },
          "execution_count": 67
        }
      ]
    }
  ]
}