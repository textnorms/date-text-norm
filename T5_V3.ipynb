{
  "nbformat": 4,
  "nbformat_minor": 0,
  "metadata": {
    "colab": {
      "name": "T5-V3.ipynb",
      "provenance": [],
      "collapsed_sections": [],
      "include_colab_link": true
    },
    "kernelspec": {
      "name": "python3",
      "display_name": "Python 3"
    },
    "accelerator": "GPU"
  },
  "cells": [
    {
      "cell_type": "markdown",
      "metadata": {
        "id": "view-in-github",
        "colab_type": "text"
      },
      "source": [
        "<a href=\"https://colab.research.google.com/github/textnorms/date_text_norm/blob/master/T5_V3.ipynb\" target=\"_parent\"><img src=\"https://colab.research.google.com/assets/colab-badge.svg\" alt=\"Open In Colab\"/></a>"
      ]
    },
    {
      "cell_type": "code",
      "metadata": {
        "id": "PcMfqlK-0HLY",
        "colab_type": "code",
        "outputId": "15aa587e-b015-4710-c6d4-fd411359c534",
        "colab": {
          "base_uri": "https://localhost:8080/",
          "height": 289
        }
      },
      "source": [
        "! nvidia-smi"
      ],
      "execution_count": 22,
      "outputs": [
        {
          "output_type": "stream",
          "text": [
            "Mon May 25 21:48:19 2020       \n",
            "+-----------------------------------------------------------------------------+\n",
            "| NVIDIA-SMI 440.82       Driver Version: 418.67       CUDA Version: 10.1     |\n",
            "|-------------------------------+----------------------+----------------------+\n",
            "| GPU  Name        Persistence-M| Bus-Id        Disp.A | Volatile Uncorr. ECC |\n",
            "| Fan  Temp  Perf  Pwr:Usage/Cap|         Memory-Usage | GPU-Util  Compute M. |\n",
            "|===============================+======================+======================|\n",
            "|   0  Tesla P100-PCIE...  Off  | 00000000:00:04.0 Off |                    0 |\n",
            "| N/A   52C    P0    34W / 250W |   4733MiB / 16280MiB |      0%      Default |\n",
            "+-------------------------------+----------------------+----------------------+\n",
            "                                                                               \n",
            "+-----------------------------------------------------------------------------+\n",
            "| Processes:                                                       GPU Memory |\n",
            "|  GPU       PID   Type   Process name                             Usage      |\n",
            "|=============================================================================|\n",
            "+-----------------------------------------------------------------------------+\n"
          ],
          "name": "stdout"
        }
      ]
    },
    {
      "cell_type": "code",
      "metadata": {
        "id": "c-1Lmkfv6g2j",
        "colab_type": "code",
        "outputId": "b30eb9f7-26dc-4f6a-f750-41fd57e9ddf9",
        "colab": {
          "base_uri": "https://localhost:8080/",
          "height": 119
        }
      },
      "source": [
        "! rm -rf date*\n",
        "! git clone https://github.com/textnorms/date_text_norm.git\n",
        "! cp -r date_text_norm/syntetic_data/ .\n",
        "\n",
        "!pip install -q num2words transformers\n",
        "! pip install -q transformers"
      ],
      "execution_count": 23,
      "outputs": [
        {
          "output_type": "stream",
          "text": [
            "Cloning into 'date_text_norm'...\n",
            "remote: Enumerating objects: 68, done.\u001b[K\n",
            "remote: Counting objects:   1% (1/68)\u001b[K\rremote: Counting objects:   2% (2/68)\u001b[K\rremote: Counting objects:   4% (3/68)\u001b[K\rremote: Counting objects:   5% (4/68)\u001b[K\rremote: Counting objects:   7% (5/68)\u001b[K\rremote: Counting objects:   8% (6/68)\u001b[K\rremote: Counting objects:  10% (7/68)\u001b[K\rremote: Counting objects:  11% (8/68)\u001b[K\rremote: Counting objects:  13% (9/68)\u001b[K\rremote: Counting objects:  14% (10/68)\u001b[K\rremote: Counting objects:  16% (11/68)\u001b[K\rremote: Counting objects:  17% (12/68)\u001b[K\rremote: Counting objects:  19% (13/68)\u001b[K\rremote: Counting objects:  20% (14/68)\u001b[K\rremote: Counting objects:  22% (15/68)\u001b[K\rremote: Counting objects:  23% (16/68)\u001b[K\rremote: Counting objects:  25% (17/68)\u001b[K\rremote: Counting objects:  26% (18/68)\u001b[K\rremote: Counting objects:  27% (19/68)\u001b[K\rremote: Counting objects:  29% (20/68)\u001b[K\rremote: Counting objects:  30% (21/68)\u001b[K\rremote: Counting objects:  32% (22/68)\u001b[K\rremote: Counting objects:  33% (23/68)\u001b[K\rremote: Counting objects:  35% (24/68)\u001b[K\rremote: Counting objects:  36% (25/68)\u001b[K\rremote: Counting objects:  38% (26/68)\u001b[K\rremote: Counting objects:  39% (27/68)\u001b[K\rremote: Counting objects:  41% (28/68)\u001b[K\rremote: Counting objects:  42% (29/68)\u001b[K\rremote: Counting objects:  44% (30/68)\u001b[K\rremote: Counting objects:  45% (31/68)\u001b[K\rremote: Counting objects:  47% (32/68)\u001b[K\rremote: Counting objects:  48% (33/68)\u001b[K\rremote: Counting objects:  50% (34/68)\u001b[K\rremote: Counting objects:  51% (35/68)\u001b[K\rremote: Counting objects:  52% (36/68)\u001b[K\rremote: Counting objects:  54% (37/68)\u001b[K\rremote: Counting objects:  55% (38/68)\u001b[K\rremote: Counting objects:  57% (39/68)\u001b[K\rremote: Counting objects:  58% (40/68)\u001b[K\rremote: Counting objects:  60% (41/68)\u001b[K\rremote: Counting objects:  61% (42/68)\u001b[K\rremote: Counting objects:  63% (43/68)\u001b[K\rremote: Counting objects:  64% (44/68)\u001b[K\rremote: Counting objects:  66% (45/68)\u001b[K\rremote: Counting objects:  67% (46/68)\u001b[K\rremote: Counting objects:  69% (47/68)\u001b[K\rremote: Counting objects:  70% (48/68)\u001b[K\rremote: Counting objects:  72% (49/68)\u001b[K\rremote: Counting objects:  73% (50/68)\u001b[K\rremote: Counting objects:  75% (51/68)\u001b[K\rremote: Counting objects:  76% (52/68)\u001b[K\rremote: Counting objects:  77% (53/68)\u001b[K\rremote: Counting objects:  79% (54/68)\u001b[K\rremote: Counting objects:  80% (55/68)\u001b[K\rremote: Counting objects:  82% (56/68)\u001b[K\rremote: Counting objects:  83% (57/68)\u001b[K\rremote: Counting objects:  85% (58/68)\u001b[K\rremote: Counting objects:  86% (59/68)\u001b[K\rremote: Counting objects:  88% (60/68)\u001b[K\rremote: Counting objects:  89% (61/68)\u001b[K\rremote: Counting objects:  91% (62/68)\u001b[K\rremote: Counting objects:  92% (63/68)\u001b[K\rremote: Counting objects:  94% (64/68)\u001b[K\rremote: Counting objects:  95% (65/68)\u001b[K\rremote: Counting objects:  97% (66/68)\u001b[K\rremote: Counting objects:  98% (67/68)\u001b[K\rremote: Counting objects: 100% (68/68)\u001b[K\rremote: Counting objects: 100% (68/68), done.\u001b[K\n",
            "remote: Compressing objects:   2% (1/50)\u001b[K\rremote: Compressing objects:   4% (2/50)\u001b[K\rremote: Compressing objects:   6% (3/50)\u001b[K\rremote: Compressing objects:   8% (4/50)\u001b[K\rremote: Compressing objects:  10% (5/50)\u001b[K\rremote: Compressing objects:  12% (6/50)\u001b[K\rremote: Compressing objects:  14% (7/50)\u001b[K\rremote: Compressing objects:  16% (8/50)\u001b[K\rremote: Compressing objects:  18% (9/50)\u001b[K\rremote: Compressing objects:  20% (10/50)\u001b[K\rremote: Compressing objects:  22% (11/50)\u001b[K\rremote: Compressing objects:  24% (12/50)\u001b[K\rremote: Compressing objects:  26% (13/50)\u001b[K\rremote: Compressing objects:  28% (14/50)\u001b[K\rremote: Compressing objects:  30% (15/50)\u001b[K\rremote: Compressing objects:  32% (16/50)\u001b[K\rremote: Compressing objects:  34% (17/50)\u001b[K\rremote: Compressing objects:  36% (18/50)\u001b[K\rremote: Compressing objects:  38% (19/50)\u001b[K\rremote: Compressing objects:  40% (20/50)\u001b[K\rremote: Compressing objects:  42% (21/50)\u001b[K\rremote: Compressing objects:  44% (22/50)\u001b[K\rremote: Compressing objects:  46% (23/50)\u001b[K\rremote: Compressing objects:  48% (24/50)\u001b[K\rremote: Compressing objects:  50% (25/50)\u001b[K\rremote: Compressing objects:  52% (26/50)\u001b[K\rremote: Compressing objects:  54% (27/50)\u001b[K\rremote: Compressing objects:  56% (28/50)\u001b[K\rremote: Compressing objects:  58% (29/50)\u001b[K\rremote: Compressing objects:  60% (30/50)\u001b[K\rremote: Compressing objects:  62% (31/50)\u001b[K\rremote: Compressing objects:  64% (32/50)\u001b[K\rremote: Compressing objects:  66% (33/50)\u001b[K\rremote: Compressing objects:  68% (34/50)\u001b[K\rremote: Compressing objects:  70% (35/50)\u001b[K\rremote: Compressing objects:  72% (36/50)\u001b[K\rremote: Compressing objects:  74% (37/50)\u001b[K\rremote: Compressing objects:  76% (38/50)\u001b[K\rremote: Compressing objects:  78% (39/50)\u001b[K\rremote: Compressing objects:  80% (40/50)\u001b[K\rremote: Compressing objects:  82% (41/50)\u001b[K\rremote: Compressing objects:  84% (42/50)\u001b[K\rremote: Compressing objects:  86% (43/50)\u001b[K\rremote: Compressing objects:  88% (44/50)\u001b[K\rremote: Compressing objects:  90% (45/50)\u001b[K\rremote: Compressing objects:  92% (46/50)\u001b[K\rremote: Compressing objects:  94% (47/50)\u001b[K\rremote: Compressing objects:  96% (48/50)\u001b[K\rremote: Compressing objects:  98% (49/50)\u001b[K\rremote: Compressing objects: 100% (50/50)\u001b[K\rremote: Compressing objects: 100% (50/50), done.\u001b[K\n",
            "remote: Total 68 (delta 34), reused 37 (delta 13), pack-reused 0\u001b[K\n",
            "Unpacking objects:   1% (1/68)   \rUnpacking objects:   2% (2/68)   \rUnpacking objects:   4% (3/68)   \rUnpacking objects:   5% (4/68)   \rUnpacking objects:   7% (5/68)   \rUnpacking objects:   8% (6/68)   \rUnpacking objects:  10% (7/68)   \rUnpacking objects:  11% (8/68)   \rUnpacking objects:  13% (9/68)   \rUnpacking objects:  14% (10/68)   \rUnpacking objects:  16% (11/68)   \rUnpacking objects:  17% (12/68)   \rUnpacking objects:  19% (13/68)   \rUnpacking objects:  20% (14/68)   \rUnpacking objects:  22% (15/68)   \rUnpacking objects:  23% (16/68)   \rUnpacking objects:  25% (17/68)   \rUnpacking objects:  26% (18/68)   \rUnpacking objects:  27% (19/68)   \rUnpacking objects:  29% (20/68)   \rUnpacking objects:  30% (21/68)   \rUnpacking objects:  32% (22/68)   \rUnpacking objects:  33% (23/68)   \rUnpacking objects:  35% (24/68)   \rUnpacking objects:  36% (25/68)   \rUnpacking objects:  38% (26/68)   \rUnpacking objects:  39% (27/68)   \rUnpacking objects:  41% (28/68)   \rUnpacking objects:  42% (29/68)   \rUnpacking objects:  44% (30/68)   \rUnpacking objects:  45% (31/68)   \rUnpacking objects:  47% (32/68)   \rUnpacking objects:  48% (33/68)   \rUnpacking objects:  50% (34/68)   \rUnpacking objects:  51% (35/68)   \rUnpacking objects:  52% (36/68)   \rUnpacking objects:  54% (37/68)   \rUnpacking objects:  55% (38/68)   \rUnpacking objects:  57% (39/68)   \rUnpacking objects:  58% (40/68)   \rUnpacking objects:  60% (41/68)   \rUnpacking objects:  61% (42/68)   \rUnpacking objects:  63% (43/68)   \rUnpacking objects:  64% (44/68)   \rUnpacking objects:  66% (45/68)   \rUnpacking objects:  67% (46/68)   \rUnpacking objects:  69% (47/68)   \rUnpacking objects:  70% (48/68)   \rUnpacking objects:  72% (49/68)   \rUnpacking objects:  73% (50/68)   \rUnpacking objects:  75% (51/68)   \rUnpacking objects:  76% (52/68)   \rUnpacking objects:  77% (53/68)   \rUnpacking objects:  79% (54/68)   \rUnpacking objects:  80% (55/68)   \rUnpacking objects:  82% (56/68)   \rUnpacking objects:  83% (57/68)   \rUnpacking objects:  85% (58/68)   \rUnpacking objects:  86% (59/68)   \rUnpacking objects:  88% (60/68)   \rUnpacking objects:  89% (61/68)   \rUnpacking objects:  91% (62/68)   \rUnpacking objects:  92% (63/68)   \rUnpacking objects:  94% (64/68)   \rUnpacking objects:  95% (65/68)   \rUnpacking objects:  97% (66/68)   \rUnpacking objects:  98% (67/68)   \rUnpacking objects: 100% (68/68)   \rUnpacking objects: 100% (68/68), done.\n"
          ],
          "name": "stdout"
        }
      ]
    },
    {
      "cell_type": "code",
      "metadata": {
        "id": "Nok2mtt_1021",
        "colab_type": "code",
        "colab": {}
      },
      "source": [
        "# Basics\n",
        "import numpy as np\n",
        "import pandas as pd\n",
        "import random\n",
        "\n",
        "# Synthetic data generator\n",
        "from syntetic_data import DateTextGenerator\n",
        "\n",
        "# PyTorch\n",
        "import torch \n",
        "import torch.nn.functional as F\n",
        "from torch.utils.data import Dataset, DataLoader\n",
        "\n",
        "# Sklearn\n",
        "from sklearn.model_selection import train_test_split\n",
        "\n",
        "# Transformers\n",
        "from transformers import T5Tokenizer, T5ForConditionalGeneration, AdamW"
      ],
      "execution_count": 0,
      "outputs": []
    },
    {
      "cell_type": "markdown",
      "metadata": {
        "id": "HhdTvVgiYBw0",
        "colab_type": "text"
      },
      "source": [
        "### Deterministic experiments"
      ]
    },
    {
      "cell_type": "code",
      "metadata": {
        "id": "zm7tAsiUYMOU",
        "colab_type": "code",
        "outputId": "db7f7125-51e2-4679-85b0-b46039683b6b",
        "colab": {
          "base_uri": "https://localhost:8080/",
          "height": 51
        }
      },
      "source": [
        "manual_seed = 2357 # only primes, cuz I like\n",
        "def deterministic(rep=True):\n",
        "    if rep:\n",
        "        np.random.seed(manual_seed)\n",
        "        torch.manual_seed(manual_seed)\n",
        "        if torch.cuda.is_available():\n",
        "            torch.cuda.manual_seed(manual_seed)\n",
        "            torch.cuda.manual_seed_all(manual_seed)\n",
        "        torch.backends.cudnn.enabled = False \n",
        "        torch.backends.cudnn.benchmark = False\n",
        "        torch.backends.cudnn.deterministic = True\n",
        "        print(f'Deterministic experiment, seed: {manual_seed}')\n",
        "    else:\n",
        "        print('Random experiment')\n",
        "\n",
        "deterministic()\n",
        "\n",
        "device = torch.device('cuda' if torch.cuda.is_available() else 'cpu')\n",
        "print(f'Using device: {device}')"
      ],
      "execution_count": 25,
      "outputs": [
        {
          "output_type": "stream",
          "text": [
            "Deterministic experiment, seed: 2357\n",
            "Using device: cuda\n"
          ],
          "name": "stdout"
        }
      ]
    },
    {
      "cell_type": "markdown",
      "metadata": {
        "id": "BFHYoyzwOHDO",
        "colab_type": "text"
      },
      "source": [
        "## Config constants"
      ]
    },
    {
      "cell_type": "code",
      "metadata": {
        "id": "8r8O913HOK9F",
        "colab_type": "code",
        "colab": {}
      },
      "source": [
        "# Model params\n",
        "MODEL_SZ = 't5-small'\n",
        "TOK = T5Tokenizer.from_pretrained(MODEL_SZ)\n",
        "MAX_LEN_SRC  = 40\n",
        "MAX_LEN_TRGT = 12\n",
        "\n",
        "# Train params\n",
        "BATCH_SZ = 128\n",
        "N_EPOCHS = 3\n",
        "WINDOW   = 7"
      ],
      "execution_count": 0,
      "outputs": []
    },
    {
      "cell_type": "markdown",
      "metadata": {
        "id": "1yeoFiMYXe8Z",
        "colab_type": "text"
      },
      "source": [
        "# Dataset"
      ]
    },
    {
      "cell_type": "code",
      "metadata": {
        "id": "eZ52EJP6Fy5v",
        "colab_type": "code",
        "outputId": "9de721df-93ad-4b19-b42c-ca3740f0c182",
        "colab": {
          "base_uri": "https://localhost:8080/",
          "height": 170
        }
      },
      "source": [
        "datas = DateTextGenerator(start_date='01/01/1900',\n",
        "                          end_date='31/12/2020',\n",
        "                          text_noise_rate=0.2)\n",
        "datas.generate_demo(date='28/05/2020')"
      ],
      "execution_count": 27,
      "outputs": [
        {
          "output_type": "stream",
          "text": [
            "Gerando demostração dos formatos de datas geradas para a canônica: 28/05/2020\n",
            "Método: 1 --- vinte e oito do cinco de dois mil e vinte\n",
            "--------------------------------------------------\n",
            "Método: 2 --- 28.05.2020\n",
            "--------------------------------------------------\n",
            "Método: 3 --- vinte e oito de maio de dois mil e vinte\n",
            "--------------------------------------------------\n",
            "Método: 4 --- vinte e oito de mai de dois mil e vinte\n",
            "--------------------------------------------------\n"
          ],
          "name": "stdout"
        }
      ]
    },
    {
      "cell_type": "code",
      "metadata": {
        "id": "OpMWc1TrNvKS",
        "colab_type": "code",
        "outputId": "6e33070d-7c61-4048-9737-816d9b482977",
        "colab": {
          "base_uri": "https://localhost:8080/",
          "height": 419
        }
      },
      "source": [
        "df = datas.generate_date_dataset(); df"
      ],
      "execution_count": 28,
      "outputs": [
        {
          "output_type": "execute_result",
          "data": {
            "text/html": [
              "<div>\n",
              "<style scoped>\n",
              "    .dataframe tbody tr th:only-of-type {\n",
              "        vertical-align: middle;\n",
              "    }\n",
              "\n",
              "    .dataframe tbody tr th {\n",
              "        vertical-align: top;\n",
              "    }\n",
              "\n",
              "    .dataframe thead th {\n",
              "        text-align: right;\n",
              "    }\n",
              "</style>\n",
              "<table border=\"1\" class=\"dataframe\">\n",
              "  <thead>\n",
              "    <tr style=\"text-align: right;\">\n",
              "      <th></th>\n",
              "      <th>Tipo padrão</th>\n",
              "      <th>Ruído</th>\n",
              "      <th>Entrada</th>\n",
              "      <th>Canônico</th>\n",
              "    </tr>\n",
              "  </thead>\n",
              "  <tbody>\n",
              "    <tr>\n",
              "      <th>0</th>\n",
              "      <td>1</td>\n",
              "      <td>N/A</td>\n",
              "      <td>um do um de mil, novecentos</td>\n",
              "      <td>01/01/1900</td>\n",
              "    </tr>\n",
              "    <tr>\n",
              "      <th>1</th>\n",
              "      <td>1</td>\n",
              "      <td>N/A</td>\n",
              "      <td>dois do um de mil, novecentos</td>\n",
              "      <td>02/01/1900</td>\n",
              "    </tr>\n",
              "    <tr>\n",
              "      <th>2</th>\n",
              "      <td>1</td>\n",
              "      <td>N/A</td>\n",
              "      <td>três do um de mil, novecentos</td>\n",
              "      <td>03/01/1900</td>\n",
              "    </tr>\n",
              "    <tr>\n",
              "      <th>3</th>\n",
              "      <td>1</td>\n",
              "      <td>lookalike_replace</td>\n",
              "      <td>quatro do um de mil, n0veçentos</td>\n",
              "      <td>04/01/1900</td>\n",
              "    </tr>\n",
              "    <tr>\n",
              "      <th>4</th>\n",
              "      <td>1</td>\n",
              "      <td>lookalike_replace</td>\n",
              "      <td>cinco do um de nll, novecentos</td>\n",
              "      <td>05/01/1900</td>\n",
              "    </tr>\n",
              "    <tr>\n",
              "      <th>...</th>\n",
              "      <td>...</td>\n",
              "      <td>...</td>\n",
              "      <td>...</td>\n",
              "      <td>...</td>\n",
              "    </tr>\n",
              "    <tr>\n",
              "      <th>176775</th>\n",
              "      <td>4</td>\n",
              "      <td>lookalike_replace</td>\n",
              "      <td>vlnte e sete de dez de d0is mil e vinte</td>\n",
              "      <td>27/12/2020</td>\n",
              "    </tr>\n",
              "    <tr>\n",
              "      <th>176776</th>\n",
              "      <td>4</td>\n",
              "      <td>N/A</td>\n",
              "      <td>vinte e oito de dez de dois mil e vinte</td>\n",
              "      <td>28/12/2020</td>\n",
              "    </tr>\n",
              "    <tr>\n",
              "      <th>176777</th>\n",
              "      <td>4</td>\n",
              "      <td>lookalike_replace</td>\n",
              "      <td>vimte e nove de dez de dois nil e vinte</td>\n",
              "      <td>29/12/2020</td>\n",
              "    </tr>\n",
              "    <tr>\n",
              "      <th>176778</th>\n",
              "      <td>4</td>\n",
              "      <td>N/A</td>\n",
              "      <td>trinta de dez de dois mil e vinte</td>\n",
              "      <td>30/12/2020</td>\n",
              "    </tr>\n",
              "    <tr>\n",
              "      <th>176779</th>\n",
              "      <td>4</td>\n",
              "      <td>lookalike_replace</td>\n",
              "      <td>trimta e um de dez de dois nil e vinte</td>\n",
              "      <td>31/12/2020</td>\n",
              "    </tr>\n",
              "  </tbody>\n",
              "</table>\n",
              "<p>176780 rows × 4 columns</p>\n",
              "</div>"
            ],
            "text/plain": [
              "       Tipo padrão  ...    Canônico\n",
              "0                1  ...  01/01/1900\n",
              "1                1  ...  02/01/1900\n",
              "2                1  ...  03/01/1900\n",
              "3                1  ...  04/01/1900\n",
              "4                1  ...  05/01/1900\n",
              "...            ...  ...         ...\n",
              "176775           4  ...  27/12/2020\n",
              "176776           4  ...  28/12/2020\n",
              "176777           4  ...  29/12/2020\n",
              "176778           4  ...  30/12/2020\n",
              "176779           4  ...  31/12/2020\n",
              "\n",
              "[176780 rows x 4 columns]"
            ]
          },
          "metadata": {
            "tags": []
          },
          "execution_count": 28
        }
      ]
    },
    {
      "cell_type": "code",
      "metadata": {
        "id": "WjM4mpipxgaC",
        "colab_type": "code",
        "colab": {
          "base_uri": "https://localhost:8080/",
          "height": 68
        },
        "outputId": "019a1976-28bc-40ef-cb5c-e658f79db3c8"
      },
      "source": [
        "# Inpsecting noise rate per samples\n",
        "df['Ruído'].value_counts()/len(df)"
      ],
      "execution_count": 29,
      "outputs": [
        {
          "output_type": "execute_result",
          "data": {
            "text/plain": [
              "N/A                  0.800967\n",
              "lookalike_replace    0.199033\n",
              "Name: Ruído, dtype: float64"
            ]
          },
          "metadata": {
            "tags": []
          },
          "execution_count": 29
        }
      ]
    },
    {
      "cell_type": "markdown",
      "metadata": {
        "id": "Uif9PsFKRrxI",
        "colab_type": "text"
      },
      "source": [
        "## Function to split the dataset"
      ]
    },
    {
      "cell_type": "code",
      "metadata": {
        "id": "TfBx9nMkQ7Q8",
        "colab_type": "code",
        "outputId": "c88c4c9b-e7e4-40fc-cbdb-cf5068d39a43",
        "colab": {
          "base_uri": "https://localhost:8080/",
          "height": 34
        }
      },
      "source": [
        "def split_data(data, labels, test_size=0.2):\n",
        "    x_train, x_test, y_train, y_test = train_test_split(\n",
        "        data,\n",
        "        labels,\n",
        "        shuffle=True, \n",
        "        test_size=test_size,\n",
        "        random_state=manual_seed\n",
        "        )\n",
        "    return x_train, x_test, y_train, y_test\n",
        "\n",
        "# creating test set\n",
        "x_train, x_test, y_train, y_test = split_data(df.Entrada.values, \n",
        "                                              df.Canônico.values, \n",
        "                                              test_size=0.2)\n",
        "\n",
        "# creating valid set\n",
        "x_train, x_val, y_train, y_val = split_data(x_train, \n",
        "                                            y_train, \n",
        "                                            test_size=0.2)\n",
        "\n",
        "# checking\n",
        "len(x_train), len(y_train), len(x_val), len(y_val), len(x_test), len(y_test)"
      ],
      "execution_count": 30,
      "outputs": [
        {
          "output_type": "execute_result",
          "data": {
            "text/plain": [
              "(113139, 113139, 28285, 28285, 35356, 35356)"
            ]
          },
          "metadata": {
            "tags": []
          },
          "execution_count": 30
        }
      ]
    },
    {
      "cell_type": "code",
      "metadata": {
        "id": "ygsMXnkCyrVZ",
        "colab_type": "code",
        "colab": {}
      },
      "source": [
        "class DateDataset(Dataset):\n",
        "    def __init__(self, data, label, tokenizer, source_max_length, target_max_length):\n",
        "        self.tokenizer = tokenizer\n",
        "        self.data = data\n",
        "        self.label = label\n",
        "        self.source_max_length = source_max_length\n",
        "        self.target_max_length = target_max_length\n",
        "        \n",
        "    def __len__(self):\n",
        "        return len(self.data)\n",
        "    \n",
        "    def __getitem__(self, idx):\n",
        "        source = self.data[idx]\n",
        "        target = self.label[idx]\n",
        "\n",
        "        source_tokenized = self.tokenizer.encode_plus(\n",
        "            f'{source} {self.tokenizer.eos_token}',\n",
        "            max_length=self.source_max_length,\n",
        "            pad_to_max_length=True,\n",
        "            return_tensors='pt')\n",
        "\n",
        "        target_tokenized = self.tokenizer.encode_plus(\n",
        "            f'{target} {self.tokenizer.eos_token}',\n",
        "            max_length=self.target_max_length,\n",
        "            pad_to_max_length=True,\n",
        "            return_tensors='pt')\n",
        "\n",
        "        source_token_ids = source_tokenized['input_ids'].squeeze()\n",
        "        source_mask = source_tokenized['attention_mask'].squeeze()\n",
        "        target_token_ids = target_tokenized['input_ids'].squeeze()\n",
        "        \n",
        "        return source_token_ids, source_mask, target_token_ids"
      ],
      "execution_count": 0,
      "outputs": []
    },
    {
      "cell_type": "markdown",
      "metadata": {
        "id": "cloyt0tIwIiD",
        "colab_type": "text"
      },
      "source": [
        "## Checking the DateDataset class"
      ]
    },
    {
      "cell_type": "code",
      "metadata": {
        "id": "ZoKiQXCvwGrP",
        "colab_type": "code",
        "outputId": "3aa76b2b-e302-430b-c451-007d760214c7",
        "colab": {
          "base_uri": "https://localhost:8080/",
          "height": 204
        }
      },
      "source": [
        "dataset_debug = DateDataset(\n",
        "    x_train, \n",
        "    y_train,\n",
        "    TOK,\n",
        "    MAX_LEN_SRC,\n",
        "    MAX_LEN_TRGT,\n",
        "    )\n",
        "\n",
        "dataloader_checking = DataLoader(\n",
        "    dataset_debug, \n",
        "    batch_size=1, \n",
        "    shuffle=True, \n",
        "    num_workers=0\n",
        "    )\n",
        "\n",
        "source_token_ids, source_mask, target_token_ids = next(iter(dataloader_checking))\n",
        "print(f'source_token_ids:\\n {source_token_ids} --- shape:{source_token_ids.shape}')\n",
        "print(f'source_mask:\\n {source_mask} --- shape:{source_mask.shape}')\n",
        "print(f'target_token_ids:\\n {target_token_ids} --- shape:{target_token_ids.shape}')"
      ],
      "execution_count": 32,
      "outputs": [
        {
          "output_type": "stream",
          "text": [
            "source_token_ids:\n",
            " tensor([[  103,   159,    20,     3, 17639,    40,    20, 15533,     6,   150,\n",
            "           162,  3728,    32,     7,     3,    15,   150,  2169,     9,     3,\n",
            "            15,   561,     1,     0,     0,     0,     0,     0,     0,     0,\n",
            "             0,     0,     0,     0,     0,     0,     0,     0,     0,     0]]) --- shape:torch.Size([1, 40])\n",
            "source_mask:\n",
            " tensor([[1, 1, 1, 1, 1, 1, 1, 1, 1, 1, 1, 1, 1, 1, 1, 1, 1, 1, 1, 1, 1, 1, 1, 0,\n",
            "         0, 0, 0, 0, 0, 0, 0, 0, 0, 0, 0, 0, 0, 0, 0, 0]]) --- shape:torch.Size([1, 40])\n",
            "target_token_ids:\n",
            " tensor([[11270, 24288, 13523,  4729,     1,     0,     0,     0,     0,     0,\n",
            "             0,     0]]) --- shape:torch.Size([1, 12])\n"
          ],
          "name": "stdout"
        }
      ]
    },
    {
      "cell_type": "markdown",
      "metadata": {
        "id": "dG1O12UoWYaM",
        "colab_type": "text"
      },
      "source": [
        "## Datasets e Dataloaders"
      ]
    },
    {
      "cell_type": "code",
      "metadata": {
        "id": "s7AlRyeOW8GN",
        "colab_type": "code",
        "outputId": "38b7a7bd-a7c1-4f7d-b0cb-d9a3fe1dee7b",
        "colab": {
          "base_uri": "https://localhost:8080/",
          "height": 153
        }
      },
      "source": [
        "# datasets\n",
        "ds_debug = DateDataset(x_train[:BATCH_SZ], y_train[:BATCH_SZ], TOK, MAX_LEN_SRC, MAX_LEN_TRGT)\n",
        "ds_train = DateDataset(x_train, y_train, TOK, MAX_LEN_SRC, MAX_LEN_TRGT)\n",
        "ds_valid = DateDataset(x_val, y_val, TOK, MAX_LEN_SRC, MAX_LEN_TRGT)\n",
        "ds_test  = DateDataset(x_test, y_test, TOK, MAX_LEN_SRC, MAX_LEN_TRGT)\n",
        "\n",
        "print('Datasets len:')\n",
        "print(f'len ds_debug: {len(ds_debug)}')\n",
        "print(f'len ds_train: {len(ds_train)}')\n",
        "print(f'len ds_valid: {len(ds_valid)}')\n",
        "print(f'len ds_test:  {len(ds_test)}')\n",
        "\n",
        "# dataloaders\n",
        "dataloaders = {\n",
        "    'debug': DataLoader(\n",
        "         ds_debug,\n",
        "         batch_size=BATCH_SZ,\n",
        "         shuffle=True,\n",
        "         num_workers=2,\n",
        "         pin_memory=True),\n",
        "    'train': DataLoader(\n",
        "         ds_train,\n",
        "         batch_size=BATCH_SZ,\n",
        "         shuffle=True,\n",
        "         num_workers=2,\n",
        "         pin_memory=True),\n",
        "    'valid': DataLoader(\n",
        "         ds_valid,\n",
        "         batch_size=BATCH_SZ,\n",
        "         shuffle=False,\n",
        "         num_workers=2,\n",
        "         pin_memory=True),\n",
        "    'test': DataLoader(\n",
        "         ds_test,\n",
        "         batch_size=BATCH_SZ,\n",
        "         shuffle=False,\n",
        "         num_workers=2,\n",
        "         pin_memory=True),\n",
        "               }\n",
        "# sanity check\n",
        "print('\\nDataloaders len (in batch):')\n",
        "dl_sizes = {x: len(dataloaders[x]) for x in dataloaders.keys()}; dl_sizes"
      ],
      "execution_count": 33,
      "outputs": [
        {
          "output_type": "stream",
          "text": [
            "Datasets len:\n",
            "len ds_debug: 128\n",
            "len ds_train: 113139\n",
            "len ds_valid: 28285\n",
            "len ds_test:  35356\n",
            "\n",
            "Dataloaders len (in batch):\n"
          ],
          "name": "stdout"
        },
        {
          "output_type": "execute_result",
          "data": {
            "text/plain": [
              "{'debug': 1, 'test': 277, 'train': 884, 'valid': 221}"
            ]
          },
          "metadata": {
            "tags": []
          },
          "execution_count": 33
        }
      ]
    },
    {
      "cell_type": "code",
      "metadata": {
        "id": "x3rqg6r7am-N",
        "colab_type": "code",
        "colab": {}
      },
      "source": [
        "# testando o dataloader \n",
        "source_token_ids, source_mask, target_token_ids = next(iter(dataloaders['test']))"
      ],
      "execution_count": 0,
      "outputs": []
    },
    {
      "cell_type": "code",
      "metadata": {
        "id": "Wb4AnOJzBXK7",
        "colab_type": "code",
        "colab": {}
      },
      "source": [
        "class Net(torch.nn.Module):\n",
        "    def __init__(self):\n",
        "        super(Net, self).__init__()\n",
        "        self.model = T5ForConditionalGeneration.from_pretrained(MODEL_SZ)\n",
        "    \n",
        "    def forward(self, token_ids, att_mask, labels):\n",
        "        outputs = self.model.forward(\n",
        "            input_ids=token_ids, \n",
        "            attention_mask=att_mask,\n",
        "            lm_labels=labels\n",
        "            )\n",
        "        return outputs[0] # loss\n",
        "    \n",
        "    @torch.no_grad()    \n",
        "    def generate(self, token_ids, att_mask, max_len_target):\n",
        "        predict = self.model.generate(\n",
        "            input_ids=token_ids, \n",
        "            attention_mask=att_mask,\n",
        "            max_length=max_len_target\n",
        "            )\n",
        "        return predict\n",
        "    \n",
        "    @torch.no_grad()  \n",
        "    def generate_example(self, text_input, tokenizer, max_len_source=MAX_LEN_SRC):\n",
        "\n",
        "        self.model.eval()\n",
        "        \n",
        "        example_tokenized = tokenizer.encode_plus(\n",
        "            f'{text_input} {tokenizer.eos_token}',\n",
        "            max_length=max_len_source,\n",
        "            pad_to_max_length=True,\n",
        "            return_tensors='pt')\n",
        "            \n",
        "        example_token_ids = example_tokenized['input_ids']\n",
        "        example_mask = example_tokenized['attention_mask']\n",
        "\n",
        "        predicted_example = self.model.generate(\n",
        "            input_ids=example_token_ids.to(device), \n",
        "            attention_mask=example_mask.to(device),\n",
        "            max_length=MAX_LEN_TRGT\n",
        "            )\n",
        "\n",
        "        self.model.train()\n",
        "\n",
        "        out_text = [tokenizer.decode(text) for text in predicted_example]\n",
        "        \n",
        "        return out_text"
      ],
      "execution_count": 0,
      "outputs": []
    },
    {
      "cell_type": "markdown",
      "metadata": {
        "id": "tq9AMCaNuWMU",
        "colab_type": "text"
      },
      "source": [
        "## Train and evaluation functions"
      ]
    },
    {
      "cell_type": "code",
      "metadata": {
        "id": "5X6hklAUXxGD",
        "colab_type": "code",
        "colab": {}
      },
      "source": [
        "# acc metric for text inputs\n",
        "def acc_in_text(trues, preds): \n",
        "    acc = []\n",
        "    for d in zip(trues, preds):\n",
        "        if d[0] == d[1]:\n",
        "            acc.append(1)\n",
        "        else:\n",
        "            acc.append(0)\n",
        "    return acc # bool\n",
        "\n",
        "def train(model, device, train_loader, optimizer):\n",
        "    loss_train = []\n",
        "    model.train()\n",
        "    for source_token_ids, source_mask, target_token_ids in train_loader:\n",
        "        optimizer.zero_grad()\n",
        "        loss = model(\n",
        "            source_token_ids.to(device), \n",
        "            source_mask.to(device), \n",
        "            target_token_ids.to(device)\n",
        "            )\n",
        "        \n",
        "        loss_train.append(loss.item())\n",
        "        loss.backward()\n",
        "        optimizer.step()\n",
        "  \n",
        "    return sum(loss_train) / len(loss_train)\n",
        "\n",
        "def evaluate_fn(model, device, val_loader, max_len=MAX_LEN_TRGT):\n",
        "    all_acc, all_preds, all_trues = [], [], []\n",
        "    model.eval()\n",
        "    for source_token_ids, source_mask, target_token_ids in val_loader:\n",
        "        predicted_ids = model.generate(\n",
        "            source_token_ids.to(device), \n",
        "            source_mask.to(device),\n",
        "            max_len\n",
        "            )\n",
        "        \n",
        "        preds = [TOK.decode(t) for t in predicted_ids]\n",
        "        trues = [TOK.decode(t) for t in target_token_ids]\n",
        "        acc = acc_in_text(trues, preds)\n",
        "        all_acc.extend(acc)\n",
        "        all_trues.extend(trues)\n",
        "        all_preds.extend(preds)\n",
        "        \n",
        "    return np.array(all_acc).mean(), all_trues, all_preds"
      ],
      "execution_count": 0,
      "outputs": []
    },
    {
      "cell_type": "markdown",
      "metadata": {
        "id": "pirS1mecELqp",
        "colab_type": "text"
      },
      "source": [
        "# Overfit in one batch \n",
        "- dataloader debug"
      ]
    },
    {
      "cell_type": "code",
      "metadata": {
        "id": "R2PxRYyfn_UO",
        "colab_type": "code",
        "colab": {}
      },
      "source": [
        "overfit = False\n",
        "\n",
        "if overfit:\n",
        "\n",
        "    start = torch.cuda.Event(enable_timing=True)\n",
        "    end = torch.cuda.Event(enable_timing=True)\n",
        "    deterministic() \n",
        "\n",
        "    model = Net().to(device)\n",
        "    optimizer = torch.optim.AdamW(model.parameters(), lr=5e-5)\n",
        "    \n",
        "    # -----------------------------------------------------------------------------\n",
        "    start.record()\n",
        "    for step in range(1, 1001):\n",
        "        samp = random.randint(0, BATCH_SZ-WINDOW) # to show random trues and preds\n",
        "        loss_t = train(model, device, dataloaders['debug'], optimizer)\n",
        "        acc, trues, preds = evaluate_fn(model, device, dataloaders['debug'])\n",
        "        if step == 1:\n",
        "            print(f'[Epoch: {step}/{1000}] |', end=' ')\n",
        "            print(f'Train Loss: {loss_t:.3f} -- Acc: {acc:.3f}')\n",
        "        if step % 100 == 0:\n",
        "            print(f'[Epoch: {step}/{1000}] |', end=' ')\n",
        "            print(f'Train Loss: {loss_t:.3f} -- Acc: {acc:.3f}')\n",
        "            print(f'  Trues: {trues[samp:samp+WINDOW]}\\n  Preds: {preds[samp:samp+WINDOW]}')\n",
        "    end.record()\n",
        "    torch.cuda.synchronize()    \n",
        "    # -----------------------------------------------------------------------------\n",
        "\n",
        "    print(f'Training time: {start.elapsed_time(end)/1000/60 :.3f} min.')\n",
        "    del model"
      ],
      "execution_count": 0,
      "outputs": []
    },
    {
      "cell_type": "markdown",
      "metadata": {
        "id": "wQC8YJ8PT7-0",
        "colab_type": "text"
      },
      "source": [
        "# Training "
      ]
    },
    {
      "cell_type": "code",
      "metadata": {
        "id": "dNtIb8b4Q4lC",
        "colab_type": "code",
        "outputId": "42a53df5-b7e8-4fad-dd42-93f103af41a3",
        "colab": {
          "base_uri": "https://localhost:8080/",
          "height": 204
        }
      },
      "source": [
        "start = torch.cuda.Event(enable_timing=True)\n",
        "end = torch.cuda.Event(enable_timing=True)\n",
        "deterministic() \n",
        "\n",
        "model = Net().to(device)\n",
        "optimizer = torch.optim.AdamW(model.parameters(), lr=5e-5)\n",
        "\n",
        "# ---------------------------------------------------------------------------------\n",
        "start.record()\n",
        "\n",
        "for step in range(1, N_EPOCHS+1):\n",
        "    samp = random.randint(0, BATCH_SZ-WINDOW) # to show random trues and preds\n",
        "    loss_t = train(model, device, dataloaders['train'], optimizer)\n",
        "    acc, trues, preds = evaluate_fn(model, device, dataloaders['valid'])\n",
        "    print(f'[Epoch: {step}/{N_EPOCHS}] |', end=' ')\n",
        "    print(f'Train Loss: {loss_t:.3f} -- Acc: {acc:.3f}')\n",
        "    print(f'  Trues: {trues[samp:samp+WINDOW]}\\n  Preds: {preds[samp:samp+WINDOW]}')\n",
        "\n",
        "end.record()\n",
        "torch.cuda.synchronize()    \n",
        "# ---------------------------------------------------------------------------------\n",
        "\n",
        "print(f'Training time: {start.elapsed_time(end)/1000/60 :.3f} min.')"
      ],
      "execution_count": 38,
      "outputs": [
        {
          "output_type": "stream",
          "text": [
            "Deterministic experiment, seed: 2357\n",
            "[Epoch: 1/3] | Train Loss: 0.796 -- Acc: 0.892\n",
            "  Trues: ['08/02/2015', '31/01/1900', '24/11/2001', '26/03/1902', '25/05/1929', '03/10/1903', '18/05/1943']\n",
            "  Preds: ['08/02/2015', '31/01/1900', '24/11/2001', '26/03/1902', '25/05/1929', '03/10/1903', '18/05/1943']\n",
            "[Epoch: 2/3] | Train Loss: 0.075 -- Acc: 0.977\n",
            "  Trues: ['31/12/1923', '20/05/1972', '09/09/1939', '09/08/1976', '31/03/1921', '08/10/1932', '06/03/1971']\n",
            "  Preds: ['31/12/1923', '20/05/1972', '09/09/1939', '09/08/1976', '31/03/1921', '08/10/1932', '06/03/1971']\n",
            "[Epoch: 3/3] | Train Loss: 0.027 -- Acc: 0.992\n",
            "  Trues: ['26/08/1967', '11/07/1931', '21/11/1968', '01/07/1969', '19/10/1919', '14/09/1928', '22/03/1961']\n",
            "  Preds: ['26/08/1967', '11/07/1931', '21/11/1968', '01/07/1969', '19/10/1919', '14/09/1928', '22/03/1961']\n",
            "Training time: 10.876 min.\n"
          ],
          "name": "stdout"
        }
      ]
    },
    {
      "cell_type": "markdown",
      "metadata": {
        "id": "GWAhh3gOgg2c",
        "colab_type": "text"
      },
      "source": [
        "# Test"
      ]
    },
    {
      "cell_type": "code",
      "metadata": {
        "id": "RfRFVIBSgiau",
        "colab_type": "code",
        "colab": {
          "base_uri": "https://localhost:8080/",
          "height": 85
        },
        "outputId": "fc946415-caf5-488d-fd86-cfff975a2ea5"
      },
      "source": [
        "# ---------------------------------------------------------------------------------\n",
        "start.record()\n",
        "\n",
        "samp = random.randint(0, BATCH_SZ-WINDOW) # to show random trues and preds\n",
        "acc, trues, preds = evaluate_fn(model, device, dataloaders['test'])\n",
        "print(f'Acc: {acc:.3f}')\n",
        "print(f' Trues: {trues[samp:samp+WINDOW]}\\n  Preds: {preds[samp:samp+WINDOW]}')\n",
        "\n",
        "end.record()\n",
        "torch.cuda.synchronize()    \n",
        "# ---------------------------------------------------------------------------------\n",
        "\n",
        "print(f'Test time: {start.elapsed_time(end)/1000/60 :.3f} min.')"
      ],
      "execution_count": 39,
      "outputs": [
        {
          "output_type": "stream",
          "text": [
            "Acc: 0.992\n",
            " Trues: ['28/05/2018', '20/06/1952', '26/04/1956', '11/06/1995', '21/01/1931', '01/09/1961', '01/02/1978']\n",
            "  Preds: ['28/05/2018', '20/06/1952', '26/04/1956', '11/06/1995', '21/01/1931', '01/09/1961', '01/02/1978']\n",
            "Test time: 0.635 min.\n"
          ],
          "name": "stdout"
        }
      ]
    },
    {
      "cell_type": "markdown",
      "metadata": {
        "id": "CzVjYAkNGVxJ",
        "colab_type": "text"
      },
      "source": [
        "# Predict an example\n",
        "\n",
        "\n"
      ]
    },
    {
      "cell_type": "code",
      "metadata": {
        "id": "yQPXEekhM4xS",
        "colab_type": "code",
        "colab": {
          "base_uri": "https://localhost:8080/",
          "height": 34
        },
        "outputId": "f2134719-6cf9-4ae3-aba0-52477d5cb7f0"
      },
      "source": [
        "data_0 = 'un do janro de mil novecentu e otenta y sete'\n",
        "model.generate_example(data_0,TOK)"
      ],
      "execution_count": 43,
      "outputs": [
        {
          "output_type": "execute_result",
          "data": {
            "text/plain": [
              "['01/01/1987']"
            ]
          },
          "metadata": {
            "tags": []
          },
          "execution_count": 43
        }
      ]
    },
    {
      "cell_type": "code",
      "metadata": {
        "id": "cb2oUfVV0BIc",
        "colab_type": "code",
        "colab": {
          "base_uri": "https://localhost:8080/",
          "height": 34
        },
        "outputId": "5e66e4e4-289a-4ff8-c833-0930f76b56ae"
      },
      "source": [
        "data_1 = 'tr3$ d$ fev$ir0 d3 doi m1ll e novi'\n",
        "model.generate_example(data_1,TOK)"
      ],
      "execution_count": 48,
      "outputs": [
        {
          "output_type": "execute_result",
          "data": {
            "text/plain": [
              "['03/02/2011']"
            ]
          },
          "metadata": {
            "tags": []
          },
          "execution_count": 48
        }
      ]
    }
  ]
}