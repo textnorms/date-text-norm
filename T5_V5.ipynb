{
  "nbformat": 4,
  "nbformat_minor": 0,
  "metadata": {
    "colab": {
      "name": "T5-V5.ipynb",
      "provenance": [],
      "collapsed_sections": [],
      "toc_visible": true,
      "include_colab_link": true
    },
    "kernelspec": {
      "name": "python3",
      "display_name": "Python 3"
    },
    "accelerator": "GPU",
    "widgets": {
      "application/vnd.jupyter.widget-state+json": {
        "438ae4a08c2c46169cf31273df052db1": {
          "model_module": "@jupyter-widgets/controls",
          "model_name": "HBoxModel",
          "state": {
            "_view_name": "HBoxView",
            "_dom_classes": [],
            "_model_name": "HBoxModel",
            "_view_module": "@jupyter-widgets/controls",
            "_model_module_version": "1.5.0",
            "_view_count": null,
            "_view_module_version": "1.5.0",
            "box_style": "",
            "layout": "IPY_MODEL_553c34885828488ba9df4a439aa93050",
            "_model_module": "@jupyter-widgets/controls",
            "children": [
              "IPY_MODEL_957a58c784e0493992c40181dbb34100",
              "IPY_MODEL_1f6a22fa788d4e2ca8f15326e22c6f71"
            ]
          }
        },
        "553c34885828488ba9df4a439aa93050": {
          "model_module": "@jupyter-widgets/base",
          "model_name": "LayoutModel",
          "state": {
            "_view_name": "LayoutView",
            "grid_template_rows": null,
            "right": null,
            "justify_content": null,
            "_view_module": "@jupyter-widgets/base",
            "overflow": null,
            "_model_module_version": "1.2.0",
            "_view_count": null,
            "flex_flow": null,
            "width": null,
            "min_width": null,
            "border": null,
            "align_items": null,
            "bottom": null,
            "_model_module": "@jupyter-widgets/base",
            "top": null,
            "grid_column": null,
            "overflow_y": null,
            "overflow_x": null,
            "grid_auto_flow": null,
            "grid_area": null,
            "grid_template_columns": null,
            "flex": null,
            "_model_name": "LayoutModel",
            "justify_items": null,
            "grid_row": null,
            "max_height": null,
            "align_content": null,
            "visibility": null,
            "align_self": null,
            "height": null,
            "min_height": null,
            "padding": null,
            "grid_auto_rows": null,
            "grid_gap": null,
            "max_width": null,
            "order": null,
            "_view_module_version": "1.2.0",
            "grid_template_areas": null,
            "object_position": null,
            "object_fit": null,
            "grid_auto_columns": null,
            "margin": null,
            "display": null,
            "left": null
          }
        },
        "957a58c784e0493992c40181dbb34100": {
          "model_module": "@jupyter-widgets/controls",
          "model_name": "FloatProgressModel",
          "state": {
            "_view_name": "ProgressView",
            "style": "IPY_MODEL_87f7de0fa8594400a60b9beba0815d11",
            "_dom_classes": [],
            "description": "Downloading: 100%",
            "_model_name": "FloatProgressModel",
            "bar_style": "success",
            "max": 791656,
            "_view_module": "@jupyter-widgets/controls",
            "_model_module_version": "1.5.0",
            "value": 791656,
            "_view_count": null,
            "_view_module_version": "1.5.0",
            "orientation": "horizontal",
            "min": 0,
            "description_tooltip": null,
            "_model_module": "@jupyter-widgets/controls",
            "layout": "IPY_MODEL_0e8ba45c5abf4df185c9fc58ec707557"
          }
        },
        "1f6a22fa788d4e2ca8f15326e22c6f71": {
          "model_module": "@jupyter-widgets/controls",
          "model_name": "HTMLModel",
          "state": {
            "_view_name": "HTMLView",
            "style": "IPY_MODEL_e4a16711e2e44526bac67855edcf25f8",
            "_dom_classes": [],
            "description": "",
            "_model_name": "HTMLModel",
            "placeholder": "​",
            "_view_module": "@jupyter-widgets/controls",
            "_model_module_version": "1.5.0",
            "value": " 792k/792k [00:01&lt;00:00, 660kB/s]",
            "_view_count": null,
            "_view_module_version": "1.5.0",
            "description_tooltip": null,
            "_model_module": "@jupyter-widgets/controls",
            "layout": "IPY_MODEL_1f02dee2bafa4eb4bf9642e39434a152"
          }
        },
        "87f7de0fa8594400a60b9beba0815d11": {
          "model_module": "@jupyter-widgets/controls",
          "model_name": "ProgressStyleModel",
          "state": {
            "_view_name": "StyleView",
            "_model_name": "ProgressStyleModel",
            "description_width": "initial",
            "_view_module": "@jupyter-widgets/base",
            "_model_module_version": "1.5.0",
            "_view_count": null,
            "_view_module_version": "1.2.0",
            "bar_color": null,
            "_model_module": "@jupyter-widgets/controls"
          }
        },
        "0e8ba45c5abf4df185c9fc58ec707557": {
          "model_module": "@jupyter-widgets/base",
          "model_name": "LayoutModel",
          "state": {
            "_view_name": "LayoutView",
            "grid_template_rows": null,
            "right": null,
            "justify_content": null,
            "_view_module": "@jupyter-widgets/base",
            "overflow": null,
            "_model_module_version": "1.2.0",
            "_view_count": null,
            "flex_flow": null,
            "width": null,
            "min_width": null,
            "border": null,
            "align_items": null,
            "bottom": null,
            "_model_module": "@jupyter-widgets/base",
            "top": null,
            "grid_column": null,
            "overflow_y": null,
            "overflow_x": null,
            "grid_auto_flow": null,
            "grid_area": null,
            "grid_template_columns": null,
            "flex": null,
            "_model_name": "LayoutModel",
            "justify_items": null,
            "grid_row": null,
            "max_height": null,
            "align_content": null,
            "visibility": null,
            "align_self": null,
            "height": null,
            "min_height": null,
            "padding": null,
            "grid_auto_rows": null,
            "grid_gap": null,
            "max_width": null,
            "order": null,
            "_view_module_version": "1.2.0",
            "grid_template_areas": null,
            "object_position": null,
            "object_fit": null,
            "grid_auto_columns": null,
            "margin": null,
            "display": null,
            "left": null
          }
        },
        "e4a16711e2e44526bac67855edcf25f8": {
          "model_module": "@jupyter-widgets/controls",
          "model_name": "DescriptionStyleModel",
          "state": {
            "_view_name": "StyleView",
            "_model_name": "DescriptionStyleModel",
            "description_width": "",
            "_view_module": "@jupyter-widgets/base",
            "_model_module_version": "1.5.0",
            "_view_count": null,
            "_view_module_version": "1.2.0",
            "_model_module": "@jupyter-widgets/controls"
          }
        },
        "1f02dee2bafa4eb4bf9642e39434a152": {
          "model_module": "@jupyter-widgets/base",
          "model_name": "LayoutModel",
          "state": {
            "_view_name": "LayoutView",
            "grid_template_rows": null,
            "right": null,
            "justify_content": null,
            "_view_module": "@jupyter-widgets/base",
            "overflow": null,
            "_model_module_version": "1.2.0",
            "_view_count": null,
            "flex_flow": null,
            "width": null,
            "min_width": null,
            "border": null,
            "align_items": null,
            "bottom": null,
            "_model_module": "@jupyter-widgets/base",
            "top": null,
            "grid_column": null,
            "overflow_y": null,
            "overflow_x": null,
            "grid_auto_flow": null,
            "grid_area": null,
            "grid_template_columns": null,
            "flex": null,
            "_model_name": "LayoutModel",
            "justify_items": null,
            "grid_row": null,
            "max_height": null,
            "align_content": null,
            "visibility": null,
            "align_self": null,
            "height": null,
            "min_height": null,
            "padding": null,
            "grid_auto_rows": null,
            "grid_gap": null,
            "max_width": null,
            "order": null,
            "_view_module_version": "1.2.0",
            "grid_template_areas": null,
            "object_position": null,
            "object_fit": null,
            "grid_auto_columns": null,
            "margin": null,
            "display": null,
            "left": null
          }
        },
        "63ca9bf3b2764fc18f6b274aedeb0ee6": {
          "model_module": "@jupyter-widgets/controls",
          "model_name": "HBoxModel",
          "state": {
            "_view_name": "HBoxView",
            "_dom_classes": [],
            "_model_name": "HBoxModel",
            "_view_module": "@jupyter-widgets/controls",
            "_model_module_version": "1.5.0",
            "_view_count": null,
            "_view_module_version": "1.5.0",
            "box_style": "",
            "layout": "IPY_MODEL_fa97bd6e3f394e8fadd061bfc276aee1",
            "_model_module": "@jupyter-widgets/controls",
            "children": [
              "IPY_MODEL_ab720c22b2b84591bdde870d0889615a",
              "IPY_MODEL_336658c370454d4bb59136dcfc508da3"
            ]
          }
        },
        "fa97bd6e3f394e8fadd061bfc276aee1": {
          "model_module": "@jupyter-widgets/base",
          "model_name": "LayoutModel",
          "state": {
            "_view_name": "LayoutView",
            "grid_template_rows": null,
            "right": null,
            "justify_content": null,
            "_view_module": "@jupyter-widgets/base",
            "overflow": null,
            "_model_module_version": "1.2.0",
            "_view_count": null,
            "flex_flow": null,
            "width": null,
            "min_width": null,
            "border": null,
            "align_items": null,
            "bottom": null,
            "_model_module": "@jupyter-widgets/base",
            "top": null,
            "grid_column": null,
            "overflow_y": null,
            "overflow_x": null,
            "grid_auto_flow": null,
            "grid_area": null,
            "grid_template_columns": null,
            "flex": null,
            "_model_name": "LayoutModel",
            "justify_items": null,
            "grid_row": null,
            "max_height": null,
            "align_content": null,
            "visibility": null,
            "align_self": null,
            "height": null,
            "min_height": null,
            "padding": null,
            "grid_auto_rows": null,
            "grid_gap": null,
            "max_width": null,
            "order": null,
            "_view_module_version": "1.2.0",
            "grid_template_areas": null,
            "object_position": null,
            "object_fit": null,
            "grid_auto_columns": null,
            "margin": null,
            "display": null,
            "left": null
          }
        },
        "ab720c22b2b84591bdde870d0889615a": {
          "model_module": "@jupyter-widgets/controls",
          "model_name": "FloatProgressModel",
          "state": {
            "_view_name": "ProgressView",
            "style": "IPY_MODEL_93954d43238b4ff7b637836d4822fa9f",
            "_dom_classes": [],
            "description": "Downloading: 100%",
            "_model_name": "FloatProgressModel",
            "bar_style": "success",
            "max": 1197,
            "_view_module": "@jupyter-widgets/controls",
            "_model_module_version": "1.5.0",
            "value": 1197,
            "_view_count": null,
            "_view_module_version": "1.5.0",
            "orientation": "horizontal",
            "min": 0,
            "description_tooltip": null,
            "_model_module": "@jupyter-widgets/controls",
            "layout": "IPY_MODEL_aac3de8e72a34a4aaa159f29cbe0bcf6"
          }
        },
        "336658c370454d4bb59136dcfc508da3": {
          "model_module": "@jupyter-widgets/controls",
          "model_name": "HTMLModel",
          "state": {
            "_view_name": "HTMLView",
            "style": "IPY_MODEL_4d30e221612d413196577d8b1b7af0b6",
            "_dom_classes": [],
            "description": "",
            "_model_name": "HTMLModel",
            "placeholder": "​",
            "_view_module": "@jupyter-widgets/controls",
            "_model_module_version": "1.5.0",
            "value": " 1.20k/1.20k [00:06&lt;00:00, 188B/s]",
            "_view_count": null,
            "_view_module_version": "1.5.0",
            "description_tooltip": null,
            "_model_module": "@jupyter-widgets/controls",
            "layout": "IPY_MODEL_224c1857b7ae4421a14f39804ed9e8af"
          }
        },
        "93954d43238b4ff7b637836d4822fa9f": {
          "model_module": "@jupyter-widgets/controls",
          "model_name": "ProgressStyleModel",
          "state": {
            "_view_name": "StyleView",
            "_model_name": "ProgressStyleModel",
            "description_width": "initial",
            "_view_module": "@jupyter-widgets/base",
            "_model_module_version": "1.5.0",
            "_view_count": null,
            "_view_module_version": "1.2.0",
            "bar_color": null,
            "_model_module": "@jupyter-widgets/controls"
          }
        },
        "aac3de8e72a34a4aaa159f29cbe0bcf6": {
          "model_module": "@jupyter-widgets/base",
          "model_name": "LayoutModel",
          "state": {
            "_view_name": "LayoutView",
            "grid_template_rows": null,
            "right": null,
            "justify_content": null,
            "_view_module": "@jupyter-widgets/base",
            "overflow": null,
            "_model_module_version": "1.2.0",
            "_view_count": null,
            "flex_flow": null,
            "width": null,
            "min_width": null,
            "border": null,
            "align_items": null,
            "bottom": null,
            "_model_module": "@jupyter-widgets/base",
            "top": null,
            "grid_column": null,
            "overflow_y": null,
            "overflow_x": null,
            "grid_auto_flow": null,
            "grid_area": null,
            "grid_template_columns": null,
            "flex": null,
            "_model_name": "LayoutModel",
            "justify_items": null,
            "grid_row": null,
            "max_height": null,
            "align_content": null,
            "visibility": null,
            "align_self": null,
            "height": null,
            "min_height": null,
            "padding": null,
            "grid_auto_rows": null,
            "grid_gap": null,
            "max_width": null,
            "order": null,
            "_view_module_version": "1.2.0",
            "grid_template_areas": null,
            "object_position": null,
            "object_fit": null,
            "grid_auto_columns": null,
            "margin": null,
            "display": null,
            "left": null
          }
        },
        "4d30e221612d413196577d8b1b7af0b6": {
          "model_module": "@jupyter-widgets/controls",
          "model_name": "DescriptionStyleModel",
          "state": {
            "_view_name": "StyleView",
            "_model_name": "DescriptionStyleModel",
            "description_width": "",
            "_view_module": "@jupyter-widgets/base",
            "_model_module_version": "1.5.0",
            "_view_count": null,
            "_view_module_version": "1.2.0",
            "_model_module": "@jupyter-widgets/controls"
          }
        },
        "224c1857b7ae4421a14f39804ed9e8af": {
          "model_module": "@jupyter-widgets/base",
          "model_name": "LayoutModel",
          "state": {
            "_view_name": "LayoutView",
            "grid_template_rows": null,
            "right": null,
            "justify_content": null,
            "_view_module": "@jupyter-widgets/base",
            "overflow": null,
            "_model_module_version": "1.2.0",
            "_view_count": null,
            "flex_flow": null,
            "width": null,
            "min_width": null,
            "border": null,
            "align_items": null,
            "bottom": null,
            "_model_module": "@jupyter-widgets/base",
            "top": null,
            "grid_column": null,
            "overflow_y": null,
            "overflow_x": null,
            "grid_auto_flow": null,
            "grid_area": null,
            "grid_template_columns": null,
            "flex": null,
            "_model_name": "LayoutModel",
            "justify_items": null,
            "grid_row": null,
            "max_height": null,
            "align_content": null,
            "visibility": null,
            "align_self": null,
            "height": null,
            "min_height": null,
            "padding": null,
            "grid_auto_rows": null,
            "grid_gap": null,
            "max_width": null,
            "order": null,
            "_view_module_version": "1.2.0",
            "grid_template_areas": null,
            "object_position": null,
            "object_fit": null,
            "grid_auto_columns": null,
            "margin": null,
            "display": null,
            "left": null
          }
        },
        "076b14f6d9b94d659d73978a5ebd7bdd": {
          "model_module": "@jupyter-widgets/controls",
          "model_name": "HBoxModel",
          "state": {
            "_view_name": "HBoxView",
            "_dom_classes": [],
            "_model_name": "HBoxModel",
            "_view_module": "@jupyter-widgets/controls",
            "_model_module_version": "1.5.0",
            "_view_count": null,
            "_view_module_version": "1.5.0",
            "box_style": "",
            "layout": "IPY_MODEL_d33a500006ab41b5af59689deab7c2b5",
            "_model_module": "@jupyter-widgets/controls",
            "children": [
              "IPY_MODEL_a360a9cb44734e7980bf4914fc31356d",
              "IPY_MODEL_8b97aa46d82d4b92a1b1c6c7808e3f4d"
            ]
          }
        },
        "d33a500006ab41b5af59689deab7c2b5": {
          "model_module": "@jupyter-widgets/base",
          "model_name": "LayoutModel",
          "state": {
            "_view_name": "LayoutView",
            "grid_template_rows": null,
            "right": null,
            "justify_content": null,
            "_view_module": "@jupyter-widgets/base",
            "overflow": null,
            "_model_module_version": "1.2.0",
            "_view_count": null,
            "flex_flow": null,
            "width": null,
            "min_width": null,
            "border": null,
            "align_items": null,
            "bottom": null,
            "_model_module": "@jupyter-widgets/base",
            "top": null,
            "grid_column": null,
            "overflow_y": null,
            "overflow_x": null,
            "grid_auto_flow": null,
            "grid_area": null,
            "grid_template_columns": null,
            "flex": null,
            "_model_name": "LayoutModel",
            "justify_items": null,
            "grid_row": null,
            "max_height": null,
            "align_content": null,
            "visibility": null,
            "align_self": null,
            "height": null,
            "min_height": null,
            "padding": null,
            "grid_auto_rows": null,
            "grid_gap": null,
            "max_width": null,
            "order": null,
            "_view_module_version": "1.2.0",
            "grid_template_areas": null,
            "object_position": null,
            "object_fit": null,
            "grid_auto_columns": null,
            "margin": null,
            "display": null,
            "left": null
          }
        },
        "a360a9cb44734e7980bf4914fc31356d": {
          "model_module": "@jupyter-widgets/controls",
          "model_name": "FloatProgressModel",
          "state": {
            "_view_name": "ProgressView",
            "style": "IPY_MODEL_94557fa6ddd74b32a4e2f906db03a035",
            "_dom_classes": [],
            "description": "Downloading: 100%",
            "_model_name": "FloatProgressModel",
            "bar_style": "success",
            "max": 242136741,
            "_view_module": "@jupyter-widgets/controls",
            "_model_module_version": "1.5.0",
            "value": 242136741,
            "_view_count": null,
            "_view_module_version": "1.5.0",
            "orientation": "horizontal",
            "min": 0,
            "description_tooltip": null,
            "_model_module": "@jupyter-widgets/controls",
            "layout": "IPY_MODEL_8599bdfe6ae8460c91653012a515e1f7"
          }
        },
        "8b97aa46d82d4b92a1b1c6c7808e3f4d": {
          "model_module": "@jupyter-widgets/controls",
          "model_name": "HTMLModel",
          "state": {
            "_view_name": "HTMLView",
            "style": "IPY_MODEL_b5af8a4284374b69b25eb05f36032d33",
            "_dom_classes": [],
            "description": "",
            "_model_name": "HTMLModel",
            "placeholder": "​",
            "_view_module": "@jupyter-widgets/controls",
            "_model_module_version": "1.5.0",
            "value": " 242M/242M [00:05&lt;00:00, 45.2MB/s]",
            "_view_count": null,
            "_view_module_version": "1.5.0",
            "description_tooltip": null,
            "_model_module": "@jupyter-widgets/controls",
            "layout": "IPY_MODEL_89d6528ea8e6496b98b52cbace18d94e"
          }
        },
        "94557fa6ddd74b32a4e2f906db03a035": {
          "model_module": "@jupyter-widgets/controls",
          "model_name": "ProgressStyleModel",
          "state": {
            "_view_name": "StyleView",
            "_model_name": "ProgressStyleModel",
            "description_width": "initial",
            "_view_module": "@jupyter-widgets/base",
            "_model_module_version": "1.5.0",
            "_view_count": null,
            "_view_module_version": "1.2.0",
            "bar_color": null,
            "_model_module": "@jupyter-widgets/controls"
          }
        },
        "8599bdfe6ae8460c91653012a515e1f7": {
          "model_module": "@jupyter-widgets/base",
          "model_name": "LayoutModel",
          "state": {
            "_view_name": "LayoutView",
            "grid_template_rows": null,
            "right": null,
            "justify_content": null,
            "_view_module": "@jupyter-widgets/base",
            "overflow": null,
            "_model_module_version": "1.2.0",
            "_view_count": null,
            "flex_flow": null,
            "width": null,
            "min_width": null,
            "border": null,
            "align_items": null,
            "bottom": null,
            "_model_module": "@jupyter-widgets/base",
            "top": null,
            "grid_column": null,
            "overflow_y": null,
            "overflow_x": null,
            "grid_auto_flow": null,
            "grid_area": null,
            "grid_template_columns": null,
            "flex": null,
            "_model_name": "LayoutModel",
            "justify_items": null,
            "grid_row": null,
            "max_height": null,
            "align_content": null,
            "visibility": null,
            "align_self": null,
            "height": null,
            "min_height": null,
            "padding": null,
            "grid_auto_rows": null,
            "grid_gap": null,
            "max_width": null,
            "order": null,
            "_view_module_version": "1.2.0",
            "grid_template_areas": null,
            "object_position": null,
            "object_fit": null,
            "grid_auto_columns": null,
            "margin": null,
            "display": null,
            "left": null
          }
        },
        "b5af8a4284374b69b25eb05f36032d33": {
          "model_module": "@jupyter-widgets/controls",
          "model_name": "DescriptionStyleModel",
          "state": {
            "_view_name": "StyleView",
            "_model_name": "DescriptionStyleModel",
            "description_width": "",
            "_view_module": "@jupyter-widgets/base",
            "_model_module_version": "1.5.0",
            "_view_count": null,
            "_view_module_version": "1.2.0",
            "_model_module": "@jupyter-widgets/controls"
          }
        },
        "89d6528ea8e6496b98b52cbace18d94e": {
          "model_module": "@jupyter-widgets/base",
          "model_name": "LayoutModel",
          "state": {
            "_view_name": "LayoutView",
            "grid_template_rows": null,
            "right": null,
            "justify_content": null,
            "_view_module": "@jupyter-widgets/base",
            "overflow": null,
            "_model_module_version": "1.2.0",
            "_view_count": null,
            "flex_flow": null,
            "width": null,
            "min_width": null,
            "border": null,
            "align_items": null,
            "bottom": null,
            "_model_module": "@jupyter-widgets/base",
            "top": null,
            "grid_column": null,
            "overflow_y": null,
            "overflow_x": null,
            "grid_auto_flow": null,
            "grid_area": null,
            "grid_template_columns": null,
            "flex": null,
            "_model_name": "LayoutModel",
            "justify_items": null,
            "grid_row": null,
            "max_height": null,
            "align_content": null,
            "visibility": null,
            "align_self": null,
            "height": null,
            "min_height": null,
            "padding": null,
            "grid_auto_rows": null,
            "grid_gap": null,
            "max_width": null,
            "order": null,
            "_view_module_version": "1.2.0",
            "grid_template_areas": null,
            "object_position": null,
            "object_fit": null,
            "grid_auto_columns": null,
            "margin": null,
            "display": null,
            "left": null
          }
        }
      }
    }
  },
  "cells": [
    {
      "cell_type": "markdown",
      "metadata": {
        "id": "view-in-github",
        "colab_type": "text"
      },
      "source": [
        "<a href=\"https://colab.research.google.com/github/textnorms/date_text_norm/blob/master/T5_V5.ipynb\" target=\"_parent\"><img src=\"https://colab.research.google.com/assets/colab-badge.svg\" alt=\"Open In Colab\"/></a>"
      ]
    },
    {
      "cell_type": "code",
      "metadata": {
        "id": "PcMfqlK-0HLY",
        "colab_type": "code",
        "outputId": "ff41dc96-acb2-4bf8-a792-0b65b8a4103c",
        "colab": {
          "base_uri": "https://localhost:8080/",
          "height": 306
        }
      },
      "source": [
        "! nvidia-smi"
      ],
      "execution_count": 0,
      "outputs": [
        {
          "output_type": "stream",
          "text": [
            "Wed May 27 23:23:47 2020       \n",
            "+-----------------------------------------------------------------------------+\n",
            "| NVIDIA-SMI 440.82       Driver Version: 418.67       CUDA Version: 10.1     |\n",
            "|-------------------------------+----------------------+----------------------+\n",
            "| GPU  Name        Persistence-M| Bus-Id        Disp.A | Volatile Uncorr. ECC |\n",
            "| Fan  Temp  Perf  Pwr:Usage/Cap|         Memory-Usage | GPU-Util  Compute M. |\n",
            "|===============================+======================+======================|\n",
            "|   0  Tesla P4            Off  | 00000000:00:04.0 Off |                    0 |\n",
            "| N/A   41C    P8     7W /  75W |      0MiB /  7611MiB |      0%      Default |\n",
            "+-------------------------------+----------------------+----------------------+\n",
            "                                                                               \n",
            "+-----------------------------------------------------------------------------+\n",
            "| Processes:                                                       GPU Memory |\n",
            "|  GPU       PID   Type   Process name                             Usage      |\n",
            "|=============================================================================|\n",
            "|  No running processes found                                                 |\n",
            "+-----------------------------------------------------------------------------+\n"
          ],
          "name": "stdout"
        }
      ]
    },
    {
      "cell_type": "code",
      "metadata": {
        "id": "c-1Lmkfv6g2j",
        "colab_type": "code",
        "outputId": "b63177b2-f118-4afd-963e-a3f20377425e",
        "colab": {
          "base_uri": "https://localhost:8080/",
          "height": 238
        }
      },
      "source": [
        "! rm -rf date*\n",
        "! git clone https://github.com/textnorms/date_text_norm.git\n",
        "! cp -r date_text_norm/syntetic_data/ .\n",
        "\n",
        "!pip install -q num2words transformers\n",
        "! pip install -q transformers"
      ],
      "execution_count": 0,
      "outputs": [
        {
          "output_type": "stream",
          "text": [
            "Cloning into 'date_text_norm'...\n",
            "remote: Enumerating objects: 107, done.\u001b[K\n",
            "remote: Counting objects:   0% (1/107)\u001b[K\rremote: Counting objects:   1% (2/107)\u001b[K\rremote: Counting objects:   2% (3/107)\u001b[K\rremote: Counting objects:   3% (4/107)\u001b[K\rremote: Counting objects:   4% (5/107)\u001b[K\rremote: Counting objects:   5% (6/107)\u001b[K\rremote: Counting objects:   6% (7/107)\u001b[K\rremote: Counting objects:   7% (8/107)\u001b[K\rremote: Counting objects:   8% (9/107)\u001b[K\rremote: Counting objects:   9% (10/107)\u001b[K\rremote: Counting objects:  10% (11/107)\u001b[K\rremote: Counting objects:  11% (12/107)\u001b[K\rremote: Counting objects:  12% (13/107)\u001b[K\rremote: Counting objects:  13% (14/107)\u001b[K\rremote: Counting objects:  14% (15/107)\u001b[K\rremote: Counting objects:  15% (17/107)\u001b[K\rremote: Counting objects:  16% (18/107)\u001b[K\rremote: Counting objects:  17% (19/107)\u001b[K\rremote: Counting objects:  18% (20/107)\u001b[K\rremote: Counting objects:  19% (21/107)\u001b[K\rremote: Counting objects:  20% (22/107)\u001b[K\rremote: Counting objects:  21% (23/107)\u001b[K\rremote: Counting objects:  22% (24/107)\u001b[K\rremote: Counting objects:  23% (25/107)\u001b[K\rremote: Counting objects:  24% (26/107)\u001b[K\rremote: Counting objects:  25% (27/107)\u001b[K\rremote: Counting objects:  26% (28/107)\u001b[K\rremote: Counting objects:  27% (29/107)\u001b[K\rremote: Counting objects:  28% (30/107)\u001b[K\rremote: Counting objects:  29% (32/107)\u001b[K\rremote: Counting objects:  30% (33/107)\u001b[K\rremote: Counting objects:  31% (34/107)\u001b[K\rremote: Counting objects:  32% (35/107)\u001b[K\rremote: Counting objects:  33% (36/107)\u001b[K\rremote: Counting objects:  34% (37/107)\u001b[K\rremote: Counting objects:  35% (38/107)\u001b[K\rremote: Counting objects:  36% (39/107)\u001b[K\rremote: Counting objects:  37% (40/107)\u001b[K\rremote: Counting objects:  38% (41/107)\u001b[K\rremote: Counting objects:  39% (42/107)\u001b[K\rremote: Counting objects:  40% (43/107)\u001b[K\rremote: Counting objects:  41% (44/107)\u001b[K\rremote: Counting objects:  42% (45/107)\u001b[K\rremote: Counting objects:  43% (47/107)\u001b[K\rremote: Counting objects:  44% (48/107)\u001b[K\rremote: Counting objects:  45% (49/107)\u001b[K\rremote: Counting objects:  46% (50/107)\u001b[K\rremote: Counting objects:  47% (51/107)\u001b[K\rremote: Counting objects:  48% (52/107)\u001b[K\rremote: Counting objects:  49% (53/107)\u001b[K\rremote: Counting objects:  50% (54/107)\u001b[K\rremote: Counting objects:  51% (55/107)\u001b[K\rremote: Counting objects:  52% (56/107)\u001b[K\rremote: Counting objects:  53% (57/107)\u001b[K\rremote: Counting objects:  54% (58/107)\u001b[K\rremote: Counting objects:  55% (59/107)\u001b[K\rremote: Counting objects:  56% (60/107)\u001b[K\rremote: Counting objects:  57% (61/107)\u001b[K\rremote: Counting objects:  58% (63/107)\u001b[K\rremote: Counting objects:  59% (64/107)\u001b[K\rremote: Counting objects:  60% (65/107)\u001b[K\rremote: Counting objects:  61% (66/107)\u001b[K\rremote: Counting objects:  62% (67/107)\u001b[K\rremote: Counting objects:  63% (68/107)\u001b[K\rremote: Counting objects:  64% (69/107)\u001b[K\rremote: Counting objects:  65% (70/107)\u001b[K\rremote: Counting objects:  66% (71/107)\u001b[K\rremote: Counting objects:  67% (72/107)\u001b[K\rremote: Counting objects:  68% (73/107)\u001b[K\rremote: Counting objects:  69% (74/107)\u001b[K\rremote: Counting objects:  70% (75/107)\u001b[K\rremote: Counting objects:  71% (76/107)\u001b[K\rremote: Counting objects:  72% (78/107)\u001b[K\rremote: Counting objects:  73% (79/107)\u001b[K\rremote: Counting objects:  74% (80/107)\u001b[K\rremote: Counting objects:  75% (81/107)\u001b[K\rremote: Counting objects:  76% (82/107)\u001b[K\rremote: Counting objects:  77% (83/107)\u001b[K\rremote: Counting objects:  78% (84/107)\u001b[K\rremote: Counting objects:  79% (85/107)\u001b[K\rremote: Counting objects:  80% (86/107)\u001b[K\rremote: Counting objects:  81% (87/107)\u001b[K\rremote: Counting objects:  82% (88/107)\u001b[K\rremote: Counting objects:  83% (89/107)\u001b[K\rremote: Counting objects:  84% (90/107)\u001b[K\rremote: Counting objects:  85% (91/107)\u001b[K\rremote: Counting objects:  86% (93/107)\u001b[K\rremote: Counting objects:  87% (94/107)\u001b[K\rremote: Counting objects:  88% (95/107)\u001b[K\rremote: Counting objects:  89% (96/107)\u001b[K\rremote: Counting objects:  90% (97/107)\u001b[K\rremote: Counting objects:  91% (98/107)\u001b[K\rremote: Counting objects:  92% (99/107)\u001b[K\rremote: Counting objects:  93% (100/107)\u001b[K\rremote: Counting objects:  94% (101/107)\u001b[K\rremote: Counting objects:  95% (102/107)\u001b[K\rremote: Counting objects:  96% (103/107)\u001b[K\rremote: Counting objects:  97% (104/107)\u001b[K\rremote: Counting objects:  98% (105/107)\u001b[K\rremote: Counting objects:  99% (106/107)\u001b[K\rremote: Counting objects: 100% (107/107)\u001b[K\rremote: Counting objects: 100% (107/107), done.\u001b[K\n",
            "remote: Compressing objects:   1% (1/82)\u001b[K\rremote: Compressing objects:   2% (2/82)\u001b[K\rremote: Compressing objects:   3% (3/82)\u001b[K\rremote: Compressing objects:   4% (4/82)\u001b[K\rremote: Compressing objects:   6% (5/82)\u001b[K\rremote: Compressing objects:   7% (6/82)\u001b[K\rremote: Compressing objects:   8% (7/82)\u001b[K\rremote: Compressing objects:   9% (8/82)\u001b[K\rremote: Compressing objects:  10% (9/82)\u001b[K\rremote: Compressing objects:  12% (10/82)\u001b[K\rremote: Compressing objects:  13% (11/82)\u001b[K\rremote: Compressing objects:  14% (12/82)\u001b[K\rremote: Compressing objects:  15% (13/82)\u001b[K\rremote: Compressing objects:  17% (14/82)\u001b[K\rremote: Compressing objects:  18% (15/82)\u001b[K\rremote: Compressing objects:  19% (16/82)\u001b[K\rremote: Compressing objects:  20% (17/82)\u001b[K\rremote: Compressing objects:  21% (18/82)\u001b[K\rremote: Compressing objects:  23% (19/82)\u001b[K\rremote: Compressing objects:  24% (20/82)\u001b[K\rremote: Compressing objects:  25% (21/82)\u001b[K\rremote: Compressing objects:  26% (22/82)\u001b[K\rremote: Compressing objects:  28% (23/82)\u001b[K\rremote: Compressing objects:  29% (24/82)\u001b[K\rremote: Compressing objects:  30% (25/82)\u001b[K\rremote: Compressing objects:  31% (26/82)\u001b[K\rremote: Compressing objects:  32% (27/82)\u001b[K\rremote: Compressing objects:  34% (28/82)\u001b[K\rremote: Compressing objects:  35% (29/82)\u001b[K\rremote: Compressing objects:  36% (30/82)\u001b[K\rremote: Compressing objects:  37% (31/82)\u001b[K\rremote: Compressing objects:  39% (32/82)\u001b[K\rremote: Compressing objects:  40% (33/82)\u001b[K\rremote: Compressing objects:  41% (34/82)\u001b[K\rremote: Compressing objects:  42% (35/82)\u001b[K\rremote: Compressing objects:  43% (36/82)\u001b[K\rremote: Compressing objects:  45% (37/82)\u001b[K\rremote: Compressing objects:  46% (38/82)\u001b[K\rremote: Compressing objects:  47% (39/82)\u001b[K\rremote: Compressing objects:  48% (40/82)\u001b[K\rremote: Compressing objects:  50% (41/82)\u001b[K\rremote: Compressing objects:  51% (42/82)\u001b[K\rremote: Compressing objects:  52% (43/82)\u001b[K\rremote: Compressing objects:  53% (44/82)\u001b[K\rremote: Compressing objects:  54% (45/82)\u001b[K\rremote: Compressing objects:  56% (46/82)\u001b[K\rremote: Compressing objects:  57% (47/82)\u001b[K\rremote: Compressing objects:  58% (48/82)\u001b[K\rremote: Compressing objects:  59% (49/82)\u001b[K\rremote: Compressing objects:  60% (50/82)\u001b[K\rremote: Compressing objects:  62% (51/82)\u001b[K\rremote: Compressing objects:  63% (52/82)\u001b[K\rremote: Compressing objects:  64% (53/82)\u001b[K\rremote: Compressing objects:  65% (54/82)\u001b[K\rremote: Compressing objects:  67% (55/82)\u001b[K\rremote: Compressing objects:  68% (56/82)\u001b[K\rremote: Compressing objects:  69% (57/82)\u001b[K\rremote: Compressing objects:  70% (58/82)\u001b[K\rremote: Compressing objects:  71% (59/82)\u001b[K\rremote: Compressing objects:  73% (60/82)\u001b[K\rremote: Compressing objects:  74% (61/82)\u001b[K\rremote: Compressing objects:  75% (62/82)\u001b[K\rremote: Compressing objects:  76% (63/82)\u001b[K\rremote: Compressing objects:  78% (64/82)\u001b[K\rremote: Compressing objects:  79% (65/82)\u001b[K\rremote: Compressing objects:  80% (66/82)\u001b[K\rremote: Compressing objects:  81% (67/82)\u001b[K\rremote: Compressing objects:  82% (68/82)\u001b[K\rremote: Compressing objects:  84% (69/82)\u001b[K\rremote: Compressing objects:  85% (70/82)\u001b[K\rremote: Compressing objects:  86% (71/82)\u001b[K\rremote: Compressing objects:  87% (72/82)\u001b[K\rremote: Compressing objects:  89% (73/82)\u001b[K\rremote: Compressing objects:  90% (74/82)\u001b[K\rremote: Compressing objects:  91% (75/82)\u001b[K\rremote: Compressing objects:  92% (76/82)\u001b[K\rremote: Compressing objects:  93% (77/82)\u001b[K\rremote: Compressing objects:  95% (78/82)\u001b[K\rremote: Compressing objects:  96% (79/82)\u001b[K\rremote: Compressing objects:  97% (80/82)\u001b[K\rremote: Compressing objects:  98% (81/82)\u001b[K\rremote: Compressing objects: 100% (82/82)\u001b[K\rremote: Compressing objects: 100% (82/82), done.\u001b[K\n",
            "Receiving objects:   0% (1/107)   \rReceiving objects:   1% (2/107)   \rReceiving objects:   2% (3/107)   \rReceiving objects:   3% (4/107)   \rReceiving objects:   4% (5/107)   \rReceiving objects:   5% (6/107)   \rReceiving objects:   6% (7/107)   \rReceiving objects:   7% (8/107)   \rReceiving objects:   8% (9/107)   \rReceiving objects:   9% (10/107)   \rReceiving objects:  10% (11/107)   \rReceiving objects:  11% (12/107)   \rReceiving objects:  12% (13/107)   \rReceiving objects:  13% (14/107)   \rReceiving objects:  14% (15/107)   \rReceiving objects:  15% (17/107)   \rReceiving objects:  16% (18/107)   \rReceiving objects:  17% (19/107)   \rReceiving objects:  18% (20/107)   \rReceiving objects:  19% (21/107)   \rReceiving objects:  20% (22/107)   \rReceiving objects:  21% (23/107)   \rReceiving objects:  22% (24/107)   \rReceiving objects:  23% (25/107)   \rReceiving objects:  24% (26/107)   \rReceiving objects:  25% (27/107)   \rReceiving objects:  26% (28/107)   \rReceiving objects:  27% (29/107)   \rReceiving objects:  28% (30/107)   \rReceiving objects:  29% (32/107)   \rReceiving objects:  30% (33/107)   \rReceiving objects:  31% (34/107)   \rReceiving objects:  32% (35/107)   \rReceiving objects:  33% (36/107)   \rReceiving objects:  34% (37/107)   \rReceiving objects:  35% (38/107)   \rReceiving objects:  36% (39/107)   \rReceiving objects:  37% (40/107)   \rReceiving objects:  38% (41/107)   \rReceiving objects:  39% (42/107)   \rReceiving objects:  40% (43/107)   \rReceiving objects:  41% (44/107)   \rReceiving objects:  42% (45/107)   \rReceiving objects:  43% (47/107)   \rremote: Total 107 (delta 60), reused 49 (delta 20), pack-reused 0\u001b[K\n",
            "Receiving objects:  44% (48/107)   \rReceiving objects:  45% (49/107)   \rReceiving objects:  46% (50/107)   \rReceiving objects:  47% (51/107)   \rReceiving objects:  48% (52/107)   \rReceiving objects:  49% (53/107)   \rReceiving objects:  50% (54/107)   \rReceiving objects:  51% (55/107)   \rReceiving objects:  52% (56/107)   \rReceiving objects:  53% (57/107)   \rReceiving objects:  54% (58/107)   \rReceiving objects:  55% (59/107)   \rReceiving objects:  56% (60/107)   \rReceiving objects:  57% (61/107)   \rReceiving objects:  58% (63/107)   \rReceiving objects:  59% (64/107)   \rReceiving objects:  60% (65/107)   \rReceiving objects:  61% (66/107)   \rReceiving objects:  62% (67/107)   \rReceiving objects:  63% (68/107)   \rReceiving objects:  64% (69/107)   \rReceiving objects:  65% (70/107)   \rReceiving objects:  66% (71/107)   \rReceiving objects:  67% (72/107)   \rReceiving objects:  68% (73/107)   \rReceiving objects:  69% (74/107)   \rReceiving objects:  70% (75/107)   \rReceiving objects:  71% (76/107)   \rReceiving objects:  72% (78/107)   \rReceiving objects:  73% (79/107)   \rReceiving objects:  74% (80/107)   \rReceiving objects:  75% (81/107)   \rReceiving objects:  76% (82/107)   \rReceiving objects:  77% (83/107)   \rReceiving objects:  78% (84/107)   \rReceiving objects:  79% (85/107)   \rReceiving objects:  80% (86/107)   \rReceiving objects:  81% (87/107)   \rReceiving objects:  82% (88/107)   \rReceiving objects:  83% (89/107)   \rReceiving objects:  84% (90/107)   \rReceiving objects:  85% (91/107)   \rReceiving objects:  86% (93/107)   \rReceiving objects:  87% (94/107)   \rReceiving objects:  88% (95/107)   \rReceiving objects:  89% (96/107)   \rReceiving objects:  90% (97/107)   \rReceiving objects:  91% (98/107)   \rReceiving objects:  92% (99/107)   \rReceiving objects:  93% (100/107)   \rReceiving objects:  94% (101/107)   \rReceiving objects:  95% (102/107)   \rReceiving objects:  96% (103/107)   \rReceiving objects:  97% (104/107)   \rReceiving objects:  98% (105/107)   \rReceiving objects:  99% (106/107)   \rReceiving objects: 100% (107/107)   \rReceiving objects: 100% (107/107), 44.58 KiB | 549.00 KiB/s, done.\n",
            "Resolving deltas: 100% (60/60), done.\n",
            "\u001b[K     |████████████████████████████████| 102kB 5.4MB/s \n",
            "\u001b[K     |████████████████████████████████| 665kB 27.4MB/s \n",
            "\u001b[K     |████████████████████████████████| 1.1MB 55.5MB/s \n",
            "\u001b[K     |████████████████████████████████| 890kB 58.3MB/s \n",
            "\u001b[K     |████████████████████████████████| 3.8MB 49.4MB/s \n",
            "\u001b[?25h  Building wheel for sacremoses (setup.py) ... \u001b[?25l\u001b[?25hdone\n"
          ],
          "name": "stdout"
        }
      ]
    },
    {
      "cell_type": "code",
      "metadata": {
        "id": "Nok2mtt_1021",
        "colab_type": "code",
        "colab": {}
      },
      "source": [
        "# Basics\n",
        "import numpy as np\n",
        "import pandas as pd\n",
        "import random\n",
        "\n",
        "# Synthetic data generator\n",
        "from syntetic_data import DateTextGenerator\n",
        "\n",
        "# PyTorch\n",
        "import torch \n",
        "import torch.nn.functional as F\n",
        "from torch.utils.data import Dataset, DataLoader\n",
        "\n",
        "# Sklearn\n",
        "from sklearn.model_selection import train_test_split\n",
        "\n",
        "# Transformers\n",
        "from transformers import T5Tokenizer, T5ForConditionalGeneration, AdamW\n",
        "\n",
        "# Matplot lib\n",
        "import matplotlib.pyplot as plt"
      ],
      "execution_count": 0,
      "outputs": []
    },
    {
      "cell_type": "markdown",
      "metadata": {
        "id": "HhdTvVgiYBw0",
        "colab_type": "text"
      },
      "source": [
        "### Deterministic experiments"
      ]
    },
    {
      "cell_type": "code",
      "metadata": {
        "id": "zm7tAsiUYMOU",
        "colab_type": "code",
        "outputId": "9d24b8bb-8350-4af5-9f87-78bc9fdb313b",
        "colab": {
          "base_uri": "https://localhost:8080/",
          "height": 51
        }
      },
      "source": [
        "manual_seed = 2357 # only primes, cuz I like\n",
        "def deterministic(rep=True):\n",
        "    if rep:\n",
        "        np.random.seed(manual_seed)\n",
        "        torch.manual_seed(manual_seed)\n",
        "        if torch.cuda.is_available():\n",
        "            torch.cuda.manual_seed(manual_seed)\n",
        "            torch.cuda.manual_seed_all(manual_seed)\n",
        "        torch.backends.cudnn.enabled = False \n",
        "        torch.backends.cudnn.benchmark = False\n",
        "        torch.backends.cudnn.deterministic = True\n",
        "        print(f'Deterministic experiment, seed: {manual_seed}')\n",
        "    else:\n",
        "        print('Random experiment')\n",
        "\n",
        "deterministic()\n",
        "\n",
        "device = torch.device('cuda' if torch.cuda.is_available() else 'cpu')\n",
        "print(f'Using device: {device}')"
      ],
      "execution_count": 0,
      "outputs": [
        {
          "output_type": "stream",
          "text": [
            "Deterministic experiment, seed: 2357\n",
            "Using device: cuda\n"
          ],
          "name": "stdout"
        }
      ]
    },
    {
      "cell_type": "markdown",
      "metadata": {
        "id": "BFHYoyzwOHDO",
        "colab_type": "text"
      },
      "source": [
        "## Config constants"
      ]
    },
    {
      "cell_type": "code",
      "metadata": {
        "id": "8r8O913HOK9F",
        "colab_type": "code",
        "outputId": "6dcdeab0-7a53-4ea5-9599-e423c3cd0dd9",
        "colab": {
          "base_uri": "https://localhost:8080/",
          "height": 66,
          "referenced_widgets": [
            "438ae4a08c2c46169cf31273df052db1",
            "553c34885828488ba9df4a439aa93050",
            "957a58c784e0493992c40181dbb34100",
            "1f6a22fa788d4e2ca8f15326e22c6f71",
            "87f7de0fa8594400a60b9beba0815d11",
            "0e8ba45c5abf4df185c9fc58ec707557",
            "e4a16711e2e44526bac67855edcf25f8",
            "1f02dee2bafa4eb4bf9642e39434a152"
          ]
        }
      },
      "source": [
        "# Model params\n",
        "MODEL_SZ = 't5-small'\n",
        "TOK = T5Tokenizer.from_pretrained(MODEL_SZ)\n",
        "MAX_LEN_SRC  = 40\n",
        "MAX_LEN_TRGT = 12\n",
        "\n",
        "# Train params\n",
        "BATCH_SZ = 128\n",
        "N_EPOCHS = 8\n",
        "WINDOW   = 7"
      ],
      "execution_count": 0,
      "outputs": [
        {
          "output_type": "display_data",
          "data": {
            "application/vnd.jupyter.widget-view+json": {
              "model_id": "438ae4a08c2c46169cf31273df052db1",
              "version_minor": 0,
              "version_major": 2
            },
            "text/plain": [
              "HBox(children=(FloatProgress(value=0.0, description='Downloading', max=791656.0, style=ProgressStyle(descripti…"
            ]
          },
          "metadata": {
            "tags": []
          }
        },
        {
          "output_type": "stream",
          "text": [
            "\n"
          ],
          "name": "stdout"
        }
      ]
    },
    {
      "cell_type": "markdown",
      "metadata": {
        "id": "1yeoFiMYXe8Z",
        "colab_type": "text"
      },
      "source": [
        "# Dataset"
      ]
    },
    {
      "cell_type": "code",
      "metadata": {
        "id": "eZ52EJP6Fy5v",
        "colab_type": "code",
        "outputId": "6554fbee-83c4-44a3-9f68-75fa54a57cf0",
        "colab": {
          "base_uri": "https://localhost:8080/",
          "height": 419
        }
      },
      "source": [
        "datas = DateTextGenerator(start_date='01/01/1921',\n",
        "                          end_date='31/12/2020',\n",
        "                          text_noise_rate=0.1)\n",
        "\n",
        "examples = datas.generate_demo(date='27/11/1983'); examples.head(63)"
      ],
      "execution_count": 0,
      "outputs": [
        {
          "output_type": "execute_result",
          "data": {
            "text/html": [
              "<div>\n",
              "<style scoped>\n",
              "    .dataframe tbody tr th:only-of-type {\n",
              "        vertical-align: middle;\n",
              "    }\n",
              "\n",
              "    .dataframe tbody tr th {\n",
              "        vertical-align: top;\n",
              "    }\n",
              "\n",
              "    .dataframe thead th {\n",
              "        text-align: right;\n",
              "    }\n",
              "</style>\n",
              "<table border=\"1\" class=\"dataframe\">\n",
              "  <thead>\n",
              "    <tr style=\"text-align: right;\">\n",
              "      <th></th>\n",
              "      <th>Input Pattern</th>\n",
              "      <th>Generated Text</th>\n",
              "      <th>Origin Sample</th>\n",
              "    </tr>\n",
              "  </thead>\n",
              "  <tbody>\n",
              "    <tr>\n",
              "      <th>0</th>\n",
              "      <td>1</td>\n",
              "      <td>vinte e sete de novembro de 1983</td>\n",
              "      <td>27/11/1983</td>\n",
              "    </tr>\n",
              "    <tr>\n",
              "      <th>1</th>\n",
              "      <td>2</td>\n",
              "      <td>vinte e sete de nov de mil, novecentos e oiten...</td>\n",
              "      <td>27/11/1983</td>\n",
              "    </tr>\n",
              "    <tr>\n",
              "      <th>2</th>\n",
              "      <td>3</td>\n",
              "      <td>vinte e sete de novembro de mil, novecentos e ...</td>\n",
              "      <td>27/11/1983</td>\n",
              "    </tr>\n",
              "    <tr>\n",
              "      <th>3</th>\n",
              "      <td>4</td>\n",
              "      <td>vigésimo sétimo dia do mês onze de mil, novece...</td>\n",
              "      <td>27/11/1983</td>\n",
              "    </tr>\n",
              "    <tr>\n",
              "      <th>4</th>\n",
              "      <td>5</td>\n",
              "      <td>27 de Novembro de 1983</td>\n",
              "      <td>27/11/1983</td>\n",
              "    </tr>\n",
              "    <tr>\n",
              "      <th>...</th>\n",
              "      <td>...</td>\n",
              "      <td>...</td>\n",
              "      <td>...</td>\n",
              "    </tr>\n",
              "    <tr>\n",
              "      <th>58</th>\n",
              "      <td>59</td>\n",
              "      <td>27 / novembro / 1983</td>\n",
              "      <td>27/11/1983</td>\n",
              "    </tr>\n",
              "    <tr>\n",
              "      <th>59</th>\n",
              "      <td>60</td>\n",
              "      <td>27/nov/1983</td>\n",
              "      <td>27/11/1983</td>\n",
              "    </tr>\n",
              "    <tr>\n",
              "      <th>60</th>\n",
              "      <td>61</td>\n",
              "      <td>27 / nov / 1983</td>\n",
              "      <td>27/11/1983</td>\n",
              "    </tr>\n",
              "    <tr>\n",
              "      <th>61</th>\n",
              "      <td>62</td>\n",
              "      <td>27/11/1983</td>\n",
              "      <td>27/11/1983</td>\n",
              "    </tr>\n",
              "    <tr>\n",
              "      <th>62</th>\n",
              "      <td>63</td>\n",
              "      <td>27 / 11 / 1983</td>\n",
              "      <td>27/11/1983</td>\n",
              "    </tr>\n",
              "  </tbody>\n",
              "</table>\n",
              "<p>63 rows × 3 columns</p>\n",
              "</div>"
            ],
            "text/plain": [
              "   Input Pattern  ... Origin Sample\n",
              "0              1  ...    27/11/1983\n",
              "1              2  ...    27/11/1983\n",
              "2              3  ...    27/11/1983\n",
              "3              4  ...    27/11/1983\n",
              "4              5  ...    27/11/1983\n",
              "..           ...  ...           ...\n",
              "58            59  ...    27/11/1983\n",
              "59            60  ...    27/11/1983\n",
              "60            61  ...    27/11/1983\n",
              "61            62  ...    27/11/1983\n",
              "62            63  ...    27/11/1983\n",
              "\n",
              "[63 rows x 3 columns]"
            ]
          },
          "metadata": {
            "tags": []
          },
          "execution_count": 6
        }
      ]
    },
    {
      "cell_type": "code",
      "metadata": {
        "id": "OpMWc1TrNvKS",
        "colab_type": "code",
        "outputId": "de678759-eefa-4e72-cb3c-ce3d12b28911",
        "colab": {
          "base_uri": "https://localhost:8080/",
          "height": 419
        }
      },
      "source": [
        "df = datas.generate_date_dataset(); df"
      ],
      "execution_count": 0,
      "outputs": [
        {
          "output_type": "execute_result",
          "data": {
            "text/html": [
              "<div>\n",
              "<style scoped>\n",
              "    .dataframe tbody tr th:only-of-type {\n",
              "        vertical-align: middle;\n",
              "    }\n",
              "\n",
              "    .dataframe tbody tr th {\n",
              "        vertical-align: top;\n",
              "    }\n",
              "\n",
              "    .dataframe thead th {\n",
              "        text-align: right;\n",
              "    }\n",
              "</style>\n",
              "<table border=\"1\" class=\"dataframe\">\n",
              "  <thead>\n",
              "    <tr style=\"text-align: right;\">\n",
              "      <th></th>\n",
              "      <th>Input Pattern</th>\n",
              "      <th>Noise Type</th>\n",
              "      <th>Input</th>\n",
              "      <th>Target</th>\n",
              "    </tr>\n",
              "  </thead>\n",
              "  <tbody>\n",
              "    <tr>\n",
              "      <th>0</th>\n",
              "      <td>33</td>\n",
              "      <td>N/A</td>\n",
              "      <td>01-janeiro-1921</td>\n",
              "      <td>01/01/1921</td>\n",
              "    </tr>\n",
              "    <tr>\n",
              "      <th>1</th>\n",
              "      <td>36</td>\n",
              "      <td>N/A</td>\n",
              "      <td>02 - jan - 1921</td>\n",
              "      <td>02/01/1921</td>\n",
              "    </tr>\n",
              "    <tr>\n",
              "      <th>2</th>\n",
              "      <td>35</td>\n",
              "      <td>N/A</td>\n",
              "      <td>03-jan-1921</td>\n",
              "      <td>03/01/1921</td>\n",
              "    </tr>\n",
              "    <tr>\n",
              "      <th>3</th>\n",
              "      <td>7</td>\n",
              "      <td>lookalike_replace_noise</td>\n",
              "      <td>04-01 de mii, novecentos e vlnte e um</td>\n",
              "      <td>04/01/1921</td>\n",
              "    </tr>\n",
              "    <tr>\n",
              "      <th>4</th>\n",
              "      <td>22</td>\n",
              "      <td>N/A</td>\n",
              "      <td>05 do mês um de 1921</td>\n",
              "      <td>05/01/1921</td>\n",
              "    </tr>\n",
              "    <tr>\n",
              "      <th>...</th>\n",
              "      <td>...</td>\n",
              "      <td>...</td>\n",
              "      <td>...</td>\n",
              "      <td>...</td>\n",
              "    </tr>\n",
              "    <tr>\n",
              "      <th>36520</th>\n",
              "      <td>47</td>\n",
              "      <td>N/A</td>\n",
              "      <td>27.dezembro.2020</td>\n",
              "      <td>27/12/2020</td>\n",
              "    </tr>\n",
              "    <tr>\n",
              "      <th>36521</th>\n",
              "      <td>19</td>\n",
              "      <td>N/A</td>\n",
              "      <td>28.12 dois mil e vinte</td>\n",
              "      <td>28/12/2020</td>\n",
              "    </tr>\n",
              "    <tr>\n",
              "      <th>36522</th>\n",
              "      <td>51</td>\n",
              "      <td>N/A</td>\n",
              "      <td>29 / 12 / 20</td>\n",
              "      <td>29/12/2020</td>\n",
              "    </tr>\n",
              "    <tr>\n",
              "      <th>36523</th>\n",
              "      <td>35</td>\n",
              "      <td>N/A</td>\n",
              "      <td>30-dez-2020</td>\n",
              "      <td>30/12/2020</td>\n",
              "    </tr>\n",
              "    <tr>\n",
              "      <th>36524</th>\n",
              "      <td>28</td>\n",
              "      <td>N/A</td>\n",
              "      <td>31 - dezembro - 20</td>\n",
              "      <td>31/12/2020</td>\n",
              "    </tr>\n",
              "  </tbody>\n",
              "</table>\n",
              "<p>36525 rows × 4 columns</p>\n",
              "</div>"
            ],
            "text/plain": [
              "      Input Pattern  ...      Target\n",
              "0                33  ...  01/01/1921\n",
              "1                36  ...  02/01/1921\n",
              "2                35  ...  03/01/1921\n",
              "3                 7  ...  04/01/1921\n",
              "4                22  ...  05/01/1921\n",
              "...             ...  ...         ...\n",
              "36520            47  ...  27/12/2020\n",
              "36521            19  ...  28/12/2020\n",
              "36522            51  ...  29/12/2020\n",
              "36523            35  ...  30/12/2020\n",
              "36524            28  ...  31/12/2020\n",
              "\n",
              "[36525 rows x 4 columns]"
            ]
          },
          "metadata": {
            "tags": []
          },
          "execution_count": 7
        }
      ]
    },
    {
      "cell_type": "code",
      "metadata": {
        "id": "B8XL54VM1IN-",
        "colab_type": "code",
        "outputId": "f5d73bb8-7e9b-4ef9-c059-5a988624c26f",
        "colab": {
          "base_uri": "https://localhost:8080/",
          "height": 221
        }
      },
      "source": [
        "# Inspectig text generative methods in datasets\n",
        "df['Input Pattern'].value_counts()/len(df)"
      ],
      "execution_count": 0,
      "outputs": [
        {
          "output_type": "execute_result",
          "data": {
            "text/plain": [
              "33    0.017084\n",
              "1     0.017084\n",
              "62    0.016893\n",
              "57    0.016893\n",
              "37    0.016756\n",
              "        ...   \n",
              "27    0.015113\n",
              "9     0.015003\n",
              "14    0.014839\n",
              "40    0.014483\n",
              "6     0.013936\n",
              "Name: Input Pattern, Length: 63, dtype: float64"
            ]
          },
          "metadata": {
            "tags": []
          },
          "execution_count": 8
        }
      ]
    },
    {
      "cell_type": "code",
      "metadata": {
        "id": "WjM4mpipxgaC",
        "colab_type": "code",
        "outputId": "2329c5a6-9483-4b7e-d79d-a5306ec3836f",
        "colab": {
          "base_uri": "https://localhost:8080/",
          "height": 102
        }
      },
      "source": [
        "# Inpsecting noise rate per samples\n",
        "df['Noise Type'].value_counts()/len(df)"
      ],
      "execution_count": 0,
      "outputs": [
        {
          "output_type": "execute_result",
          "data": {
            "text/plain": [
              "N/A                        0.900698\n",
              "unexpected_space_noise     0.034661\n",
              "lookalike_replace_noise    0.032690\n",
              "remove_char_noise          0.031951\n",
              "Name: Noise Type, dtype: float64"
            ]
          },
          "metadata": {
            "tags": []
          },
          "execution_count": 9
        }
      ]
    },
    {
      "cell_type": "markdown",
      "metadata": {
        "id": "Uif9PsFKRrxI",
        "colab_type": "text"
      },
      "source": [
        "## Function to split the dataset"
      ]
    },
    {
      "cell_type": "code",
      "metadata": {
        "id": "TfBx9nMkQ7Q8",
        "colab_type": "code",
        "outputId": "f13e5152-9c71-45da-d8f3-c2e6a5ea547c",
        "colab": {
          "base_uri": "https://localhost:8080/",
          "height": 34
        }
      },
      "source": [
        "def split_data(data, labels, test_size=0.2):\n",
        "    x_train, x_test, y_train, y_test = train_test_split(\n",
        "        data,\n",
        "        labels,\n",
        "        shuffle=True, \n",
        "        test_size=test_size,\n",
        "        random_state=manual_seed\n",
        "        )\n",
        "    return x_train, x_test, y_train, y_test\n",
        "\n",
        "# creating test set\n",
        "x_train, x_test, y_train, y_test = split_data(df.Input.values, \n",
        "                                              df.Target.values, \n",
        "                                              test_size=0.2)\n",
        "\n",
        "# creating valid set\n",
        "x_train, x_val, y_train, y_val = split_data(x_train, \n",
        "                                            y_train, \n",
        "                                            test_size=0.2)\n",
        "\n",
        "# checking\n",
        "len(x_train), len(y_train), len(x_val), len(y_val), len(x_test), len(y_test)"
      ],
      "execution_count": 0,
      "outputs": [
        {
          "output_type": "execute_result",
          "data": {
            "text/plain": [
              "(23376, 23376, 5844, 5844, 7305, 7305)"
            ]
          },
          "metadata": {
            "tags": []
          },
          "execution_count": 10
        }
      ]
    },
    {
      "cell_type": "code",
      "metadata": {
        "id": "ygsMXnkCyrVZ",
        "colab_type": "code",
        "colab": {}
      },
      "source": [
        "class DateDataset(Dataset):\n",
        "    def __init__(self, data, label, tokenizer, source_max_length, target_max_length):\n",
        "        self.tokenizer = tokenizer\n",
        "        self.data = data\n",
        "        self.label = label\n",
        "        self.source_max_length = source_max_length\n",
        "        self.target_max_length = target_max_length\n",
        "        \n",
        "    def __len__(self):\n",
        "        return len(self.data)\n",
        "    \n",
        "    def __getitem__(self, idx):\n",
        "        source = self.data[idx]\n",
        "        target = self.label[idx]\n",
        "\n",
        "        source_tokenized = self.tokenizer.encode_plus(\n",
        "            f'{source} {self.tokenizer.eos_token}',\n",
        "            max_length=self.source_max_length,\n",
        "            pad_to_max_length=True,\n",
        "            return_tensors='pt')\n",
        "\n",
        "        target_tokenized = self.tokenizer.encode_plus(\n",
        "            f'{target} {self.tokenizer.eos_token}',\n",
        "            max_length=self.target_max_length,\n",
        "            pad_to_max_length=True,\n",
        "            return_tensors='pt')\n",
        "\n",
        "        source_token_ids = source_tokenized['input_ids'].squeeze()\n",
        "        source_mask = source_tokenized['attention_mask'].squeeze()\n",
        "        target_token_ids = target_tokenized['input_ids'].squeeze()\n",
        "        \n",
        "        return source_token_ids, source_mask, target_token_ids"
      ],
      "execution_count": 0,
      "outputs": []
    },
    {
      "cell_type": "markdown",
      "metadata": {
        "id": "cloyt0tIwIiD",
        "colab_type": "text"
      },
      "source": [
        "## Checking the DateDataset class"
      ]
    },
    {
      "cell_type": "code",
      "metadata": {
        "id": "ZoKiQXCvwGrP",
        "colab_type": "code",
        "outputId": "cde7dc9b-16a8-47e4-d029-17b56038c234",
        "colab": {
          "base_uri": "https://localhost:8080/",
          "height": 204
        }
      },
      "source": [
        "dataset_debug = DateDataset(\n",
        "    x_train, \n",
        "    y_train,\n",
        "    TOK,\n",
        "    MAX_LEN_SRC,\n",
        "    MAX_LEN_TRGT,\n",
        "    )\n",
        "\n",
        "dataloader_checking = DataLoader(\n",
        "    dataset_debug, \n",
        "    batch_size=1, \n",
        "    shuffle=True, \n",
        "    num_workers=0\n",
        "    )\n",
        "\n",
        "source_token_ids, source_mask, target_token_ids = next(iter(dataloader_checking))\n",
        "print(f'source_token_ids:\\n {source_token_ids} --- shape:{source_token_ids.shape}')\n",
        "print(f'source_mask:\\n {source_mask} --- shape:{source_mask.shape}')\n",
        "print(f'target_token_ids:\\n {target_token_ids} --- shape:{target_token_ids.shape}')"
      ],
      "execution_count": 0,
      "outputs": [
        {
          "output_type": "stream",
          "text": [
            "source_token_ids:\n",
            " tensor([[  103,   776,    20,   150,   162,    51,  5702,    20, 15533,     6,\n",
            "           150,   162,  3728,    32,     7,     3,    15,  1394,  5277,     9,\n",
            "             3,    15,   103,   159,     1,     0,     0,     0,     0,     0,\n",
            "             0,     0,     0,     0,     0,     0,     0,     0,     0,     0]]) --- shape:torch.Size([1, 40])\n",
            "source_mask:\n",
            " tensor([[1, 1, 1, 1, 1, 1, 1, 1, 1, 1, 1, 1, 1, 1, 1, 1, 1, 1, 1, 1, 1, 1, 1, 1,\n",
            "         1, 0, 0, 0, 0, 0, 0, 0, 0, 0, 0, 0, 0, 0, 0, 0]]) --- shape:torch.Size([1, 40])\n",
            "target_token_ids:\n",
            " tensor([[  586, 20223, 13523,  4056,     1,     0,     0,     0,     0,     0,\n",
            "             0,     0]]) --- shape:torch.Size([1, 12])\n"
          ],
          "name": "stdout"
        }
      ]
    },
    {
      "cell_type": "markdown",
      "metadata": {
        "id": "dG1O12UoWYaM",
        "colab_type": "text"
      },
      "source": [
        "## Datasets e Dataloaders"
      ]
    },
    {
      "cell_type": "code",
      "metadata": {
        "id": "s7AlRyeOW8GN",
        "colab_type": "code",
        "outputId": "ed264c08-f62b-4e82-b07b-ac9483ca85bf",
        "colab": {
          "base_uri": "https://localhost:8080/",
          "height": 153
        }
      },
      "source": [
        "# datasets\n",
        "ds_debug = DateDataset(x_train[:BATCH_SZ], y_train[:BATCH_SZ], TOK, MAX_LEN_SRC, MAX_LEN_TRGT)\n",
        "ds_train = DateDataset(x_train, y_train, TOK, MAX_LEN_SRC, MAX_LEN_TRGT)\n",
        "ds_valid = DateDataset(x_val, y_val, TOK, MAX_LEN_SRC, MAX_LEN_TRGT)\n",
        "ds_test  = DateDataset(x_test, y_test, TOK, MAX_LEN_SRC, MAX_LEN_TRGT)\n",
        "\n",
        "print('Datasets len:')\n",
        "print(f'len ds_debug: {len(ds_debug)}')\n",
        "print(f'len ds_train: {len(ds_train)}')\n",
        "print(f'len ds_valid: {len(ds_valid)}')\n",
        "print(f'len ds_test:  {len(ds_test)}')\n",
        "\n",
        "# dataloaders\n",
        "dataloaders = {\n",
        "    'debug': DataLoader(\n",
        "         ds_debug,\n",
        "         batch_size=BATCH_SZ,\n",
        "         shuffle=True,\n",
        "         num_workers=2,\n",
        "         pin_memory=True),\n",
        "    'train': DataLoader(\n",
        "         ds_train,\n",
        "         batch_size=BATCH_SZ,\n",
        "         shuffle=True,\n",
        "         num_workers=2,\n",
        "         pin_memory=True),\n",
        "    'valid': DataLoader(\n",
        "         ds_valid,\n",
        "         batch_size=BATCH_SZ,\n",
        "         shuffle=False,\n",
        "         num_workers=2,\n",
        "         pin_memory=True),\n",
        "    'test': DataLoader(\n",
        "         ds_test,\n",
        "         batch_size=BATCH_SZ,\n",
        "         shuffle=False,\n",
        "         num_workers=2,\n",
        "         pin_memory=True),\n",
        "               }\n",
        "# sanity check\n",
        "print('\\nDataloaders len (in batch):')\n",
        "dl_sizes = {x: len(dataloaders[x]) for x in dataloaders.keys()}; dl_sizes"
      ],
      "execution_count": 0,
      "outputs": [
        {
          "output_type": "stream",
          "text": [
            "Datasets len:\n",
            "len ds_debug: 128\n",
            "len ds_train: 23376\n",
            "len ds_valid: 5844\n",
            "len ds_test:  7305\n",
            "\n",
            "Dataloaders len (in batch):\n"
          ],
          "name": "stdout"
        },
        {
          "output_type": "execute_result",
          "data": {
            "text/plain": [
              "{'debug': 1, 'test': 58, 'train': 183, 'valid': 46}"
            ]
          },
          "metadata": {
            "tags": []
          },
          "execution_count": 13
        }
      ]
    },
    {
      "cell_type": "code",
      "metadata": {
        "id": "x3rqg6r7am-N",
        "colab_type": "code",
        "colab": {}
      },
      "source": [
        "# testando o dataloader \n",
        "source_token_ids, source_mask, target_token_ids = next(iter(dataloaders['test']))"
      ],
      "execution_count": 0,
      "outputs": []
    },
    {
      "cell_type": "code",
      "metadata": {
        "id": "Wb4AnOJzBXK7",
        "colab_type": "code",
        "colab": {}
      },
      "source": [
        "class Net(torch.nn.Module):\n",
        "    def __init__(self):\n",
        "        super(Net, self).__init__()\n",
        "        self.model = T5ForConditionalGeneration.from_pretrained(MODEL_SZ)\n",
        "    \n",
        "    def forward(self, token_ids, att_mask, labels):\n",
        "        outputs = self.model.forward(\n",
        "            input_ids=token_ids, \n",
        "            attention_mask=att_mask,\n",
        "            lm_labels=labels\n",
        "            )\n",
        "        return outputs[0] # loss\n",
        "    \n",
        "    @torch.no_grad()    \n",
        "    def generate(self, token_ids, att_mask, max_len_target):\n",
        "        predict = self.model.generate(\n",
        "            input_ids=token_ids, \n",
        "            attention_mask=att_mask,\n",
        "            max_length=max_len_target\n",
        "            )\n",
        "        return predict\n",
        "    \n",
        "    @torch.no_grad()  \n",
        "    def generate_example(self, text_input, tokenizer, max_len_source=MAX_LEN_SRC):\n",
        "\n",
        "        self.model.eval()\n",
        "        \n",
        "        example_tokenized = tokenizer.encode_plus(\n",
        "            f'{text_input} {tokenizer.eos_token}',\n",
        "            max_length=max_len_source,\n",
        "            pad_to_max_length=True,\n",
        "            return_tensors='pt')\n",
        "            \n",
        "        example_token_ids = example_tokenized['input_ids']\n",
        "        example_mask = example_tokenized['attention_mask']\n",
        "\n",
        "        predicted_example = self.model.generate(\n",
        "            input_ids=example_token_ids.to(device), \n",
        "            attention_mask=example_mask.to(device),\n",
        "            max_length=MAX_LEN_TRGT\n",
        "            )\n",
        "\n",
        "        self.model.train()\n",
        "\n",
        "        out_text = [tokenizer.decode(text) for text in predicted_example]\n",
        "        \n",
        "        return out_text"
      ],
      "execution_count": 0,
      "outputs": []
    },
    {
      "cell_type": "markdown",
      "metadata": {
        "id": "tq9AMCaNuWMU",
        "colab_type": "text"
      },
      "source": [
        "## Train and evaluation functions"
      ]
    },
    {
      "cell_type": "code",
      "metadata": {
        "id": "5X6hklAUXxGD",
        "colab_type": "code",
        "colab": {}
      },
      "source": [
        "# acc metric for text inputs\n",
        "def acc_in_text(trues, preds): \n",
        "    acc = []\n",
        "    for d in zip(trues, preds):\n",
        "        if d[0] == d[1]:\n",
        "            acc.append(1)\n",
        "        else:\n",
        "            acc.append(0)\n",
        "    return acc # bool\n",
        "\n",
        "def train(model, device, train_loader, optimizer):\n",
        "    loss_train = []\n",
        "    model.train()\n",
        "    for source_token_ids, source_mask, target_token_ids in train_loader:\n",
        "        optimizer.zero_grad()\n",
        "        loss = model(\n",
        "            source_token_ids.to(device), \n",
        "            source_mask.to(device), \n",
        "            target_token_ids.to(device)\n",
        "            )\n",
        "        \n",
        "        loss_train.append(loss.item())\n",
        "        loss.backward()\n",
        "        optimizer.step()\n",
        "  \n",
        "    return sum(loss_train) / len(loss_train)\n",
        "\n",
        "def evaluate_fn(model, device, val_loader, max_len=MAX_LEN_TRGT):\n",
        "    all_acc, all_preds, all_trues = [], [], []\n",
        "    model.eval()\n",
        "    for source_token_ids, source_mask, target_token_ids in val_loader:\n",
        "        predicted_ids = model.generate(\n",
        "            source_token_ids.to(device), \n",
        "            source_mask.to(device),\n",
        "            max_len\n",
        "            )\n",
        "        \n",
        "        preds = [TOK.decode(t) for t in predicted_ids]\n",
        "        trues = [TOK.decode(t) for t in target_token_ids]\n",
        "        acc = acc_in_text(trues, preds)\n",
        "        all_acc.extend(acc)\n",
        "        all_trues.extend(trues)\n",
        "        all_preds.extend(preds)\n",
        "        \n",
        "    return np.array(all_acc).mean(), all_trues, all_preds"
      ],
      "execution_count": 0,
      "outputs": []
    },
    {
      "cell_type": "markdown",
      "metadata": {
        "id": "pirS1mecELqp",
        "colab_type": "text"
      },
      "source": [
        "# Overfit in one batch \n",
        "- dataloader debug"
      ]
    },
    {
      "cell_type": "code",
      "metadata": {
        "id": "R2PxRYyfn_UO",
        "colab_type": "code",
        "colab": {}
      },
      "source": [
        "overfit = False\n",
        "\n",
        "if overfit:\n",
        "\n",
        "    start = torch.cuda.Event(enable_timing=True)\n",
        "    end = torch.cuda.Event(enable_timing=True)\n",
        "    deterministic() \n",
        "\n",
        "    model = Net().to(device)\n",
        "    optimizer = torch.optim.AdamW(model.parameters(), lr=5e-5)\n",
        "    \n",
        "    # -----------------------------------------------------------------------------\n",
        "    start.record()\n",
        "    for step in range(1, 1001):\n",
        "        samp = random.randint(0, BATCH_SZ-WINDOW) # to show random trues and preds\n",
        "        loss_t = train(model, device, dataloaders['debug'], optimizer)\n",
        "        acc, trues, preds = evaluate_fn(model, device, dataloaders['debug'])\n",
        "        if step == 1:\n",
        "            print(f'[Epoch: {step}/{1000}] |', end=' ')\n",
        "            print(f'Train Loss: {loss_t:.3f} -- Acc: {acc:.3f}')\n",
        "        if step % 100 == 0:\n",
        "            print(f'[Epoch: {step}/{1000}] |', end=' ')\n",
        "            print(f'Train Loss: {loss_t:.3f} -- Acc: {acc:.3f}')\n",
        "            print(f'  Trues: {trues[samp:samp+WINDOW]}\\n  Preds: {preds[samp:samp+WINDOW]}')\n",
        "    end.record()\n",
        "    torch.cuda.synchronize()    \n",
        "    # -----------------------------------------------------------------------------\n",
        "\n",
        "    print(f'Training time: {start.elapsed_time(end)/1000/60 :.3f} min.')\n",
        "    del model"
      ],
      "execution_count": 0,
      "outputs": []
    },
    {
      "cell_type": "markdown",
      "metadata": {
        "id": "wQC8YJ8PT7-0",
        "colab_type": "text"
      },
      "source": [
        "# Training "
      ]
    },
    {
      "cell_type": "code",
      "metadata": {
        "id": "dNtIb8b4Q4lC",
        "colab_type": "code",
        "outputId": "48368244-e6ec-4e8f-9ba4-94e4e48129ce",
        "colab": {
          "base_uri": "https://localhost:8080/",
          "height": 557,
          "referenced_widgets": [
            "63ca9bf3b2764fc18f6b274aedeb0ee6",
            "fa97bd6e3f394e8fadd061bfc276aee1",
            "ab720c22b2b84591bdde870d0889615a",
            "336658c370454d4bb59136dcfc508da3",
            "93954d43238b4ff7b637836d4822fa9f",
            "aac3de8e72a34a4aaa159f29cbe0bcf6",
            "4d30e221612d413196577d8b1b7af0b6",
            "224c1857b7ae4421a14f39804ed9e8af",
            "076b14f6d9b94d659d73978a5ebd7bdd",
            "d33a500006ab41b5af59689deab7c2b5",
            "a360a9cb44734e7980bf4914fc31356d",
            "8b97aa46d82d4b92a1b1c6c7808e3f4d",
            "94557fa6ddd74b32a4e2f906db03a035",
            "8599bdfe6ae8460c91653012a515e1f7",
            "b5af8a4284374b69b25eb05f36032d33",
            "89d6528ea8e6496b98b52cbace18d94e"
          ]
        }
      },
      "source": [
        "start = torch.cuda.Event(enable_timing=True)\n",
        "end = torch.cuda.Event(enable_timing=True)\n",
        "deterministic() \n",
        "\n",
        "model = Net().to(device)\n",
        "optimizer = torch.optim.AdamW(model.parameters(), lr=5e-5)\n",
        "\n",
        "# ---------------------------------------------------------------------------------\n",
        "start.record()\n",
        "\n",
        "for step in range(1, N_EPOCHS+1):\n",
        "    samp = random.randint(0, BATCH_SZ-WINDOW) # to show random trues and preds\n",
        "    loss_t = train(model, device, dataloaders['train'], optimizer)\n",
        "    acc, trues, preds = evaluate_fn(model, device, dataloaders['valid'])\n",
        "    print(f'[Epoch: {step}/{N_EPOCHS}] |', end=' ')\n",
        "    print(f'Train Loss: {loss_t:.3f} -- Acc: {acc:.3f}')\n",
        "    print(f'  Trues: {trues[samp:samp+WINDOW]}\\n  Preds: {preds[samp:samp+WINDOW]}')\n",
        "\n",
        "end.record()\n",
        "torch.cuda.synchronize()    \n",
        "# ---------------------------------------------------------------------------------\n",
        "\n",
        "print(f'Training time: {start.elapsed_time(end)/1000/60 :.3f} min.')"
      ],
      "execution_count": 0,
      "outputs": [
        {
          "output_type": "stream",
          "text": [
            "Deterministic experiment, seed: 2357\n"
          ],
          "name": "stdout"
        },
        {
          "output_type": "display_data",
          "data": {
            "application/vnd.jupyter.widget-view+json": {
              "model_id": "63ca9bf3b2764fc18f6b274aedeb0ee6",
              "version_minor": 0,
              "version_major": 2
            },
            "text/plain": [
              "HBox(children=(FloatProgress(value=0.0, description='Downloading', max=1197.0, style=ProgressStyle(description…"
            ]
          },
          "metadata": {
            "tags": []
          }
        },
        {
          "output_type": "stream",
          "text": [
            "\n"
          ],
          "name": "stdout"
        },
        {
          "output_type": "display_data",
          "data": {
            "application/vnd.jupyter.widget-view+json": {
              "model_id": "076b14f6d9b94d659d73978a5ebd7bdd",
              "version_minor": 0,
              "version_major": 2
            },
            "text/plain": [
              "HBox(children=(FloatProgress(value=0.0, description='Downloading', max=242136741.0, style=ProgressStyle(descri…"
            ]
          },
          "metadata": {
            "tags": []
          }
        },
        {
          "output_type": "stream",
          "text": [
            "\n",
            "[Epoch: 1/8] | Train Loss: 1.627 -- Acc: 0.396\n",
            "  Trues: ['28/06/1944', '31/10/1946', '02/08/1959', '27/10/1955', '23/10/2012', '12/10/2008', '02/08/2002']\n",
            "  Preds: ['28/06/1944', '3/1946', '02.1959', '27/08/1955', '23/10/19 2012', '12/10/2008', '02/11/1920']\n",
            "[Epoch: 2/8] | Train Loss: 0.365 -- Acc: 0.582\n",
            "  Trues: ['13/09/1985', '18/05/1936', '11/11/1996', '23/03/2016', '19/01/1979', '25/06/1967', '12/05/1990']\n",
            "  Preds: ['13/06/1985', '18/05/1936', '11/11/1996', '23/03/1916', '20/01/1979', '25/06/1967', '12/05/1990']\n",
            "[Epoch: 3/8] | Train Loss: 0.256 -- Acc: 0.686\n",
            "  Trues: ['01/06/1921', '28/01/2001', '09/08/1991', '16/08/2005', '22/05/1963', '11/08/1972', '18/09/1991']\n",
            "  Preds: ['01/06/1921', '28/01/2001', '09/08/1991', '16/08/2005', '22/05/1963', '11/08/1982', '18/09/1991']\n",
            "[Epoch: 4/8] | Train Loss: 0.195 -- Acc: 0.740\n",
            "  Trues: ['24/11/1921', '25/03/1941', '13/04/2008', '06/01/2009', '28/06/1944', '31/10/1946', '02/08/1959']\n",
            "  Preds: ['24/11/1921', '25/03/1941', '13/04/2008', '06/01/2009', '28/06/1944', '30/10/1946', '02/08/1959']\n",
            "[Epoch: 5/8] | Train Loss: 0.156 -- Acc: 0.793\n",
            "  Trues: ['10/09/1993', '06/12/1973', '23/08/1922', '25/02/2006', '20/10/1929', '09/05/1978', '16/08/1976']\n",
            "  Preds: ['10/09/1993', '06/12/1973', '23/08/1922', '02/02/2006', '02/01/1929', '09/05/1978', '16/08/1976']\n",
            "[Epoch: 6/8] | Train Loss: 0.127 -- Acc: 0.835\n",
            "  Trues: ['22/10/1969', '10/09/1993', '06/12/1973', '23/08/1922', '25/02/2006', '20/10/1929', '09/05/1978']\n",
            "  Preds: ['22/10/1969', '10/09/1993', '06/12/1973', '23/08/1922', '02/02/2006', '02/01/1929', '09/05/1978']\n",
            "[Epoch: 7/8] | Train Loss: 0.105 -- Acc: 0.881\n",
            "  Trues: ['27/11/2015', '05/06/1954', '11/12/1979', '22/10/1969', '10/09/1993', '06/12/1973', '23/08/1922']\n",
            "  Preds: ['27/11/2015', '05/06/1954', '11/12/1979', '22/10/1969', '10/09/1993', '06/12/1973', '23/08/1922']\n",
            "[Epoch: 8/8] | Train Loss: 0.086 -- Acc: 0.914\n",
            "  Trues: ['25/06/1967', '12/05/1990', '27/11/2015', '05/06/1954', '11/12/1979', '22/10/1969', '10/09/1993']\n",
            "  Preds: ['25/06/1967', '12/05/1990', '27/11/2015', '05/06/1954', '11/12/1979', '22/10/1969', '10/09/1993']\n",
            "Training time: 12.163 min.\n"
          ],
          "name": "stdout"
        }
      ]
    },
    {
      "cell_type": "markdown",
      "metadata": {
        "id": "GWAhh3gOgg2c",
        "colab_type": "text"
      },
      "source": [
        "# Test"
      ]
    },
    {
      "cell_type": "code",
      "metadata": {
        "id": "RfRFVIBSgiau",
        "colab_type": "code",
        "outputId": "ec39e3d2-417c-40d2-8449-b0f8af1318bd",
        "colab": {
          "base_uri": "https://localhost:8080/",
          "height": 85
        }
      },
      "source": [
        "# ---------------------------------------------------------------------------------\n",
        "start.record()\n",
        "\n",
        "samp = random.randint(0, BATCH_SZ-WINDOW) # to show random trues and preds\n",
        "acc, trues, preds = evaluate_fn(model, device, dataloaders['test'])\n",
        "print(f'Acc: {acc:.3f}')\n",
        "print(f' Trues: {trues[samp:samp+WINDOW]}\\n  Preds: {preds[samp:samp+WINDOW]}')\n",
        "\n",
        "end.record()\n",
        "torch.cuda.synchronize()    \n",
        "# ---------------------------------------------------------------------------------\n",
        "\n",
        "print(f'Test time: {start.elapsed_time(end)/1000/60 :.3f} min.')"
      ],
      "execution_count": 0,
      "outputs": [
        {
          "output_type": "stream",
          "text": [
            "Acc: 0.914\n",
            " Trues: ['11/07/1937', '20/03/1921', '31/12/1939', '15/05/1977', '04/11/1925', '30/03/1950', '05/07/1945']\n",
            "  Preds: ['11/07/1937', '20/03/1921', '31/12/1939', '15/05/1977', '04/11/1925', '30/03/1950', '05/07/1945']\n",
            "Test time: 0.183 min.\n"
          ],
          "name": "stdout"
        }
      ]
    },
    {
      "cell_type": "markdown",
      "metadata": {
        "id": "CzVjYAkNGVxJ",
        "colab_type": "text"
      },
      "source": [
        "# Evaluating types for a same date\n",
        "\n",
        "Given a sample date, this section evaluates wich is the accuracy.\n",
        "\n",
        "\n"
      ]
    },
    {
      "cell_type": "code",
      "metadata": {
        "id": "DixMx530hPg5",
        "colab_type": "code",
        "colab": {}
      },
      "source": [
        "def evaluate_for_a_same_date(date,model=model,tokenizer=TOK,verbose=True):\n",
        "  '''\n",
        "    Given a specific date, returns the accuracy in all evalueated types.\n",
        "    Also prints results per sample.\n",
        "  '''\n",
        "\n",
        "  results = []\n",
        "  \n",
        "  examples = datas.generate_demo(date=date)\n",
        "\n",
        "  for x,target in zip(examples['Generated Text'],examples['Origin Sample']):\n",
        "\n",
        "    prediction = model.generate_example(x,TOK)[0]\n",
        "\n",
        "    results.append(prediction == target)\n",
        "\n",
        "    if verbose:\n",
        "      print(f'Entrada: {x} -- Target: {target} --- Previsto: {prediction} --- {prediction == target}')\n",
        "\n",
        "\n",
        "  if verbose:\n",
        "    print(f'Total accuracy: {np.mean(results)}')\n",
        "\n",
        "  return np.mean(results)\n"
      ],
      "execution_count": 0,
      "outputs": []
    },
    {
      "cell_type": "code",
      "metadata": {
        "id": "hlmH30k9iBKC",
        "colab_type": "code",
        "outputId": "5dde0597-3491-49b4-db12-cf00f3cea5de",
        "colab": {
          "base_uri": "https://localhost:8080/",
          "height": 1000
        }
      },
      "source": [
        "'''\n",
        "  A date in the century with more dates occuring\n",
        "'''\n",
        "\n",
        "evaluate_for_a_same_date('11/07/1988')"
      ],
      "execution_count": 0,
      "outputs": [
        {
          "output_type": "stream",
          "text": [
            "Entrada: onze de julho de 1988 -- Target: 11/07/1988 --- Previsto: 11/07/1988 --- True\n",
            "Entrada: onze de jul de mil, novecentos e oitenta e oito -- Target: 11/07/1988 --- Previsto: 11/07/1988 --- True\n",
            "Entrada: onze de julho de mil, novecentos e oitenta e oito -- Target: 11/07/1988 --- Previsto: 11/07/1988 --- True\n",
            "Entrada: décimo primeiro dia do mês sete de mil, novecentos e oitenta e oito -- Target: 11/07/1988 --- Previsto: 19/02/1988 --- False\n",
            "Entrada: 11 de Julho de 1988 -- Target: 11/07/1988 --- Previsto: 11/07/1988 --- True\n",
            "Entrada: 11 de julho de mil, novecentos e oitenta e oito -- Target: 11/07/1988 --- Previsto: 11/07/1988 --- True\n",
            "Entrada: 11-07 de mil, novecentos e oitenta e oito -- Target: 11/07/1988 --- Previsto: 11/07/1988 --- True\n",
            "Entrada: onze - 07 - 1988 -- Target: 11/07/1988 --- Previsto: 11/07/1988 --- True\n",
            "Entrada: onze de julho - 1988 -- Target: 11/07/1988 --- Previsto: 11/07/1988 --- True\n",
            "Entrada: 11º de julho de 1988 -- Target: 11/07/1988 --- Previsto: 11/07/1988 --- True\n",
            "Entrada: 11º - 07 - 88 -- Target: 11/07/1988 --- Previsto: 11/07/1988 --- True\n",
            "Entrada: 11º - 07 - 1988 -- Target: 11/07/1988 --- Previsto: 11/07/1988 --- True\n",
            "Entrada: 11º / 07 / 1988 -- Target: 11/07/1988 --- Previsto: 11/07/1988 --- True\n",
            "Entrada: 11º / Julho / 1988 -- Target: 11/07/1988 --- Previsto: 11/07/1988 --- True\n",
            "Entrada: 11 / julho / 1988 -- Target: 11/07/1988 --- Previsto: 11/07/1988 --- True\n",
            "Entrada: onze julho mil, novecentos e oitenta e oito -- Target: 11/07/1988 --- Previsto: 11/07/1988 --- True\n",
            "Entrada: 11 julho mil, novecentos e oitenta e oito -- Target: 11/07/1988 --- Previsto: 11/07/1988 --- True\n",
            "Entrada: 11/07 mil, novecentos e oitenta e oito -- Target: 11/07/1988 --- Previsto: 11/07/1988 --- True\n",
            "Entrada: 11.07 mil, novecentos e oitenta e oito -- Target: 11/07/1988 --- Previsto: 11/07/1988 --- True\n",
            "Entrada: 11-07 mil, novecentos e oitenta e oito -- Target: 11/07/1988 --- Previsto: 11/07/1988 --- True\n",
            "Entrada: onze/julho/mil, novecentos e oitenta e oito -- Target: 11/07/1988 --- Previsto: 11/07/1988 --- True\n",
            "Entrada: 11 do mês sete de 1988 -- Target: 11/07/1988 --- Previsto: 11/07/1988 --- True\n",
            "Entrada: 11-07-88 -- Target: 11/07/1988 --- Previsto: 11/07/1988 --- True\n",
            "Entrada: 11 - 07 - 88 -- Target: 11/07/1988 --- Previsto: 11/07/1988 --- True\n",
            "Entrada: 11-7-1988 -- Target: 11/07/1988 --- Previsto: 11/07/1988 --- True\n",
            "Entrada: 11 - 7 - 1988 -- Target: 11/07/1988 --- Previsto: 11/07/1988 --- True\n",
            "Entrada: 11-julho-88 -- Target: 11/07/1988 --- Previsto: 11/07/1988 --- True\n",
            "Entrada: 11 - julho - 88 -- Target: 11/07/1988 --- Previsto: 11/07/1988 --- True\n",
            "Entrada: 11-jul-88 -- Target: 11/07/1988 --- Previsto: 11/07/1988 --- True\n",
            "Entrada: 11 - jul - 88 -- Target: 11/07/1988 --- Previsto: 11/07/1988 --- True\n",
            "Entrada: 11-07-1988 -- Target: 11/07/1988 --- Previsto: 11/07/1988 --- True\n",
            "Entrada: 11 - 07 - 1988 -- Target: 11/07/1988 --- Previsto: 11/07/1988 --- True\n",
            "Entrada: 11-julho-1988 -- Target: 11/07/1988 --- Previsto: 11/07/1988 --- True\n",
            "Entrada: 11 - julho - 1988 -- Target: 11/07/1988 --- Previsto: 11/07/1988 --- True\n",
            "Entrada: 11-jul-1988 -- Target: 11/07/1988 --- Previsto: 11/07/1988 --- True\n",
            "Entrada: 11 - jul - 1988 -- Target: 11/07/1988 --- Previsto: 11/07/1988 --- True\n",
            "Entrada: 11.07.88 -- Target: 11/07/1988 --- Previsto: 11/07/1988 --- True\n",
            "Entrada: 11 . 07 . 88 -- Target: 11/07/1988 --- Previsto: 11/07/1988 --- True\n",
            "Entrada: 11.7.1988 -- Target: 11/07/1988 --- Previsto: 11/07/1988 --- True\n",
            "Entrada: 11 . 7 . 1988 -- Target: 11/07/1988 --- Previsto: 11/07/1988 --- True\n",
            "Entrada: 11.julho.88 -- Target: 11/07/1988 --- Previsto: 11/07/1988 --- True\n",
            "Entrada: 11 . julho . 88 -- Target: 11/07/1988 --- Previsto: 11/07/1988 --- True\n",
            "Entrada: 11.jul.88 -- Target: 11/07/1988 --- Previsto: 11/07/1988 --- True\n",
            "Entrada: 11 . jul . 88 -- Target: 11/07/1988 --- Previsto: 11/07/1988 --- True\n",
            "Entrada: 11.07.1988 -- Target: 11/07/1988 --- Previsto: 11/07/1988 --- True\n",
            "Entrada: 11 . 07 . 1988 -- Target: 11/07/1988 --- Previsto: 11/07/1988 --- True\n",
            "Entrada: 11.julho.1988 -- Target: 11/07/1988 --- Previsto: 11/07/1988 --- True\n",
            "Entrada: 11 . julho . 1988 -- Target: 11/07/1988 --- Previsto: 11/07/1988 --- True\n",
            "Entrada: 11.jul.1988 -- Target: 11/07/1988 --- Previsto: 11/07/1988 --- True\n",
            "Entrada: 11 . jul . 1988 -- Target: 11/07/1988 --- Previsto: 11/07/1988 --- True\n",
            "Entrada: 11 / 07 / 88 -- Target: 11/07/1988 --- Previsto: 11/07/1988 --- True\n",
            "Entrada: 11/julho/88 -- Target: 11/07/1988 --- Previsto: 11/07/1988 --- True\n",
            "Entrada: 11 / julho / 88 -- Target: 11/07/1988 --- Previsto: 11/07/1988 --- True\n",
            "Entrada: 11/jul/88 -- Target: 11/07/1988 --- Previsto: 11/07/1988 --- True\n",
            "Entrada: 11 / jul / 88 -- Target: 11/07/1988 --- Previsto: 11/07/1988 --- True\n",
            "Entrada: 11/07/1988 -- Target: 11/07/1988 --- Previsto: 11/07/1988 --- True\n",
            "Entrada: 11 / 07 / 1988 -- Target: 11/07/1988 --- Previsto: 11/07/1988 --- True\n",
            "Entrada: 11/julho/1988 -- Target: 11/07/1988 --- Previsto: 11/07/1988 --- True\n",
            "Entrada: 11 / julho / 1988 -- Target: 11/07/1988 --- Previsto: 11/07/1988 --- True\n",
            "Entrada: 11/jul/1988 -- Target: 11/07/1988 --- Previsto: 11/07/1988 --- True\n",
            "Entrada: 11 / jul / 1988 -- Target: 11/07/1988 --- Previsto: 11/07/1988 --- True\n",
            "Entrada: 11/7/1988 -- Target: 11/07/1988 --- Previsto: 11/07/1988 --- True\n",
            "Entrada: 11 / 7 / 1988 -- Target: 11/07/1988 --- Previsto: 11/07/1988 --- True\n",
            "Total accuracy: 0.9841269841269841\n"
          ],
          "name": "stdout"
        },
        {
          "output_type": "execute_result",
          "data": {
            "text/plain": [
              "0.9841269841269841"
            ]
          },
          "metadata": {
            "tags": []
          },
          "execution_count": 47
        }
      ]
    },
    {
      "cell_type": "code",
      "metadata": {
        "id": "qZr2RlmzcjLV",
        "colab_type": "code",
        "outputId": "26bd28fc-e9cf-4583-ee05-699d0ed92850",
        "colab": {
          "base_uri": "https://localhost:8080/",
          "height": 1000
        }
      },
      "source": [
        "'''\n",
        "  A date in a century with less dates occurring, but that is inside the\n",
        "  generated dataset\n",
        "'''\n",
        "\n",
        "evaluate_for_a_same_date('20/12/2015')"
      ],
      "execution_count": 0,
      "outputs": [
        {
          "output_type": "stream",
          "text": [
            "Entrada: vinte de dezembro de 2015 -- Target: 20/12/2015 --- Previsto: 26/12/2015 --- False\n",
            "Entrada: vinte de dez de dois mil e quinze -- Target: 20/12/2015 --- Previsto: 20/12/2015 --- True\n",
            "Entrada: vinte de dezembro de dois mil e quinze -- Target: 20/12/2015 --- Previsto: 26/12/2015 --- False\n",
            "Entrada: vigésimo dia do mês doze de dois mil e quinze -- Target: 20/12/2015 --- Previsto: 22/12/2015 --- False\n",
            "Entrada: 20 de Dezembro de 2015 -- Target: 20/12/2015 --- Previsto: 20/12/2015 --- True\n",
            "Entrada: 20 de dezembro de dois mil e quinze -- Target: 20/12/2015 --- Previsto: 20/12/2015 --- True\n",
            "Entrada: 20-12 de dois mil e quinze -- Target: 20/12/2015 --- Previsto: 20/12/2015 --- True\n",
            "Entrada: vinte - 12 - 2015 -- Target: 20/12/2015 --- Previsto: 24/12/2015 --- False\n",
            "Entrada: vinte de dezembro - 2015 -- Target: 20/12/2015 --- Previsto: 26/12/2015 --- False\n",
            "Entrada: 20º de dezembro de 2015 -- Target: 20/12/2015 --- Previsto: 20/12/2015 --- True\n",
            "Entrada: 20º - 12 - 15 -- Target: 20/12/2015 --- Previsto: 20/12/2015 --- True\n",
            "Entrada: 20º - 12 - 2015 -- Target: 20/12/2015 --- Previsto: 20/12/2015 --- True\n",
            "Entrada: 20º / 12 / 2015 -- Target: 20/12/2015 --- Previsto: 20/12/2015 --- True\n",
            "Entrada: 20º / Dezembro / 2015 -- Target: 20/12/2015 --- Previsto: 20/12/2015 --- True\n",
            "Entrada: 20 / dezembro / 2015 -- Target: 20/12/2015 --- Previsto: 20/12/2015 --- True\n",
            "Entrada: vinte dezembro dois mil e quinze -- Target: 20/12/2015 --- Previsto: 22/12/2015 --- False\n",
            "Entrada: 20 dezembro dois mil e quinze -- Target: 20/12/2015 --- Previsto: 20/12/2015 --- True\n",
            "Entrada: 20/12 dois mil e quinze -- Target: 20/12/2015 --- Previsto: 20/12/2015 --- True\n",
            "Entrada: 20.12 dois mil e quinze -- Target: 20/12/2015 --- Previsto: 20/12/2015 --- True\n",
            "Entrada: 20-12 dois mil e quinze -- Target: 20/12/2015 --- Previsto: 20/12/2015 --- True\n",
            "Entrada: vinte/dezembro/dois mil e quinze -- Target: 20/12/2015 --- Previsto: 26/12/2015 --- False\n",
            "Entrada: 20 do mês doze de 2015 -- Target: 20/12/2015 --- Previsto: 20/12/2015 --- True\n",
            "Entrada: 20-12-15 -- Target: 20/12/2015 --- Previsto: 20/12/2015 --- True\n",
            "Entrada: 20 - 12 - 15 -- Target: 20/12/2015 --- Previsto: 20/12/2015 --- True\n",
            "Entrada: 20-12-2015 -- Target: 20/12/2015 --- Previsto: 20/12/2015 --- True\n",
            "Entrada: 20 - 12 - 2015 -- Target: 20/12/2015 --- Previsto: 20/12/2015 --- True\n",
            "Entrada: 20-dezembro-15 -- Target: 20/12/2015 --- Previsto: 20/12/2015 --- True\n",
            "Entrada: 20 - dezembro - 15 -- Target: 20/12/2015 --- Previsto: 20/12/2015 --- True\n",
            "Entrada: 20-dez-15 -- Target: 20/12/2015 --- Previsto: 20/12/2015 --- True\n",
            "Entrada: 20 - dez - 15 -- Target: 20/12/2015 --- Previsto: 20/12/2015 --- True\n",
            "Entrada: 20-12-2015 -- Target: 20/12/2015 --- Previsto: 20/12/2015 --- True\n",
            "Entrada: 20 - 12 - 2015 -- Target: 20/12/2015 --- Previsto: 20/12/2015 --- True\n",
            "Entrada: 20-dezembro-2015 -- Target: 20/12/2015 --- Previsto: 20/12/2015 --- True\n",
            "Entrada: 20 - dezembro - 2015 -- Target: 20/12/2015 --- Previsto: 20/12/2015 --- True\n",
            "Entrada: 20-dez-2015 -- Target: 20/12/2015 --- Previsto: 20/12/2015 --- True\n",
            "Entrada: 20 - dez - 2015 -- Target: 20/12/2015 --- Previsto: 20/12/2015 --- True\n",
            "Entrada: 20.12.15 -- Target: 20/12/2015 --- Previsto: 20/12/2015 --- True\n",
            "Entrada: 20 . 12 . 15 -- Target: 20/12/2015 --- Previsto: 20/12/2015 --- True\n",
            "Entrada: 20.12.2015 -- Target: 20/12/2015 --- Previsto: 20/12/2015 --- True\n",
            "Entrada: 20 . 12 . 2015 -- Target: 20/12/2015 --- Previsto: 20/12/2015 --- True\n",
            "Entrada: 20.dezembro.15 -- Target: 20/12/2015 --- Previsto: 20/12/2015 --- True\n",
            "Entrada: 20 . dezembro . 15 -- Target: 20/12/2015 --- Previsto: 20/12/2015 --- True\n",
            "Entrada: 20.dez.15 -- Target: 20/12/2015 --- Previsto: 20/12/2015 --- True\n",
            "Entrada: 20 . dez . 15 -- Target: 20/12/2015 --- Previsto: 20/12/2015 --- True\n",
            "Entrada: 20.12.2015 -- Target: 20/12/2015 --- Previsto: 20/12/2015 --- True\n",
            "Entrada: 20 . 12 . 2015 -- Target: 20/12/2015 --- Previsto: 20/12/2015 --- True\n",
            "Entrada: 20.dezembro.2015 -- Target: 20/12/2015 --- Previsto: 20/12/2015 --- True\n",
            "Entrada: 20 . dezembro . 2015 -- Target: 20/12/2015 --- Previsto: 20/12/2015 --- True\n",
            "Entrada: 20.dez.2015 -- Target: 20/12/2015 --- Previsto: 20/12/2015 --- True\n",
            "Entrada: 20 . dez . 2015 -- Target: 20/12/2015 --- Previsto: 20/12/2015 --- True\n",
            "Entrada: 20 / 12 / 15 -- Target: 20/12/2015 --- Previsto: 20/12/2015 --- True\n",
            "Entrada: 20/dezembro/15 -- Target: 20/12/2015 --- Previsto: 20/12/15 --- False\n",
            "Entrada: 20 / dezembro / 15 -- Target: 20/12/2015 --- Previsto: 20/12/2015 --- True\n",
            "Entrada: 20/dez/15 -- Target: 20/12/2015 --- Previsto: 20/12/2015 --- True\n",
            "Entrada: 20 / dez / 15 -- Target: 20/12/2015 --- Previsto: 20/12/2015 --- True\n",
            "Entrada: 20/12/2015 -- Target: 20/12/2015 --- Previsto: 20/12/2015 --- True\n",
            "Entrada: 20 / 12 / 2015 -- Target: 20/12/2015 --- Previsto: 20/12/2015 --- True\n",
            "Entrada: 20/dezembro/2015 -- Target: 20/12/2015 --- Previsto: 20/12/2015 --- True\n",
            "Entrada: 20 / dezembro / 2015 -- Target: 20/12/2015 --- Previsto: 20/12/2015 --- True\n",
            "Entrada: 20/dez/2015 -- Target: 20/12/2015 --- Previsto: 20/12/2015 --- True\n",
            "Entrada: 20 / dez / 2015 -- Target: 20/12/2015 --- Previsto: 20/12/2015 --- True\n",
            "Entrada: 20/12/2015 -- Target: 20/12/2015 --- Previsto: 20/12/2015 --- True\n",
            "Entrada: 20 / 12 / 2015 -- Target: 20/12/2015 --- Previsto: 20/12/2015 --- True\n",
            "Total accuracy: 0.873015873015873\n"
          ],
          "name": "stdout"
        },
        {
          "output_type": "execute_result",
          "data": {
            "text/plain": [
              "0.873015873015873"
            ]
          },
          "metadata": {
            "tags": []
          },
          "execution_count": 48
        }
      ]
    },
    {
      "cell_type": "code",
      "metadata": {
        "id": "aqonQb-kcjUY",
        "colab_type": "code",
        "outputId": "f11a9912-3be4-47e6-81bf-562adc73cb57",
        "colab": {
          "base_uri": "https://localhost:8080/",
          "height": 1000
        }
      },
      "source": [
        "'''\n",
        "  Evaluating for a date in a century out of the training range gives the worst\n",
        "  acc possible. (0)\n",
        "'''\n",
        "evaluate_for_a_same_date('25/12/2041')"
      ],
      "execution_count": 0,
      "outputs": [
        {
          "output_type": "stream",
          "text": [
            "Entrada: vinte e cinco de dezembro de 2041 -- Target: 25/12/2041 --- Previsto: 25/12/1941 --- False\n",
            "Entrada: vinte e cinco de dez de dois mil e quarenta e um -- Target: 25/12/2041 --- Previsto: 05/12/1941 --- False\n",
            "Entrada: vinte e cinco de dezembro de dois mil e quarenta e um -- Target: 25/12/2041 --- Previsto: 25/12/1941 --- False\n",
            "Entrada: vigésimo quinto dia do mês doze de dois mil e quarenta e um -- Target: 25/12/2041 --- Previsto: 22/12/1941 --- False\n",
            "Entrada: 25 de Dezembro de 2041 -- Target: 25/12/2041 --- Previsto: 25/12/1941 --- False\n",
            "Entrada: 25 de dezembro de dois mil e quarenta e um -- Target: 25/12/2041 --- Previsto: 25/12/1941 --- False\n",
            "Entrada: 25-12 de dois mil e quarenta e um -- Target: 25/12/2041 --- Previsto: 25/12/1941 --- False\n",
            "Entrada: vinte e cinco - 12 - 2041 -- Target: 25/12/2041 --- Previsto: 25/12/1941 --- False\n",
            "Entrada: vinte e cinco de dezembro - 2041 -- Target: 25/12/2041 --- Previsto: 25/12/1941 --- False\n",
            "Entrada: 25º de dezembro de 2041 -- Target: 25/12/2041 --- Previsto: 25/12/1941 --- False\n",
            "Entrada: 25º - 12 - 41 -- Target: 25/12/2041 --- Previsto: 25/12/1941 --- False\n",
            "Entrada: 25º - 12 - 2041 -- Target: 25/12/2041 --- Previsto: 25/12/1941 --- False\n",
            "Entrada: 25º / 12 / 2041 -- Target: 25/12/2041 --- Previsto: 25/12/1941 --- False\n",
            "Entrada: 25º / Dezembro / 2041 -- Target: 25/12/2041 --- Previsto: 25/12/1941 --- False\n",
            "Entrada: 25 / dezembro / 2041 -- Target: 25/12/2041 --- Previsto: 25/12/1941 --- False\n",
            "Entrada: vinte e cinco dezembro dois mil e quarenta e um -- Target: 25/12/2041 --- Previsto: 25/12/2001 --- False\n",
            "Entrada: 25 dezembro dois mil e quarenta e um -- Target: 25/12/2041 --- Previsto: 25/12/1941 --- False\n",
            "Entrada: 25/12 dois mil e quarenta e um -- Target: 25/12/2041 --- Previsto: 25/12/2001 --- False\n",
            "Entrada: 25.12 dois mil e quarenta e um -- Target: 25/12/2041 --- Previsto: 25/12/1941 --- False\n",
            "Entrada: 25-12 dois mil e quarenta e um -- Target: 25/12/2041 --- Previsto: 25/12/1941 --- False\n",
            "Entrada: vinte e cinco/dezembro/dois mil e quarenta e um -- Target: 25/12/2041 --- Previsto: 25/12/1941 --- False\n",
            "Entrada: 25 do mês doze de 2041 -- Target: 25/12/2041 --- Previsto: 25/12/1941 --- False\n",
            "Entrada: 25-12-41 -- Target: 25/12/2041 --- Previsto: 25/12/1941 --- False\n",
            "Entrada: 25 - 12 - 41 -- Target: 25/12/2041 --- Previsto: 25/12/1941 --- False\n",
            "Entrada: 25-12-2041 -- Target: 25/12/2041 --- Previsto: 25/12/1941 --- False\n",
            "Entrada: 25 - 12 - 2041 -- Target: 25/12/2041 --- Previsto: 25/12/1941 --- False\n",
            "Entrada: 25-dezembro-41 -- Target: 25/12/2041 --- Previsto: 25/12/1941 --- False\n",
            "Entrada: 25 - dezembro - 41 -- Target: 25/12/2041 --- Previsto: 25/12/1941 --- False\n",
            "Entrada: 25-dez-41 -- Target: 25/12/2041 --- Previsto: 25/12/1941 --- False\n",
            "Entrada: 25 - dez - 41 -- Target: 25/12/2041 --- Previsto: 25/12/1941 --- False\n",
            "Entrada: 25-12-2041 -- Target: 25/12/2041 --- Previsto: 25/12/1941 --- False\n",
            "Entrada: 25 - 12 - 2041 -- Target: 25/12/2041 --- Previsto: 25/12/1941 --- False\n",
            "Entrada: 25-dezembro-2041 -- Target: 25/12/2041 --- Previsto: 25/12/1941 --- False\n",
            "Entrada: 25 - dezembro - 2041 -- Target: 25/12/2041 --- Previsto: 25/12/1941 --- False\n",
            "Entrada: 25-dez-2041 -- Target: 25/12/2041 --- Previsto: 25/12/1941 --- False\n",
            "Entrada: 25 - dez - 2041 -- Target: 25/12/2041 --- Previsto: 25/12/1941 --- False\n",
            "Entrada: 25.12.41 -- Target: 25/12/2041 --- Previsto: 25/12/1941 --- False\n",
            "Entrada: 25 . 12 . 41 -- Target: 25/12/2041 --- Previsto: 25/12/1941 --- False\n",
            "Entrada: 25.12.2041 -- Target: 25/12/2041 --- Previsto: 25/12/1941 --- False\n",
            "Entrada: 25 . 12 . 2041 -- Target: 25/12/2041 --- Previsto: 25/12/1941 --- False\n",
            "Entrada: 25.dezembro.41 -- Target: 25/12/2041 --- Previsto: 25/12/1941 --- False\n",
            "Entrada: 25 . dezembro . 41 -- Target: 25/12/2041 --- Previsto: 25/12/1941 --- False\n",
            "Entrada: 25.dez.41 -- Target: 25/12/2041 --- Previsto: 25/12/1941 --- False\n",
            "Entrada: 25 . dez . 41 -- Target: 25/12/2041 --- Previsto: 25/12/1941 --- False\n",
            "Entrada: 25.12.2041 -- Target: 25/12/2041 --- Previsto: 25/12/1941 --- False\n",
            "Entrada: 25 . 12 . 2041 -- Target: 25/12/2041 --- Previsto: 25/12/1941 --- False\n",
            "Entrada: 25.dezembro.2041 -- Target: 25/12/2041 --- Previsto: 25/12/1941 --- False\n",
            "Entrada: 25 . dezembro . 2041 -- Target: 25/12/2041 --- Previsto: 25/12/1941 --- False\n",
            "Entrada: 25.dez.2041 -- Target: 25/12/2041 --- Previsto: 25/12/1941 --- False\n",
            "Entrada: 25 . dez . 2041 -- Target: 25/12/2041 --- Previsto: 25/12/1941 --- False\n",
            "Entrada: 25 / 12 / 41 -- Target: 25/12/2041 --- Previsto: 25/12/1941 --- False\n",
            "Entrada: 25/dezembro/41 -- Target: 25/12/2041 --- Previsto: 25/12/1941 --- False\n",
            "Entrada: 25 / dezembro / 41 -- Target: 25/12/2041 --- Previsto: 25/12/1941 --- False\n",
            "Entrada: 25/dez/41 -- Target: 25/12/2041 --- Previsto: 25/12/1941 --- False\n",
            "Entrada: 25 / dez / 41 -- Target: 25/12/2041 --- Previsto: 25/12/1941 --- False\n",
            "Entrada: 25/12/2041 -- Target: 25/12/2041 --- Previsto: 25/12/1941 --- False\n",
            "Entrada: 25 / 12 / 2041 -- Target: 25/12/2041 --- Previsto: 25/12/1941 --- False\n",
            "Entrada: 25/dezembro/2041 -- Target: 25/12/2041 --- Previsto: 25/12/1941 --- False\n",
            "Entrada: 25 / dezembro / 2041 -- Target: 25/12/2041 --- Previsto: 25/12/1941 --- False\n",
            "Entrada: 25/dez/2041 -- Target: 25/12/2041 --- Previsto: 25/12/1941 --- False\n",
            "Entrada: 25 / dez / 2041 -- Target: 25/12/2041 --- Previsto: 25/12/1941 --- False\n",
            "Entrada: 25/12/2041 -- Target: 25/12/2041 --- Previsto: 25/12/1941 --- False\n",
            "Entrada: 25 / 12 / 2041 -- Target: 25/12/2041 --- Previsto: 25/12/1941 --- False\n",
            "Total accuracy: 0.0\n"
          ],
          "name": "stdout"
        },
        {
          "output_type": "execute_result",
          "data": {
            "text/plain": [
              "0.0"
            ]
          },
          "metadata": {
            "tags": []
          },
          "execution_count": 49
        }
      ]
    },
    {
      "cell_type": "code",
      "metadata": {
        "id": "UMnT5Sm-IPMt",
        "colab_type": "code",
        "outputId": "43700e8d-3d68-4dc9-a212-93c8e724fbb9",
        "colab": {
          "base_uri": "https://localhost:8080/",
          "height": 1000
        }
      },
      "source": [
        "'''\n",
        "  An earlier date than the beggining of the generated dataset\n",
        "'''\n",
        "\n",
        "evaluate_for_a_same_date('27/05/1920')"
      ],
      "execution_count": 0,
      "outputs": [
        {
          "output_type": "stream",
          "text": [
            "Entrada: vinte e sete de maio de 1920 -- Target: 27/05/1920 --- Previsto: 27/05/1920 --- True\n",
            "Entrada: vinte e sete de mai de mil, novecentos e vinte -- Target: 27/05/1920 --- Previsto: 27/05/1927 --- False\n",
            "Entrada: vinte e sete de maio de mil, novecentos e vinte -- Target: 27/05/1920 --- Previsto: 27/05/1927 --- False\n",
            "Entrada: vigésimo sétimo dia do mês cinco de mil, novecentos e vinte -- Target: 27/05/1920 --- Previsto: 25/05/1927 --- False\n",
            "Entrada: 27 de Maio de 1920 -- Target: 27/05/1920 --- Previsto: 27/05/1920 --- True\n",
            "Entrada: 27 de maio de mil, novecentos e vinte -- Target: 27/05/1920 --- Previsto: 27/05/1927 --- False\n",
            "Entrada: 27-05 de mil, novecentos e vinte -- Target: 27/05/1920 --- Previsto: 27/05/1927 --- False\n",
            "Entrada: vinte e sete - 05 - 1920 -- Target: 27/05/1920 --- Previsto: 27/05/1920 --- True\n",
            "Entrada: vinte e sete de maio - 1920 -- Target: 27/05/1920 --- Previsto: 27/05/1920 --- True\n",
            "Entrada: 27º de maio de 1920 -- Target: 27/05/1920 --- Previsto: 27/05/1920 --- True\n",
            "Entrada: 27º - 05 - 20 -- Target: 27/05/1920 --- Previsto: 27/05/1920 --- True\n",
            "Entrada: 27º - 05 - 1920 -- Target: 27/05/1920 --- Previsto: 27/05/1920 --- True\n",
            "Entrada: 27º / 05 / 1920 -- Target: 27/05/1920 --- Previsto: 27/05/1920 --- True\n",
            "Entrada: 27º / Maio / 1920 -- Target: 27/05/1920 --- Previsto: 27/05/1920 --- True\n",
            "Entrada: 27 / maio / 1920 -- Target: 27/05/1920 --- Previsto: 27/05/1920 --- True\n",
            "Entrada: vinte e sete maio mil, novecentos e vinte -- Target: 27/05/1920 --- Previsto: 27/05/1927 --- False\n",
            "Entrada: 27 maio mil, novecentos e vinte -- Target: 27/05/1920 --- Previsto: 27/05/1927 --- False\n",
            "Entrada: 27/05 mil, novecentos e vinte -- Target: 27/05/1920 --- Previsto: 27/05/1927 --- False\n",
            "Entrada: 27.05 mil, novecentos e vinte -- Target: 27/05/1920 --- Previsto: 27/05/1927 --- False\n",
            "Entrada: 27-05 mil, novecentos e vinte -- Target: 27/05/1920 --- Previsto: 27/05/1927 --- False\n",
            "Entrada: vinte e sete/maio/mil, novecentos e vinte -- Target: 27/05/1920 --- Previsto: 27/05/1927 --- False\n",
            "Entrada: 27 do mês cinco de 1920 -- Target: 27/05/1920 --- Previsto: 27/05/1920 --- True\n",
            "Entrada: 27-05-20 -- Target: 27/05/1920 --- Previsto: 27/05/1920 --- True\n",
            "Entrada: 27 - 05 - 20 -- Target: 27/05/1920 --- Previsto: 27/05/1920 --- True\n",
            "Entrada: 27-5-1920 -- Target: 27/05/1920 --- Previsto: 27/05/1920 --- True\n",
            "Entrada: 27 - 5 - 1920 -- Target: 27/05/1920 --- Previsto: 27/05/1920 --- True\n",
            "Entrada: 27-maio-20 -- Target: 27/05/1920 --- Previsto: 27/05/1920 --- True\n",
            "Entrada: 27 - maio - 20 -- Target: 27/05/1920 --- Previsto: 27/05/1920 --- True\n",
            "Entrada: 27-mai-20 -- Target: 27/05/1920 --- Previsto: 27/05/1920 --- True\n",
            "Entrada: 27 - mai - 20 -- Target: 27/05/1920 --- Previsto: 27/05/1920 --- True\n",
            "Entrada: 27-05-1920 -- Target: 27/05/1920 --- Previsto: 27/05/1920 --- True\n",
            "Entrada: 27 - 05 - 1920 -- Target: 27/05/1920 --- Previsto: 27/05/1920 --- True\n",
            "Entrada: 27-maio-1920 -- Target: 27/05/1920 --- Previsto: 27/05/1920 --- True\n",
            "Entrada: 27 - maio - 1920 -- Target: 27/05/1920 --- Previsto: 27/05/1920 --- True\n",
            "Entrada: 27-mai-1920 -- Target: 27/05/1920 --- Previsto: 27/05/1920 --- True\n",
            "Entrada: 27 - mai - 1920 -- Target: 27/05/1920 --- Previsto: 27/05/1920 --- True\n",
            "Entrada: 27.05.20 -- Target: 27/05/1920 --- Previsto: 27/05/1920 --- True\n",
            "Entrada: 27 . 05 . 20 -- Target: 27/05/1920 --- Previsto: 27/05/1920 --- True\n",
            "Entrada: 27.5.1920 -- Target: 27/05/1920 --- Previsto: 27/05/1920 --- True\n",
            "Entrada: 27 . 5 . 1920 -- Target: 27/05/1920 --- Previsto: 27/05/1920 --- True\n",
            "Entrada: 27.maio.20 -- Target: 27/05/1920 --- Previsto: 27/05/1920 --- True\n",
            "Entrada: 27 . maio . 20 -- Target: 27/05/1920 --- Previsto: 27/05/1920 --- True\n",
            "Entrada: 27.mai.20 -- Target: 27/05/1920 --- Previsto: 27/05/1920 --- True\n",
            "Entrada: 27 . mai . 20 -- Target: 27/05/1920 --- Previsto: 27/05/1920 --- True\n",
            "Entrada: 27.05.1920 -- Target: 27/05/1920 --- Previsto: 27/05/1920 --- True\n",
            "Entrada: 27 . 05 . 1920 -- Target: 27/05/1920 --- Previsto: 27/05/1920 --- True\n",
            "Entrada: 27.maio.1920 -- Target: 27/05/1920 --- Previsto: 27/05/1920 --- True\n",
            "Entrada: 27 . maio . 1920 -- Target: 27/05/1920 --- Previsto: 27/05/1920 --- True\n",
            "Entrada: 27.mai.1920 -- Target: 27/05/1920 --- Previsto: 27/05/1920 --- True\n",
            "Entrada: 27 . mai . 1920 -- Target: 27/05/1920 --- Previsto: 27/05/1920 --- True\n",
            "Entrada: 27 / 05 / 20 -- Target: 27/05/1920 --- Previsto: 27/05/1920 --- True\n",
            "Entrada: 27/maio/20 -- Target: 27/05/1920 --- Previsto: 27/05/2019 --- False\n",
            "Entrada: 27 / maio / 20 -- Target: 27/05/1920 --- Previsto: 27/05/1920 --- True\n",
            "Entrada: 27/mai/20 -- Target: 27/05/1920 --- Previsto: 27/05/2019 --- False\n",
            "Entrada: 27 / mai / 20 -- Target: 27/05/1920 --- Previsto: 27/05/1920 --- True\n",
            "Entrada: 27/05/1920 -- Target: 27/05/1920 --- Previsto: 27/05/1920 --- True\n",
            "Entrada: 27 / 05 / 1920 -- Target: 27/05/1920 --- Previsto: 27/05/1920 --- True\n",
            "Entrada: 27/maio/1920 -- Target: 27/05/1920 --- Previsto: 27/05/1920 --- True\n",
            "Entrada: 27 / maio / 1920 -- Target: 27/05/1920 --- Previsto: 27/05/1920 --- True\n",
            "Entrada: 27/mai/1920 -- Target: 27/05/1920 --- Previsto: 27/05/1920 --- True\n",
            "Entrada: 27 / mai / 1920 -- Target: 27/05/1920 --- Previsto: 27/05/1920 --- True\n",
            "Entrada: 27/5/1920 -- Target: 27/05/1920 --- Previsto: 27/05/1920 --- True\n",
            "Entrada: 27 / 5 / 1920 -- Target: 27/05/1920 --- Previsto: 27/05/1920 --- True\n",
            "Total accuracy: 0.7936507936507936\n"
          ],
          "name": "stdout"
        },
        {
          "output_type": "execute_result",
          "data": {
            "text/plain": [
              "0.7936507936507936"
            ]
          },
          "metadata": {
            "tags": []
          },
          "execution_count": 54
        }
      ]
    },
    {
      "cell_type": "markdown",
      "metadata": {
        "id": "d0jwndLKmxpX",
        "colab_type": "text"
      },
      "source": [
        "# Accuracy in dataset dates"
      ]
    },
    {
      "cell_type": "markdown",
      "metadata": {
        "id": "Dpd5akZyAXyz",
        "colab_type": "text"
      },
      "source": [
        "## Inside dataset\n",
        "\n",
        "Dates into the interval that was used to built the synthetic dataset used for test and eval."
      ]
    },
    {
      "cell_type": "code",
      "metadata": {
        "id": "lfHmTxgDm19i",
        "colab_type": "code",
        "outputId": "2a62411b-9276-4e6e-e3ef-c9c130177624",
        "colab": {
          "base_uri": "https://localhost:8080/",
          "height": 54
        }
      },
      "source": [
        "accs = []\n",
        "dates = []\n",
        "\n",
        "sampled_test = random.sample(list(df['Target'].values),20)\n",
        "\n",
        "print('acc test set: ',sampled_test)\n",
        "\n",
        "for date_sample in sampled_test:\n",
        "  accs.append(evaluate_for_a_same_date(date_sample,verbose=False))\n",
        "  dates.append(date_sample)\n",
        "  "
      ],
      "execution_count": 0,
      "outputs": [
        {
          "output_type": "stream",
          "text": [
            "['02/05/1989', '28/08/1931', '12/07/1997', '08/12/1945', '09/09/2012', '04/05/1994', '12/04/2003', '26/08/2006', '10/07/1936', '30/09/1947', '19/08/1975', '23/05/1985', '23/05/1957', '17/01/1972', '18/04/1929', '21/11/1974', '26/07/1943', '10/02/1929', '13/02/2008', '28/11/1989']\n"
          ],
          "name": "stdout"
        }
      ]
    },
    {
      "cell_type": "code",
      "metadata": {
        "id": "dxzyKeRQoBTR",
        "colab_type": "code",
        "outputId": "047372ee-3fc5-4d8e-ac8e-62c25fd700d4",
        "colab": {
          "base_uri": "https://localhost:8080/",
          "height": 350
        }
      },
      "source": [
        "plt.plot(dates,accs)\n",
        "plt.xticks(rotation=45)\n",
        "plt.grid()\n",
        "plt.ylim([0.8, 1.01])\n",
        "plt.ylabel('Average accuracy on 63 formats')\n",
        "plt.xlabel('Canonical target')\n",
        "plt.title('Average accuracy on dates inside synthetic training dataset')\n",
        "print('Average of average accuracies: ',np.mean(accs))"
      ],
      "execution_count": 0,
      "outputs": [
        {
          "output_type": "stream",
          "text": [
            "Average of average accuracies:  0.9793650793650794\n"
          ],
          "name": "stdout"
        },
        {
          "output_type": "display_data",
          "data": {
            "image/png": "[encoded data removed]",
            "text/plain": [
              "<Figure size 432x288 with 1 Axes>"
            ]
          },
          "metadata": {
            "tags": [],
            "needs_background": "light"
          }
        }
      ]
    },
    {
      "cell_type": "markdown",
      "metadata": {
        "id": "ePEpzTU5A0Rx",
        "colab_type": "text"
      },
      "source": [
        "## Below dataset\n",
        "\n",
        "Dates lower than the synthetic dataset used for test and eval."
      ]
    },
    {
      "cell_type": "code",
      "metadata": {
        "colab_type": "code",
        "outputId": "fae9e995-5a84-452e-e84e-e596a3ec50db",
        "id": "RbFtvuZPA2cd",
        "colab": {
          "base_uri": "https://localhost:8080/",
          "height": 54
        }
      },
      "source": [
        "accs = []\n",
        "dates = []\n",
        "\n",
        "new_dataset = DateTextGenerator('01/01/1900','31/12/1920')\n",
        "\n",
        "\n",
        "new_df = new_dataset.generate_date_dataset()\n",
        "sampled_test = random.sample(list(new_df['Target'].values),20)\n",
        "\n",
        "print('acc test set: ',sampled_test)\n",
        "\n",
        "for date_sample in sampled_test:\n",
        "  accs.append(evaluate_for_a_same_date(date_sample,verbose=False))\n",
        "  dates.append(date_sample)\n",
        "  "
      ],
      "execution_count": 0,
      "outputs": [
        {
          "output_type": "stream",
          "text": [
            "acc test set:  ['16/11/1903', '07/04/1900', '24/04/1917', '06/06/1909', '20/07/1904', '13/05/1916', '07/08/1919', '19/03/1901', '09/02/1902', '08/11/1908', '11/01/1912', '22/10/1910', '11/03/1906', '17/05/1911', '19/11/1905', '12/12/1902', '17/08/1909', '01/07/1902', '20/09/1905', '21/01/1920']\n"
          ],
          "name": "stdout"
        }
      ]
    },
    {
      "cell_type": "code",
      "metadata": {
        "colab_type": "code",
        "outputId": "86f3f3ea-4d36-4015-e8c2-de30dc4755ca",
        "id": "4DFUtHoUA2c4",
        "colab": {
          "base_uri": "https://localhost:8080/",
          "height": 350
        }
      },
      "source": [
        "plt.plot(dates,accs)\n",
        "plt.xticks(rotation=45)\n",
        "plt.grid()\n",
        "plt.ylim([-0.01, 1.01])\n",
        "plt.ylabel('Average accuracy on 63 formats')\n",
        "plt.xlabel('Canonical target')\n",
        "plt.title('Average accuracy on dates below synthetic training dataset')\n",
        "print('Average of average accuracies: ',np.mean(accs))"
      ],
      "execution_count": 0,
      "outputs": [
        {
          "output_type": "stream",
          "text": [
            "Average of average accuracies:  0.44682539682539685\n"
          ],
          "name": "stdout"
        },
        {
          "output_type": "display_data",
          "data": {
            "image/png": "[encoded data removed]",
            "text/plain": [
              "<Figure size 432x288 with 1 Axes>"
            ]
          },
          "metadata": {
            "tags": [],
            "needs_background": "light"
          }
        }
      ]
    },
    {
      "cell_type": "markdown",
      "metadata": {
        "colab_type": "text",
        "id": "H0BR5SlBCCEr"
      },
      "source": [
        "## Above dataset\n",
        "\n",
        "Dates greater than the synthetic dataset used for test and eval."
      ]
    },
    {
      "cell_type": "code",
      "metadata": {
        "colab_type": "code",
        "outputId": "87a91d4e-d15d-495f-d78c-969d8fe7f447",
        "id": "5DFw6P1bCCE9",
        "colab": {
          "base_uri": "https://localhost:8080/",
          "height": 54
        }
      },
      "source": [
        "accs = []\n",
        "dates = []\n",
        "\n",
        "new_dataset = DateTextGenerator('01/01/2021','31/12/2040')\n",
        "\n",
        "\n",
        "new_df = new_dataset.generate_date_dataset()\n",
        "sampled_test = random.sample(list(new_df['Target'].values),20)\n",
        "\n",
        "print('acc test set: ',sampled_test)\n",
        "\n",
        "for date_sample in sampled_test:\n",
        "  accs.append(evaluate_for_a_same_date(date_sample,verbose=False))\n",
        "  dates.append(date_sample)\n",
        "  "
      ],
      "execution_count": 0,
      "outputs": [
        {
          "output_type": "stream",
          "text": [
            "acc test set:  ['06/07/2039', '19/03/2039', '13/09/2036', '04/04/2037', '27/08/2037', '04/08/2021', '14/05/2036', '05/05/2022', '09/07/2034', '23/04/2036', '19/06/2035', '02/07/2031', '18/09/2022', '15/02/2031', '20/01/2030', '09/01/2022', '04/06/2024', '18/09/2040', '01/12/2031', '02/06/2030']\n"
          ],
          "name": "stdout"
        }
      ]
    },
    {
      "cell_type": "code",
      "metadata": {
        "colab_type": "code",
        "outputId": "66c00617-5fb6-42e0-e8d8-ed9a23557425",
        "id": "J2SP31YSCCFG",
        "colab": {
          "base_uri": "https://localhost:8080/",
          "height": 350
        }
      },
      "source": [
        "plt.plot(dates,accs)\n",
        "plt.xticks(rotation=45)\n",
        "plt.grid()\n",
        "plt.ylim([-0.01, 1.01])\n",
        "plt.ylabel('Average accuracy on 63 formats')\n",
        "plt.xlabel('Canonical target')\n",
        "plt.title('Average accuracy on dates below synthetic training dataset')\n",
        "print('Average of average accuracies: ',np.mean(accs))"
      ],
      "execution_count": 0,
      "outputs": [
        {
          "output_type": "stream",
          "text": [
            "Average of average accuracies:  0.0\n"
          ],
          "name": "stdout"
        },
        {
          "output_type": "display_data",
          "data": {
            "image/png": "[encoded data removed]",
            "text/plain": [
              "<Figure size 432x288 with 1 Axes>"
            ]
          },
          "metadata": {
            "tags": [],
            "needs_background": "light"
          }
        }
      ]
    },
    {
      "cell_type": "markdown",
      "metadata": {
        "id": "5bvkIIgMNASY",
        "colab_type": "text"
      },
      "source": [
        "# The End"
      ]
    }
  ]
}